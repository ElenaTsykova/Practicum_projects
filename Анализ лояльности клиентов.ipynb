{
 "cells": [
  {
   "cell_type": "markdown",
   "id": "061eae06",
   "metadata": {},
   "source": [
    "## Лояльность клиентов  телекоммуникационной компании\n",
    "\n",
    "Крупная телекоммуникационная компания, работающая на территории СНГ, заинтересована в оценке уровня лояльности клиентов в России. Для этого был проведён опрос с использованием методологии Net Promoter Score (NPS).\n",
    "\n",
    "Цель\n",
    "Определить текущий уровень потребительской лояльности (NPS) и представить результаты в виде дашборда.\n",
    "\n",
    "Задачи\n",
    "\n",
    "- обработать данные опроса, выгруженные в SQLite.\n",
    "\n",
    "- рассчитать NPS по стандартной формуле: % сторонников – % критиков.\n",
    "\n",
    "- разделить респондентов на три группы: сторонники (9–10), нейтралы (7–8), критики (0–6).\n",
    "\n",
    "- визуализировать результаты для наглядной интерпретации и оценки влияния уровня лояльности на бизнес."
   ]
  },
  {
   "cell_type": "markdown",
   "id": "e5c3b2e6",
   "metadata": {},
   "source": [
    "Ссылка на презентацию: <https://public.tableau.com/views/_17234763397430/Story1?:language=en-US&publish=yes&:sid=&:redirect=auth&:display_count=n&:origin=viz_share_link>"
   ]
  }
 ],
 "metadata": {
  "ExecuteTimeLog": [
   {
    "duration": 8,
    "start_time": "2024-08-12T15:37:38.612Z"
   },
   {
    "duration": 53,
    "start_time": "2024-08-12T15:37:56.679Z"
   }
  ],
  "kernelspec": {
   "display_name": "Python 3 (ipykernel)",
   "language": "python",
   "name": "python3"
  },
  "language_info": {
   "codemirror_mode": {
    "name": "ipython",
    "version": 3
   },
   "file_extension": ".py",
   "mimetype": "text/x-python",
   "name": "python",
   "nbconvert_exporter": "python",
   "pygments_lexer": "ipython3",
   "version": "3.13.5"
  },
  "toc": {
   "base_numbering": 1,
   "nav_menu": {},
   "number_sections": true,
   "sideBar": true,
   "skip_h1_title": true,
   "title_cell": "Table of Contents",
   "title_sidebar": "Contents",
   "toc_cell": false,
   "toc_position": {},
   "toc_section_display": true,
   "toc_window_display": false
  }
 },
 "nbformat": 4,
 "nbformat_minor": 5
}
