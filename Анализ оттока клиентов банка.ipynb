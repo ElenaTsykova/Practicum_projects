{
 "cells": [
  {
   "cell_type": "markdown",
   "id": "0c092f78-98da-4c1d-b2de-333c8e664540",
   "metadata": {},
   "source": [
    "# Анализ оттока клиентов"
   ]
  },
  {
   "cell_type": "markdown",
   "id": "a7913d07-315a-42ce-920d-2ff1292969ee",
   "metadata": {},
   "source": [
    "## МАТЕРИАЛЫ\n",
    "Презентация: (https://disk.yandex.ru/i/kHOtk3-o5MJf7A)"
   ]
  },
  {
   "cell_type": "markdown",
   "id": "50050887",
   "metadata": {},
   "source": [
    "Датасет содержит данные о клиентах банка, расположенного в нескольких городах России.\n",
    "\n",
    "**Целью работы является** выявление ключевых сегментов клиентов с высоким риском ухода и разработка рекомендаций, способствующих росту лояльности клиентов и увеличению выручки банка."
   ]
  },
  {
   "cell_type": "markdown",
   "id": "a77f2375",
   "metadata": {},
   "source": [
    "**Задачи:**\n",
    "\n",
    "1) **Загрузить данные и подготовить их к анализу:**\n",
    "   - привести название столбцов к нижнему регистру\n",
    "   - привести данные к нужному типу\n",
    "   - обработать пропуски (классифицировать пропуски и заменить пропущенные значения/ удалить строки с пропусками/ оставить как есть)\n",
    "   - обработать дубликаты (проверить наличие явных и неявных дубликатов по user_id)\n",
    "   - осуществить кодирование признаков (для использования в анализе корреляции)"
   ]
  },
  {
   "cell_type": "markdown",
   "id": "657e7485",
   "metadata": {},
   "source": [
    "2) **Произвести исследовательский анализ данных:**\n",
    "   - проанализировать признаки в разрезе оттока (для непрерывных признаков определить отточные интервалы, а для категориальных/дискретных - значения признака с оттоком выше, чем по банку)\n",
    "   - составить портреты клиентов, склонных и не склонных к уходу\n",
    "   - осуществить корреляционный анализ признака churn с другими признаками"
   ]
  },
  {
   "cell_type": "markdown",
   "id": "4a54d280",
   "metadata": {},
   "source": [
    "3) **Проверить статистические гипотезы:**\n",
    "   - доход между теми клиентами, которые ушли и теми, которые остались, различается\n",
    "   - вторая гипотеза будет определена в ходе исследования"
   ]
  },
  {
   "cell_type": "markdown",
   "id": "97cb7228",
   "metadata": {},
   "source": [
    "4) **Выделить признаки, влияющие на отток:**\n",
    "   - подвести промежуточные итоги по исследовательскому и корреляционному анализу, проверке гипотез и выделить признаки, влияющие на отток"
   ]
  },
  {
   "cell_type": "markdown",
   "id": "13194419",
   "metadata": {},
   "source": [
    "5) **Осуществить сегментацию клиентов:**\n",
    "   - выделить не менее трёх сегментов клиентов (от 500 человек) с долей оттока выше средней по банку\n",
    "   - осуществить приоритизацию сегментов для эффективного формирования рассылок"
   ]
  },
  {
   "cell_type": "markdown",
   "id": "95f7ff80-602d-4971-97e7-7e9579b00aef",
   "metadata": {},
   "source": [
    "6) **Сформировать рекомендации для каждого сегмента** "
   ]
  },
  {
   "cell_type": "markdown",
   "id": "ed950ccc-54ad-431f-b92f-7760db09e0fd",
   "metadata": {},
   "source": [
    "## 1) Загрузим данные и подготовим их к анализу"
   ]
  },
  {
   "cell_type": "code",
   "execution_count": 1,
   "id": "08437e7e",
   "metadata": {},
   "outputs": [
    {
     "name": "stdout",
     "output_type": "stream",
     "text": [
      "Requirement already satisfied: phik in /opt/conda/lib/python3.9/site-packages (0.12.4)\r\n",
      "Requirement already satisfied: numpy>=1.18.0 in /opt/conda/lib/python3.9/site-packages (from phik) (1.21.1)\r\n",
      "Requirement already satisfied: joblib>=0.14.1 in /opt/conda/lib/python3.9/site-packages (from phik) (1.1.0)\r\n",
      "Requirement already satisfied: scipy>=1.5.2 in /opt/conda/lib/python3.9/site-packages (from phik) (1.9.1)\r\n",
      "Requirement already satisfied: matplotlib>=2.2.3 in /opt/conda/lib/python3.9/site-packages (from phik) (3.3.4)\r\n",
      "Requirement already satisfied: pandas>=0.25.1 in /opt/conda/lib/python3.9/site-packages (from phik) (1.2.4)\r\n",
      "Requirement already satisfied: pyparsing!=2.0.4,!=2.1.2,!=2.1.6,>=2.0.3 in /opt/conda/lib/python3.9/site-packages (from matplotlib>=2.2.3->phik) (2.4.7)\r\n",
      "Requirement already satisfied: cycler>=0.10 in /opt/conda/lib/python3.9/site-packages (from matplotlib>=2.2.3->phik) (0.11.0)\r\n",
      "Requirement already satisfied: python-dateutil>=2.1 in /opt/conda/lib/python3.9/site-packages (from matplotlib>=2.2.3->phik) (2.8.1)\r\n",
      "Requirement already satisfied: kiwisolver>=1.0.1 in /opt/conda/lib/python3.9/site-packages (from matplotlib>=2.2.3->phik) (1.4.4)\r\n",
      "Requirement already satisfied: pillow>=6.2.0 in /opt/conda/lib/python3.9/site-packages (from matplotlib>=2.2.3->phik) (8.4.0)\r\n",
      "Requirement already satisfied: pytz>=2017.3 in /opt/conda/lib/python3.9/site-packages (from pandas>=0.25.1->phik) (2021.1)\r\n",
      "Requirement already satisfied: six>=1.5 in /opt/conda/lib/python3.9/site-packages (from python-dateutil>=2.1->matplotlib>=2.2.3->phik) (1.16.0)\r\n"
     ]
    }
   ],
   "source": [
    "!pip install phik"
   ]
  },
  {
   "cell_type": "code",
   "execution_count": 2,
   "id": "a10f5239-697d-4008-96ac-d82a5bafce8b",
   "metadata": {},
   "outputs": [],
   "source": [
    "import pandas as pd\n",
    "import numpy as np\n",
    "import seaborn as sns\n",
    "from datetime import datetime, timedelta\n",
    "from matplotlib import pyplot as plt\n",
    "from scipy import stats as st \n",
    "from scipy.stats import pearsonr, spearmanr\n",
    "import math\n",
    "import phik                  \n",
    "from phik import phik_matrix \n",
    "import itertools"
   ]
  },
  {
   "cell_type": "code",
   "execution_count": 3,
   "id": "6c4a414c-e0fd-467f-95c6-7e63511d5d0d",
   "metadata": {},
   "outputs": [],
   "source": [
    "df = pd.read_csv(r\"C:\\Users\\tsyko\\Downloads\\bank_scrooge.csv\", sep=',')"
   ]
  },
  {
   "cell_type": "code",
   "execution_count": 4,
   "id": "d6a6179a-79c8-46e7-988e-ee1d9b57dce1",
   "metadata": {},
   "outputs": [
    {
     "data": {
      "text/html": [
       "<div>\n",
       "<style scoped>\n",
       "    .dataframe tbody tr th:only-of-type {\n",
       "        vertical-align: middle;\n",
       "    }\n",
       "\n",
       "    .dataframe tbody tr th {\n",
       "        vertical-align: top;\n",
       "    }\n",
       "\n",
       "    .dataframe thead th {\n",
       "        text-align: right;\n",
       "    }\n",
       "</style>\n",
       "<table border=\"1\" class=\"dataframe\">\n",
       "  <thead>\n",
       "    <tr style=\"text-align: right;\">\n",
       "      <th></th>\n",
       "      <th>USERID</th>\n",
       "      <th>score</th>\n",
       "      <th>city</th>\n",
       "      <th>gender</th>\n",
       "      <th>age</th>\n",
       "      <th>equity</th>\n",
       "      <th>balance</th>\n",
       "      <th>products</th>\n",
       "      <th>credit_card</th>\n",
       "      <th>last_activity</th>\n",
       "      <th>EST_SALARY</th>\n",
       "      <th>churn</th>\n",
       "    </tr>\n",
       "  </thead>\n",
       "  <tbody>\n",
       "    <tr>\n",
       "      <th>0</th>\n",
       "      <td>183012</td>\n",
       "      <td>850.0</td>\n",
       "      <td>Рыбинск</td>\n",
       "      <td>Ж</td>\n",
       "      <td>25.0</td>\n",
       "      <td>1</td>\n",
       "      <td>59214.82</td>\n",
       "      <td>2</td>\n",
       "      <td>0</td>\n",
       "      <td>1</td>\n",
       "      <td>75719.14</td>\n",
       "      <td>1</td>\n",
       "    </tr>\n",
       "    <tr>\n",
       "      <th>1</th>\n",
       "      <td>146556</td>\n",
       "      <td>861.0</td>\n",
       "      <td>Рыбинск</td>\n",
       "      <td>Ж</td>\n",
       "      <td>37.0</td>\n",
       "      <td>5</td>\n",
       "      <td>850594.33</td>\n",
       "      <td>3</td>\n",
       "      <td>1</td>\n",
       "      <td>0</td>\n",
       "      <td>86621.77</td>\n",
       "      <td>0</td>\n",
       "    </tr>\n",
       "    <tr>\n",
       "      <th>2</th>\n",
       "      <td>120722</td>\n",
       "      <td>892.0</td>\n",
       "      <td>Рыбинск</td>\n",
       "      <td>Ж</td>\n",
       "      <td>30.0</td>\n",
       "      <td>0</td>\n",
       "      <td>NaN</td>\n",
       "      <td>1</td>\n",
       "      <td>1</td>\n",
       "      <td>1</td>\n",
       "      <td>107683.34</td>\n",
       "      <td>0</td>\n",
       "    </tr>\n",
       "    <tr>\n",
       "      <th>3</th>\n",
       "      <td>225363</td>\n",
       "      <td>866.0</td>\n",
       "      <td>Ярославль</td>\n",
       "      <td>Ж</td>\n",
       "      <td>51.0</td>\n",
       "      <td>5</td>\n",
       "      <td>1524746.26</td>\n",
       "      <td>2</td>\n",
       "      <td>0</td>\n",
       "      <td>1</td>\n",
       "      <td>174423.53</td>\n",
       "      <td>1</td>\n",
       "    </tr>\n",
       "    <tr>\n",
       "      <th>4</th>\n",
       "      <td>157978</td>\n",
       "      <td>730.0</td>\n",
       "      <td>Ярославль</td>\n",
       "      <td>М</td>\n",
       "      <td>34.0</td>\n",
       "      <td>5</td>\n",
       "      <td>174.00</td>\n",
       "      <td>1</td>\n",
       "      <td>1</td>\n",
       "      <td>0</td>\n",
       "      <td>67353.16</td>\n",
       "      <td>1</td>\n",
       "    </tr>\n",
       "  </tbody>\n",
       "</table>\n",
       "</div>"
      ],
      "text/plain": [
       "   USERID  score       city gender   age  equity     balance  products  \\\n",
       "0  183012  850.0    Рыбинск      Ж  25.0       1    59214.82         2   \n",
       "1  146556  861.0    Рыбинск      Ж  37.0       5   850594.33         3   \n",
       "2  120722  892.0    Рыбинск      Ж  30.0       0         NaN         1   \n",
       "3  225363  866.0  Ярославль      Ж  51.0       5  1524746.26         2   \n",
       "4  157978  730.0  Ярославль      М  34.0       5      174.00         1   \n",
       "\n",
       "   credit_card  last_activity  EST_SALARY  churn  \n",
       "0            0              1    75719.14      1  \n",
       "1            1              0    86621.77      0  \n",
       "2            1              1   107683.34      0  \n",
       "3            0              1   174423.53      1  \n",
       "4            1              0    67353.16      1  "
      ]
     },
     "execution_count": 4,
     "metadata": {},
     "output_type": "execute_result"
    }
   ],
   "source": [
    "df.head() # посмотрим на датасет"
   ]
  },
  {
   "cell_type": "markdown",
   "id": "2a43dbbf-5a35-4f1b-b842-bcc7162a0adc",
   "metadata": {},
   "source": [
    "Приведём названия столбцов к нижнему регистру для удобства"
   ]
  },
  {
   "cell_type": "code",
   "execution_count": 5,
   "id": "4aacbfc8-8b84-4dab-9287-21ebccc2dbf5",
   "metadata": {},
   "outputs": [
    {
     "data": {
      "text/html": [
       "<div>\n",
       "<style scoped>\n",
       "    .dataframe tbody tr th:only-of-type {\n",
       "        vertical-align: middle;\n",
       "    }\n",
       "\n",
       "    .dataframe tbody tr th {\n",
       "        vertical-align: top;\n",
       "    }\n",
       "\n",
       "    .dataframe thead th {\n",
       "        text-align: right;\n",
       "    }\n",
       "</style>\n",
       "<table border=\"1\" class=\"dataframe\">\n",
       "  <thead>\n",
       "    <tr style=\"text-align: right;\">\n",
       "      <th></th>\n",
       "      <th>userid</th>\n",
       "      <th>score</th>\n",
       "      <th>city</th>\n",
       "      <th>gender</th>\n",
       "      <th>age</th>\n",
       "      <th>equity</th>\n",
       "      <th>balance</th>\n",
       "      <th>products</th>\n",
       "      <th>credit_card</th>\n",
       "      <th>last_activity</th>\n",
       "      <th>est_salary</th>\n",
       "      <th>churn</th>\n",
       "    </tr>\n",
       "  </thead>\n",
       "  <tbody>\n",
       "    <tr>\n",
       "      <th>0</th>\n",
       "      <td>183012</td>\n",
       "      <td>850.0</td>\n",
       "      <td>Рыбинск</td>\n",
       "      <td>Ж</td>\n",
       "      <td>25.0</td>\n",
       "      <td>1</td>\n",
       "      <td>59214.82</td>\n",
       "      <td>2</td>\n",
       "      <td>0</td>\n",
       "      <td>1</td>\n",
       "      <td>75719.14</td>\n",
       "      <td>1</td>\n",
       "    </tr>\n",
       "    <tr>\n",
       "      <th>1</th>\n",
       "      <td>146556</td>\n",
       "      <td>861.0</td>\n",
       "      <td>Рыбинск</td>\n",
       "      <td>Ж</td>\n",
       "      <td>37.0</td>\n",
       "      <td>5</td>\n",
       "      <td>850594.33</td>\n",
       "      <td>3</td>\n",
       "      <td>1</td>\n",
       "      <td>0</td>\n",
       "      <td>86621.77</td>\n",
       "      <td>0</td>\n",
       "    </tr>\n",
       "    <tr>\n",
       "      <th>2</th>\n",
       "      <td>120722</td>\n",
       "      <td>892.0</td>\n",
       "      <td>Рыбинск</td>\n",
       "      <td>Ж</td>\n",
       "      <td>30.0</td>\n",
       "      <td>0</td>\n",
       "      <td>NaN</td>\n",
       "      <td>1</td>\n",
       "      <td>1</td>\n",
       "      <td>1</td>\n",
       "      <td>107683.34</td>\n",
       "      <td>0</td>\n",
       "    </tr>\n",
       "    <tr>\n",
       "      <th>3</th>\n",
       "      <td>225363</td>\n",
       "      <td>866.0</td>\n",
       "      <td>Ярославль</td>\n",
       "      <td>Ж</td>\n",
       "      <td>51.0</td>\n",
       "      <td>5</td>\n",
       "      <td>1524746.26</td>\n",
       "      <td>2</td>\n",
       "      <td>0</td>\n",
       "      <td>1</td>\n",
       "      <td>174423.53</td>\n",
       "      <td>1</td>\n",
       "    </tr>\n",
       "    <tr>\n",
       "      <th>4</th>\n",
       "      <td>157978</td>\n",
       "      <td>730.0</td>\n",
       "      <td>Ярославль</td>\n",
       "      <td>М</td>\n",
       "      <td>34.0</td>\n",
       "      <td>5</td>\n",
       "      <td>174.00</td>\n",
       "      <td>1</td>\n",
       "      <td>1</td>\n",
       "      <td>0</td>\n",
       "      <td>67353.16</td>\n",
       "      <td>1</td>\n",
       "    </tr>\n",
       "  </tbody>\n",
       "</table>\n",
       "</div>"
      ],
      "text/plain": [
       "   userid  score       city gender   age  equity     balance  products  \\\n",
       "0  183012  850.0    Рыбинск      Ж  25.0       1    59214.82         2   \n",
       "1  146556  861.0    Рыбинск      Ж  37.0       5   850594.33         3   \n",
       "2  120722  892.0    Рыбинск      Ж  30.0       0         NaN         1   \n",
       "3  225363  866.0  Ярославль      Ж  51.0       5  1524746.26         2   \n",
       "4  157978  730.0  Ярославль      М  34.0       5      174.00         1   \n",
       "\n",
       "   credit_card  last_activity  est_salary  churn  \n",
       "0            0              1    75719.14      1  \n",
       "1            1              0    86621.77      0  \n",
       "2            1              1   107683.34      0  \n",
       "3            0              1   174423.53      1  \n",
       "4            1              0    67353.16      1  "
      ]
     },
     "execution_count": 5,
     "metadata": {},
     "output_type": "execute_result"
    }
   ],
   "source": [
    "df.columns = df.columns.str.lower()\n",
    "df.head()"
   ]
  },
  {
   "cell_type": "code",
   "execution_count": 6,
   "id": "f526b37d-14b2-4c25-aa17-9a63089d7046",
   "metadata": {},
   "outputs": [
    {
     "name": "stdout",
     "output_type": "stream",
     "text": [
      "<class 'pandas.core.frame.DataFrame'>\n",
      "RangeIndex: 10000 entries, 0 to 9999\n",
      "Data columns (total 12 columns):\n",
      " #   Column         Non-Null Count  Dtype  \n",
      "---  ------         --------------  -----  \n",
      " 0   userid         10000 non-null  int64  \n",
      " 1   score          10000 non-null  float64\n",
      " 2   city           10000 non-null  object \n",
      " 3   gender         10000 non-null  object \n",
      " 4   age            9974 non-null   float64\n",
      " 5   equity         10000 non-null  int64  \n",
      " 6   balance        7705 non-null   float64\n",
      " 7   products       10000 non-null  int64  \n",
      " 8   credit_card    10000 non-null  int64  \n",
      " 9   last_activity  10000 non-null  int64  \n",
      " 10  est_salary     10000 non-null  float64\n",
      " 11  churn          10000 non-null  int64  \n",
      "dtypes: float64(4), int64(6), object(2)\n",
      "memory usage: 937.6+ KB\n"
     ]
    }
   ],
   "source": [
    "df.info()"
   ]
  },
  {
   "cell_type": "code",
   "execution_count": 7,
   "id": "ce825aa8-e7ff-40b1-8bae-0d723c85cd60",
   "metadata": {},
   "outputs": [
    {
     "data": {
      "text/plain": [
       "userid            0.00\n",
       "score             0.00\n",
       "city              0.00\n",
       "gender            0.00\n",
       "age               0.26\n",
       "equity            0.00\n",
       "balance          22.95\n",
       "products          0.00\n",
       "credit_card       0.00\n",
       "last_activity     0.00\n",
       "est_salary        0.00\n",
       "churn             0.00\n",
       "dtype: float64"
      ]
     },
     "execution_count": 7,
     "metadata": {},
     "output_type": "execute_result"
    }
   ],
   "source": [
    "df.isna().mean()*100 #посмотрим на процент пропусков в столбцах"
   ]
  },
  {
   "cell_type": "markdown",
   "id": "4828c570-04cc-4206-98cb-489eff7ca710",
   "metadata": {},
   "source": [
    "У нас есть немного (0.26%) пропусков в столбце с возрастом и довольно много пропусков (23%) в столбце с балансом"
   ]
  },
  {
   "cell_type": "markdown",
   "id": "b0ed356a-bd5e-43c6-b2a3-3530c4a3e504",
   "metadata": {},
   "source": [
    "Создадим новые признаки, принимающие 1, если в наблюдении пропущено значение признака, и 0, если в наблюдении значение признака не пропущено. \n",
    "\n",
    "Далее эти признаки используем при анализе корреляций: построим матрицу корреляций и посмотрим, есть ли зависимость между новыми признаками и другими признаками таблицы: наличие сильной зависимости можеть быть признаков зависимости пропусков от каких-то признаков."
   ]
  },
  {
   "cell_type": "code",
   "execution_count": 8,
   "id": "15f79e49-0e35-42c0-ace1-05f4fa2c71c0",
   "metadata": {},
   "outputs": [],
   "source": [
    "df['age_na'] = df['age'].isna().astype(int)\n",
    "df['balance_na'] = df['balance'].isna().astype(int)"
   ]
  },
  {
   "cell_type": "code",
   "execution_count": 9,
   "id": "16c6473b-966f-4afa-b3f6-35bd2d19243e",
   "metadata": {},
   "outputs": [
    {
     "data": {
      "image/png": "[encoded data removed]",
      "text/plain": [
       "<Figure size 1080x216 with 2 Axes>"
      ]
     },
     "metadata": {
      "needs_background": "light"
     },
     "output_type": "display_data"
    }
   ],
   "source": [
    "df_corr = df.drop(columns=['userid'])\n",
    "\n",
    "interval_cols = ['score', 'age', 'balance', 'est_salary']\n",
    "\n",
    "phik_matrix = df_corr.phik_matrix(interval_cols=interval_cols)\n",
    "\n",
    "n_cols = ['score', 'equity', 'products', 'credit_card', 'last_activity', 'est_salary',\n",
    "                'city','gender', 'churn', 'age_na', 'balance_na'] \n",
    "target_cols = ['age_na', 'balance_na']\n",
    "\n",
    "phik_subset = phik_matrix.loc[target_cols, n_cols]\n",
    "\n",
    "plt.figure(figsize=(15, 3))\n",
    "sns.heatmap(\n",
    "    phik_subset,\n",
    "    cmap='coolwarm',\n",
    "    center=0,\n",
    "    vmin=0, vmax=1,\n",
    "    annot=True,\n",
    "    fmt='.2f'\n",
    ")\n",
    "plt.xticks(rotation=0)\n",
    "plt.yticks(rotation=0)\n",
    "plt.title('PhiK-корреляции с индикаторами пропусков')\n",
    "plt.xlabel('Признаки')\n",
    "plt.tight_layout()\n",
    "plt.show()"
   ]
  },
  {
   "cell_type": "markdown",
   "id": "65e70f64-66d4-41ef-852d-1053e3eb9d6a",
   "metadata": {},
   "source": [
    "На матрице корреляции видно, что пропуски в столбце с возрастом появлись случайно, то есть их можно классифицировать как MCAR, такие пропуски мы удалим.\n",
    "\n",
    "Пропуски с балансом на счёте имеют сильную корреляцию со столбцами equity (количество баллов собственности), products (количество продуктов, которыми пользуется клиент) и score (баллы кредитного скоринга), умеренную корреляцию о столбцами est_salary (оценочный доход клиента) и сhurn (признак оттока) и\n",
    "слабую корреляцию со столбцом credit_card (наличие кредитной карты). Такие признаки уже относятся к MNAR, их мы оставим, чтобы не искажать данные."
   ]
  },
  {
   "cell_type": "code",
   "execution_count": 10,
   "id": "e36e1bd6-3d9b-452f-8098-c96570519393",
   "metadata": {},
   "outputs": [
    {
     "name": "stdout",
     "output_type": "stream",
     "text": [
      "<class 'pandas.core.frame.DataFrame'>\n",
      "Int64Index: 9974 entries, 0 to 9999\n",
      "Data columns (total 14 columns):\n",
      " #   Column         Non-Null Count  Dtype  \n",
      "---  ------         --------------  -----  \n",
      " 0   userid         9974 non-null   int64  \n",
      " 1   score          9974 non-null   float64\n",
      " 2   city           9974 non-null   object \n",
      " 3   gender         9974 non-null   object \n",
      " 4   age            9974 non-null   float64\n",
      " 5   equity         9974 non-null   int64  \n",
      " 6   balance        7695 non-null   float64\n",
      " 7   products       9974 non-null   int64  \n",
      " 8   credit_card    9974 non-null   int64  \n",
      " 9   last_activity  9974 non-null   int64  \n",
      " 10  est_salary     9974 non-null   float64\n",
      " 11  churn          9974 non-null   int64  \n",
      " 12  age_na         9974 non-null   int64  \n",
      " 13  balance_na     9974 non-null   int64  \n",
      "dtypes: float64(4), int64(8), object(2)\n",
      "memory usage: 1.1+ MB\n"
     ]
    }
   ],
   "source": [
    "df.dropna(subset=['age'], inplace=True) # удлаим пропуски в столбце с возрастом\n",
    "df.info() # проверим результат"
   ]
  },
  {
   "cell_type": "markdown",
   "id": "3ef31c0d-3f8b-4146-af60-00638cc9b2da",
   "metadata": {},
   "source": [
    "Теперь приведём данные к нужному формату:\n",
    "\n",
    "- баллы кредитного скоринга и возраст должны быть целыми числами"
   ]
  },
  {
   "cell_type": "code",
   "execution_count": 11,
   "id": "9755ab0d-7314-4d8d-a5d1-8faddc0ec771",
   "metadata": {},
   "outputs": [
    {
     "name": "stdout",
     "output_type": "stream",
     "text": [
      "<class 'pandas.core.frame.DataFrame'>\n",
      "Int64Index: 9974 entries, 0 to 9999\n",
      "Data columns (total 14 columns):\n",
      " #   Column         Non-Null Count  Dtype  \n",
      "---  ------         --------------  -----  \n",
      " 0   userid         9974 non-null   int64  \n",
      " 1   score          9974 non-null   int64  \n",
      " 2   city           9974 non-null   object \n",
      " 3   gender         9974 non-null   object \n",
      " 4   age            9974 non-null   int64  \n",
      " 5   equity         9974 non-null   int64  \n",
      " 6   balance        7695 non-null   float64\n",
      " 7   products       9974 non-null   int64  \n",
      " 8   credit_card    9974 non-null   int64  \n",
      " 9   last_activity  9974 non-null   int64  \n",
      " 10  est_salary     9974 non-null   float64\n",
      " 11  churn          9974 non-null   int64  \n",
      " 12  age_na         9974 non-null   int64  \n",
      " 13  balance_na     9974 non-null   int64  \n",
      "dtypes: float64(2), int64(10), object(2)\n",
      "memory usage: 1.1+ MB\n"
     ]
    }
   ],
   "source": [
    "df['score'] = df['score'].astype(int)\n",
    "df['age'] = df['age'].astype(int)\n",
    "df.info()"
   ]
  },
  {
   "cell_type": "markdown",
   "id": "1577c48f-0619-456b-a8b6-30cb007daea6",
   "metadata": {},
   "source": [
    "Отлично! Теперь всё корректно"
   ]
  },
  {
   "cell_type": "markdown",
   "id": "66799452-3189-4621-ac5d-c8f44371de82",
   "metadata": {},
   "source": [
    "Проверим наличие дубликатов"
   ]
  },
  {
   "cell_type": "code",
   "execution_count": 12,
   "id": "d2b40436-26c1-45c6-8e45-c8ce332ee82c",
   "metadata": {},
   "outputs": [
    {
     "data": {
      "text/plain": [
       "0"
      ]
     },
     "execution_count": 12,
     "metadata": {},
     "output_type": "execute_result"
    }
   ],
   "source": [
    "df.duplicated().sum()"
   ]
  },
  {
   "cell_type": "markdown",
   "id": "53f76f5f-36ec-4253-8e1a-91608c8fe3b5",
   "metadata": {},
   "source": [
    "Явных дубликатов нет, проверим неявные"
   ]
  },
  {
   "cell_type": "code",
   "execution_count": 13,
   "id": "70b4f818-f504-4ee5-888f-5a0f0f6a8b22",
   "metadata": {},
   "outputs": [
    {
     "data": {
      "text/plain": [
       "userid           50\n",
       "score            50\n",
       "city             50\n",
       "gender           50\n",
       "age              50\n",
       "equity           50\n",
       "balance          31\n",
       "products         50\n",
       "credit_card      50\n",
       "last_activity    50\n",
       "est_salary       50\n",
       "churn            50\n",
       "age_na           50\n",
       "balance_na       50\n",
       "dtype: int64"
      ]
     },
     "execution_count": 13,
     "metadata": {},
     "output_type": "execute_result"
    }
   ],
   "source": [
    "df[df.duplicated(subset=['userid'])].count()"
   ]
  },
  {
   "cell_type": "markdown",
   "id": "5a511ba8-f408-472f-83e5-b7d273a9a0d0",
   "metadata": {},
   "source": [
    "Значит у нас дублируются 50 userid, посмотрим на них"
   ]
  },
  {
   "cell_type": "code",
   "execution_count": 14,
   "id": "9aba12fa-feee-407d-b764-d26201182293",
   "metadata": {},
   "outputs": [
    {
     "data": {
      "text/html": [
       "<div>\n",
       "<style scoped>\n",
       "    .dataframe tbody tr th:only-of-type {\n",
       "        vertical-align: middle;\n",
       "    }\n",
       "\n",
       "    .dataframe tbody tr th {\n",
       "        vertical-align: top;\n",
       "    }\n",
       "\n",
       "    .dataframe thead th {\n",
       "        text-align: right;\n",
       "    }\n",
       "</style>\n",
       "<table border=\"1\" class=\"dataframe\">\n",
       "  <thead>\n",
       "    <tr style=\"text-align: right;\">\n",
       "      <th></th>\n",
       "      <th>userid</th>\n",
       "      <th>score</th>\n",
       "      <th>city</th>\n",
       "      <th>gender</th>\n",
       "      <th>age</th>\n",
       "      <th>equity</th>\n",
       "      <th>balance</th>\n",
       "      <th>products</th>\n",
       "      <th>credit_card</th>\n",
       "      <th>last_activity</th>\n",
       "      <th>est_salary</th>\n",
       "      <th>churn</th>\n",
       "      <th>age_na</th>\n",
       "      <th>balance_na</th>\n",
       "    </tr>\n",
       "  </thead>\n",
       "  <tbody>\n",
       "    <tr>\n",
       "      <th>1893</th>\n",
       "      <td>116540</td>\n",
       "      <td>883</td>\n",
       "      <td>Рыбинск</td>\n",
       "      <td>Ж</td>\n",
       "      <td>55</td>\n",
       "      <td>1</td>\n",
       "      <td>362756.49</td>\n",
       "      <td>3</td>\n",
       "      <td>0</td>\n",
       "      <td>1</td>\n",
       "      <td>175920.48</td>\n",
       "      <td>1</td>\n",
       "      <td>0</td>\n",
       "      <td>0</td>\n",
       "    </tr>\n",
       "    <tr>\n",
       "      <th>7694</th>\n",
       "      <td>116540</td>\n",
       "      <td>887</td>\n",
       "      <td>Ярославль</td>\n",
       "      <td>Ж</td>\n",
       "      <td>38</td>\n",
       "      <td>0</td>\n",
       "      <td>NaN</td>\n",
       "      <td>1</td>\n",
       "      <td>0</td>\n",
       "      <td>1</td>\n",
       "      <td>119247.61</td>\n",
       "      <td>0</td>\n",
       "      <td>0</td>\n",
       "      <td>1</td>\n",
       "    </tr>\n",
       "    <tr>\n",
       "      <th>4866</th>\n",
       "      <td>117943</td>\n",
       "      <td>855</td>\n",
       "      <td>Рыбинск</td>\n",
       "      <td>Ж</td>\n",
       "      <td>32</td>\n",
       "      <td>6</td>\n",
       "      <td>1036832.93</td>\n",
       "      <td>4</td>\n",
       "      <td>1</td>\n",
       "      <td>1</td>\n",
       "      <td>107792.71</td>\n",
       "      <td>1</td>\n",
       "      <td>0</td>\n",
       "      <td>0</td>\n",
       "    </tr>\n",
       "    <tr>\n",
       "      <th>7542</th>\n",
       "      <td>117943</td>\n",
       "      <td>880</td>\n",
       "      <td>Ярославль</td>\n",
       "      <td>Ж</td>\n",
       "      <td>40</td>\n",
       "      <td>0</td>\n",
       "      <td>NaN</td>\n",
       "      <td>1</td>\n",
       "      <td>1</td>\n",
       "      <td>0</td>\n",
       "      <td>137718.93</td>\n",
       "      <td>0</td>\n",
       "      <td>0</td>\n",
       "      <td>1</td>\n",
       "    </tr>\n",
       "    <tr>\n",
       "      <th>5863</th>\n",
       "      <td>120258</td>\n",
       "      <td>908</td>\n",
       "      <td>Рыбинск</td>\n",
       "      <td>Ж</td>\n",
       "      <td>38</td>\n",
       "      <td>4</td>\n",
       "      <td>2213581.63</td>\n",
       "      <td>2</td>\n",
       "      <td>0</td>\n",
       "      <td>1</td>\n",
       "      <td>160327.77</td>\n",
       "      <td>1</td>\n",
       "      <td>0</td>\n",
       "      <td>0</td>\n",
       "    </tr>\n",
       "    <tr>\n",
       "      <th>5896</th>\n",
       "      <td>120258</td>\n",
       "      <td>905</td>\n",
       "      <td>Ярославль</td>\n",
       "      <td>М</td>\n",
       "      <td>30</td>\n",
       "      <td>0</td>\n",
       "      <td>NaN</td>\n",
       "      <td>1</td>\n",
       "      <td>1</td>\n",
       "      <td>1</td>\n",
       "      <td>146427.96</td>\n",
       "      <td>0</td>\n",
       "      <td>0</td>\n",
       "      <td>1</td>\n",
       "    </tr>\n",
       "    <tr>\n",
       "      <th>1411</th>\n",
       "      <td>123461</td>\n",
       "      <td>829</td>\n",
       "      <td>Ярославль</td>\n",
       "      <td>Ж</td>\n",
       "      <td>59</td>\n",
       "      <td>0</td>\n",
       "      <td>96222.44</td>\n",
       "      <td>2</td>\n",
       "      <td>0</td>\n",
       "      <td>1</td>\n",
       "      <td>102771.55</td>\n",
       "      <td>1</td>\n",
       "      <td>0</td>\n",
       "      <td>0</td>\n",
       "    </tr>\n",
       "    <tr>\n",
       "      <th>8638</th>\n",
       "      <td>123461</td>\n",
       "      <td>934</td>\n",
       "      <td>Рыбинск</td>\n",
       "      <td>М</td>\n",
       "      <td>34</td>\n",
       "      <td>0</td>\n",
       "      <td>NaN</td>\n",
       "      <td>2</td>\n",
       "      <td>1</td>\n",
       "      <td>0</td>\n",
       "      <td>291619.27</td>\n",
       "      <td>0</td>\n",
       "      <td>0</td>\n",
       "      <td>1</td>\n",
       "    </tr>\n",
       "    <tr>\n",
       "      <th>9775</th>\n",
       "      <td>124450</td>\n",
       "      <td>758</td>\n",
       "      <td>Рыбинск</td>\n",
       "      <td>Ж</td>\n",
       "      <td>36</td>\n",
       "      <td>0</td>\n",
       "      <td>73574.07</td>\n",
       "      <td>2</td>\n",
       "      <td>0</td>\n",
       "      <td>1</td>\n",
       "      <td>79963.59</td>\n",
       "      <td>0</td>\n",
       "      <td>0</td>\n",
       "      <td>0</td>\n",
       "    </tr>\n",
       "    <tr>\n",
       "      <th>8164</th>\n",
       "      <td>124450</td>\n",
       "      <td>859</td>\n",
       "      <td>Ярославль</td>\n",
       "      <td>Ж</td>\n",
       "      <td>38</td>\n",
       "      <td>6</td>\n",
       "      <td>516811.20</td>\n",
       "      <td>1</td>\n",
       "      <td>1</td>\n",
       "      <td>1</td>\n",
       "      <td>95144.63</td>\n",
       "      <td>1</td>\n",
       "      <td>0</td>\n",
       "      <td>0</td>\n",
       "    </tr>\n",
       "  </tbody>\n",
       "</table>\n",
       "</div>"
      ],
      "text/plain": [
       "      userid  score       city gender  age  equity     balance  products  \\\n",
       "1893  116540    883    Рыбинск      Ж   55       1   362756.49         3   \n",
       "7694  116540    887  Ярославль      Ж   38       0         NaN         1   \n",
       "4866  117943    855    Рыбинск      Ж   32       6  1036832.93         4   \n",
       "7542  117943    880  Ярославль      Ж   40       0         NaN         1   \n",
       "5863  120258    908    Рыбинск      Ж   38       4  2213581.63         2   \n",
       "5896  120258    905  Ярославль      М   30       0         NaN         1   \n",
       "1411  123461    829  Ярославль      Ж   59       0    96222.44         2   \n",
       "8638  123461    934    Рыбинск      М   34       0         NaN         2   \n",
       "9775  124450    758    Рыбинск      Ж   36       0    73574.07         2   \n",
       "8164  124450    859  Ярославль      Ж   38       6   516811.20         1   \n",
       "\n",
       "      credit_card  last_activity  est_salary  churn  age_na  balance_na  \n",
       "1893            0              1   175920.48      1       0           0  \n",
       "7694            0              1   119247.61      0       0           1  \n",
       "4866            1              1   107792.71      1       0           0  \n",
       "7542            1              0   137718.93      0       0           1  \n",
       "5863            0              1   160327.77      1       0           0  \n",
       "5896            1              1   146427.96      0       0           1  \n",
       "1411            0              1   102771.55      1       0           0  \n",
       "8638            1              0   291619.27      0       0           1  \n",
       "9775            0              1    79963.59      0       0           0  \n",
       "8164            1              1    95144.63      1       0           0  "
      ]
     },
     "execution_count": 14,
     "metadata": {},
     "output_type": "execute_result"
    }
   ],
   "source": [
    "df[df.duplicated(subset=['userid'], keep=False)].sort_values(by='userid').head(10)"
   ]
  },
  {
   "cell_type": "markdown",
   "id": "ddef3416-e6aa-44e4-9735-3eb5f5eb5c3f",
   "metadata": {},
   "source": [
    "Мы видим, что дублирование userid, вероятно, произошло из-за какого-то сбоя в системах между городами - один userid присвоен клиенту Рыбинска, а второй такой же - клиенту из Ярославля, при этом это разные клиенты - у них разные возраст, пол, количество продуктов и тд."
   ]
  },
  {
   "cell_type": "markdown",
   "id": "e4b09ddd-e34f-4141-a691-bcab252c8cd5",
   "metadata": {},
   "source": [
    "Проверим, есть ли клиенты с одинаковым user id, но разным оттоком"
   ]
  },
  {
   "cell_type": "code",
   "execution_count": 15,
   "id": "ed815079-8c2f-4228-87f7-f63dfe176ec7",
   "metadata": {},
   "outputs": [
    {
     "data": {
      "text/html": [
       "<div>\n",
       "<style scoped>\n",
       "    .dataframe tbody tr th:only-of-type {\n",
       "        vertical-align: middle;\n",
       "    }\n",
       "\n",
       "    .dataframe tbody tr th {\n",
       "        vertical-align: top;\n",
       "    }\n",
       "\n",
       "    .dataframe thead th {\n",
       "        text-align: right;\n",
       "    }\n",
       "</style>\n",
       "<table border=\"1\" class=\"dataframe\">\n",
       "  <thead>\n",
       "    <tr style=\"text-align: right;\">\n",
       "      <th></th>\n",
       "      <th>userid</th>\n",
       "      <th>score</th>\n",
       "      <th>city</th>\n",
       "      <th>gender</th>\n",
       "      <th>age</th>\n",
       "      <th>equity</th>\n",
       "      <th>balance</th>\n",
       "      <th>products</th>\n",
       "      <th>credit_card</th>\n",
       "      <th>last_activity</th>\n",
       "      <th>est_salary</th>\n",
       "      <th>churn</th>\n",
       "      <th>age_na</th>\n",
       "      <th>balance_na</th>\n",
       "    </tr>\n",
       "  </thead>\n",
       "  <tbody>\n",
       "  </tbody>\n",
       "</table>\n",
       "</div>"
      ],
      "text/plain": [
       "Empty DataFrame\n",
       "Columns: [userid, score, city, gender, age, equity, balance, products, credit_card, last_activity, est_salary, churn, age_na, balance_na]\n",
       "Index: []"
      ]
     },
     "execution_count": 15,
     "metadata": {},
     "output_type": "execute_result"
    }
   ],
   "source": [
    "df[df.duplicated(subset=['userid','churn'], keep=False)]"
   ]
  },
  {
   "cell_type": "markdown",
   "id": "5958e720-b5c2-4fb6-879f-479f7dcae174",
   "metadata": {},
   "source": [
    "Таких клиентов нет. Оставим дубликаты, они нам не помешают."
   ]
  },
  {
   "cell_type": "markdown",
   "id": "29d63e26-263b-49f5-b901-3983ce0f7fdf",
   "metadata": {},
   "source": [
    "Осуществим кодирование признаков"
   ]
  },
  {
   "cell_type": "code",
   "execution_count": 16,
   "id": "0a14a471-0fc0-4c7b-88c2-053e75578208",
   "metadata": {},
   "outputs": [
    {
     "data": {
      "text/html": [
       "<div>\n",
       "<style scoped>\n",
       "    .dataframe tbody tr th:only-of-type {\n",
       "        vertical-align: middle;\n",
       "    }\n",
       "\n",
       "    .dataframe tbody tr th {\n",
       "        vertical-align: top;\n",
       "    }\n",
       "\n",
       "    .dataframe thead th {\n",
       "        text-align: right;\n",
       "    }\n",
       "</style>\n",
       "<table border=\"1\" class=\"dataframe\">\n",
       "  <thead>\n",
       "    <tr style=\"text-align: right;\">\n",
       "      <th></th>\n",
       "      <th>userid</th>\n",
       "      <th>score</th>\n",
       "      <th>city</th>\n",
       "      <th>gender</th>\n",
       "      <th>age</th>\n",
       "      <th>equity</th>\n",
       "      <th>balance</th>\n",
       "      <th>products</th>\n",
       "      <th>credit_card</th>\n",
       "      <th>last_activity</th>\n",
       "      <th>est_salary</th>\n",
       "      <th>churn</th>\n",
       "      <th>age_na</th>\n",
       "      <th>balance_na</th>\n",
       "    </tr>\n",
       "  </thead>\n",
       "  <tbody>\n",
       "    <tr>\n",
       "      <th>0</th>\n",
       "      <td>183012</td>\n",
       "      <td>850</td>\n",
       "      <td>Рыбинск</td>\n",
       "      <td>Ж</td>\n",
       "      <td>25</td>\n",
       "      <td>1</td>\n",
       "      <td>59214.82</td>\n",
       "      <td>2</td>\n",
       "      <td>0</td>\n",
       "      <td>1</td>\n",
       "      <td>75719.14</td>\n",
       "      <td>1</td>\n",
       "      <td>0</td>\n",
       "      <td>0</td>\n",
       "    </tr>\n",
       "    <tr>\n",
       "      <th>1</th>\n",
       "      <td>146556</td>\n",
       "      <td>861</td>\n",
       "      <td>Рыбинск</td>\n",
       "      <td>Ж</td>\n",
       "      <td>37</td>\n",
       "      <td>5</td>\n",
       "      <td>850594.33</td>\n",
       "      <td>3</td>\n",
       "      <td>1</td>\n",
       "      <td>0</td>\n",
       "      <td>86621.77</td>\n",
       "      <td>0</td>\n",
       "      <td>0</td>\n",
       "      <td>0</td>\n",
       "    </tr>\n",
       "    <tr>\n",
       "      <th>2</th>\n",
       "      <td>120722</td>\n",
       "      <td>892</td>\n",
       "      <td>Рыбинск</td>\n",
       "      <td>Ж</td>\n",
       "      <td>30</td>\n",
       "      <td>0</td>\n",
       "      <td>NaN</td>\n",
       "      <td>1</td>\n",
       "      <td>1</td>\n",
       "      <td>1</td>\n",
       "      <td>107683.34</td>\n",
       "      <td>0</td>\n",
       "      <td>0</td>\n",
       "      <td>1</td>\n",
       "    </tr>\n",
       "    <tr>\n",
       "      <th>3</th>\n",
       "      <td>225363</td>\n",
       "      <td>866</td>\n",
       "      <td>Ярославль</td>\n",
       "      <td>Ж</td>\n",
       "      <td>51</td>\n",
       "      <td>5</td>\n",
       "      <td>1524746.26</td>\n",
       "      <td>2</td>\n",
       "      <td>0</td>\n",
       "      <td>1</td>\n",
       "      <td>174423.53</td>\n",
       "      <td>1</td>\n",
       "      <td>0</td>\n",
       "      <td>0</td>\n",
       "    </tr>\n",
       "    <tr>\n",
       "      <th>4</th>\n",
       "      <td>157978</td>\n",
       "      <td>730</td>\n",
       "      <td>Ярославль</td>\n",
       "      <td>М</td>\n",
       "      <td>34</td>\n",
       "      <td>5</td>\n",
       "      <td>174.00</td>\n",
       "      <td>1</td>\n",
       "      <td>1</td>\n",
       "      <td>0</td>\n",
       "      <td>67353.16</td>\n",
       "      <td>1</td>\n",
       "      <td>0</td>\n",
       "      <td>0</td>\n",
       "    </tr>\n",
       "  </tbody>\n",
       "</table>\n",
       "</div>"
      ],
      "text/plain": [
       "   userid  score       city gender  age  equity     balance  products  \\\n",
       "0  183012    850    Рыбинск      Ж   25       1    59214.82         2   \n",
       "1  146556    861    Рыбинск      Ж   37       5   850594.33         3   \n",
       "2  120722    892    Рыбинск      Ж   30       0         NaN         1   \n",
       "3  225363    866  Ярославль      Ж   51       5  1524746.26         2   \n",
       "4  157978    730  Ярославль      М   34       5      174.00         1   \n",
       "\n",
       "   credit_card  last_activity  est_salary  churn  age_na  balance_na  \n",
       "0            0              1    75719.14      1       0           0  \n",
       "1            1              0    86621.77      0       0           0  \n",
       "2            1              1   107683.34      0       0           1  \n",
       "3            0              1   174423.53      1       0           0  \n",
       "4            1              0    67353.16      1       0           0  "
      ]
     },
     "execution_count": 16,
     "metadata": {},
     "output_type": "execute_result"
    }
   ],
   "source": [
    "df.head()"
   ]
  },
  {
   "cell_type": "code",
   "execution_count": 17,
   "id": "bb71b595-7137-4430-a5cd-bce0f0ad3242",
   "metadata": {},
   "outputs": [
    {
     "data": {
      "text/plain": [
       "Ярославль    5875\n",
       "Рыбинск      2683\n",
       "Ростов       1416\n",
       "Name: city, dtype: int64"
      ]
     },
     "execution_count": 17,
     "metadata": {},
     "output_type": "execute_result"
    }
   ],
   "source": [
    "df['city'].value_counts() # посмотрим какие города у нас представлены"
   ]
  },
  {
   "cell_type": "markdown",
   "id": "18555d1f-afb2-4b67-857e-c0709ef893fe",
   "metadata": {},
   "source": [
    "Закодируем столбцы с городом и полом:\n",
    "\n",
    "* для пола и города применим one-hot кодирование "
   ]
  },
  {
   "cell_type": "code",
   "execution_count": 18,
   "id": "07faffc7",
   "metadata": {},
   "outputs": [],
   "source": [
    "df['city_original'] = df['city']\n",
    "df['gender_original'] = df['gender']\n",
    "df = pd.get_dummies(df, columns=['city'], prefix='city', dtype=int)"
   ]
  },
  {
   "cell_type": "code",
   "execution_count": 19,
   "id": "e79305e1-3f48-46c4-a19d-3a8daa0ed70b",
   "metadata": {},
   "outputs": [
    {
     "data": {
      "text/html": [
       "<div>\n",
       "<style scoped>\n",
       "    .dataframe tbody tr th:only-of-type {\n",
       "        vertical-align: middle;\n",
       "    }\n",
       "\n",
       "    .dataframe tbody tr th {\n",
       "        vertical-align: top;\n",
       "    }\n",
       "\n",
       "    .dataframe thead th {\n",
       "        text-align: right;\n",
       "    }\n",
       "</style>\n",
       "<table border=\"1\" class=\"dataframe\">\n",
       "  <thead>\n",
       "    <tr style=\"text-align: right;\">\n",
       "      <th></th>\n",
       "      <th>userid</th>\n",
       "      <th>score</th>\n",
       "      <th>age</th>\n",
       "      <th>equity</th>\n",
       "      <th>balance</th>\n",
       "      <th>products</th>\n",
       "      <th>credit_card</th>\n",
       "      <th>last_activity</th>\n",
       "      <th>est_salary</th>\n",
       "      <th>churn</th>\n",
       "      <th>age_na</th>\n",
       "      <th>balance_na</th>\n",
       "      <th>city_original</th>\n",
       "      <th>gender_original</th>\n",
       "      <th>city_Ростов</th>\n",
       "      <th>city_Рыбинск</th>\n",
       "      <th>city_Ярославль</th>\n",
       "      <th>gender_Ж</th>\n",
       "      <th>gender_М</th>\n",
       "    </tr>\n",
       "  </thead>\n",
       "  <tbody>\n",
       "    <tr>\n",
       "      <th>0</th>\n",
       "      <td>183012</td>\n",
       "      <td>850</td>\n",
       "      <td>25</td>\n",
       "      <td>1</td>\n",
       "      <td>59214.82</td>\n",
       "      <td>2</td>\n",
       "      <td>0</td>\n",
       "      <td>1</td>\n",
       "      <td>75719.14</td>\n",
       "      <td>1</td>\n",
       "      <td>0</td>\n",
       "      <td>0</td>\n",
       "      <td>Рыбинск</td>\n",
       "      <td>Ж</td>\n",
       "      <td>0</td>\n",
       "      <td>1</td>\n",
       "      <td>0</td>\n",
       "      <td>1</td>\n",
       "      <td>0</td>\n",
       "    </tr>\n",
       "    <tr>\n",
       "      <th>1</th>\n",
       "      <td>146556</td>\n",
       "      <td>861</td>\n",
       "      <td>37</td>\n",
       "      <td>5</td>\n",
       "      <td>850594.33</td>\n",
       "      <td>3</td>\n",
       "      <td>1</td>\n",
       "      <td>0</td>\n",
       "      <td>86621.77</td>\n",
       "      <td>0</td>\n",
       "      <td>0</td>\n",
       "      <td>0</td>\n",
       "      <td>Рыбинск</td>\n",
       "      <td>Ж</td>\n",
       "      <td>0</td>\n",
       "      <td>1</td>\n",
       "      <td>0</td>\n",
       "      <td>1</td>\n",
       "      <td>0</td>\n",
       "    </tr>\n",
       "    <tr>\n",
       "      <th>2</th>\n",
       "      <td>120722</td>\n",
       "      <td>892</td>\n",
       "      <td>30</td>\n",
       "      <td>0</td>\n",
       "      <td>NaN</td>\n",
       "      <td>1</td>\n",
       "      <td>1</td>\n",
       "      <td>1</td>\n",
       "      <td>107683.34</td>\n",
       "      <td>0</td>\n",
       "      <td>0</td>\n",
       "      <td>1</td>\n",
       "      <td>Рыбинск</td>\n",
       "      <td>Ж</td>\n",
       "      <td>0</td>\n",
       "      <td>1</td>\n",
       "      <td>0</td>\n",
       "      <td>1</td>\n",
       "      <td>0</td>\n",
       "    </tr>\n",
       "    <tr>\n",
       "      <th>3</th>\n",
       "      <td>225363</td>\n",
       "      <td>866</td>\n",
       "      <td>51</td>\n",
       "      <td>5</td>\n",
       "      <td>1524746.26</td>\n",
       "      <td>2</td>\n",
       "      <td>0</td>\n",
       "      <td>1</td>\n",
       "      <td>174423.53</td>\n",
       "      <td>1</td>\n",
       "      <td>0</td>\n",
       "      <td>0</td>\n",
       "      <td>Ярославль</td>\n",
       "      <td>Ж</td>\n",
       "      <td>0</td>\n",
       "      <td>0</td>\n",
       "      <td>1</td>\n",
       "      <td>1</td>\n",
       "      <td>0</td>\n",
       "    </tr>\n",
       "    <tr>\n",
       "      <th>4</th>\n",
       "      <td>157978</td>\n",
       "      <td>730</td>\n",
       "      <td>34</td>\n",
       "      <td>5</td>\n",
       "      <td>174.00</td>\n",
       "      <td>1</td>\n",
       "      <td>1</td>\n",
       "      <td>0</td>\n",
       "      <td>67353.16</td>\n",
       "      <td>1</td>\n",
       "      <td>0</td>\n",
       "      <td>0</td>\n",
       "      <td>Ярославль</td>\n",
       "      <td>М</td>\n",
       "      <td>0</td>\n",
       "      <td>0</td>\n",
       "      <td>1</td>\n",
       "      <td>0</td>\n",
       "      <td>1</td>\n",
       "    </tr>\n",
       "  </tbody>\n",
       "</table>\n",
       "</div>"
      ],
      "text/plain": [
       "   userid  score  age  equity     balance  products  credit_card  \\\n",
       "0  183012    850   25       1    59214.82         2            0   \n",
       "1  146556    861   37       5   850594.33         3            1   \n",
       "2  120722    892   30       0         NaN         1            1   \n",
       "3  225363    866   51       5  1524746.26         2            0   \n",
       "4  157978    730   34       5      174.00         1            1   \n",
       "\n",
       "   last_activity  est_salary  churn  age_na  balance_na city_original  \\\n",
       "0              1    75719.14      1       0           0       Рыбинск   \n",
       "1              0    86621.77      0       0           0       Рыбинск   \n",
       "2              1   107683.34      0       0           1       Рыбинск   \n",
       "3              1   174423.53      1       0           0     Ярославль   \n",
       "4              0    67353.16      1       0           0     Ярославль   \n",
       "\n",
       "  gender_original  city_Ростов  city_Рыбинск  city_Ярославль  gender_Ж  \\\n",
       "0               Ж            0             1               0         1   \n",
       "1               Ж            0             1               0         1   \n",
       "2               Ж            0             1               0         1   \n",
       "3               Ж            0             0               1         1   \n",
       "4               М            0             0               1         0   \n",
       "\n",
       "   gender_М  \n",
       "0         0  \n",
       "1         0  \n",
       "2         0  \n",
       "3         0  \n",
       "4         1  "
      ]
     },
     "execution_count": 19,
     "metadata": {},
     "output_type": "execute_result"
    }
   ],
   "source": [
    "df = pd.get_dummies(df, columns=['gender'], prefix='gender', dtype=int)\n",
    "df.head()"
   ]
  },
  {
   "cell_type": "markdown",
   "id": "e0a247a3-f1b7-41cb-84c7-e0e0f66a8f9d",
   "metadata": {},
   "source": [
    "Отлично! Предобработка данных заверешена!\n",
    "Что было сделано:\n",
    "- приведены название столбцов к нижнему регистру\n",
    "- проанализировали пропуски (убрали пропуски в столбце с возрастом, оставили пропуски в столбце с балансом)\n",
    "- исправили типы данных у столбцов с баллами кредитного скоринга и возрастом\n",
    "- выявили наличие неявных дубликатов по userid, но решили их оставить\n",
    "- осуществили кодирование возраста (бинарное) и города (one-hot)"
   ]
  },
  {
   "cell_type": "markdown",
   "id": "21e37a9a-170b-4438-b0cf-2943adbc38a0",
   "metadata": {},
   "source": [
    "## 2) Проведём исследовательский анализ данных"
   ]
  },
  {
   "cell_type": "markdown",
   "id": "4b060e6f-8e27-4b8d-8c15-b8c7a9ed62a7",
   "metadata": {},
   "source": [
    "Перед анализом клиентов в разрезе оттока интересно посмотреть на средние значения признаков для всех клиентов"
   ]
  },
  {
   "cell_type": "code",
   "execution_count": 20,
   "id": "e4e665b3-7f35-4e4a-bee2-d4e45066c540",
   "metadata": {},
   "outputs": [
    {
     "data": {
      "text/html": [
       "<div>\n",
       "<style scoped>\n",
       "    .dataframe tbody tr th:only-of-type {\n",
       "        vertical-align: middle;\n",
       "    }\n",
       "\n",
       "    .dataframe tbody tr th {\n",
       "        vertical-align: top;\n",
       "    }\n",
       "\n",
       "    .dataframe thead th {\n",
       "        text-align: right;\n",
       "    }\n",
       "</style>\n",
       "<table border=\"1\" class=\"dataframe\">\n",
       "  <thead>\n",
       "    <tr style=\"text-align: right;\">\n",
       "      <th></th>\n",
       "      <th>userid</th>\n",
       "      <th>score</th>\n",
       "      <th>age</th>\n",
       "      <th>equity</th>\n",
       "      <th>balance</th>\n",
       "      <th>products</th>\n",
       "      <th>credit_card</th>\n",
       "      <th>last_activity</th>\n",
       "      <th>est_salary</th>\n",
       "      <th>churn</th>\n",
       "      <th>age_na</th>\n",
       "      <th>balance_na</th>\n",
       "      <th>city_Ростов</th>\n",
       "      <th>city_Рыбинск</th>\n",
       "      <th>city_Ярославль</th>\n",
       "      <th>gender_Ж</th>\n",
       "      <th>gender_М</th>\n",
       "    </tr>\n",
       "  </thead>\n",
       "  <tbody>\n",
       "    <tr>\n",
       "      <th>count</th>\n",
       "      <td>9974.000000</td>\n",
       "      <td>9974.000000</td>\n",
       "      <td>9974.000000</td>\n",
       "      <td>9974.000000</td>\n",
       "      <td>7.695000e+03</td>\n",
       "      <td>9974.000000</td>\n",
       "      <td>9974.000000</td>\n",
       "      <td>9974.000000</td>\n",
       "      <td>9.974000e+03</td>\n",
       "      <td>9974.000000</td>\n",
       "      <td>9974.0</td>\n",
       "      <td>9974.000000</td>\n",
       "      <td>9974.000000</td>\n",
       "      <td>9974.000000</td>\n",
       "      <td>9974.000000</td>\n",
       "      <td>9974.000000</td>\n",
       "      <td>9974.000000</td>\n",
       "    </tr>\n",
       "    <tr>\n",
       "      <th>mean</th>\n",
       "      <td>171755.218669</td>\n",
       "      <td>848.682575</td>\n",
       "      <td>42.734409</td>\n",
       "      <td>2.630840</td>\n",
       "      <td>8.272456e+05</td>\n",
       "      <td>1.871466</td>\n",
       "      <td>0.680168</td>\n",
       "      <td>0.522859</td>\n",
       "      <td>1.477868e+05</td>\n",
       "      <td>0.182374</td>\n",
       "      <td>0.0</td>\n",
       "      <td>0.228494</td>\n",
       "      <td>0.141969</td>\n",
       "      <td>0.268999</td>\n",
       "      <td>0.589031</td>\n",
       "      <td>0.499599</td>\n",
       "      <td>0.500401</td>\n",
       "    </tr>\n",
       "    <tr>\n",
       "      <th>std</th>\n",
       "      <td>33695.527126</td>\n",
       "      <td>65.399720</td>\n",
       "      <td>12.179971</td>\n",
       "      <td>1.979965</td>\n",
       "      <td>1.980327e+06</td>\n",
       "      <td>0.792729</td>\n",
       "      <td>0.466435</td>\n",
       "      <td>0.499502</td>\n",
       "      <td>1.392855e+05</td>\n",
       "      <td>0.386172</td>\n",
       "      <td>0.0</td>\n",
       "      <td>0.419884</td>\n",
       "      <td>0.349036</td>\n",
       "      <td>0.443462</td>\n",
       "      <td>0.492034</td>\n",
       "      <td>0.500025</td>\n",
       "      <td>0.500025</td>\n",
       "    </tr>\n",
       "    <tr>\n",
       "      <th>min</th>\n",
       "      <td>94561.000000</td>\n",
       "      <td>642.000000</td>\n",
       "      <td>18.000000</td>\n",
       "      <td>0.000000</td>\n",
       "      <td>0.000000e+00</td>\n",
       "      <td>0.000000</td>\n",
       "      <td>0.000000</td>\n",
       "      <td>0.000000</td>\n",
       "      <td>2.546300e+03</td>\n",
       "      <td>0.000000</td>\n",
       "      <td>0.0</td>\n",
       "      <td>0.000000</td>\n",
       "      <td>0.000000</td>\n",
       "      <td>0.000000</td>\n",
       "      <td>0.000000</td>\n",
       "      <td>0.000000</td>\n",
       "      <td>0.000000</td>\n",
       "    </tr>\n",
       "    <tr>\n",
       "      <th>25%</th>\n",
       "      <td>142760.000000</td>\n",
       "      <td>802.000000</td>\n",
       "      <td>33.000000</td>\n",
       "      <td>0.000000</td>\n",
       "      <td>2.956987e+05</td>\n",
       "      <td>1.000000</td>\n",
       "      <td>0.000000</td>\n",
       "      <td>0.000000</td>\n",
       "      <td>7.525166e+04</td>\n",
       "      <td>0.000000</td>\n",
       "      <td>0.0</td>\n",
       "      <td>0.000000</td>\n",
       "      <td>0.000000</td>\n",
       "      <td>0.000000</td>\n",
       "      <td>0.000000</td>\n",
       "      <td>0.000000</td>\n",
       "      <td>0.000000</td>\n",
       "    </tr>\n",
       "    <tr>\n",
       "      <th>50%</th>\n",
       "      <td>172643.000000</td>\n",
       "      <td>853.000000</td>\n",
       "      <td>40.000000</td>\n",
       "      <td>3.000000</td>\n",
       "      <td>5.242953e+05</td>\n",
       "      <td>2.000000</td>\n",
       "      <td>1.000000</td>\n",
       "      <td>1.000000</td>\n",
       "      <td>1.196268e+05</td>\n",
       "      <td>0.000000</td>\n",
       "      <td>0.0</td>\n",
       "      <td>0.000000</td>\n",
       "      <td>0.000000</td>\n",
       "      <td>0.000000</td>\n",
       "      <td>1.000000</td>\n",
       "      <td>0.000000</td>\n",
       "      <td>1.000000</td>\n",
       "    </tr>\n",
       "    <tr>\n",
       "      <th>75%</th>\n",
       "      <td>201163.750000</td>\n",
       "      <td>900.000000</td>\n",
       "      <td>51.000000</td>\n",
       "      <td>4.000000</td>\n",
       "      <td>9.800512e+05</td>\n",
       "      <td>2.000000</td>\n",
       "      <td>1.000000</td>\n",
       "      <td>1.000000</td>\n",
       "      <td>1.744998e+05</td>\n",
       "      <td>0.000000</td>\n",
       "      <td>0.0</td>\n",
       "      <td>0.000000</td>\n",
       "      <td>0.000000</td>\n",
       "      <td>1.000000</td>\n",
       "      <td>1.000000</td>\n",
       "      <td>1.000000</td>\n",
       "      <td>1.000000</td>\n",
       "    </tr>\n",
       "    <tr>\n",
       "      <th>max</th>\n",
       "      <td>229145.000000</td>\n",
       "      <td>1000.000000</td>\n",
       "      <td>86.000000</td>\n",
       "      <td>9.000000</td>\n",
       "      <td>1.191136e+08</td>\n",
       "      <td>5.000000</td>\n",
       "      <td>1.000000</td>\n",
       "      <td>1.000000</td>\n",
       "      <td>1.395064e+06</td>\n",
       "      <td>1.000000</td>\n",
       "      <td>0.0</td>\n",
       "      <td>1.000000</td>\n",
       "      <td>1.000000</td>\n",
       "      <td>1.000000</td>\n",
       "      <td>1.000000</td>\n",
       "      <td>1.000000</td>\n",
       "      <td>1.000000</td>\n",
       "    </tr>\n",
       "  </tbody>\n",
       "</table>\n",
       "</div>"
      ],
      "text/plain": [
       "              userid        score          age       equity       balance  \\\n",
       "count    9974.000000  9974.000000  9974.000000  9974.000000  7.695000e+03   \n",
       "mean   171755.218669   848.682575    42.734409     2.630840  8.272456e+05   \n",
       "std     33695.527126    65.399720    12.179971     1.979965  1.980327e+06   \n",
       "min     94561.000000   642.000000    18.000000     0.000000  0.000000e+00   \n",
       "25%    142760.000000   802.000000    33.000000     0.000000  2.956987e+05   \n",
       "50%    172643.000000   853.000000    40.000000     3.000000  5.242953e+05   \n",
       "75%    201163.750000   900.000000    51.000000     4.000000  9.800512e+05   \n",
       "max    229145.000000  1000.000000    86.000000     9.000000  1.191136e+08   \n",
       "\n",
       "          products  credit_card  last_activity    est_salary        churn  \\\n",
       "count  9974.000000  9974.000000    9974.000000  9.974000e+03  9974.000000   \n",
       "mean      1.871466     0.680168       0.522859  1.477868e+05     0.182374   \n",
       "std       0.792729     0.466435       0.499502  1.392855e+05     0.386172   \n",
       "min       0.000000     0.000000       0.000000  2.546300e+03     0.000000   \n",
       "25%       1.000000     0.000000       0.000000  7.525166e+04     0.000000   \n",
       "50%       2.000000     1.000000       1.000000  1.196268e+05     0.000000   \n",
       "75%       2.000000     1.000000       1.000000  1.744998e+05     0.000000   \n",
       "max       5.000000     1.000000       1.000000  1.395064e+06     1.000000   \n",
       "\n",
       "       age_na   balance_na  city_Ростов  city_Рыбинск  city_Ярославль  \\\n",
       "count  9974.0  9974.000000  9974.000000   9974.000000     9974.000000   \n",
       "mean      0.0     0.228494     0.141969      0.268999        0.589031   \n",
       "std       0.0     0.419884     0.349036      0.443462        0.492034   \n",
       "min       0.0     0.000000     0.000000      0.000000        0.000000   \n",
       "25%       0.0     0.000000     0.000000      0.000000        0.000000   \n",
       "50%       0.0     0.000000     0.000000      0.000000        1.000000   \n",
       "75%       0.0     0.000000     0.000000      1.000000        1.000000   \n",
       "max       0.0     1.000000     1.000000      1.000000        1.000000   \n",
       "\n",
       "          gender_Ж     gender_М  \n",
       "count  9974.000000  9974.000000  \n",
       "mean      0.499599     0.500401  \n",
       "std       0.500025     0.500025  \n",
       "min       0.000000     0.000000  \n",
       "25%       0.000000     0.000000  \n",
       "50%       0.000000     1.000000  \n",
       "75%       1.000000     1.000000  \n",
       "max       1.000000     1.000000  "
      ]
     },
     "execution_count": 20,
     "metadata": {},
     "output_type": "execute_result"
    }
   ],
   "source": [
    "df.describe()"
   ]
  },
  {
   "cell_type": "markdown",
   "id": "40ad609e-51d9-48eb-86cc-b286ce29e7ea",
   "metadata": {},
   "source": [
    "- среднее значение баллов кредитного скоринга клиентов около 850\n",
    "- среднее значение возраста 43 года, медианное - 40\n",
    "- среднее значение баллов собственности - 3\n",
    "- медианное значение баланса 520 тыс., а среднее - 827 тыс., значит есть аномально высокие значения баланса, которые смещают среднее в большую сторону\n",
    "- медианное значение зарплаты 120 тыс., а среднее - 140 тыс., значит есть аномально высокие значения зарплаты, которые смещают среднее в большую сторону\n",
    "- в среднем, у клиента 2 продукта\n",
    "- у 68% есть кредитная карта\n",
    "- 52% являются активными клиентами\n",
    "- 18% оттока\n",
    "- 59% клиентов из Ярославля, 27% - из Рыбинска, 14% - из Ростова"
   ]
  },
  {
   "cell_type": "markdown",
   "id": "4755910c-a86f-4ddb-9393-dd625804bcd0",
   "metadata": {},
   "source": [
    "Также, вряд ли клиент банка может иметь 0 продуктов, то есть не иметь ни одного счёта и тд. Вероятно, это выброс"
   ]
  },
  {
   "cell_type": "code",
   "execution_count": 21,
   "id": "c146ab0f-c605-453b-87d8-1f30fec15c10",
   "metadata": {},
   "outputs": [
    {
     "data": {
      "text/plain": [
       "2    5119\n",
       "1    3323\n",
       "3    1038\n",
       "4     474\n",
       "5      19\n",
       "0       1\n",
       "Name: products, dtype: int64"
      ]
     },
     "execution_count": 21,
     "metadata": {},
     "output_type": "execute_result"
    }
   ],
   "source": [
    "df['products'].value_counts()"
   ]
  },
  {
   "cell_type": "code",
   "execution_count": 22,
   "id": "861464d2-ab9f-4f97-a982-ed86d43f23f0",
   "metadata": {},
   "outputs": [
    {
     "data": {
      "text/plain": [
       "2    5119\n",
       "1    3323\n",
       "3    1038\n",
       "4     474\n",
       "5      19\n",
       "Name: products, dtype: int64"
      ]
     },
     "execution_count": 22,
     "metadata": {},
     "output_type": "execute_result"
    }
   ],
   "source": [
    "#удалим это аномальное значение\n",
    "df = df.loc[df['products'] > 0]\n",
    "df['products'].value_counts()"
   ]
  },
  {
   "cell_type": "markdown",
   "id": "63650a50-e028-4a98-b71e-3d598d4f177e",
   "metadata": {},
   "source": [
    "Отлично!\n",
    "\n",
    "Теперь посмотрим на распределение признаков в разрезе оттока"
   ]
  },
  {
   "cell_type": "markdown",
   "id": "531cbfe0-5b1f-4ae9-bd54-91ecdb09e8bd",
   "metadata": {},
   "source": [
    "### **Распределение баланса клиентов по статусу оттока**"
   ]
  },
  {
   "cell_type": "markdown",
   "id": "af43bebd-386d-40c6-b2a9-5c340c507cd8",
   "metadata": {},
   "source": [
    "Прежде чем построить гистограмму, построим ящик с усами, тк при исследовании средних по банку значений мы предположили наличие выбросов в балансе, которые могут помешать читаемости гистограммы"
   ]
  },
  {
   "cell_type": "code",
   "execution_count": 23,
   "id": "8a5cab51-4915-4acc-a861-6ee2b3455310",
   "metadata": {},
   "outputs": [
    {
     "data": {
      "image/png": "[encoded data removed]",
      "text/plain": [
       "<Figure size 288x432 with 1 Axes>"
      ]
     },
     "metadata": {
      "needs_background": "light"
     },
     "output_type": "display_data"
    }
   ],
   "source": [
    "plt.figure(figsize=(4, 6))\n",
    "sns.boxplot(x='churn', y='balance', data=df)\n",
    "\n",
    "plt.title('Распределение баланса клиентов по статусу оттока', fontsize=14)\n",
    "plt.xlabel('Статус оттока', fontsize=12)\n",
    "plt.ylabel('Баланс', fontsize=12)\n",
    "plt.xticks([0, 1], ['Остались', 'Ушли'])\n",
    "\n",
    "min_balance = df['balance'].min()\n",
    "max_balance = df['balance'].max()\n",
    "\n",
    "plt.yticks(np.arange(np.floor(min_balance / 1e7) * 1e7, np.ceil(max_balance / 1e7) * 1e7 + 1e7, 1e7))\n",
    "\n",
    "plt.grid(alpha=0.3)\n",
    "plt.tight_layout()\n",
    "plt.show()"
   ]
  },
  {
   "cell_type": "markdown",
   "id": "79767073-321b-4df2-aca8-7299daec4c25",
   "metadata": {},
   "source": [
    "Как мы и предполагали, у нас большое число аномальных значений баланса; для улучшения читаемости гистограммы, ограничим значения баланса 10 000 000"
   ]
  },
  {
   "cell_type": "code",
   "execution_count": 24,
   "id": "ffbdf484-ed58-40fe-b738-745d208a783c",
   "metadata": {},
   "outputs": [
    {
     "data": {
      "image/png": "[encoded data removed]",
      "text/plain": [
       "<Figure size 720x432 with 1 Axes>"
      ]
     },
     "metadata": {
      "needs_background": "light"
     },
     "output_type": "display_data"
    }
   ],
   "source": [
    "plt.figure(figsize=(10, 6))\n",
    "colors = ['#3498db', '#e74c3c']\n",
    "labels = ['Остались', 'Ушли']\n",
    "\n",
    "for i, (churn, group) in enumerate(df.groupby('churn')):\n",
    "    group['balance'].plot(kind='hist', alpha=0.6, bins=300, \n",
    "                     density=True, color=colors[i], \n",
    "                     label=f'{labels[i]} (n={len(group)})')\n",
    "    \n",
    "plt.title('Распределение баланса клиентов по статусу оттока', fontsize=14)\n",
    "plt.xlabel('Баланс', fontsize=12)\n",
    "plt.ylabel('Плотность', fontsize=12)\n",
    "plt.legend(fontsize=12)\n",
    "plt.grid(alpha=0.3)\n",
    "plt.xlim(0, 10_000_000)\n",
    "plt.xticks(np.arange(0, 10000001, 500000)) \n",
    "plt.tight_layout()\n",
    "plt.show()"
   ]
  },
  {
   "cell_type": "markdown",
   "id": "fdb46344-3711-4026-9771-cfda0e890c6e",
   "metadata": {},
   "source": [
    "Можно заметить, что ушедшие клиенты имели более высокий баланс, так после, примерно, 800 000 отток выше"
   ]
  },
  {
   "cell_type": "markdown",
   "id": "18bafcf3-612e-4e10-ad81-7ddff3f765d7",
   "metadata": {},
   "source": [
    "### **Распределение дохода клиентов по статусу оттока**"
   ]
  },
  {
   "cell_type": "markdown",
   "id": "2184e83a-724d-4aa1-a85b-8c65c8262276",
   "metadata": {},
   "source": [
    "Здесь также прежде чем построить гистограмму, построим ящик с усами, тк при исследовании средних по банку значений мы предположили наличие выбросов в балансе, которые могут помешать читаемости гистограммы"
   ]
  },
  {
   "cell_type": "code",
   "execution_count": 25,
   "id": "1a66ba30-f08d-4c95-a6b8-f70ec4ff38af",
   "metadata": {},
   "outputs": [
    {
     "data": {
      "image/png": "[encoded data removed]",
      "text/plain": [
       "<Figure size 288x432 with 1 Axes>"
      ]
     },
     "metadata": {
      "needs_background": "light"
     },
     "output_type": "display_data"
    }
   ],
   "source": [
    "plt.figure(figsize=(4, 6))\n",
    "sns.boxplot(x='churn', y='est_salary', data=df)\n",
    "\n",
    "plt.title('Распределение дохода клиентов по статусу оттока', fontsize=14)\n",
    "plt.xlabel('Статус оттока', fontsize=12)\n",
    "plt.ylabel('Оценочный доход', fontsize=12)\n",
    "plt.xticks([0, 1], ['Остались', 'Ушли'])\n",
    "plt.grid(alpha=0.3)\n",
    "plt.tight_layout()\n",
    "plt.show()"
   ]
  },
  {
   "cell_type": "markdown",
   "id": "b57a253d-a2dd-4c80-a2ab-4fee4abbca74",
   "metadata": {},
   "source": [
    "Как мы и предполагали, у нас большое число аномальных значений дохода; для улучшения читаемости гистограммы, ограничим значения дохода 800 000"
   ]
  },
  {
   "cell_type": "code",
   "execution_count": 26,
   "id": "9e78fbff-e4b5-4743-a60b-be1107234f9a",
   "metadata": {},
   "outputs": [
    {
     "data": {
      "image/png": "[encoded data removed]",
      "text/plain": [
       "<Figure size 720x360 with 1 Axes>"
      ]
     },
     "metadata": {
      "needs_background": "light"
     },
     "output_type": "display_data"
    }
   ],
   "source": [
    "plt.figure(figsize=(10, 5))\n",
    "colors = ['#3498db', '#e74c3c']\n",
    "labels = ['Остались', 'Ушли']\n",
    "\n",
    "plt.hist([df[df['churn'] == 0]['est_salary'], \n",
    "          df[df['churn'] == 1]['est_salary']], \n",
    "         bins=100, \n",
    "         density=True, \n",
    "         alpha=0.6, \n",
    "         color=colors,\n",
    "         label=labels,\n",
    "        histtype='stepfilled')\n",
    "    \n",
    "plt.title('Распределение дохода клиентов по статусу оттока', fontsize=14)\n",
    "plt.xlabel('Оценочный доход', fontsize=12)\n",
    "plt.ylabel('Плотность', fontsize=12)\n",
    "plt.legend(fontsize=12)\n",
    "plt.grid(alpha=0.3)\n",
    "plt.xlim(0, 800_000)\n",
    "plt.xticks(np.arange(0, 800001, 100000)) \n",
    "plt.tight_layout()\n",
    "plt.show()"
   ]
  },
  {
   "cell_type": "markdown",
   "id": "ee2fa849-7cef-447b-86b6-6b6e1f5a5229",
   "metadata": {},
   "source": [
    "Учитывая, что клиенты, которые покинули банк, имели более высокий баланс, вполне ожидаемо, что они также имели и более высокий доход, так от 100 000 примерно до 210 000 отток выше"
   ]
  },
  {
   "cell_type": "markdown",
   "id": "0ee77c31-7fdd-4fb3-b839-a49b609bfc19",
   "metadata": {},
   "source": [
    "### **Распределение баллов кредитного скоринга клиентов по статусу оттока**"
   ]
  },
  {
   "cell_type": "code",
   "execution_count": 27,
   "id": "2ad5b9de-9722-43ec-b2a0-9ddfd957d6dd",
   "metadata": {},
   "outputs": [
    {
     "data": {
      "image/png": "[encoded data removed]",
      "text/plain": [
       "<Figure size 720x360 with 1 Axes>"
      ]
     },
     "metadata": {
      "needs_background": "light"
     },
     "output_type": "display_data"
    }
   ],
   "source": [
    "plt.figure(figsize=(10, 5))\n",
    "colors = ['#3498db', '#e74c3c']\n",
    "labels = ['Остались', 'Ушли']\n",
    "\n",
    "for i, (churn, group) in enumerate(df.groupby('churn')):\n",
    "    group['score'].plot(kind='hist', alpha=0.6, bins=62, \n",
    "                     density=True, color=colors[i], \n",
    "                     label=f'{labels[i]} (n={len(group)})')\n",
    "    \n",
    "plt.title('Распределение баллов кредитного скоринга по статусу оттока', fontsize=14)\n",
    "plt.xlabel('Баллы кредитного скоринга', fontsize=12)\n",
    "plt.ylabel('Плотность', fontsize=12)\n",
    "plt.legend(fontsize=12)\n",
    "plt.grid(alpha=0.3)\n",
    "plt.xticks(np.arange(600, 1050, 20)) \n",
    "plt.tight_layout()\n",
    "plt.show()"
   ]
  },
  {
   "cell_type": "markdown",
   "id": "c67c3cf8-8bc7-40ed-ada5-6ddd2d0c3fe3",
   "metadata": {},
   "source": [
    "Клиенты, которые покинули банк, имели среднее значение баллов кредитного скоринга, так в интервале примерно от 820 до 940 отток выше"
   ]
  },
  {
   "cell_type": "markdown",
   "id": "4e2b8417-5638-47e4-8503-04911ac3c130",
   "metadata": {},
   "source": [
    "### **Распределение возраста клиентов по статусу оттока**"
   ]
  },
  {
   "cell_type": "code",
   "execution_count": 28,
   "id": "971f1913-42e5-49e7-97b4-308aee380eb0",
   "metadata": {},
   "outputs": [
    {
     "data": {
      "image/png": "[encoded data removed]",
      "text/plain": [
       "<Figure size 720x360 with 1 Axes>"
      ]
     },
     "metadata": {
      "needs_background": "light"
     },
     "output_type": "display_data"
    }
   ],
   "source": [
    "age_bins = list(range(df['age'].min(), df['age'].max() + 1, 2))\n",
    "\n",
    "plt.figure(figsize=(10, 5))\n",
    "\n",
    "sns.histplot(data=df[df['churn'] == 0], x='age', \n",
    "             bins=age_bins, binwidth=1,\n",
    "             stat='density', discrete=True,\n",
    "             alpha=0.6, \n",
    "             color='#3498db', \n",
    "             label='Остались')\n",
    "\n",
    "sns.histplot(data=df[df['churn'] == 1], x='age', \n",
    "             bins=age_bins, binwidth=1, \n",
    "             stat='density', discrete=True,\n",
    "             alpha=0.6, \n",
    "             color='#e74c3c', \n",
    "             label='Ушли')\n",
    "\n",
    "plt.title('Распределение возраста по статусу оттока', fontsize=14)\n",
    "plt.xlabel('Возраст', fontsize=12)\n",
    "plt.ylabel('Плотность', fontsize=12)\n",
    "plt.xticks(np.arange(17, 92, 3))\n",
    "plt.legend()\n",
    "plt.tight_layout()\n",
    "plt.show()"
   ]
  },
  {
   "cell_type": "markdown",
   "id": "75931405-0d7c-4dac-98ee-53571e0fd7bf",
   "metadata": {},
   "source": [
    "Можно выделить две возрастные группы ушедших клиентов: от 25 до 35 и от 50 до 60"
   ]
  },
  {
   "cell_type": "markdown",
   "id": "42d33756-beff-412e-9aed-d1e79cf9dc9b",
   "metadata": {},
   "source": [
    "### **Анализ долей оттока по баллам собственности клиентов**"
   ]
  },
  {
   "cell_type": "code",
   "execution_count": 29,
   "id": "5c964008-d12a-4195-9d19-9201c990d645",
   "metadata": {},
   "outputs": [
    {
     "data": {
      "image/png": "[encoded data removed]",
      "text/plain": [
       "<Figure size 720x360 with 1 Axes>"
      ]
     },
     "metadata": {
      "needs_background": "light"
     },
     "output_type": "display_data"
    }
   ],
   "source": [
    "equity_total = df.groupby('equity').size().reset_index(name='total_count')\n",
    "\n",
    "equity_churned = df[df['churn'] == 1].groupby('equity').size().reset_index(name='churn_count')\n",
    "\n",
    "equity_stats = pd.merge(equity_total, equity_churned, on='equity', how='left')\n",
    "equity_stats['churn_count'] = equity_stats['churn_count'].fillna(0)\n",
    "\n",
    "equity_stats['churn_rate'] = equity_stats['churn_count'] / equity_stats['total_count']\n",
    "average_churn = df['churn'].mean()\n",
    "\n",
    "plt.figure(figsize=(10, 5))\n",
    "\n",
    "sns.barplot(data=equity_stats, x='equity', y='churn_rate')\n",
    "\n",
    "plt.axhline(average_churn, color='red', linestyle='--', label=f'Средний отток ({average_churn:.1%})')\n",
    "\n",
    "plt.title('Доля оттока в зависимости от баллов собственности', fontsize=14)\n",
    "plt.xlabel('Количество баллов собственности', fontsize=12)\n",
    "plt.ylabel('Доля оттока', fontsize=12)\n",
    "plt.xticks(ticks=sorted(df['equity'].unique()))\n",
    "plt.legend()\n",
    "plt.tight_layout()\n",
    "plt.show()"
   ]
  },
  {
   "cell_type": "markdown",
   "id": "607ae0da-e2fc-434e-9c37-1882d9ab9fed",
   "metadata": {},
   "source": [
    "Ушедшие клиенты, вероятно, имели больше собственности, чем оставшиеся клиенты, так от 3 до 9 баллов собственности отток выше"
   ]
  },
  {
   "cell_type": "markdown",
   "id": "2c020eac-2c14-4cf2-a1fd-3d7bf4ffc034",
   "metadata": {},
   "source": [
    "### **Анализ долей оттока по количеству продуктов клиентов**"
   ]
  },
  {
   "cell_type": "code",
   "execution_count": 30,
   "id": "36119569-be7a-426b-af66-03d9cd970878",
   "metadata": {},
   "outputs": [
    {
     "data": {
      "image/png": "[encoded data removed]",
      "text/plain": [
       "<Figure size 576x360 with 1 Axes>"
      ]
     },
     "metadata": {
      "needs_background": "light"
     },
     "output_type": "display_data"
    }
   ],
   "source": [
    "products_total = df.groupby('products').size().reset_index(name='total_count')\n",
    "products_churned = df[df['churn'] == 1].groupby('products').size().reset_index(name='churn_count')\n",
    "\n",
    "products_stats = pd.merge(products_total, products_churned, on='products', how='left')\n",
    "products_stats['churn_count'] = products_stats['churn_count'].fillna(0)\n",
    "products_stats['churn_rate'] = products_stats['churn_count'] / products_stats['total_count']\n",
    "average_churn = df['churn'].mean()\n",
    "\n",
    "plt.figure(figsize=(8, 5))\n",
    "\n",
    "sns.barplot(data=products_stats, x='products', y='churn_rate', color='tab:blue')\n",
    "\n",
    "plt.axhline(average_churn, color='red', linestyle='--', label=f'Средний отток ({average_churn:.1%})')\n",
    "\n",
    "plt.title('Доля оттока в зависимости от количества продуктов', fontsize=14)\n",
    "plt.xlabel('Количество продуктов', fontsize=12)\n",
    "plt.ylabel('Доля оттока', fontsize=12)\n",
    "plt.xticks(ticks=sorted(df['products'].unique()))\n",
    "plt.legend()\n",
    "plt.tight_layout()\n",
    "plt.show()"
   ]
  },
  {
   "cell_type": "markdown",
   "id": "5a260c9d-8d5a-4ee0-960f-461427d68c71",
   "metadata": {},
   "source": [
    "Ушедшие клиенты имели больше продуктов, так от 2 до 5 продуктов отток выше"
   ]
  },
  {
   "cell_type": "markdown",
   "id": "2b3ac991-49b9-4fbd-9e19-68744de195ea",
   "metadata": {},
   "source": [
    "### **Анализ долей оттока по наличию кредитной карты**"
   ]
  },
  {
   "cell_type": "code",
   "execution_count": 31,
   "id": "d69e084c-1c71-4acc-954f-cdb934af52ff",
   "metadata": {},
   "outputs": [
    {
     "data": {
      "image/png": "[encoded data removed]",
      "text/plain": [
       "<Figure size 432x432 with 1 Axes>"
      ]
     },
     "metadata": {
      "needs_background": "light"
     },
     "output_type": "display_data"
    }
   ],
   "source": [
    "credit_total = df.groupby('credit_card').size().reset_index(name='total_count')\n",
    "credit_churned = df[df['churn'] == 1].groupby('credit_card').size().reset_index(name='churn_count')\n",
    "\n",
    "credit_stats = pd.merge(credit_total, credit_churned, on='credit_card', how='left')\n",
    "credit_stats['churn_count'] = credit_stats['churn_count'].fillna(0)\n",
    "credit_stats['churn_rate'] = credit_stats['churn_count'] / credit_stats['total_count']\n",
    "average_churn = df['churn'].mean()\n",
    "\n",
    "plt.figure(figsize=(6, 6))\n",
    "\n",
    "sns.barplot(data=credit_stats, x='credit_card', y='churn_rate', color='tab:blue')\n",
    "\n",
    "plt.axhline(average_churn, color='red', linestyle='--', label=f'Средний отток ({average_churn:.1%})')\n",
    "\n",
    "plt.title('Доля оттока в зависимости от наличия кредитной карты', fontsize=14)\n",
    "plt.xlabel('Наличие кредитной карты', fontsize=12)\n",
    "plt.ylabel('Доля оттока', fontsize=12)\n",
    "plt.xticks(ticks=[0, 1], labels=[\"нет кредитной карты\", \"есть кредитная карта\"])\n",
    "plt.legend()\n",
    "plt.tight_layout()\n",
    "plt.show()"
   ]
  },
  {
   "cell_type": "markdown",
   "id": "3d1e956b-8ce9-42a5-8006-f79e967314e0",
   "metadata": {},
   "source": [
    "Ушедшие клиенты реже имели кредитную карту"
   ]
  },
  {
   "cell_type": "markdown",
   "id": "6ef74b05-ef80-4b6d-bb63-4e51b4c0c373",
   "metadata": {},
   "source": [
    "### **Анализ долей оттока по статусу активности клиентов**"
   ]
  },
  {
   "cell_type": "code",
   "execution_count": 32,
   "id": "5dec8e30-c586-4dfc-849a-d95461c2c691",
   "metadata": {},
   "outputs": [
    {
     "data": {
      "image/png": "[encoded data removed]",
      "text/plain": [
       "<Figure size 432x432 with 1 Axes>"
      ]
     },
     "metadata": {
      "needs_background": "light"
     },
     "output_type": "display_data"
    }
   ],
   "source": [
    "activity_total = df.groupby('last_activity').size().reset_index(name='total_count')\n",
    "activity_churned = df[df['churn'] == 1].groupby('last_activity').size().reset_index(name='churn_count')\n",
    "activity_stats = pd.merge(activity_total, activity_churned, on='last_activity', how='left')\n",
    "activity_stats['churn_count'] = activity_stats['churn_count'].fillna(0)\n",
    "activity_stats['churn_rate'] = activity_stats['churn_count'] / activity_stats['total_count']\n",
    "average_churn = df['churn'].mean()\n",
    "\n",
    "plt.figure(figsize=(6, 6))\n",
    "sns.barplot(data=activity_stats, x='last_activity', y='churn_rate', color='tab:blue')\n",
    "plt.axhline(average_churn, color='red', linestyle='--', label=f'Средний отток ({average_churn:.1%})')\n",
    "plt.title('Доля оттока в зависимости от активности клиентов', fontsize=14)\n",
    "plt.xlabel('Активность клиента', fontsize=12)\n",
    "plt.ylabel('Доля оттока', fontsize=12)\n",
    "plt.xticks(ticks=[0, 1], labels=[\"не активный\", \"активный\"])\n",
    "plt.legend()\n",
    "plt.tight_layout()\n",
    "plt.show()\n"
   ]
  },
  {
   "cell_type": "markdown",
   "id": "b2e718e1-183d-4a4a-82d1-bc540c789bd3",
   "metadata": {},
   "source": [
    "Большинство ушедших клиентов были активными"
   ]
  },
  {
   "cell_type": "markdown",
   "id": "e6888fe5-34e4-4188-918f-0ffa6ee5df75",
   "metadata": {},
   "source": [
    "### **Анализ долей оттока по полу клиентов**"
   ]
  },
  {
   "cell_type": "code",
   "execution_count": 33,
   "id": "126f809f-656f-4a3a-bdeb-f472f9514964",
   "metadata": {},
   "outputs": [
    {
     "data": {
      "image/png": "[encoded data removed]",
      "text/plain": [
       "<Figure size 432x432 with 1 Axes>"
      ]
     },
     "metadata": {
      "needs_background": "light"
     },
     "output_type": "display_data"
    }
   ],
   "source": [
    "gender_total = df.groupby('gender_original').size().reset_index(name='total_count')\n",
    "gender_churned = df[df['churn'] == 1].groupby('gender_original').size().reset_index(name='churn_count')\n",
    "gender_stats = pd.merge(gender_total, gender_churned, on='gender_original', how='left')\n",
    "gender_stats['churn_count'] = gender_stats['churn_count'].fillna(0)\n",
    "gender_stats['churn_rate'] = gender_stats['churn_count'] / gender_stats['total_count']\n",
    "average_churn = df['churn'].mean()\n",
    "\n",
    "plt.figure(figsize=(6, 6))\n",
    "sns.barplot(data=gender_stats, x='gender_original', y='churn_rate', color='tab:blue')\n",
    "plt.axhline(average_churn, color='red', linestyle='--', label=f'Средний отток ({average_churn:.1%})')\n",
    "plt.title('Доля оттока по полу', fontsize=14)\n",
    "plt.xlabel('Пол', fontsize=12)\n",
    "plt.ylabel('Доля оттока', fontsize=12)\n",
    "plt.xticks(ticks=[0, 1], labels=[\"Женский\", \"Мужской\"])\n",
    "plt.legend()\n",
    "plt.tight_layout()\n",
    "plt.show()"
   ]
  },
  {
   "cell_type": "markdown",
   "id": "98dd36bd-999e-4f99-a266-91f919bb6b46",
   "metadata": {},
   "source": [
    "Мужчины более склонны к оттоку"
   ]
  },
  {
   "cell_type": "markdown",
   "id": "97a65955-7fb0-44c7-be4c-8ae3228c9569",
   "metadata": {},
   "source": [
    "### **Анализ долей оттока по городам**"
   ]
  },
  {
   "cell_type": "code",
   "execution_count": 34,
   "id": "f21d1f3a-3efd-42b5-907f-f0a76e94e989",
   "metadata": {},
   "outputs": [
    {
     "data": {
      "image/png": "[encoded data removed]",
      "text/plain": [
       "<Figure size 504x360 with 1 Axes>"
      ]
     },
     "metadata": {
      "needs_background": "light"
     },
     "output_type": "display_data"
    }
   ],
   "source": [
    "city_total = df.groupby('city_original').size().reset_index(name='total_count')\n",
    "\n",
    "city_churned = df[df['churn'] == 1].groupby('city_original').size().reset_index(name='churn_count')\n",
    "\n",
    "city_stats = pd.merge(city_total, city_churned, on='city_original', how='left')\n",
    "city_stats['churn_count'] = city_stats['churn_count'].fillna(0) \n",
    "\n",
    "city_stats['churn_rate'] = city_stats['churn_count'] / city_stats['total_count']\n",
    "\n",
    "plt.figure(figsize=(7, 5))\n",
    "average_churn = df['churn'].mean()\n",
    "\n",
    "sns.barplot(data=city_stats, x='city_original', y='churn_rate')\n",
    "plt.axhline(average_churn, color='red', linestyle='--', label=f'Средний отток ({average_churn:.1%})')\n",
    "\n",
    "\n",
    "plt.title('Доля оттока по городам', fontsize=14)\n",
    "plt.xlabel('Город', fontsize=12)\n",
    "plt.ylabel('Доля оттока', fontsize=12)\n",
    "plt.tight_layout()\n",
    "plt.show()"
   ]
  },
  {
   "cell_type": "markdown",
   "id": "7f61dce5-8421-4416-9e7a-63ea9cf255c4",
   "metadata": {},
   "source": [
    "Жители Ярославля и Ростова более склонны к оттоку"
   ]
  },
  {
   "cell_type": "markdown",
   "id": "f71c33f6-4ee2-45d0-aa68-aa669fb6fa5f",
   "metadata": {},
   "source": [
    "Анализ признаков в разрезе оттока показал:\n",
    "\n",
    "1) отточные интервалы:\n",
    "    - баланс более 800 000\n",
    "    - доход 100 000 - 210 000\n",
    "    - баллы кредитного скоринга 820 - 940\n",
    "    - возраст 25 - 35 и 50 - 60\n",
    "    - баллы собственности 3 - 9\n",
    "    - количество продуктов 2 - 5\n",
    "\n",
    "2) значения признаков клиентов, более склонных к оттоку:\n",
    "    - отсутствие кредитной карты\n",
    "    - активный клиент\n",
    "    - мужчина\n",
    "    - житель Ярославля или Ростова"
   ]
  },
  {
   "cell_type": "markdown",
   "id": "75296e2b-d6ad-4eb4-abd2-7b740f4188d5",
   "metadata": {},
   "source": [
    "### Проведём корреляционный анализ "
   ]
  },
  {
   "cell_type": "markdown",
   "id": "89c2b3e7-31e1-4575-983c-56c8be01720b",
   "metadata": {},
   "source": [
    "Посчитаем корреляцию Пирсона и выведем результат в виде тепловой карты"
   ]
  },
  {
   "cell_type": "code",
   "execution_count": 35,
   "id": "b7a8382f-3f2c-45df-a61e-36c87541ebe9",
   "metadata": {},
   "outputs": [
    {
     "data": {
      "image/png": "[encoded data removed]",
      "text/plain": [
       "<Figure size 864x864 with 2 Axes>"
      ]
     },
     "metadata": {
      "needs_background": "light"
     },
     "output_type": "display_data"
    }
   ],
   "source": [
    "numeric_columns = df.columns.tolist()\n",
    "numeric_columns = [col for col in numeric_columns if col not in ['city_original', 'gender_original','userid', 'age_na']]\n",
    "\n",
    "correlation_matrix = df[numeric_columns].corr()\n",
    "\n",
    "plt.figure(figsize=(12, 12))\n",
    "sns.heatmap(correlation_matrix, \n",
    "            annot=True,    \n",
    "            cmap='coolwarm',  \n",
    "            center=0,        \n",
    "            vmin=-1, \n",
    "            vmax=1,\n",
    "            square=True,      \n",
    "            linewidths=0.5,   \n",
    "            cbar_kws={\"shrink\": .8})  \n",
    "\n",
    "plt.title('Корреляционная матрица', fontsize=16)\n",
    "plt.tight_layout()\n",
    "plt.show()"
   ]
  },
  {
   "cell_type": "code",
   "execution_count": 36,
   "id": "b2d3827b-8994-47bc-b96a-f8b0466c9733",
   "metadata": {},
   "outputs": [
    {
     "data": {
      "image/png": "[encoded data removed]",
      "text/plain": [
       "<Figure size 1440x129.6 with 2 Axes>"
      ]
     },
     "metadata": {
      "needs_background": "light"
     },
     "output_type": "display_data"
    }
   ],
   "source": [
    "numeric_columns = df.columns.tolist()\n",
    "numeric_columns = [col for col in numeric_columns if col not in ['city_original', 'gender_original','userid', 'age_na']]\n",
    "\n",
    "numeric_columns = df[numeric_columns].select_dtypes(include='number').columns.tolist()\n",
    "\n",
    "correlation_with_churn = df[numeric_columns].corrwith(df['churn'])\n",
    "\n",
    "plt.figure(figsize=(20, 1.8))\n",
    "sns.heatmap(correlation_with_churn.to_frame().T, \n",
    "            annot=True, \n",
    "            cmap='coolwarm', \n",
    "            center=0, \n",
    "            vmin=-1, \n",
    "            vmax=1, \n",
    "            linewidths=0.5,\n",
    "            cbar_kws={\"shrink\": .8})\n",
    "\n",
    "plt.title('Корреляция признаков с churn', fontsize=16)\n",
    "plt.yticks(rotation=0)\n",
    "plt.xticks(rotation=0)\n",
    "plt.tight_layout()\n",
    "plt.show()"
   ]
  },
  {
   "cell_type": "markdown",
   "id": "5dfe8bac-b524-411a-9479-79ee5143445e",
   "metadata": {},
   "source": [
    "Корреляции с признаком оттока:\n",
    "- наблюдается слабая связь между оттоком и количеством баллов собственности; возможно, ушедшие клиенты имели больше собственности\n",
    "- также, наблюдается умеренная связь между оттоком и количеством продуктов; вероятно, ушедшие клиенты имели больше продуктов банка\n",
    "- можно отметить слабую отрицательную корреляцию между оттоком и пропусками в балансе клиента; возможно, у ушедших клиентов реже наблюдались пропуски в данных о балансе\n",
    "\n",
    "Корреляции между другими признаками:\n",
    "- наблюдается умеренная связь между количеством продуктов и количеством баллов собственности\n",
    "- также между балансом и оценочным доходом имеется умеренная связь\n",
    "- между наличием кредитной карты и количеством продуктов банка имеется солабая отрицательная корреляция\n",
    "- ожидаемо наблюдается слабая корреляция между количеством баллов кредитного скоринга и балансом, оценочным доходом\n",
    "- пропуски в балансе умеренно положтельно коррелируют с оценочным доходом, умеренно отрицательно с количеством продуктов и сильно отрицательно с количеством баллов собственности\n",
    "\n",
    "Остальные признаки либо не коррелируют между собой, либо корреляция слабая"
   ]
  },
  {
   "cell_type": "markdown",
   "id": "daf485fe-99d8-437b-ae01-597e2694e280",
   "metadata": {},
   "source": [
    "Посчитаем корреляцию phik и сравним результаты с корреляцией Пирсона"
   ]
  },
  {
   "cell_type": "code",
   "execution_count": 37,
   "id": "3c541343",
   "metadata": {},
   "outputs": [],
   "source": [
    "df_corr = df.drop(columns=['userid', 'age_na', 'gender_М', 'gender_Ж'])"
   ]
  },
  {
   "cell_type": "code",
   "execution_count": 38,
   "id": "3a3c75c2",
   "metadata": {},
   "outputs": [],
   "source": [
    "phik_matrix = df_corr.phik_matrix(interval_cols=['age', 'balance', 'score', 'est_salary'])"
   ]
  },
  {
   "cell_type": "code",
   "execution_count": 39,
   "id": "36db8407-9fd0-4bbc-9798-9f6b6a3e8e5b",
   "metadata": {
    "scrolled": true
   },
   "outputs": [
    {
     "data": {
      "image/png": "[encoded data removed]",
      "text/plain": [
       "<Figure size 864x864 with 2 Axes>"
      ]
     },
     "metadata": {
      "needs_background": "light"
     },
     "output_type": "display_data"
    }
   ],
   "source": [
    "# Отрисовка\n",
    "plt.figure(figsize=(12, 12))\n",
    "sns.heatmap(phik_matrix, \n",
    "            annot=True, \n",
    "            fmt=\".2f\",\n",
    "            cmap='coolwarm', \n",
    "            center=0, \n",
    "            square=True, \n",
    "            linewidths=0.5, \n",
    "            cbar_kws={\"shrink\": .8})\n",
    "\n",
    "plt.title('Матрица PhiK корреляций', fontsize=16)\n",
    "plt.tight_layout()\n",
    "plt.show()"
   ]
  },
  {
   "cell_type": "markdown",
   "id": "72325e47-7f72-4733-aa20-2e4f3279bcbd",
   "metadata": {},
   "source": [
    "В целом, подтверждаются ранее выявленные зависимости и многие из них имеют более высокую корреляцию:\n",
    "\n",
    "Заметная корреляция (больше ~ 0.5) между:\n",
    "- баллами кредитного скоринга и баллами собственности, балансом и зарплатой \n",
    "- баллами собственности и количеством продуктов\n",
    "\n",
    "Отдельно выделим корреляцию пропусков в балансе:\n",
    "- сильная корреляция наблюдается с баллами собственности, баллами кредитного скоринга\n",
    "- умеренная корреляция с количеством продуктов, зарплатой, оттоком"
   ]
  },
  {
   "cell_type": "code",
   "execution_count": 40,
   "id": "436dba2f-e2a2-457f-9a4d-1e046ff2bf36",
   "metadata": {},
   "outputs": [
    {
     "data": {
      "image/png": "[encoded data removed]",
      "text/plain": [
       "<Figure size 1584x144 with 2 Axes>"
      ]
     },
     "metadata": {
      "needs_background": "light"
     },
     "output_type": "display_data"
    }
   ],
   "source": [
    "df_corr = df.drop(columns=['userid', 'age_na', 'gender_М', 'gender_Ж'])\n",
    "phik_matrix = df_corr.phik_matrix(interval_cols=['age', 'balance', 'score', 'est_salary'])\n",
    "numeric_cols = df_corr.columns.tolist()\n",
    "target_cols = ['churn']\n",
    "\n",
    "phik_subset = phik_matrix.loc[target_cols, numeric_cols]\n",
    "\n",
    "plt.figure(figsize=(22, 2))\n",
    "sns.heatmap(\n",
    "    phik_subset,\n",
    "    cmap='coolwarm',\n",
    "    center=0,\n",
    "    vmin=0, vmax=1,\n",
    "    annot=True,\n",
    "    fmt='.2f'\n",
    ")\n",
    "plt.xticks(rotation=0)\n",
    "plt.yticks(rotation=0)\n",
    "plt.title('PhiK-корреляции с churn')\n",
    "plt.tight_layout()\n",
    "plt.show()"
   ]
  },
  {
   "cell_type": "markdown",
   "id": "78467889-599a-4e2f-badf-c092bf1d0b2a",
   "metadata": {},
   "source": [
    "В целом, подтверждаются ранее выявленные зависимости и многие из них имеют более высокую корреляцию:\n",
    "\n",
    "- отток также умеренно коррелирует с баллами собственности и пропусками в балансе, а к слабой корреляции с количеством продуктов добавляются признаки: баллы кредитного скоринга, возраст, наличие/отсутствие кредитной карты, активность и пол"
   ]
  },
  {
   "cell_type": "markdown",
   "id": "0657a151-beff-4dc6-9093-b0febd44de5f",
   "metadata": {},
   "source": [
    "### **Составим портреты клиентов, склонных и не склонных к уходу**"
   ]
  },
  {
   "cell_type": "code",
   "execution_count": 41,
   "id": "4f364c2e-300e-4c8d-b81b-0b532ea1706f",
   "metadata": {},
   "outputs": [
    {
     "data": {
      "text/html": [
       "<div>\n",
       "<style scoped>\n",
       "    .dataframe tbody tr th:only-of-type {\n",
       "        vertical-align: middle;\n",
       "    }\n",
       "\n",
       "    .dataframe tbody tr th {\n",
       "        vertical-align: top;\n",
       "    }\n",
       "\n",
       "    .dataframe thead th {\n",
       "        text-align: right;\n",
       "    }\n",
       "</style>\n",
       "<table border=\"1\" class=\"dataframe\">\n",
       "  <thead>\n",
       "    <tr style=\"text-align: right;\">\n",
       "      <th>Показатель</th>\n",
       "      <th>Остались</th>\n",
       "      <th>Ушли</th>\n",
       "      <th>Относительная разница</th>\n",
       "    </tr>\n",
       "  </thead>\n",
       "  <tbody>\n",
       "    <tr>\n",
       "      <th>Средний балл кредитного скоринга</th>\n",
       "      <td>845.4</td>\n",
       "      <td>863.36</td>\n",
       "      <td>2.12%</td>\n",
       "    </tr>\n",
       "    <tr>\n",
       "      <th>Медианный балл кредитного скоринга</th>\n",
       "      <td>848</td>\n",
       "      <td>866</td>\n",
       "      <td>-</td>\n",
       "    </tr>\n",
       "    <tr>\n",
       "      <th>Средний возраст</th>\n",
       "      <td>43.02</td>\n",
       "      <td>41.43</td>\n",
       "      <td>-3.70%</td>\n",
       "    </tr>\n",
       "    <tr>\n",
       "      <th>Медианный возраст</th>\n",
       "      <td>40</td>\n",
       "      <td>39</td>\n",
       "      <td>-</td>\n",
       "    </tr>\n",
       "    <tr>\n",
       "      <th>Среднее значение баланса</th>\n",
       "      <td>733031.63</td>\n",
       "      <td>1134458.21</td>\n",
       "      <td>54.76%</td>\n",
       "    </tr>\n",
       "    <tr>\n",
       "      <th>Медианное значение баланса</th>\n",
       "      <td>475410.09</td>\n",
       "      <td>783908.9</td>\n",
       "      <td>-</td>\n",
       "    </tr>\n",
       "    <tr>\n",
       "      <th>Средняя оценочная зарплата</th>\n",
       "      <td>147674.64</td>\n",
       "      <td>148357.48</td>\n",
       "      <td>0.46%</td>\n",
       "    </tr>\n",
       "    <tr>\n",
       "      <th>Медианная оценочная зарплата</th>\n",
       "      <td>118227.6</td>\n",
       "      <td>125408.88</td>\n",
       "      <td>-</td>\n",
       "    </tr>\n",
       "    <tr>\n",
       "      <th>Мода по полу</th>\n",
       "      <td>Ж</td>\n",
       "      <td>М</td>\n",
       "      <td>-</td>\n",
       "    </tr>\n",
       "    <tr>\n",
       "      <th>Медианное значение баллов собственности</th>\n",
       "      <td>3</td>\n",
       "      <td>4</td>\n",
       "      <td>-</td>\n",
       "    </tr>\n",
       "    <tr>\n",
       "      <th>Медианное кол-во продуктов</th>\n",
       "      <td>2</td>\n",
       "      <td>2</td>\n",
       "      <td>-</td>\n",
       "    </tr>\n",
       "    <tr>\n",
       "      <th>Наличие кредитной карты (медиана)</th>\n",
       "      <td>1</td>\n",
       "      <td>1</td>\n",
       "      <td>-</td>\n",
       "    </tr>\n",
       "    <tr>\n",
       "      <th>Активность клиента (медиана)</th>\n",
       "      <td>0</td>\n",
       "      <td>1</td>\n",
       "      <td>-</td>\n",
       "    </tr>\n",
       "    <tr>\n",
       "      <th>Мода по городу</th>\n",
       "      <td>Ярославль</td>\n",
       "      <td>Ярославль</td>\n",
       "      <td>-</td>\n",
       "    </tr>\n",
       "  </tbody>\n",
       "</table>\n",
       "</div>"
      ],
      "text/plain": [
       "Показатель                                Остались        Ушли Относительная разница\n",
       "Средний балл кредитного скоринга             845.4      863.36                 2.12%\n",
       "Медианный балл кредитного скоринга             848         866                     -\n",
       "Средний возраст                              43.02       41.43                -3.70%\n",
       "Медианный возраст                               40          39                     -\n",
       "Среднее значение баланса                 733031.63  1134458.21                54.76%\n",
       "Медианное значение баланса               475410.09    783908.9                     -\n",
       "Средняя оценочная зарплата               147674.64   148357.48                 0.46%\n",
       "Медианная оценочная зарплата              118227.6   125408.88                     -\n",
       "Мода по полу                                     Ж           М                     -\n",
       "Медианное значение баллов собственности          3           4                     -\n",
       "Медианное кол-во продуктов                       2           2                     -\n",
       "Наличие кредитной карты (медиана)                1           1                     -\n",
       "Активность клиента (медиана)                     0           1                     -\n",
       "Мода по городу                           Ярославль   Ярославль                     -"
      ]
     },
     "metadata": {},
     "output_type": "display_data"
    }
   ],
   "source": [
    "grouped_stats = df.groupby('churn').agg({'score': ['mean', 'median'],  \n",
    "                        'age': ['mean', 'median'],               \n",
    "                        'balance': ['mean', 'median'],  \n",
    "                        'est_salary': ['mean', 'median'], \n",
    "                        'gender_original': lambda x: x.mode()[0], \n",
    "                        'equity': 'median', \n",
    "                        'products': 'median', \n",
    "                        'credit_card': 'median', \n",
    "                        'last_activity': 'median', \n",
    "                        'city_original': lambda x: x.mode()[0]})\n",
    "\n",
    "grouped_stats.columns = [\"_\".join(col).strip('_') if isinstance(col, tuple) and col[1] else col[0] for col in grouped_stats.columns.values]\n",
    "result = grouped_stats.T\n",
    "\n",
    "result.columns.name = 'Показатель' \n",
    "col0, col1 = result.columns[0], result.columns[1] \n",
    "mean_rows_idx = result.index[result.index.str.contains('_mean')]\n",
    "result.loc[mean_rows_idx, [col0, col1]] = result.loc[mean_rows_idx, [col0, col1]].astype(float).round(2)\n",
    "relative_diff_means = (result.loc[mean_rows_idx, col1].astype(float) - result.loc[mean_rows_idx, col0].astype(float))/ \\\n",
    "                        result.loc[mean_rows_idx, col0].astype(float)\n",
    "\n",
    "result['relative_difference'] = np.nan\n",
    "result.loc[mean_rows_idx, 'relative_difference'] = relative_diff_means\n",
    "\n",
    "index_rename_map = {\n",
    "    'score_mean': 'Средний балл кредитного скоринга',\n",
    "    'score_median': 'Медианный балл кредитного скоринга',\n",
    "    'age_mean': 'Средний возраст',\n",
    "    'age_median': 'Медианный возраст',\n",
    "    'balance_mean': 'Среднее значение баланса',\n",
    "    'balance_median': 'Медианное значение баланса',\n",
    "    'est_salary_mean': 'Средняя оценочная зарплата',\n",
    "    'est_salary_median': 'Медианная оценочная зарплата',\n",
    "    'gender_original_<lambda>': 'Мода по полу',\n",
    "    'equity_median': 'Медианное значение баллов собственности', \n",
    "    'products_median': 'Медианное кол-во продуктов',\n",
    "    'credit_card_median': 'Наличие кредитной карты (медиана)',\n",
    "    'last_activity_median': 'Активность клиента (медиана)',\n",
    "    'city_original_<lambda>': 'Мода по городу'\n",
    "}\n",
    "result.rename(index=index_rename_map, inplace=True)\n",
    "result.rename(columns={col0: 'Остались', col1: 'Ушли', 'relative_difference': 'Относительная разница'}, inplace=True)\n",
    "\n",
    "if 'Относительная разница' in result.columns:\n",
    "      result['Относительная разница'] = result['Относительная разница'].apply(lambda x: '{:.2%}'.format(x) if pd.notna(x) else x)\n",
    "      result['Относительная разница'] = result['Относительная разница'].fillna('-')\n",
    "\n",
    "with pd.option_context('display.expand_frame_repr', False,\n",
    "                       'display.width', 0,\n",
    "                       'display.max_columns', None):\n",
    "    display(result)"
   ]
  },
  {
   "cell_type": "markdown",
   "id": "b3e4ab64-dbae-487d-849b-bfca694cfd27",
   "metadata": {},
   "source": [
    "Наиболее явно различаются баланс, пол и активность клиента: в среднем, ушедшие клиенты имеют более высокое значение баланса, чаще мужской пол, являются активными клиентами и имеют большее количество баллов собственности\n",
    "\n",
    "Также, ушедшие клиенты, в среднем, младше оставшихся клиентов, пользуются большим количеством продуктов и имеют более высокую зарплату.\n",
    "\n",
    "Различия в баллах скоринга, количестве продуктов и зарплате (оценочном доходе) проверим статистически"
   ]
  },
  {
   "cell_type": "markdown",
   "id": "7e7a9529-5e8a-4e5a-ad46-5ae196543bc2",
   "metadata": {},
   "source": [
    "**Портрет лояльного клиента:**\n",
    "\n",
    "- неактивная клиентка-женщина 43 лет из Ярославля, которая пользуется двумя продуктами банка, имеет кредитную карту, 3 балла собственности, заработную плату около 147 000, баланс около 733 000 и 845 баллов кредитного скоринга\n",
    "\n",
    "**Портрет отточного клиента:**\n",
    "\n",
    "- активный клиент-мужчина 41 года из Ярославля, который пользуется двумя продуктами банка, имеет кредитную карту, 4 балла собственности, заработную плату около 148 000, баланс около 1 134 000 и 863 баллов кредитного скоринга"
   ]
  },
  {
   "cell_type": "markdown",
   "id": "05012381-51dc-4a3c-b488-37112ed15c5a",
   "metadata": {},
   "source": [
    "## 3) Проверим гипотезы"
   ]
  },
  {
   "cell_type": "markdown",
   "id": "d1709345-176a-42b5-af10-5eed9574a936",
   "metadata": {},
   "source": [
    "Перед проверкой гипотез, проверим, можем ли мы использовать стандартный тест Стьюдента"
   ]
  },
  {
   "cell_type": "markdown",
   "id": "119c81d8-18e7-4020-8e67-9b664ed3f71f",
   "metadata": {},
   "source": [
    "Проанализируем выбросы"
   ]
  },
  {
   "cell_type": "code",
   "execution_count": 42,
   "id": "d164d2f7-99c7-4069-9e01-e86066bf4bf0",
   "metadata": {},
   "outputs": [
    {
     "data": {
      "image/png": "[encoded data removed]",
      "text/plain": [
       "<Figure size 864x288 with 3 Axes>"
      ]
     },
     "metadata": {
      "needs_background": "light"
     },
     "output_type": "display_data"
    }
   ],
   "source": [
    "cols = ['score', 'products', 'est_salary']\n",
    "\n",
    "sns.catplot(\n",
    "    data=df.melt(id_vars='churn', value_vars=cols),\n",
    "    x='churn', y='value',\n",
    "    col='variable',\n",
    "    kind='box',\n",
    "    sharey=False,\n",
    "    height=4,       \n",
    "    aspect=1       \n",
    ")\n",
    "plt.show()"
   ]
  },
  {
   "cell_type": "code",
   "execution_count": 43,
   "id": "6933083a-2fc1-43e7-90af-a0024b23772f",
   "metadata": {},
   "outputs": [],
   "source": [
    "# избавимся от выбросов\n",
    "def remove_outliers_iqr(df, column):\n",
    "    Q1 = df[column].quantile(0.25)\n",
    "    Q3 = df[column].quantile(0.75)\n",
    "    IQR = Q3 - Q1\n",
    "    lower = Q1 - 1.5 * IQR\n",
    "    upper = Q3 + 1.5 * IQR\n",
    "    return df[(df[column] >= lower) & (df[column] <= upper)]\n",
    "\n",
    "filtered_df = df.copy()\n",
    "for col in ['score', 'products', 'est_salary']:\n",
    "    filtered_df = remove_outliers_iqr(filtered_df, col)"
   ]
  },
  {
   "cell_type": "code",
   "execution_count": 44,
   "id": "5c569a56-0d0f-4741-b1b4-9646d9d53cf7",
   "metadata": {},
   "outputs": [
    {
     "name": "stdout",
     "output_type": "stream",
     "text": [
      "Размер выборки churned: 1451\n",
      "Размер выборки not_churned: 7543\n"
     ]
    }
   ],
   "source": [
    "# разделим данные на две независимые выборки по признаку оттока\n",
    "churned = filtered_df[filtered_df['churn'] == 1]\n",
    "not_churned = filtered_df[filtered_df['churn'] == 0]\n",
    "\n",
    "print(f\"Размер выборки churned: {len(churned)}\")\n",
    "print(f\"Размер выборки not_churned: {len(not_churned)}\")"
   ]
  },
  {
   "cell_type": "code",
   "execution_count": 45,
   "id": "d6616f32-7aa4-4f0d-bcf1-52174f9f5c3e",
   "metadata": {},
   "outputs": [
    {
     "data": {
      "image/png": "[encoded data removed]",
      "text/plain": [
       "<Figure size 1080x288 with 3 Axes>"
      ]
     },
     "metadata": {
      "needs_background": "light"
     },
     "output_type": "display_data"
    }
   ],
   "source": [
    "# проверим на нормальность\n",
    "cols = ['score', 'products', 'est_salary']\n",
    "\n",
    "plt.figure(figsize=(15, 4))  \n",
    "\n",
    "for i, col in enumerate(cols, 1):\n",
    "    plt.subplot(1, 3, i)      \n",
    "    sns.kdeplot(churned[col],     label='Churned')\n",
    "    sns.kdeplot(not_churned[col], label='Not churned')\n",
    "    plt.title(col)\n",
    "    if i == 1:\n",
    "        plt.legend()           \n",
    "    else:\n",
    "        plt.legend([],[], frameon=False)  \n",
    "\n",
    "plt.tight_layout()\n",
    "plt.show()"
   ]
  },
  {
   "cell_type": "markdown",
   "id": "5d0539d5-9118-4b17-8ebf-e3c17e0f3872",
   "metadata": {},
   "source": [
    "Распределения не нормальные, но выборки большие (ЦПТ) - используем t-тест, но разница между выборками больше 25%, значит будем использовать t-тест с поправкой Уэлча"
   ]
  },
  {
   "cell_type": "markdown",
   "id": "b129fbf9-7591-4cce-8e19-558d114c6e55",
   "metadata": {},
   "source": [
    "1) **Нулевая гипотеза:** средние доходы ушедших и оставшихся клиентов *одинаковые*\n",
    "   \n",
    "   **Альтернативная гипотеза:** средние доходы ушедших и оставшихся клиентов *различаются*"
   ]
  },
  {
   "cell_type": "code",
   "execution_count": 46,
   "id": "6eb9d870-61aa-45d0-a9f7-d9f32e8f43aa",
   "metadata": {},
   "outputs": [
    {
     "name": "stdout",
     "output_type": "stream",
     "text": [
      "p-значение: 0.26390424038272225\n",
      "Не получилось отвергнуть нулевую гипотезу: средние доходы ушедших и оставшихся клиентов не имеют статистически значимой разницы\n"
     ]
    }
   ],
   "source": [
    "alpha = 0.05 # берём наиболее универсальный уровень статистической значимости\n",
    "\n",
    "results = st.ttest_ind(\n",
    "    not_churned['est_salary'], \n",
    "    churned['est_salary'],\n",
    "    equal_var=False  \n",
    ")\n",
    "\n",
    "print('p-значение:', results.pvalue)\n",
    "\n",
    "if results.pvalue < alpha:\n",
    "    print('Отвергаем нулевую гипотезу: средние доходы ушедших и оставшихся клиентов различаются')\n",
    "else:\n",
    "    print('Не получилось отвергнуть нулевую гипотезу: средние доходы ушедших и оставшихся клиентов не имеют статистически значимой разницы')"
   ]
  },
  {
   "cell_type": "markdown",
   "id": "191c1daa-5780-4861-ba3b-fe3537783f81",
   "metadata": {},
   "source": [
    "2) **Нулевая гипотеза:** средние баллы кредитного скоринга ушедших и оставшихся клиентов *одинаковые*\n",
    "   \n",
    "   **Альтернативная гипотеза:** средние баллы кредитного скоринга ушедших и оставшихся клиентов *различаются*"
   ]
  },
  {
   "cell_type": "code",
   "execution_count": 47,
   "id": "b68f3c12-d7b4-4f51-90c0-3163d6647b90",
   "metadata": {},
   "outputs": [
    {
     "name": "stdout",
     "output_type": "stream",
     "text": [
      "p-значение: 4.676191456014403e-17\n",
      "Отвергаем нулевую гипотезу: средние баллы кредитного скоринга ушедших и оставшихся клиентов различаются\n"
     ]
    }
   ],
   "source": [
    "alpha = 0.05 \n",
    "\n",
    "results = st.ttest_ind(\n",
    "    not_churned['score'], \n",
    "    churned['score'],\n",
    "    equal_var=False  \n",
    ")\n",
    "\n",
    "print('p-значение:', results.pvalue)\n",
    "\n",
    "if results.pvalue < alpha:\n",
    "    print('Отвергаем нулевую гипотезу: средние баллы кредитного скоринга ушедших и оставшихся клиентов различаются')\n",
    "else:\n",
    "    print('Не получилось отвергнуть нулевую гипотезу: средние баллы кредитного скоринга ушедших и оставшихся клиентов не имеют статистически значимой разницы')"
   ]
  },
  {
   "cell_type": "markdown",
   "id": "0af520ae-e702-4a64-8740-b7fe994d184b",
   "metadata": {},
   "source": [
    "3) **Нулевая гипотеза:** средние баллы кредитного скоринга ушедших клиентов *не выше* баллов оставшихся клиентов \n",
    "   \n",
    "   **Альтернативная гипотеза:** средние баллы кредитного скоринга ушедших клиентов *выше* баллов оставшихся клиентов "
   ]
  },
  {
   "cell_type": "code",
   "execution_count": 48,
   "id": "205afce0-d831-4afe-bcea-1c70d6f94a39",
   "metadata": {},
   "outputs": [
    {
     "name": "stdout",
     "output_type": "stream",
     "text": [
      "p-значение: 2.3380957280072014e-17\n",
      "Отвергаем нулевую гипотезу: средние баллы кредитного скоринга ушедших клиентов выше баллов оставшихся клиентов\n"
     ]
    }
   ],
   "source": [
    "alpha = 0.05 \n",
    "\n",
    "results = st.ttest_ind(\n",
    "    churned['score'], \n",
    "    not_churned['score'],\n",
    "    equal_var=False,\n",
    "    alternative='greater' \n",
    ")\n",
    "\n",
    "print('p-значение:', results.pvalue)\n",
    "\n",
    "if results.pvalue < alpha:\n",
    "    print('Отвергаем нулевую гипотезу: средние баллы кредитного скоринга ушедших клиентов выше баллов оставшихся клиентов')\n",
    "else:\n",
    "    print('Не получилось отвергнуть нулевую гипотезу: средние баллы кредитного скоринга ушедших и оставшихся клиентов не имеют статистически значимой разницы')"
   ]
  },
  {
   "cell_type": "markdown",
   "id": "3dfede1b-b7f7-4f26-b2ae-875175822ec9",
   "metadata": {},
   "source": [
    "4) **Нулевая гипотеза:** средние количества продуктов ушедших и оставшихся клиентов *одинаковые*\n",
    "   \n",
    "   **Альтернативная гипотеза:** средние количества продуктов ушедших и оставшихся клиентов *отличаются*"
   ]
  },
  {
   "cell_type": "code",
   "execution_count": 49,
   "id": "d8811b23-84ad-4927-b529-ff06470ae286",
   "metadata": {},
   "outputs": [
    {
     "name": "stdout",
     "output_type": "stream",
     "text": [
      "p-значение: 1.2649994844060092e-71\n",
      "Отвергаем нулевую гипотезу: средние количества продуктов ушедших и оставшихся клиентов отличаются\n"
     ]
    }
   ],
   "source": [
    "alpha = 0.05 \n",
    "\n",
    "results = st.ttest_ind(\n",
    "    not_churned['products'], \n",
    "    churned['products'],\n",
    "    equal_var=False  \n",
    ")\n",
    "\n",
    "print('p-значение:', results.pvalue)\n",
    "\n",
    "if results.pvalue < alpha:\n",
    "    print('Отвергаем нулевую гипотезу: средние количества продуктов ушедших и оставшихся клиентов отличаются')\n",
    "else:\n",
    "    print('Не получилось отвергнуть нулевую гипотезу: средние количества продуктов ушедших и оставшихся клиентов не имеет статистически значимой разницы')"
   ]
  },
  {
   "cell_type": "markdown",
   "id": "fe633572-8afc-40c1-a0cc-35ea690a57f3",
   "metadata": {},
   "source": [
    "5) **Нулевая гипотеза:** среднее количество продуктов ушедших клиентов *не больше* среднего количества продуктов оставшихся клиентов \n",
    "   \n",
    "   **Альтернативная гипотеза:** среднее количество продуктов ушедших клиентов *больше* среднего количества продуктов оставшихся клиентов "
   ]
  },
  {
   "cell_type": "code",
   "execution_count": 50,
   "id": "97958139-5fae-490d-abcd-7d52badcacdf",
   "metadata": {},
   "outputs": [
    {
     "name": "stdout",
     "output_type": "stream",
     "text": [
      "p-значение: 6.324997422030046e-72\n",
      "Отвергаем нулевую гипотезу: среднее количество продуктов ушедших клиентов больше среднего количества продуктов оставшихся клиентов\n"
     ]
    }
   ],
   "source": [
    "alpha = 0.05 \n",
    "results = st.ttest_ind(\n",
    "    churned['products'], \n",
    "    not_churned['products'],\n",
    "    equal_var=False,\n",
    "    alternative='greater'\n",
    ")\n",
    "\n",
    "print('p-значение:', results.pvalue)\n",
    "\n",
    "if results.pvalue < alpha:\n",
    "    print('Отвергаем нулевую гипотезу: среднее количество продуктов ушедших клиентов больше среднего количества продуктов оставшихся клиентов')\n",
    "else:\n",
    "    print('Не получилось отвергнуть нулевую гипотезу: средние количества продуктов ушедших и оставшихся клиентов не имеет статистически значимой разницы')"
   ]
  },
  {
   "cell_type": "markdown",
   "id": "5566d3eb-b107-47d1-ab07-a8b3c37461dd",
   "metadata": {},
   "source": [
    "**По результатам проверки статистических гипотез, мы можем сказать, что:**\n",
    "\n",
    "- средние доходы ушедших и оставшихся клиентов не имеют статистически значимой разницы\n",
    "- в среднем, ушедшие клиенты имели более высокие баллы кредитного скоринга\n",
    "- среднее количество продуктов ушедших клиентов больше среднего количества продуктов оставшихся клиентов"
   ]
  },
  {
   "cell_type": "markdown",
   "id": "53575d54-1ce4-4a6d-ab46-c14aced23a47",
   "metadata": {},
   "source": [
    "## 4) Подведём промежуточные итоги"
   ]
  },
  {
   "cell_type": "markdown",
   "id": "74c218c6-a331-44ee-aaa1-f59b17c7a116",
   "metadata": {},
   "source": [
    "**Результаты исследовательского анализа данных (EDA):**\n",
    "1)  интервалы с большим оттоком:\n",
    "    - баланс более 800 000\n",
    "    - доход 100 000 - 210 000\n",
    "    - баллы кредитного скоринга 820 - 940\n",
    "    - возраст 25 - 35 и 50 - 60\n",
    "    - баллы собственности 3 - 9\n",
    "    - количество продуктов 2 - 5\n",
    "\n",
    "2) значения признаков клиентов, более склонных к оттоку:\n",
    "    - отсутствие кредитной карты\n",
    "    - активный клиент\n",
    "    - мужчина\n",
    "    - житель Ярославля\n",
    "\n",
    "**Результаты корреляционного анализа:**\n",
    "\n",
    "- наблюдается слабая связь между оттоком и **количеством баллов собственности**; возможно, ушедшие клиенты имели больше собственности\n",
    "- также, наблюдается умеренная связь между оттоком и **количеством продуктов**; вероятно, ушедшие клиенты имели больше продуктов банка\n",
    "- можно отметить слабую отрицательную корреляцию между оттоком и пропусками в балансе клиента; возможно, у ушедших клиентов реже наблюдались пропуски в данных о балансе\n",
    "  \n",
    "**Результаты составления портретов клиентов:**\n",
    "\n",
    "*Портрет лояльного клиента:*\n",
    "\n",
    "- неактивная клиентка-женщина 43 лет из Ярославля, которая пользуется двумя продуктами банка, имеет кредитную карту, 3 балла собственности, заработную плату около 147 000, баланс около 733 000 и 845 баллов кредитного скоринга\n",
    "\n",
    "*Портрет отточного клиента:*\n",
    "\n",
    "- активный клиент-мужчина 41 года из Ярославля, который пользуется двумя продуктами банка, имеет кредитную карту, 4 балла собственности, заработную плату около 148 000, баланс около 1 134 000 и 863 баллов кредитного скоринга\n",
    "\n",
    "- также, при составлении протретов ушедших и оставшихся клиентов, наиболее явно различались: **баланс, пол и активность клиента**\n",
    "  \n",
    "**Результаты проверки статистических гипотез:**\n",
    "\n",
    "- средние доходы ушедших и оставшихся клиентов не имеют статистически значимой разницы\n",
    "- в среднем, ушедшие клиенты имели более высокие баллы кредитного скоринга\n",
    "- среднее количество продуктов ушедших клиентов больше среднего количества продуктов оставшихся клиентов\n",
    "\n",
    "**Таким образом, на сегментирующие признаки:**\n",
    "- количество баллов кредитного скоринга *(820 - 940)*\n",
    "- баланс *(более 800 000)*\n",
    "- количество продуктов *(2 - 5)*\n",
    "- количество баллов собственности *(3 - 9)*\n",
    "  \n",
    "дополнительные признаки для сегментации:\n",
    "\n",
    "- активность клиента *(активный клиент)*\n",
    "- пол *(мужской)*"
   ]
  },
  {
   "cell_type": "markdown",
   "id": "3b5ad783-35e0-467c-a82b-790811cb01f1",
   "metadata": {},
   "source": [
    "## 5) Осуществим сегментацию клиентов"
   ]
  },
  {
   "cell_type": "markdown",
   "id": "98177697-bae1-48cd-adc6-8c8cd6dc43e2",
   "metadata": {},
   "source": [
    "Для начала попробуем отфильтровать датафрейм по двум признакам, с помощью квартилей выделим группы и посмотрим на процент оттока и количество клиентов в этих группах"
   ]
  },
  {
   "cell_type": "code",
   "execution_count": 51,
   "id": "481e2c09-5ebf-4eff-b134-f8d87a4ab496",
   "metadata": {},
   "outputs": [],
   "source": [
    "df_churn = df.copy() #создадим копию даатфрейма"
   ]
  },
  {
   "cell_type": "markdown",
   "id": "a7f2b2ff-d8e1-47bc-98bf-395d3e76919f",
   "metadata": {},
   "source": [
    "Последовательно подберём признаки для срезов"
   ]
  },
  {
   "cell_type": "code",
   "execution_count": 52,
   "id": "d161a324-103b-4f6c-9511-2ae8009ac0d5",
   "metadata": {},
   "outputs": [
    {
     "name": "stdout",
     "output_type": "stream",
     "text": [
      "Сегмент 1: Процент оттока 46.16 %, Количество клиентов 1408\n"
     ]
    }
   ],
   "source": [
    "df1 = df_churn.loc[(df['equity']  >= 3) & (df_churn['last_activity'] == 1) & (df['gender_М']  == 1)]\n",
    "print('Сегмент 1: Процент оттока', round(df1['churn'].mean() *100 ,2), '%,', 'Количество клиентов', df1['userid'].count())"
   ]
  },
  {
   "cell_type": "code",
   "execution_count": 53,
   "id": "50ad1103-0e00-4573-9afc-d4894e1d59d5",
   "metadata": {},
   "outputs": [
    {
     "name": "stdout",
     "output_type": "stream",
     "text": [
      "Сегмент 2: Процент оттока 31.73 %, Количество клиентов 665\n"
     ]
    }
   ],
   "source": [
    "df2 = df_churn.loc[(df['balance'] > 800000) & (df['gender_М']  == 1) &  ~(df['userid'].isin(df1['userid']))]\n",
    "print('Сегмент 2: Процент оттока', round(df2['churn'].mean() *100 , 2), '%,', 'Количество клиентов', df2['userid'].count())"
   ]
  },
  {
   "cell_type": "code",
   "execution_count": 54,
   "id": "89cf9dc2-0d16-4ded-b4a9-7b5493547ae9",
   "metadata": {},
   "outputs": [
    {
     "name": "stdout",
     "output_type": "stream",
     "text": [
      "Сегмент 3: Процент оттока 20.78 %, Количество клиентов 2820\n"
     ]
    }
   ],
   "source": [
    "df3 = df_churn.loc[ (df['products'] >= 2) & (df_churn['score'] >= 820) & \\\n",
    "                   (df_churn['score'] <= 940)  & ~(df['userid'].isin(df1['userid'])) & ~(df['userid'].isin(df2['userid']))]\n",
    "print('Сегмент 3: Процент оттока', round(df3['churn'].mean() *100 ,2), '%,', 'Количество клиентов', df3['userid'].count())"
   ]
  },
  {
   "cell_type": "markdown",
   "id": "e8fc2462-e9da-4c00-be57-3ea3a283a20c",
   "metadata": {},
   "source": [
    "Мы видим в последнем сегменте большое количество клиентов и невысокий процент оттока, попробуем изменить ограничение по количеству продуктов (если мы вернёмся к графику доли оттока по количеству продуктов, то заметим, что при двух продуктах отток не очень отличается от среднего по банку, как уже при трёх продуктах, поэтому такое смещение интервала, как я считаю, некритично)"
   ]
  },
  {
   "cell_type": "code",
   "execution_count": 55,
   "id": "e04b762d-ac01-449a-811a-05da42e7c7a5",
   "metadata": {},
   "outputs": [
    {
     "name": "stdout",
     "output_type": "stream",
     "text": [
      "Сегмент 3: Процент оттока 34.14 %, Количество клиентов 577\n"
     ]
    }
   ],
   "source": [
    "df3 = df_churn.loc[ (df['products'] >= 3) & (df_churn['score'] >= 820) &  \\\n",
    "                   (df_churn['score'] <= 940) & ~(df['userid'].isin(df1['userid'])) & ~(df['userid'].isin(df2['userid']))]\n",
    "print('Сегмент 3: Процент оттока', round(df3['churn'].mean() *100 ,2), '%,', 'Количество клиентов', df3['userid'].count())"
   ]
  },
  {
   "cell_type": "code",
   "execution_count": 56,
   "id": "f158f2f4-545f-4792-9713-c75c72f57998",
   "metadata": {},
   "outputs": [
    {
     "name": "stdout",
     "output_type": "stream",
     "text": [
      "df1 ∩ df2: set()\n",
      "df1 ∩ df3: set()\n",
      "df2 ∩ df3: set()\n",
      "userid уникальны\n"
     ]
    }
   ],
   "source": [
    "# проверим, что userid не повторяется\n",
    "s1 = set(df1['userid'])\n",
    "s2 = set(df2['userid'])\n",
    "s3 = set(df3['userid'])\n",
    "\n",
    "# попарные пересечения\n",
    "common_12 = s1 & s2\n",
    "common_13 = s1 & s3\n",
    "common_23 = s2 & s3\n",
    "\n",
    "print(\"df1 ∩ df2:\", common_12)\n",
    "print(\"df1 ∩ df3:\", common_13)\n",
    "print(\"df2 ∩ df3:\", common_23)\n",
    "\n",
    "if not (common_12 or common_13 or common_23):\n",
    "    print(\"userid уникальны\")\n",
    "else:\n",
    "    print(\"есть дубликаты userid\")"
   ]
  },
  {
   "cell_type": "markdown",
   "id": "ba067992-df6b-4ae4-bac4-370ee18e2711",
   "metadata": {},
   "source": [
    "### Приоретизация"
   ]
  },
  {
   "cell_type": "markdown",
   "id": "19fc53ec-acda-4fe8-85e6-7ce6736286ae",
   "metadata": {},
   "source": [
    "Следует начать с клиентов из сегмента с наибольшим процентом оттока и далее по убыванию процента оттока"
   ]
  },
  {
   "cell_type": "code",
   "execution_count": 57,
   "id": "d81fa8ed-f445-4491-8aea-bfb7d367bb88",
   "metadata": {},
   "outputs": [
    {
     "name": "stdout",
     "output_type": "stream",
     "text": [
      "Первым будет сегмент 1: Процент оттока 46.16 %, Количество клиентов 1408\n",
      "Вторым будет сегмент 3: Процент оттока 34.14 %, Количество клиентов 577\n",
      "Третьим будет сегмент 2: Процент оттока 31.73 %, Количество клиентов 665\n"
     ]
    }
   ],
   "source": [
    "print('Первым будет сегмент 1: Процент оттока', round(df1['churn'].mean() *100 ,2), '%,', 'Количество клиентов', df1['userid'].count())\n",
    "print('Вторым будет сегмент 3: Процент оттока', round(df3['churn'].mean() *100 ,2), '%,', 'Количество клиентов', df3['userid'].count())\n",
    "print('Третьим будет сегмент 2: Процент оттока', round(df2['churn'].mean() *100 , 2), '%,', 'Количество клиентов', df2['userid'].count())"
   ]
  },
  {
   "cell_type": "markdown",
   "id": "b11be259-0ad2-459b-9ce1-fb9931bb98e3",
   "metadata": {},
   "source": [
    "## 6) Рекомендации"
   ]
  },
  {
   "cell_type": "markdown",
   "id": "4e6e7fca-d9eb-4652-86be-069ee2d42d92",
   "metadata": {},
   "source": [
    "1) В первый сегмент попали активные клиенты-мужчины с баллами недвижимости от 3-х и больше. Для них можно разработать партнерские программы с автосервисами или страховыми компаниями. Например, предложить скидку 10–15% на техобслуживание автомобиля через приложение банка, добавить возможность оформления страхования автомобиля прямо в мобильном приложении банка с кэшбэком 5%. Также, учитывая высокий балл недвижимости, можно предложить льготное страхование жилья (например, со скидкой 20%) и специальные условия по рефинансированию ипотеки.\n",
    "\n",
    "2) Во втором сегменте у нас клиенты-мужчины с высокими балансом (800 000 +), им можно предложить персональные увеличенные процентные ставки на вклады на определённый срок (например, +2–3% к текущей рыночной ставке на 6 месяцев) или специальные инвестиционные портфели с минимальным риском и гарантированной доходностью (например, 10–12% годовых). \n",
    "\n",
    "3) В третьем сегменте у нас клиенты, пользующиеся тремя и более продуктами банка и имеющие высокие баллы кредитного скоринга (820+). Для них можно внедрить программу лояльности для владельцев 3-х и более продуктов, где клиенты получают дополнительные баллы за использование продукта (баллы можно обменивать на скидки, кэшбэк или другие бонусы) или имеют повышенный кешбэк, или предложить льготные условия кредитования (снижение процентной ставки на 1–2%).\n",
    "\n",
    "Общая рекомендация: провести опрос и выяснить, почему банк покидают такие прибыльные клиенты (с высоким балансом, высокими баллами кредитного скоринга и тд.)"
   ]
  },
  {
   "cell_type": "markdown",
   "id": "13a65e3f-b3a0-421e-b0b4-0f10966d0973",
   "metadata": {},
   "source": [
    "# Общий вывод "
   ]
  },
  {
   "cell_type": "markdown",
   "id": "fbd795ca-808d-4f09-9774-2f5e7465b502",
   "metadata": {},
   "source": [
    "**Выводы по анализу признаков в разрезе оттока:**\n",
    "\n",
    "1) отточные интервалы:\n",
    "    - баланс более 800 000\n",
    "    - доход 100 000 - 210 000\n",
    "    - баллы кредитного скоринга 820 - 940\n",
    "    - возраст 25 - 35 и 50 - 60\n",
    "    - баллы собственности 3 - 9\n",
    "    - количество продуктов 2 - 5\n",
    "\n",
    "2) значения признаков клиентов, более склонных к оттоку:\n",
    "    - отсутствие кредитной карты\n",
    "    - активный клиент\n",
    "    - мужчина\n",
    "    - житель Ярославля\n",
    "\n",
    "**Вывводы по корреляционному анализу:**\n",
    "\n",
    "Корреляции с признаком оттока:\n",
    "- наблюдается слабая связь между оттоком и количеством баллов собственности; возможно, ушедшие клиенты имели больше собственности\n",
    "- также, наблюдается умеренная связь между оттоком и количеством продуктов; вероятно, ушедшие клиенты имели больше продуктов банка\n",
    "- можно отметить слабую отрицательную корреляцию между оттоком и пропусками в балансе клиента; возможно, у ушедших клиентов реже наблюдались пропуски в данных о балансе\n",
    "\n",
    "Корреляции между другими признаками:\n",
    "- наблюдается умеренная связь между количеством продуктов и количеством баллов собственности\n",
    "- также между балансом и оценочным доходом имеется умеренная связь\n",
    "- между наличием кредитной карты и количеством продуктов банка имеется солабая отрицательная корреляция\n",
    "- ожидаемо наблюдается слабая корреляция между количеством баллов кредитного скоринга и балансом, оценочным доходом\n",
    "- пропуски в балансе умеренно положительно коррелируют с оценочным доходом, умеренно отрицательно с количеством продуктов и сильно отрицательно с количеством баллов собственности\n",
    "\n",
    "Остальные признаки либо не коррелируют между собой, либо корреляция слабая\n",
    "\n",
    "**Результаты составления портретов клиентов:**\n",
    "\n",
    "*Портрет лояльного клиента:*\n",
    "\n",
    "- неактивная клиентка-женщина 43 лет из Ярославля, которая пользуется двумя продуктами банка, имеет кредитную карту, 3 балла собственности, заработную плату около 147 000, баланс около 733 000 и 845 баллов кредитного скоринга\n",
    "\n",
    "*Портрет отточного клиента:*\n",
    "\n",
    "- активный клиент-мужчина 41 года из Ярославля, который пользуется двумя продуктами банка, имеет кредитную карту, 4 балла собственности, заработную плату около 148 000, баланс около 1 134 000 и 863 баллов кредитного скоринга\n",
    "\n",
    "- также, при составлении протретов ушедших и оставшихся клиентов, наиболее явно различались: **баланс, пол и активность клиента**\n",
    "\n",
    "**Выводы по проверке гипотез:**\n",
    "\n",
    "- средние доходы ушедших и оставшихся клиентов не имеют статистически значимой разницы\n",
    "- в среднем, ушедшие клиенты имели более высокие баллы кредитного скоринга\n",
    "- среднее количество продуктов ушедших клиентов больше среднего количества продуктов оставшихся клиентов\n",
    "\n",
    "**Сегментация и рекомендации:**\n",
    "- Сегмент 1: Процент оттока 46.16 %, Количество клиентов 1408\n",
    "\n",
    "    В первый сегмент попали активные клиенты-мужчины с баллами недвижимости от 3-х и больше. Для них можно разработать партнерские программы с автосервисами или страховыми компаниями. Например, предложить скидку 10–15% на техобслуживание автомобиля через приложение банка, добавить возможность оформления страхования автомобиля прямо в мобильном приложении банка с кэшбэком 5%. Также, учитывая высокий балл недвижимости, можно предложить льготное страхование жилья (например, со скидкой 20%) и специальные условия по рефинансированию ипотеки.\n",
    "\n",
    "- Сегмент 2: Процент оттока 31.73 %, Количество клиентов 665\n",
    "\n",
    "    Во втором сегменте у нас клиенты-мужчины с высокими балансом (800 000 +), которым можно предложить персональные увеличенные процентные ставки на вклады на определённый срок (например, +2–3% к текущей рыночной ставке на 6 месяцев) или специальные инвестиционные портфели с минимальным риском и гарантированной доходностью (например, 10–12% годовых).\n",
    "\n",
    "- Сегмент 3: Процент оттока 34.14 %, Количество клиентов 577\n",
    "\n",
    "    В третьем сегменте у нас клиенты, пользующиеся тремя и более продуктами банка и имеющие высокие баллы кредитного скоринга (820+). Для них можно внедрить программу лояльности для владельцев 3-х и более продуктов, где клиенты получают дополнительные баллы за использование продукта (баллы можно обменивать на скидки, кэшбэк или другие бонусы) или имеют повышенный кешбэк, или предложить льготные условия кредитования (снижение процентной ставки на 1–2%).\n",
    "\n",
    "**Общие рекомендации:**\n",
    "- было большое количество пропусков в значениях баланса; необходимо выяснить причины (технические, ошибка персонала, тд) и устранить их\n",
    "- были обнаружены дубликаты userid в Рыбинске и Ярославле, вероятно, технический сбой\n",
    "- провести опрос и выяснить, почему банк покидают такие прибыльные клиенты (с высоким балансом, высокими баллами кредитного скоринга и тд.)"
   ]
  },
  {
   "cell_type": "markdown",
   "id": "e032f0be-0683-4719-b021-175017375f0f",
   "metadata": {},
   "source": [
    "## МАТЕРИАЛЫ\n",
    "Презентация: (https://disk.yandex.ru/i/kHOtk3-o5MJf7A)"
   ]
  }
 ],
 "metadata": {
  "ExecuteTimeLog": [
   {
    "duration": 1617,
    "start_time": "2025-04-26T03:28:27.568Z"
   },
   {
    "duration": 0,
    "start_time": "2025-04-26T03:28:29.188Z"
   },
   {
    "duration": 0,
    "start_time": "2025-04-26T03:28:29.189Z"
   },
   {
    "duration": 0,
    "start_time": "2025-04-26T03:28:29.191Z"
   },
   {
    "duration": 0,
    "start_time": "2025-04-26T03:28:29.192Z"
   },
   {
    "duration": 0,
    "start_time": "2025-04-26T03:28:29.193Z"
   },
   {
    "duration": 0,
    "start_time": "2025-04-26T03:28:29.194Z"
   },
   {
    "duration": 0,
    "start_time": "2025-04-26T03:28:29.196Z"
   },
   {
    "duration": 0,
    "start_time": "2025-04-26T03:28:29.197Z"
   },
   {
    "duration": 0,
    "start_time": "2025-04-26T03:28:29.198Z"
   },
   {
    "duration": 0,
    "start_time": "2025-04-26T03:28:29.199Z"
   },
   {
    "duration": 0,
    "start_time": "2025-04-26T03:28:29.200Z"
   },
   {
    "duration": 0,
    "start_time": "2025-04-26T03:28:29.201Z"
   },
   {
    "duration": 0,
    "start_time": "2025-04-26T03:28:29.202Z"
   },
   {
    "duration": 0,
    "start_time": "2025-04-26T03:28:29.203Z"
   },
   {
    "duration": 0,
    "start_time": "2025-04-26T03:28:29.205Z"
   },
   {
    "duration": 0,
    "start_time": "2025-04-26T03:28:29.206Z"
   },
   {
    "duration": 0,
    "start_time": "2025-04-26T03:28:29.207Z"
   },
   {
    "duration": 0,
    "start_time": "2025-04-26T03:28:29.208Z"
   },
   {
    "duration": 0,
    "start_time": "2025-04-26T03:28:29.209Z"
   },
   {
    "duration": 0,
    "start_time": "2025-04-26T03:28:29.210Z"
   },
   {
    "duration": 0,
    "start_time": "2025-04-26T03:28:29.211Z"
   },
   {
    "duration": 0,
    "start_time": "2025-04-26T03:28:29.212Z"
   },
   {
    "duration": 0,
    "start_time": "2025-04-26T03:28:29.214Z"
   },
   {
    "duration": 0,
    "start_time": "2025-04-26T03:28:29.214Z"
   },
   {
    "duration": 0,
    "start_time": "2025-04-26T03:28:29.216Z"
   },
   {
    "duration": 0,
    "start_time": "2025-04-26T03:28:29.217Z"
   },
   {
    "duration": 0,
    "start_time": "2025-04-26T03:28:29.218Z"
   },
   {
    "duration": 0,
    "start_time": "2025-04-26T03:28:29.219Z"
   },
   {
    "duration": 0,
    "start_time": "2025-04-26T03:28:29.220Z"
   },
   {
    "duration": 0,
    "start_time": "2025-04-26T03:28:29.221Z"
   },
   {
    "duration": 0,
    "start_time": "2025-04-26T03:28:29.276Z"
   },
   {
    "duration": 1,
    "start_time": "2025-04-26T03:28:29.277Z"
   },
   {
    "duration": 0,
    "start_time": "2025-04-26T03:28:29.278Z"
   },
   {
    "duration": 0,
    "start_time": "2025-04-26T03:28:29.280Z"
   },
   {
    "duration": 0,
    "start_time": "2025-04-26T03:28:29.281Z"
   },
   {
    "duration": 0,
    "start_time": "2025-04-26T03:28:29.282Z"
   },
   {
    "duration": 0,
    "start_time": "2025-04-26T03:28:29.283Z"
   },
   {
    "duration": 0,
    "start_time": "2025-04-26T03:28:29.284Z"
   },
   {
    "duration": 0,
    "start_time": "2025-04-26T03:28:29.285Z"
   },
   {
    "duration": 0,
    "start_time": "2025-04-26T03:28:29.286Z"
   },
   {
    "duration": 0,
    "start_time": "2025-04-26T03:28:29.287Z"
   },
   {
    "duration": 0,
    "start_time": "2025-04-26T03:28:29.288Z"
   },
   {
    "duration": 0,
    "start_time": "2025-04-26T03:28:29.289Z"
   },
   {
    "duration": 0,
    "start_time": "2025-04-26T03:28:29.290Z"
   },
   {
    "duration": 0,
    "start_time": "2025-04-26T03:28:29.291Z"
   },
   {
    "duration": 0,
    "start_time": "2025-04-26T03:28:29.292Z"
   },
   {
    "duration": 0,
    "start_time": "2025-04-26T03:28:29.292Z"
   },
   {
    "duration": 0,
    "start_time": "2025-04-26T03:28:29.293Z"
   },
   {
    "duration": 0,
    "start_time": "2025-04-26T03:28:29.294Z"
   },
   {
    "duration": 0,
    "start_time": "2025-04-26T03:28:29.295Z"
   },
   {
    "duration": 11,
    "start_time": "2025-04-26T03:30:03.235Z"
   },
   {
    "duration": 3720,
    "start_time": "2025-04-26T03:33:27.133Z"
   },
   {
    "duration": 77,
    "start_time": "2025-04-26T03:33:32.887Z"
   },
   {
    "duration": 2748,
    "start_time": "2025-04-26T03:33:40.222Z"
   },
   {
    "duration": 4,
    "start_time": "2025-04-26T03:33:42.973Z"
   },
   {
    "duration": 4,
    "start_time": "2025-04-26T03:33:53.695Z"
   },
   {
    "duration": 192,
    "start_time": "2025-04-26T03:33:53.701Z"
   },
   {
    "duration": 19,
    "start_time": "2025-04-26T03:33:53.895Z"
   },
   {
    "duration": 14,
    "start_time": "2025-04-26T03:33:53.916Z"
   },
   {
    "duration": 23,
    "start_time": "2025-04-26T03:33:53.931Z"
   },
   {
    "duration": 25,
    "start_time": "2025-04-26T03:33:53.956Z"
   },
   {
    "duration": 7,
    "start_time": "2025-04-26T03:33:53.982Z"
   },
   {
    "duration": 604,
    "start_time": "2025-04-26T03:33:53.990Z"
   },
   {
    "duration": 16,
    "start_time": "2025-04-26T03:33:54.597Z"
   },
   {
    "duration": 14,
    "start_time": "2025-04-26T03:33:54.615Z"
   },
   {
    "duration": 12,
    "start_time": "2025-04-26T03:33:54.631Z"
   },
   {
    "duration": 41,
    "start_time": "2025-04-26T03:33:54.644Z"
   },
   {
    "duration": 19,
    "start_time": "2025-04-26T03:33:54.687Z"
   },
   {
    "duration": 74,
    "start_time": "2025-04-26T03:33:54.708Z"
   },
   {
    "duration": 88,
    "start_time": "2025-04-26T03:33:54.784Z"
   },
   {
    "duration": 8,
    "start_time": "2025-04-26T03:33:54.875Z"
   },
   {
    "duration": 29,
    "start_time": "2025-04-26T03:33:54.885Z"
   },
   {
    "duration": 85,
    "start_time": "2025-04-26T03:33:54.916Z"
   },
   {
    "duration": 7,
    "start_time": "2025-04-26T03:33:55.003Z"
   },
   {
    "duration": 8,
    "start_time": "2025-04-26T03:33:55.012Z"
   },
   {
    "duration": 308,
    "start_time": "2025-04-26T03:33:55.022Z"
   },
   {
    "duration": 1532,
    "start_time": "2025-04-26T03:33:55.332Z"
   },
   {
    "duration": 265,
    "start_time": "2025-04-26T03:33:56.866Z"
   },
   {
    "duration": 327,
    "start_time": "2025-04-26T03:33:57.135Z"
   },
   {
    "duration": 608,
    "start_time": "2025-04-26T03:33:57.464Z"
   },
   {
    "duration": 644,
    "start_time": "2025-04-26T03:33:58.073Z"
   },
   {
    "duration": 535,
    "start_time": "2025-04-26T03:33:58.719Z"
   },
   {
    "duration": 292,
    "start_time": "2025-04-26T03:33:59.256Z"
   },
   {
    "duration": 342,
    "start_time": "2025-04-26T03:33:59.550Z"
   },
   {
    "duration": 331,
    "start_time": "2025-04-26T03:33:59.894Z"
   },
   {
    "duration": 305,
    "start_time": "2025-04-26T03:34:00.228Z"
   },
   {
    "duration": 303,
    "start_time": "2025-04-26T03:34:00.535Z"
   },
   {
    "duration": 1964,
    "start_time": "2025-04-26T03:34:00.841Z"
   },
   {
    "duration": 3020,
    "start_time": "2025-04-26T03:34:02.807Z"
   },
   {
    "duration": 70,
    "start_time": "2025-04-26T03:34:05.830Z"
   },
   {
    "duration": 619,
    "start_time": "2025-04-26T03:34:05.903Z"
   },
   {
    "duration": 16,
    "start_time": "2025-04-26T03:34:06.524Z"
   },
   {
    "duration": 24,
    "start_time": "2025-04-26T03:34:06.542Z"
   },
   {
    "duration": 961,
    "start_time": "2025-04-26T03:34:06.568Z"
   },
   {
    "duration": 7,
    "start_time": "2025-04-26T03:34:07.530Z"
   },
   {
    "duration": 6,
    "start_time": "2025-04-26T03:34:07.539Z"
   },
   {
    "duration": 30,
    "start_time": "2025-04-26T03:34:07.547Z"
   },
   {
    "duration": 6,
    "start_time": "2025-04-26T03:34:07.579Z"
   },
   {
    "duration": 90,
    "start_time": "2025-04-26T03:34:07.587Z"
   },
   {
    "duration": 17,
    "start_time": "2025-04-26T03:34:07.678Z"
   },
   {
    "duration": 11,
    "start_time": "2025-04-26T03:34:07.697Z"
   },
   {
    "duration": 8,
    "start_time": "2025-04-26T03:34:07.710Z"
   },
   {
    "duration": 20,
    "start_time": "2025-04-26T03:34:07.720Z"
   },
   {
    "duration": 8,
    "start_time": "2025-04-26T03:34:07.742Z"
   },
   {
    "duration": 6,
    "start_time": "2025-04-26T03:34:07.752Z"
   },
   {
    "duration": 21,
    "start_time": "2025-04-26T03:34:07.759Z"
   },
   {
    "duration": 4420,
    "start_time": "2025-04-27T00:33:41.366Z"
   },
   {
    "duration": 2980,
    "start_time": "2025-04-27T00:33:45.789Z"
   },
   {
    "duration": 237,
    "start_time": "2025-04-27T00:33:48.770Z"
   },
   {
    "duration": 22,
    "start_time": "2025-04-27T00:33:49.009Z"
   },
   {
    "duration": 15,
    "start_time": "2025-04-27T00:33:49.033Z"
   },
   {
    "duration": 18,
    "start_time": "2025-04-27T00:33:49.050Z"
   },
   {
    "duration": 40,
    "start_time": "2025-04-27T00:33:49.071Z"
   },
   {
    "duration": 7,
    "start_time": "2025-04-27T00:33:49.114Z"
   },
   {
    "duration": 581,
    "start_time": "2025-04-27T00:33:49.124Z"
   },
   {
    "duration": 15,
    "start_time": "2025-04-27T00:33:49.707Z"
   },
   {
    "duration": 14,
    "start_time": "2025-04-27T00:33:49.724Z"
   },
   {
    "duration": 16,
    "start_time": "2025-04-27T00:33:49.740Z"
   },
   {
    "duration": 10,
    "start_time": "2025-04-27T00:33:49.758Z"
   },
   {
    "duration": 48,
    "start_time": "2025-04-27T00:33:49.771Z"
   },
   {
    "duration": 9,
    "start_time": "2025-04-27T00:33:49.821Z"
   },
   {
    "duration": 12,
    "start_time": "2025-04-27T00:33:49.832Z"
   },
   {
    "duration": 6,
    "start_time": "2025-04-27T00:33:49.846Z"
   },
   {
    "duration": 56,
    "start_time": "2025-04-27T00:33:49.854Z"
   },
   {
    "duration": 59,
    "start_time": "2025-04-27T00:33:49.912Z"
   },
   {
    "duration": 6,
    "start_time": "2025-04-27T00:33:49.972Z"
   },
   {
    "duration": 27,
    "start_time": "2025-04-27T00:33:49.980Z"
   },
   {
    "duration": 356,
    "start_time": "2025-04-27T00:33:50.009Z"
   },
   {
    "duration": 1512,
    "start_time": "2025-04-27T00:33:50.367Z"
   },
   {
    "duration": 272,
    "start_time": "2025-04-27T00:33:51.881Z"
   },
   {
    "duration": 333,
    "start_time": "2025-04-27T00:33:52.155Z"
   },
   {
    "duration": 605,
    "start_time": "2025-04-27T00:33:52.490Z"
   },
   {
    "duration": 668,
    "start_time": "2025-04-27T00:33:53.096Z"
   },
   {
    "duration": 541,
    "start_time": "2025-04-27T00:33:53.766Z"
   },
   {
    "duration": 345,
    "start_time": "2025-04-27T00:33:54.309Z"
   },
   {
    "duration": 340,
    "start_time": "2025-04-27T00:33:54.656Z"
   },
   {
    "duration": 350,
    "start_time": "2025-04-27T00:33:55.005Z"
   },
   {
    "duration": 296,
    "start_time": "2025-04-27T00:33:55.357Z"
   },
   {
    "duration": 308,
    "start_time": "2025-04-27T00:33:55.655Z"
   },
   {
    "duration": 1890,
    "start_time": "2025-04-27T00:33:55.965Z"
   },
   {
    "duration": 2954,
    "start_time": "2025-04-27T00:33:57.856Z"
   },
   {
    "duration": 47,
    "start_time": "2025-04-27T00:34:00.812Z"
   },
   {
    "duration": 600,
    "start_time": "2025-04-27T00:34:00.860Z"
   },
   {
    "duration": 15,
    "start_time": "2025-04-27T00:34:01.462Z"
   },
   {
    "duration": 10,
    "start_time": "2025-04-27T00:34:01.479Z"
   },
   {
    "duration": 975,
    "start_time": "2025-04-27T00:34:01.491Z"
   },
   {
    "duration": 6,
    "start_time": "2025-04-27T00:34:02.470Z"
   },
   {
    "duration": 34,
    "start_time": "2025-04-27T00:34:02.478Z"
   },
   {
    "duration": 41,
    "start_time": "2025-04-27T00:34:02.513Z"
   },
   {
    "duration": 36,
    "start_time": "2025-04-27T00:34:02.555Z"
   },
   {
    "duration": 97,
    "start_time": "2025-04-27T00:34:02.593Z"
   },
   {
    "duration": 28,
    "start_time": "2025-04-27T00:34:02.692Z"
   },
   {
    "duration": 33,
    "start_time": "2025-04-27T00:34:02.722Z"
   },
   {
    "duration": 43,
    "start_time": "2025-04-27T00:34:02.757Z"
   },
   {
    "duration": 121,
    "start_time": "2025-04-27T00:34:02.802Z"
   },
   {
    "duration": 20,
    "start_time": "2025-04-27T00:34:02.924Z"
   },
   {
    "duration": 12,
    "start_time": "2025-04-27T00:34:02.946Z"
   },
   {
    "duration": 23,
    "start_time": "2025-04-27T00:34:02.959Z"
   },
   {
    "duration": 3635,
    "start_time": "2025-04-28T13:17:08.136Z"
   },
   {
    "duration": 1670,
    "start_time": "2025-04-28T13:17:11.775Z"
   },
   {
    "duration": 152,
    "start_time": "2025-04-28T13:17:13.447Z"
   },
   {
    "duration": 19,
    "start_time": "2025-04-28T13:17:13.601Z"
   },
   {
    "duration": 16,
    "start_time": "2025-04-28T13:17:13.622Z"
   },
   {
    "duration": 26,
    "start_time": "2025-04-28T13:17:13.640Z"
   },
   {
    "duration": 11,
    "start_time": "2025-04-28T13:17:13.669Z"
   },
   {
    "duration": 5,
    "start_time": "2025-04-28T13:17:13.682Z"
   },
   {
    "duration": 1219,
    "start_time": "2025-04-28T13:17:26.921Z"
   },
   {
    "duration": 16,
    "start_time": "2025-04-28T13:17:55.665Z"
   },
   {
    "duration": 16,
    "start_time": "2025-04-28T13:17:57.356Z"
   },
   {
    "duration": 11,
    "start_time": "2025-04-28T13:17:58.940Z"
   },
   {
    "duration": 12,
    "start_time": "2025-04-28T13:17:59.898Z"
   },
   {
    "duration": 18,
    "start_time": "2025-04-28T13:18:01.870Z"
   },
   {
    "duration": 10,
    "start_time": "2025-04-28T13:18:05.172Z"
   },
   {
    "duration": 13,
    "start_time": "2025-04-28T13:18:08.887Z"
   },
   {
    "duration": 7,
    "start_time": "2025-04-28T13:18:09.269Z"
   },
   {
    "duration": 12,
    "start_time": "2025-04-28T13:18:10.176Z"
   },
   {
    "duration": 22,
    "start_time": "2025-04-28T13:18:13.297Z"
   },
   {
    "duration": 60,
    "start_time": "2025-04-28T13:18:18.130Z"
   },
   {
    "duration": 7,
    "start_time": "2025-04-28T13:18:21.654Z"
   },
   {
    "duration": 9,
    "start_time": "2025-04-28T13:18:22.203Z"
   },
   {
    "duration": 5,
    "start_time": "2025-04-28T13:19:08.132Z"
   },
   {
    "duration": 1287,
    "start_time": "2025-04-28T13:19:19.014Z"
   },
   {
    "duration": 2107,
    "start_time": "2025-04-28T13:19:24.234Z"
   },
   {
    "duration": 1743,
    "start_time": "2025-04-28T13:19:48.433Z"
   },
   {
    "duration": 3,
    "start_time": "2025-04-28T13:20:08.487Z"
   },
   {
    "duration": 10,
    "start_time": "2025-04-28T13:20:32.911Z"
   },
   {
    "duration": 8,
    "start_time": "2025-04-28T13:20:33.875Z"
   },
   {
    "duration": 114,
    "start_time": "2025-04-28T13:20:57.083Z"
   },
   {
    "duration": 9,
    "start_time": "2025-04-28T13:23:44.681Z"
   },
   {
    "duration": 9,
    "start_time": "2025-04-28T13:24:18.055Z"
   },
   {
    "duration": 6,
    "start_time": "2025-04-28T13:24:32.015Z"
   },
   {
    "duration": 8,
    "start_time": "2025-04-28T13:24:34.619Z"
   },
   {
    "duration": 2894,
    "start_time": "2025-04-28T13:32:16.458Z"
   },
   {
    "duration": 1424,
    "start_time": "2025-04-28T13:32:19.355Z"
   },
   {
    "duration": 143,
    "start_time": "2025-04-28T13:32:20.781Z"
   },
   {
    "duration": 19,
    "start_time": "2025-04-28T13:32:20.926Z"
   },
   {
    "duration": 19,
    "start_time": "2025-04-28T13:32:20.948Z"
   },
   {
    "duration": 29,
    "start_time": "2025-04-28T13:32:20.970Z"
   },
   {
    "duration": 12,
    "start_time": "2025-04-28T13:32:21.001Z"
   },
   {
    "duration": 6,
    "start_time": "2025-04-28T13:32:21.014Z"
   },
   {
    "duration": 1180,
    "start_time": "2025-04-28T13:32:21.022Z"
   },
   {
    "duration": 16,
    "start_time": "2025-04-28T13:32:22.203Z"
   },
   {
    "duration": 14,
    "start_time": "2025-04-28T13:32:22.221Z"
   },
   {
    "duration": 41,
    "start_time": "2025-04-28T13:32:22.236Z"
   },
   {
    "duration": 10,
    "start_time": "2025-04-28T13:32:22.279Z"
   },
   {
    "duration": 18,
    "start_time": "2025-04-28T13:32:22.293Z"
   },
   {
    "duration": 10,
    "start_time": "2025-04-28T13:32:22.313Z"
   },
   {
    "duration": 49,
    "start_time": "2025-04-28T13:32:22.325Z"
   },
   {
    "duration": 7,
    "start_time": "2025-04-28T13:32:22.375Z"
   },
   {
    "duration": 18,
    "start_time": "2025-04-28T13:32:22.384Z"
   },
   {
    "duration": 23,
    "start_time": "2025-04-28T13:32:22.403Z"
   },
   {
    "duration": 84,
    "start_time": "2025-04-28T13:32:22.427Z"
   },
   {
    "duration": 6,
    "start_time": "2025-04-28T13:32:22.512Z"
   },
   {
    "duration": 32,
    "start_time": "2025-04-28T13:32:22.520Z"
   },
   {
    "duration": 323,
    "start_time": "2025-04-28T13:32:22.554Z"
   },
   {
    "duration": 1604,
    "start_time": "2025-04-28T13:32:22.879Z"
   },
   {
    "duration": 322,
    "start_time": "2025-04-28T13:32:24.486Z"
   },
   {
    "duration": 365,
    "start_time": "2025-04-28T13:32:24.810Z"
   },
   {
    "duration": 676,
    "start_time": "2025-04-28T13:32:25.177Z"
   },
   {
    "duration": 682,
    "start_time": "2025-04-28T13:32:25.855Z"
   },
   {
    "duration": 636,
    "start_time": "2025-04-28T13:32:26.539Z"
   },
   {
    "duration": 365,
    "start_time": "2025-04-28T13:32:27.177Z"
   },
   {
    "duration": 380,
    "start_time": "2025-04-28T13:32:27.544Z"
   },
   {
    "duration": 383,
    "start_time": "2025-04-28T13:32:27.926Z"
   },
   {
    "duration": 304,
    "start_time": "2025-04-28T13:32:28.311Z"
   },
   {
    "duration": 359,
    "start_time": "2025-04-28T13:32:28.617Z"
   },
   {
    "duration": 2230,
    "start_time": "2025-04-28T13:32:28.979Z"
   },
   {
    "duration": 569,
    "start_time": "2025-04-28T13:32:31.211Z"
   },
   {
    "duration": 4,
    "start_time": "2025-04-28T13:32:31.782Z"
   },
   {
    "duration": 741,
    "start_time": "2025-04-28T13:32:31.788Z"
   },
   {
    "duration": 2164,
    "start_time": "2025-04-28T13:32:32.531Z"
   },
   {
    "duration": 1350,
    "start_time": "2025-04-28T13:32:34.697Z"
   },
   {
    "duration": 64,
    "start_time": "2025-04-28T13:32:36.053Z"
   },
   {
    "duration": 656,
    "start_time": "2025-04-28T13:32:36.119Z"
   },
   {
    "duration": 16,
    "start_time": "2025-04-28T13:32:36.777Z"
   },
   {
    "duration": 85,
    "start_time": "2025-04-28T13:32:36.795Z"
   },
   {
    "duration": 972,
    "start_time": "2025-04-28T13:32:36.884Z"
   },
   {
    "duration": 15,
    "start_time": "2025-04-28T13:32:37.860Z"
   },
   {
    "duration": 6,
    "start_time": "2025-04-28T13:32:37.877Z"
   },
   {
    "duration": 7,
    "start_time": "2025-04-28T13:32:37.885Z"
   },
   {
    "duration": 6,
    "start_time": "2025-04-28T13:32:37.894Z"
   },
   {
    "duration": 6,
    "start_time": "2025-04-28T13:32:37.902Z"
   },
   {
    "duration": 3,
    "start_time": "2025-04-28T13:32:37.910Z"
   },
   {
    "duration": 7,
    "start_time": "2025-04-28T13:32:37.915Z"
   },
   {
    "duration": 55,
    "start_time": "2025-04-28T13:32:37.924Z"
   },
   {
    "duration": 92,
    "start_time": "2025-04-28T13:32:37.981Z"
   },
   {
    "duration": 13,
    "start_time": "2025-04-28T13:32:38.075Z"
   },
   {
    "duration": 6,
    "start_time": "2025-04-28T13:32:38.090Z"
   },
   {
    "duration": 13,
    "start_time": "2025-04-28T13:32:38.097Z"
   }
  ],
  "kernelspec": {
   "display_name": "Python 3 (ipykernel)",
   "language": "python",
   "name": "python3"
  },
  "language_info": {
   "codemirror_mode": {
    "name": "ipython",
    "version": 3
   },
   "file_extension": ".py",
   "mimetype": "text/x-python",
   "name": "python",
   "nbconvert_exporter": "python",
   "pygments_lexer": "ipython3",
   "version": "3.13.5"
  },
  "toc": {
   "base_numbering": 1,
   "nav_menu": {},
   "number_sections": true,
   "sideBar": true,
   "skip_h1_title": true,
   "title_cell": "Table of Contents",
   "title_sidebar": "Contents",
   "toc_cell": false,
   "toc_position": {},
   "toc_section_display": true,
   "toc_window_display": false
  }
 },
 "nbformat": 4,
 "nbformat_minor": 5
}
