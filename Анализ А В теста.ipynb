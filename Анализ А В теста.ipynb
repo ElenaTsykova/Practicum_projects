{
 "cells": [
  {
   "cell_type": "markdown",
   "id": "50a9d132-7b23-45a3-b67c-d75854f3b8dc",
   "metadata": {},
   "source": [
    "# Анализ А/В теста"
   ]
  },
  {
   "cell_type": "markdown",
   "id": "0a56e945-6937-4278-a0e1-75ff88e73746",
   "metadata": {},
   "source": [
    "Необходимо проанализировать данные и проверить некоторые гипотезы, которые могут помочь увеличить выручку интернет-магазина. \n",
    "\n",
    "Для этого выполним следующие шаги:\n",
    "\n",
    "1. Загрузим данные и подготовим их к анализу\n",
    "2. Выполним исследовательский анализ данных\n",
    "3. Приоретизируем гипотезы\n",
    "4. Проанализируем результаты A/B-теста\n",
    "   "
   ]
  },
  {
   "cell_type": "markdown",
   "id": "aecd68b0-b9f7-4f2c-a505-8361b6544c49",
   "metadata": {},
   "source": [
    "### Загрузим данные и подготовим их к анализу"
   ]
  },
  {
   "cell_type": "code",
   "execution_count": 1,
   "id": "37c1de6b-1eec-4f26-9547-61413141c7d2",
   "metadata": {},
   "outputs": [],
   "source": [
    "import pandas as pd\n",
    "import numpy as np\n",
    "import seaborn as sns\n",
    "from datetime import datetime, timedelta\n",
    "from matplotlib import pyplot as plt\n",
    "from scipy import stats as st "
   ]
  },
  {
   "cell_type": "code",
   "execution_count": 2,
   "id": "648cec4b-f07b-4744-9162-3ce527521a92",
   "metadata": {},
   "outputs": [],
   "source": [
    "try:\n",
    "    hypothesis = pd.read_csv(r\"C:\\Users\\tsyko\\Downloads\\hypothesis.csv\", sep=',')\n",
    "    orders = pd.read_csv(r\"C:\\Users\\tsyko\\Downloads\\orders.csv\", sep=',')\n",
    "    visitors = pd.read_csv(r\"C:\\Users\\tsyko\\Downloads\\visitors.csv\", sep=',')\n",
    "except:\n",
    "    hypothesis  = pd.read_csv(\"https://code.s3.yandex.net/datasets/hypothesis.csv\", sep=',')\n",
    "    orders = pd.read_csv(\"https://code.s3.yandex.net/datasets/orders.csv\", sep=',')\n",
    "    visitors = pd.read_csv(\"https://code.s3.yandex.net/datasets/visitors.csv\", sep=',')"
   ]
  },
  {
   "cell_type": "code",
   "execution_count": 3,
   "id": "460ee9e0-a82f-47e5-9dd2-eaf45dfec7b6",
   "metadata": {},
   "outputs": [
    {
     "data": {
      "text/html": [
       "<div>\n",
       "<style scoped>\n",
       "    .dataframe tbody tr th:only-of-type {\n",
       "        vertical-align: middle;\n",
       "    }\n",
       "\n",
       "    .dataframe tbody tr th {\n",
       "        vertical-align: top;\n",
       "    }\n",
       "\n",
       "    .dataframe thead th {\n",
       "        text-align: right;\n",
       "    }\n",
       "</style>\n",
       "<table border=\"1\" class=\"dataframe\">\n",
       "  <thead>\n",
       "    <tr style=\"text-align: right;\">\n",
       "      <th></th>\n",
       "      <th>Hypothesis</th>\n",
       "      <th>Reach</th>\n",
       "      <th>Impact</th>\n",
       "      <th>Confidence</th>\n",
       "      <th>Efforts</th>\n",
       "    </tr>\n",
       "  </thead>\n",
       "  <tbody>\n",
       "    <tr>\n",
       "      <th>0</th>\n",
       "      <td>Добавить два новых канала привлечения трафика,...</td>\n",
       "      <td>3</td>\n",
       "      <td>10</td>\n",
       "      <td>8</td>\n",
       "      <td>6</td>\n",
       "    </tr>\n",
       "    <tr>\n",
       "      <th>1</th>\n",
       "      <td>Запустить собственную службу доставки, что сок...</td>\n",
       "      <td>2</td>\n",
       "      <td>5</td>\n",
       "      <td>4</td>\n",
       "      <td>10</td>\n",
       "    </tr>\n",
       "    <tr>\n",
       "      <th>2</th>\n",
       "      <td>Добавить блоки рекомендаций товаров на сайт ин...</td>\n",
       "      <td>8</td>\n",
       "      <td>3</td>\n",
       "      <td>7</td>\n",
       "      <td>3</td>\n",
       "    </tr>\n",
       "    <tr>\n",
       "      <th>3</th>\n",
       "      <td>Изменить структура категорий, что увеличит кон...</td>\n",
       "      <td>8</td>\n",
       "      <td>3</td>\n",
       "      <td>3</td>\n",
       "      <td>8</td>\n",
       "    </tr>\n",
       "    <tr>\n",
       "      <th>4</th>\n",
       "      <td>Изменить цвет фона главной страницы, чтобы уве...</td>\n",
       "      <td>3</td>\n",
       "      <td>1</td>\n",
       "      <td>1</td>\n",
       "      <td>1</td>\n",
       "    </tr>\n",
       "    <tr>\n",
       "      <th>5</th>\n",
       "      <td>Добавить страницу отзывов клиентов о магазине,...</td>\n",
       "      <td>3</td>\n",
       "      <td>2</td>\n",
       "      <td>2</td>\n",
       "      <td>3</td>\n",
       "    </tr>\n",
       "    <tr>\n",
       "      <th>6</th>\n",
       "      <td>Показать на главной странице баннеры с актуаль...</td>\n",
       "      <td>5</td>\n",
       "      <td>3</td>\n",
       "      <td>8</td>\n",
       "      <td>3</td>\n",
       "    </tr>\n",
       "    <tr>\n",
       "      <th>7</th>\n",
       "      <td>Добавить форму подписки на все основные страни...</td>\n",
       "      <td>10</td>\n",
       "      <td>7</td>\n",
       "      <td>8</td>\n",
       "      <td>5</td>\n",
       "    </tr>\n",
       "    <tr>\n",
       "      <th>8</th>\n",
       "      <td>Запустить акцию, дающую скидку на товар в день...</td>\n",
       "      <td>1</td>\n",
       "      <td>9</td>\n",
       "      <td>9</td>\n",
       "      <td>5</td>\n",
       "    </tr>\n",
       "  </tbody>\n",
       "</table>\n",
       "</div>"
      ],
      "text/plain": [
       "                                          Hypothesis  Reach  Impact  \\\n",
       "0  Добавить два новых канала привлечения трафика,...      3      10   \n",
       "1  Запустить собственную службу доставки, что сок...      2       5   \n",
       "2  Добавить блоки рекомендаций товаров на сайт ин...      8       3   \n",
       "3  Изменить структура категорий, что увеличит кон...      8       3   \n",
       "4  Изменить цвет фона главной страницы, чтобы уве...      3       1   \n",
       "5  Добавить страницу отзывов клиентов о магазине,...      3       2   \n",
       "6  Показать на главной странице баннеры с актуаль...      5       3   \n",
       "7  Добавить форму подписки на все основные страни...     10       7   \n",
       "8  Запустить акцию, дающую скидку на товар в день...      1       9   \n",
       "\n",
       "   Confidence  Efforts  \n",
       "0           8        6  \n",
       "1           4       10  \n",
       "2           7        3  \n",
       "3           3        8  \n",
       "4           1        1  \n",
       "5           2        3  \n",
       "6           8        3  \n",
       "7           8        5  \n",
       "8           9        5  "
      ]
     },
     "execution_count": 3,
     "metadata": {},
     "output_type": "execute_result"
    }
   ],
   "source": [
    "hypothesis"
   ]
  },
  {
   "cell_type": "code",
   "execution_count": 4,
   "id": "5892befd-75f3-4f11-8dd0-d2e7d6ba1ac3",
   "metadata": {},
   "outputs": [
    {
     "name": "stdout",
     "output_type": "stream",
     "text": [
      "<class 'pandas.core.frame.DataFrame'>\n",
      "RangeIndex: 9 entries, 0 to 8\n",
      "Data columns (total 5 columns):\n",
      " #   Column      Non-Null Count  Dtype \n",
      "---  ------      --------------  ----- \n",
      " 0   Hypothesis  9 non-null      object\n",
      " 1   Reach       9 non-null      int64 \n",
      " 2   Impact      9 non-null      int64 \n",
      " 3   Confidence  9 non-null      int64 \n",
      " 4   Efforts     9 non-null      int64 \n",
      "dtypes: int64(4), object(1)\n",
      "memory usage: 488.0+ bytes\n"
     ]
    }
   ],
   "source": [
    "hypothesis.info()"
   ]
  },
  {
   "cell_type": "markdown",
   "id": "6de6bc16-f3bc-4a3e-b82a-81e13bd99965",
   "metadata": {},
   "source": [
    "Всё хорошо, типы данных корректны, пропусков нет"
   ]
  },
  {
   "cell_type": "code",
   "execution_count": 5,
   "id": "28f63a91-4d38-4196-aed5-9e71b2896993",
   "metadata": {},
   "outputs": [
    {
     "data": {
      "text/html": [
       "<div>\n",
       "<style scoped>\n",
       "    .dataframe tbody tr th:only-of-type {\n",
       "        vertical-align: middle;\n",
       "    }\n",
       "\n",
       "    .dataframe tbody tr th {\n",
       "        vertical-align: top;\n",
       "    }\n",
       "\n",
       "    .dataframe thead th {\n",
       "        text-align: right;\n",
       "    }\n",
       "</style>\n",
       "<table border=\"1\" class=\"dataframe\">\n",
       "  <thead>\n",
       "    <tr style=\"text-align: right;\">\n",
       "      <th></th>\n",
       "      <th>transactionId</th>\n",
       "      <th>visitorId</th>\n",
       "      <th>date</th>\n",
       "      <th>revenue</th>\n",
       "      <th>group</th>\n",
       "    </tr>\n",
       "  </thead>\n",
       "  <tbody>\n",
       "    <tr>\n",
       "      <th>0</th>\n",
       "      <td>3667963787</td>\n",
       "      <td>3312258926</td>\n",
       "      <td>2019-08-15</td>\n",
       "      <td>1650</td>\n",
       "      <td>B</td>\n",
       "    </tr>\n",
       "    <tr>\n",
       "      <th>1</th>\n",
       "      <td>2804400009</td>\n",
       "      <td>3642806036</td>\n",
       "      <td>2019-08-15</td>\n",
       "      <td>730</td>\n",
       "      <td>B</td>\n",
       "    </tr>\n",
       "    <tr>\n",
       "      <th>2</th>\n",
       "      <td>2961555356</td>\n",
       "      <td>4069496402</td>\n",
       "      <td>2019-08-15</td>\n",
       "      <td>400</td>\n",
       "      <td>A</td>\n",
       "    </tr>\n",
       "    <tr>\n",
       "      <th>3</th>\n",
       "      <td>3797467345</td>\n",
       "      <td>1196621759</td>\n",
       "      <td>2019-08-15</td>\n",
       "      <td>9759</td>\n",
       "      <td>B</td>\n",
       "    </tr>\n",
       "    <tr>\n",
       "      <th>4</th>\n",
       "      <td>2282983706</td>\n",
       "      <td>2322279887</td>\n",
       "      <td>2019-08-15</td>\n",
       "      <td>2308</td>\n",
       "      <td>B</td>\n",
       "    </tr>\n",
       "    <tr>\n",
       "      <th>...</th>\n",
       "      <td>...</td>\n",
       "      <td>...</td>\n",
       "      <td>...</td>\n",
       "      <td>...</td>\n",
       "      <td>...</td>\n",
       "    </tr>\n",
       "    <tr>\n",
       "      <th>1192</th>\n",
       "      <td>2662137336</td>\n",
       "      <td>3733762160</td>\n",
       "      <td>2019-08-14</td>\n",
       "      <td>6490</td>\n",
       "      <td>B</td>\n",
       "    </tr>\n",
       "    <tr>\n",
       "      <th>1193</th>\n",
       "      <td>2203539145</td>\n",
       "      <td>370388673</td>\n",
       "      <td>2019-08-14</td>\n",
       "      <td>3190</td>\n",
       "      <td>A</td>\n",
       "    </tr>\n",
       "    <tr>\n",
       "      <th>1194</th>\n",
       "      <td>1807773912</td>\n",
       "      <td>573423106</td>\n",
       "      <td>2019-08-14</td>\n",
       "      <td>10550</td>\n",
       "      <td>A</td>\n",
       "    </tr>\n",
       "    <tr>\n",
       "      <th>1195</th>\n",
       "      <td>1947021204</td>\n",
       "      <td>1614305549</td>\n",
       "      <td>2019-08-14</td>\n",
       "      <td>100</td>\n",
       "      <td>A</td>\n",
       "    </tr>\n",
       "    <tr>\n",
       "      <th>1196</th>\n",
       "      <td>3936777065</td>\n",
       "      <td>2108080724</td>\n",
       "      <td>2019-08-15</td>\n",
       "      <td>202740</td>\n",
       "      <td>B</td>\n",
       "    </tr>\n",
       "  </tbody>\n",
       "</table>\n",
       "<p>1197 rows × 5 columns</p>\n",
       "</div>"
      ],
      "text/plain": [
       "      transactionId   visitorId        date  revenue group\n",
       "0        3667963787  3312258926  2019-08-15     1650     B\n",
       "1        2804400009  3642806036  2019-08-15      730     B\n",
       "2        2961555356  4069496402  2019-08-15      400     A\n",
       "3        3797467345  1196621759  2019-08-15     9759     B\n",
       "4        2282983706  2322279887  2019-08-15     2308     B\n",
       "...             ...         ...         ...      ...   ...\n",
       "1192     2662137336  3733762160  2019-08-14     6490     B\n",
       "1193     2203539145   370388673  2019-08-14     3190     A\n",
       "1194     1807773912   573423106  2019-08-14    10550     A\n",
       "1195     1947021204  1614305549  2019-08-14      100     A\n",
       "1196     3936777065  2108080724  2019-08-15   202740     B\n",
       "\n",
       "[1197 rows x 5 columns]"
      ]
     },
     "execution_count": 5,
     "metadata": {},
     "output_type": "execute_result"
    }
   ],
   "source": [
    "orders"
   ]
  },
  {
   "cell_type": "code",
   "execution_count": 6,
   "id": "c8d74cbd-f000-44c3-bf03-24ce59ae05ca",
   "metadata": {},
   "outputs": [
    {
     "name": "stdout",
     "output_type": "stream",
     "text": [
      "<class 'pandas.core.frame.DataFrame'>\n",
      "RangeIndex: 1197 entries, 0 to 1196\n",
      "Data columns (total 5 columns):\n",
      " #   Column         Non-Null Count  Dtype \n",
      "---  ------         --------------  ----- \n",
      " 0   transactionId  1197 non-null   int64 \n",
      " 1   visitorId      1197 non-null   int64 \n",
      " 2   date           1197 non-null   object\n",
      " 3   revenue        1197 non-null   int64 \n",
      " 4   group          1197 non-null   object\n",
      "dtypes: int64(3), object(2)\n",
      "memory usage: 46.9+ KB\n"
     ]
    }
   ],
   "source": [
    "orders.info()"
   ]
  },
  {
   "cell_type": "code",
   "execution_count": 7,
   "id": "cc27d910-fb3a-4083-b3eb-4a5c69c35538",
   "metadata": {},
   "outputs": [
    {
     "name": "stdout",
     "output_type": "stream",
     "text": [
      "<class 'pandas.core.frame.DataFrame'>\n",
      "RangeIndex: 1197 entries, 0 to 1196\n",
      "Data columns (total 5 columns):\n",
      " #   Column         Non-Null Count  Dtype         \n",
      "---  ------         --------------  -----         \n",
      " 0   transactionId  1197 non-null   int64         \n",
      " 1   visitorId      1197 non-null   int64         \n",
      " 2   date           1197 non-null   datetime64[ns]\n",
      " 3   revenue        1197 non-null   int64         \n",
      " 4   group          1197 non-null   object        \n",
      "dtypes: datetime64[ns](1), int64(3), object(1)\n",
      "memory usage: 46.9+ KB\n"
     ]
    }
   ],
   "source": [
    "orders['date'] = pd.to_datetime(orders['date'], format='%Y-%m-%d')\n",
    "orders.info()"
   ]
  },
  {
   "cell_type": "markdown",
   "id": "9079b66d-9337-427b-b849-575b0c9cdb9d",
   "metadata": {},
   "source": [
    "Теперь типы данных корректны "
   ]
  },
  {
   "cell_type": "code",
   "execution_count": 8,
   "id": "618e7bc3-b25c-4f1f-a52d-6ba1977afd9e",
   "metadata": {},
   "outputs": [
    {
     "data": {
      "text/html": [
       "<div>\n",
       "<style scoped>\n",
       "    .dataframe tbody tr th:only-of-type {\n",
       "        vertical-align: middle;\n",
       "    }\n",
       "\n",
       "    .dataframe tbody tr th {\n",
       "        vertical-align: top;\n",
       "    }\n",
       "\n",
       "    .dataframe thead th {\n",
       "        text-align: right;\n",
       "    }\n",
       "</style>\n",
       "<table border=\"1\" class=\"dataframe\">\n",
       "  <thead>\n",
       "    <tr style=\"text-align: right;\">\n",
       "      <th></th>\n",
       "      <th>transactionId</th>\n",
       "      <th>visitorId</th>\n",
       "      <th>revenue</th>\n",
       "    </tr>\n",
       "  </thead>\n",
       "  <tbody>\n",
       "    <tr>\n",
       "      <th>count</th>\n",
       "      <td>1.197000e+03</td>\n",
       "      <td>1.197000e+03</td>\n",
       "      <td>1.197000e+03</td>\n",
       "    </tr>\n",
       "    <tr>\n",
       "      <th>mean</th>\n",
       "      <td>2.155621e+09</td>\n",
       "      <td>2.165960e+09</td>\n",
       "      <td>8.348006e+03</td>\n",
       "    </tr>\n",
       "    <tr>\n",
       "      <th>std</th>\n",
       "      <td>1.229085e+09</td>\n",
       "      <td>1.236014e+09</td>\n",
       "      <td>3.919113e+04</td>\n",
       "    </tr>\n",
       "    <tr>\n",
       "      <th>min</th>\n",
       "      <td>1.062393e+06</td>\n",
       "      <td>5.114589e+06</td>\n",
       "      <td>5.000000e+01</td>\n",
       "    </tr>\n",
       "    <tr>\n",
       "      <th>25%</th>\n",
       "      <td>1.166776e+09</td>\n",
       "      <td>1.111826e+09</td>\n",
       "      <td>1.220000e+03</td>\n",
       "    </tr>\n",
       "    <tr>\n",
       "      <th>50%</th>\n",
       "      <td>2.145194e+09</td>\n",
       "      <td>2.217985e+09</td>\n",
       "      <td>2.978000e+03</td>\n",
       "    </tr>\n",
       "    <tr>\n",
       "      <th>75%</th>\n",
       "      <td>3.237740e+09</td>\n",
       "      <td>3.177606e+09</td>\n",
       "      <td>8.290000e+03</td>\n",
       "    </tr>\n",
       "    <tr>\n",
       "      <th>max</th>\n",
       "      <td>4.293856e+09</td>\n",
       "      <td>4.283872e+09</td>\n",
       "      <td>1.294500e+06</td>\n",
       "    </tr>\n",
       "  </tbody>\n",
       "</table>\n",
       "</div>"
      ],
      "text/plain": [
       "       transactionId     visitorId       revenue\n",
       "count   1.197000e+03  1.197000e+03  1.197000e+03\n",
       "mean    2.155621e+09  2.165960e+09  8.348006e+03\n",
       "std     1.229085e+09  1.236014e+09  3.919113e+04\n",
       "min     1.062393e+06  5.114589e+06  5.000000e+01\n",
       "25%     1.166776e+09  1.111826e+09  1.220000e+03\n",
       "50%     2.145194e+09  2.217985e+09  2.978000e+03\n",
       "75%     3.237740e+09  3.177606e+09  8.290000e+03\n",
       "max     4.293856e+09  4.283872e+09  1.294500e+06"
      ]
     },
     "execution_count": 8,
     "metadata": {},
     "output_type": "execute_result"
    }
   ],
   "source": [
    "orders.describe()"
   ]
  },
  {
   "cell_type": "markdown",
   "id": "6ae16d0a-412e-40d3-9a0b-c7393a73d8b7",
   "metadata": {},
   "source": [
    "Можно заметить, что у нас имеются данные за один месяц - август 2019 года, а также в данных есть аномальные значение, тк 75% выручки от заказа не более 8 000, при этом максимальное значение 1 294 500"
   ]
  },
  {
   "cell_type": "code",
   "execution_count": 9,
   "id": "7bb606e8-2b4e-4f26-8379-23458e6bdaec",
   "metadata": {},
   "outputs": [
    {
     "data": {
      "text/html": [
       "<div>\n",
       "<style scoped>\n",
       "    .dataframe tbody tr th:only-of-type {\n",
       "        vertical-align: middle;\n",
       "    }\n",
       "\n",
       "    .dataframe tbody tr th {\n",
       "        vertical-align: top;\n",
       "    }\n",
       "\n",
       "    .dataframe thead th {\n",
       "        text-align: right;\n",
       "    }\n",
       "</style>\n",
       "<table border=\"1\" class=\"dataframe\">\n",
       "  <thead>\n",
       "    <tr style=\"text-align: right;\">\n",
       "      <th></th>\n",
       "      <th>date</th>\n",
       "      <th>group</th>\n",
       "      <th>visitors</th>\n",
       "    </tr>\n",
       "  </thead>\n",
       "  <tbody>\n",
       "    <tr>\n",
       "      <th>0</th>\n",
       "      <td>2019-08-01</td>\n",
       "      <td>A</td>\n",
       "      <td>719</td>\n",
       "    </tr>\n",
       "    <tr>\n",
       "      <th>1</th>\n",
       "      <td>2019-08-02</td>\n",
       "      <td>A</td>\n",
       "      <td>619</td>\n",
       "    </tr>\n",
       "    <tr>\n",
       "      <th>2</th>\n",
       "      <td>2019-08-03</td>\n",
       "      <td>A</td>\n",
       "      <td>507</td>\n",
       "    </tr>\n",
       "    <tr>\n",
       "      <th>3</th>\n",
       "      <td>2019-08-04</td>\n",
       "      <td>A</td>\n",
       "      <td>717</td>\n",
       "    </tr>\n",
       "    <tr>\n",
       "      <th>4</th>\n",
       "      <td>2019-08-05</td>\n",
       "      <td>A</td>\n",
       "      <td>756</td>\n",
       "    </tr>\n",
       "    <tr>\n",
       "      <th>...</th>\n",
       "      <td>...</td>\n",
       "      <td>...</td>\n",
       "      <td>...</td>\n",
       "    </tr>\n",
       "    <tr>\n",
       "      <th>57</th>\n",
       "      <td>2019-08-27</td>\n",
       "      <td>B</td>\n",
       "      <td>720</td>\n",
       "    </tr>\n",
       "    <tr>\n",
       "      <th>58</th>\n",
       "      <td>2019-08-28</td>\n",
       "      <td>B</td>\n",
       "      <td>654</td>\n",
       "    </tr>\n",
       "    <tr>\n",
       "      <th>59</th>\n",
       "      <td>2019-08-29</td>\n",
       "      <td>B</td>\n",
       "      <td>531</td>\n",
       "    </tr>\n",
       "    <tr>\n",
       "      <th>60</th>\n",
       "      <td>2019-08-30</td>\n",
       "      <td>B</td>\n",
       "      <td>490</td>\n",
       "    </tr>\n",
       "    <tr>\n",
       "      <th>61</th>\n",
       "      <td>2019-08-31</td>\n",
       "      <td>B</td>\n",
       "      <td>718</td>\n",
       "    </tr>\n",
       "  </tbody>\n",
       "</table>\n",
       "<p>62 rows × 3 columns</p>\n",
       "</div>"
      ],
      "text/plain": [
       "          date group  visitors\n",
       "0   2019-08-01     A       719\n",
       "1   2019-08-02     A       619\n",
       "2   2019-08-03     A       507\n",
       "3   2019-08-04     A       717\n",
       "4   2019-08-05     A       756\n",
       "..         ...   ...       ...\n",
       "57  2019-08-27     B       720\n",
       "58  2019-08-28     B       654\n",
       "59  2019-08-29     B       531\n",
       "60  2019-08-30     B       490\n",
       "61  2019-08-31     B       718\n",
       "\n",
       "[62 rows x 3 columns]"
      ]
     },
     "execution_count": 9,
     "metadata": {},
     "output_type": "execute_result"
    }
   ],
   "source": [
    "visitors"
   ]
  },
  {
   "cell_type": "code",
   "execution_count": 10,
   "id": "d139c2a8-6275-40cf-b3f2-64c0f8bc623e",
   "metadata": {},
   "outputs": [
    {
     "name": "stdout",
     "output_type": "stream",
     "text": [
      "<class 'pandas.core.frame.DataFrame'>\n",
      "RangeIndex: 62 entries, 0 to 61\n",
      "Data columns (total 3 columns):\n",
      " #   Column    Non-Null Count  Dtype \n",
      "---  ------    --------------  ----- \n",
      " 0   date      62 non-null     object\n",
      " 1   group     62 non-null     object\n",
      " 2   visitors  62 non-null     int64 \n",
      "dtypes: int64(1), object(2)\n",
      "memory usage: 1.6+ KB\n"
     ]
    }
   ],
   "source": [
    "visitors.info()"
   ]
  },
  {
   "cell_type": "code",
   "execution_count": 11,
   "id": "2f701ee7-45fc-482b-afef-018c2c350332",
   "metadata": {},
   "outputs": [
    {
     "name": "stdout",
     "output_type": "stream",
     "text": [
      "<class 'pandas.core.frame.DataFrame'>\n",
      "RangeIndex: 62 entries, 0 to 61\n",
      "Data columns (total 3 columns):\n",
      " #   Column    Non-Null Count  Dtype         \n",
      "---  ------    --------------  -----         \n",
      " 0   date      62 non-null     datetime64[ns]\n",
      " 1   group     62 non-null     object        \n",
      " 2   visitors  62 non-null     int64         \n",
      "dtypes: datetime64[ns](1), int64(1), object(1)\n",
      "memory usage: 1.6+ KB\n"
     ]
    }
   ],
   "source": [
    "visitors['date'] = pd.to_datetime(visitors['date'], format='%Y-%m-%d')\n",
    "visitors.info()"
   ]
  },
  {
   "cell_type": "markdown",
   "id": "333c2663-f4ec-4562-9926-402275e64a2a",
   "metadata": {},
   "source": [
    "Снова преобразовали тип данных столбца с датой к соответствующему типу"
   ]
  },
  {
   "cell_type": "markdown",
   "id": "287fcf2d-94b9-4bcf-b5b9-826a65c0fe88",
   "metadata": {},
   "source": [
    "Теперь проверим данные на наличие дубликатов"
   ]
  },
  {
   "cell_type": "code",
   "execution_count": 12,
   "id": "e2a69f1a-3afb-4b01-bcf5-a405ebfe9b61",
   "metadata": {},
   "outputs": [
    {
     "data": {
      "text/plain": [
       "0"
      ]
     },
     "execution_count": 12,
     "metadata": {},
     "output_type": "execute_result"
    }
   ],
   "source": [
    "orders.duplicated().sum()"
   ]
  },
  {
   "cell_type": "code",
   "execution_count": 13,
   "id": "0ff161ad-2f81-4979-bef9-2209afda3dc3",
   "metadata": {},
   "outputs": [
    {
     "data": {
      "text/plain": [
       "0"
      ]
     },
     "execution_count": 13,
     "metadata": {},
     "output_type": "execute_result"
    }
   ],
   "source": [
    "visitors.duplicated().sum()"
   ]
  },
  {
   "cell_type": "markdown",
   "id": "291be1cf-c340-4597-bf02-088c3d18f22f",
   "metadata": {},
   "source": [
    "Отлично! Дубликатов нет!"
   ]
  },
  {
   "cell_type": "markdown",
   "id": "c6073ee8-4f48-42fd-bc07-3e3a5a187b79",
   "metadata": {},
   "source": [
    "Выводы по разделу первичного анализа и предобработки данных:\n",
    "\n",
    "- в данных не было пропусков и дубликатов\n",
    "\n",
    "- исправили типы данных с датой"
   ]
  },
  {
   "cell_type": "markdown",
   "id": "ae7d318d-05d7-4ce8-94bf-1a894110fd33",
   "metadata": {},
   "source": [
    "Также дополнительно проверим, не попали ли одни и те же пользователи в обе группы"
   ]
  },
  {
   "cell_type": "code",
   "execution_count": 14,
   "id": "f2f1db8a-dae9-4faf-ba68-89fa526f70e1",
   "metadata": {},
   "outputs": [
    {
     "name": "stdout",
     "output_type": "stream",
     "text": [
      "[3957174400, 3984495233, 2780786433, 1294878855, 1648269707, 1614305549, 4120364173, 232979603, 199603092, 4266935830, 2712142231, 2587333274, 2716752286, 3891541246, 1668030113, 2654030115, 3234906277, 1230306981, 1404934699, 3803269165, 2949041841, 237748145, 457167155, 2927087541, 1738359350, 3062433592, 3656415546, 818047933, 393266494, 963407295, 471551937, 2579882178, 3202540741, 2686716486, 1333886533, 2044997962, 3941795274, 1801183820, 2378935119, 4256040402, 4069496402, 3766097110, 8300375, 351125977, 1602967004, 276558944, 2038680547, 3951559397, 3963646447, 4186807279, 3717692402, 1959144690, 2458001652, 2600415354, 2954449915, 1316129916, 477780734, 3972127743]\n"
     ]
    }
   ],
   "source": [
    "# создадим список id пользователей, которые находятся в группе A\n",
    "id_in_A = orders[orders['group'] == 'A']['visitorId'].unique()\n",
    "\n",
    "# создадим список id пользователей, которые находятся в группе B\n",
    "id_in_B = orders[orders['group'] == 'B']['visitorId'].unique()\n",
    "\n",
    "# посмотрим id пользователей, которые присутствуют в обоих списках\n",
    "both = list(set(id_in_A) & set(id_in_B))\n",
    "\n",
    "print(both)"
   ]
  },
  {
   "cell_type": "code",
   "execution_count": 15,
   "id": "c67863a5-4a64-43ec-b6b9-b1d297696055",
   "metadata": {},
   "outputs": [
    {
     "name": "stdout",
     "output_type": "stream",
     "text": [
      "Количество id, которые попали в обе группы: 58\n"
     ]
    }
   ],
   "source": [
    "print('Количество id, которые попали в обе группы:', len(both))"
   ]
  },
  {
   "cell_type": "code",
   "execution_count": 16,
   "id": "0256585a-4c84-4224-b084-2128ca5b5a95",
   "metadata": {},
   "outputs": [
    {
     "name": "stdout",
     "output_type": "stream",
     "text": [
      "Процент id, которые попали в обе группы, от общего числа id: 5.6\n"
     ]
    }
   ],
   "source": [
    "print('Процент id, которые попали в обе группы, от общего числа id:', round(len(both) / len(orders['visitorId'].unique()) * 100, 1))"
   ]
  },
  {
   "cell_type": "code",
   "execution_count": 17,
   "id": "5caa9613-7624-4dbd-b51e-fdb7f94e734b",
   "metadata": {},
   "outputs": [],
   "source": [
    "orders = orders[~orders['visitorId'].isin(both)]"
   ]
  },
  {
   "cell_type": "code",
   "execution_count": 18,
   "id": "d6dfd72d-8db0-4cf1-99b7-52850ce25ec5",
   "metadata": {
    "scrolled": true
   },
   "outputs": [
    {
     "name": "stdout",
     "output_type": "stream",
     "text": [
      "Количество id, которые попали в обе группы: 0\n"
     ]
    }
   ],
   "source": [
    "# проверим удаление\n",
    "\n",
    "id_in_A = orders[orders['group'] == 'A']['visitorId'].unique()\n",
    "id_in_B = orders[orders['group'] == 'B']['visitorId'].unique()\n",
    "both = list(set(id_in_A) & set(id_in_B))\n",
    "\n",
    "print('Количество id, которые попали в обе группы:', len(both))"
   ]
  },
  {
   "cell_type": "markdown",
   "id": "e4c80c37-fb15-4e1a-a8fb-7e64b3906c16",
   "metadata": {},
   "source": [
    "## Приоритизация гипотез"
   ]
  },
  {
   "cell_type": "code",
   "execution_count": 19,
   "id": "612b1e65-a443-4a53-a906-24384e810299",
   "metadata": {},
   "outputs": [
    {
     "name": "stdout",
     "output_type": "stream",
     "text": [
      "0              Добавить два новых канала привлечения трафика, что позволит привлекать на 30% больше пользователей\n",
      "1                                       Запустить собственную службу доставки, что сократит срок доставки заказов\n",
      "2    Добавить блоки рекомендаций товаров на сайт интернет магазина, чтобы повысить конверсию и средний чек заказа\n",
      "3             Изменить структура категорий, что увеличит конверсию, т.к. пользователи быстрее найдут нужный товар\n",
      "4                                Изменить цвет фона главной страницы, чтобы увеличить вовлеченность пользователей\n",
      "5                        Добавить страницу отзывов клиентов о магазине, что позволит увеличить количество заказов\n",
      "6            Показать на главной странице баннеры с актуальными акциями и распродажами, чтобы увеличить конверсию\n",
      "7                Добавить форму подписки на все основные страницы, чтобы собрать базу клиентов для email-рассылок\n",
      "8                                                         Запустить акцию, дающую скидку на товар в день рождения\n",
      "Name: Hypothesis, dtype: object\n"
     ]
    }
   ],
   "source": [
    "# посмотрим на гипотезы\n",
    "pd.set_option('display.max_colwidth', None)\n",
    "\n",
    "print(hypothesis['Hypothesis'])"
   ]
  },
  {
   "cell_type": "markdown",
   "id": "62625b86-65be-4962-882b-57caf1a96a44",
   "metadata": {},
   "source": [
    "1) Применим фреймворк ICE для приоритизации гипотез"
   ]
  },
  {
   "cell_type": "code",
   "execution_count": 20,
   "id": "082d0a3a-0ec9-4e2f-a848-d2cc68ebe480",
   "metadata": {},
   "outputs": [
    {
     "data": {
      "text/html": [
       "<div>\n",
       "<style scoped>\n",
       "    .dataframe tbody tr th:only-of-type {\n",
       "        vertical-align: middle;\n",
       "    }\n",
       "\n",
       "    .dataframe tbody tr th {\n",
       "        vertical-align: top;\n",
       "    }\n",
       "\n",
       "    .dataframe thead th {\n",
       "        text-align: right;\n",
       "    }\n",
       "</style>\n",
       "<table border=\"1\" class=\"dataframe\">\n",
       "  <thead>\n",
       "    <tr style=\"text-align: right;\">\n",
       "      <th></th>\n",
       "      <th>Hypothesis</th>\n",
       "      <th>ICE</th>\n",
       "    </tr>\n",
       "  </thead>\n",
       "  <tbody>\n",
       "    <tr>\n",
       "      <th>8</th>\n",
       "      <td>Запустить акцию, дающую скидку на товар в день рождения</td>\n",
       "      <td>16.200</td>\n",
       "    </tr>\n",
       "    <tr>\n",
       "      <th>0</th>\n",
       "      <td>Добавить два новых канала привлечения трафика, что позволит привлекать на 30% больше пользователей</td>\n",
       "      <td>13.333</td>\n",
       "    </tr>\n",
       "    <tr>\n",
       "      <th>7</th>\n",
       "      <td>Добавить форму подписки на все основные страницы, чтобы собрать базу клиентов для email-рассылок</td>\n",
       "      <td>11.200</td>\n",
       "    </tr>\n",
       "    <tr>\n",
       "      <th>6</th>\n",
       "      <td>Показать на главной странице баннеры с актуальными акциями и распродажами, чтобы увеличить конверсию</td>\n",
       "      <td>8.000</td>\n",
       "    </tr>\n",
       "    <tr>\n",
       "      <th>2</th>\n",
       "      <td>Добавить блоки рекомендаций товаров на сайт интернет магазина, чтобы повысить конверсию и средний чек заказа</td>\n",
       "      <td>7.000</td>\n",
       "    </tr>\n",
       "    <tr>\n",
       "      <th>1</th>\n",
       "      <td>Запустить собственную службу доставки, что сократит срок доставки заказов</td>\n",
       "      <td>2.000</td>\n",
       "    </tr>\n",
       "    <tr>\n",
       "      <th>5</th>\n",
       "      <td>Добавить страницу отзывов клиентов о магазине, что позволит увеличить количество заказов</td>\n",
       "      <td>1.333</td>\n",
       "    </tr>\n",
       "    <tr>\n",
       "      <th>3</th>\n",
       "      <td>Изменить структура категорий, что увеличит конверсию, т.к. пользователи быстрее найдут нужный товар</td>\n",
       "      <td>1.125</td>\n",
       "    </tr>\n",
       "    <tr>\n",
       "      <th>4</th>\n",
       "      <td>Изменить цвет фона главной страницы, чтобы увеличить вовлеченность пользователей</td>\n",
       "      <td>1.000</td>\n",
       "    </tr>\n",
       "  </tbody>\n",
       "</table>\n",
       "</div>"
      ],
      "text/plain": [
       "                                                                                                     Hypothesis  \\\n",
       "8                                                       Запустить акцию, дающую скидку на товар в день рождения   \n",
       "0            Добавить два новых канала привлечения трафика, что позволит привлекать на 30% больше пользователей   \n",
       "7              Добавить форму подписки на все основные страницы, чтобы собрать базу клиентов для email-рассылок   \n",
       "6          Показать на главной странице баннеры с актуальными акциями и распродажами, чтобы увеличить конверсию   \n",
       "2  Добавить блоки рекомендаций товаров на сайт интернет магазина, чтобы повысить конверсию и средний чек заказа   \n",
       "1                                     Запустить собственную службу доставки, что сократит срок доставки заказов   \n",
       "5                      Добавить страницу отзывов клиентов о магазине, что позволит увеличить количество заказов   \n",
       "3           Изменить структура категорий, что увеличит конверсию, т.к. пользователи быстрее найдут нужный товар   \n",
       "4                              Изменить цвет фона главной страницы, чтобы увеличить вовлеченность пользователей   \n",
       "\n",
       "      ICE  \n",
       "8  16.200  \n",
       "0  13.333  \n",
       "7  11.200  \n",
       "6   8.000  \n",
       "2   7.000  \n",
       "1   2.000  \n",
       "5   1.333  \n",
       "3   1.125  \n",
       "4   1.000  "
      ]
     },
     "metadata": {},
     "output_type": "display_data"
    }
   ],
   "source": [
    "hypothesis['ICE'] = round((hypothesis['Impact'] * hypothesis['Confidence']) / hypothesis['Efforts'], 3)\n",
    "\n",
    "display(hypothesis[['Hypothesis', 'ICE']].sort_values(by='ICE', ascending=False))"
   ]
  },
  {
   "cell_type": "markdown",
   "id": "61e77910-4a2a-48e0-b348-632cce78a0dd",
   "metadata": {},
   "source": [
    "Наиболее перспективными гипотезами являются гипотезы 8, 0 и 7"
   ]
  },
  {
   "cell_type": "code",
   "execution_count": 21,
   "id": "6c9f0f13-a38c-43f4-b7e7-6441c686aaa2",
   "metadata": {},
   "outputs": [
    {
     "data": {
      "text/html": [
       "<div>\n",
       "<style scoped>\n",
       "    .dataframe tbody tr th:only-of-type {\n",
       "        vertical-align: middle;\n",
       "    }\n",
       "\n",
       "    .dataframe tbody tr th {\n",
       "        vertical-align: top;\n",
       "    }\n",
       "\n",
       "    .dataframe thead th {\n",
       "        text-align: right;\n",
       "    }\n",
       "</style>\n",
       "<table border=\"1\" class=\"dataframe\">\n",
       "  <thead>\n",
       "    <tr style=\"text-align: right;\">\n",
       "      <th></th>\n",
       "      <th>Hypothesis</th>\n",
       "      <th>RICE</th>\n",
       "    </tr>\n",
       "  </thead>\n",
       "  <tbody>\n",
       "    <tr>\n",
       "      <th>7</th>\n",
       "      <td>Добавить форму подписки на все основные страницы, чтобы собрать базу клиентов для email-рассылок</td>\n",
       "      <td>112.0</td>\n",
       "    </tr>\n",
       "    <tr>\n",
       "      <th>2</th>\n",
       "      <td>Добавить блоки рекомендаций товаров на сайт интернет магазина, чтобы повысить конверсию и средний чек заказа</td>\n",
       "      <td>56.0</td>\n",
       "    </tr>\n",
       "    <tr>\n",
       "      <th>0</th>\n",
       "      <td>Добавить два новых канала привлечения трафика, что позволит привлекать на 30% больше пользователей</td>\n",
       "      <td>40.0</td>\n",
       "    </tr>\n",
       "    <tr>\n",
       "      <th>6</th>\n",
       "      <td>Показать на главной странице баннеры с актуальными акциями и распродажами, чтобы увеличить конверсию</td>\n",
       "      <td>40.0</td>\n",
       "    </tr>\n",
       "    <tr>\n",
       "      <th>8</th>\n",
       "      <td>Запустить акцию, дающую скидку на товар в день рождения</td>\n",
       "      <td>16.2</td>\n",
       "    </tr>\n",
       "    <tr>\n",
       "      <th>3</th>\n",
       "      <td>Изменить структура категорий, что увеличит конверсию, т.к. пользователи быстрее найдут нужный товар</td>\n",
       "      <td>9.0</td>\n",
       "    </tr>\n",
       "    <tr>\n",
       "      <th>1</th>\n",
       "      <td>Запустить собственную службу доставки, что сократит срок доставки заказов</td>\n",
       "      <td>4.0</td>\n",
       "    </tr>\n",
       "    <tr>\n",
       "      <th>5</th>\n",
       "      <td>Добавить страницу отзывов клиентов о магазине, что позволит увеличить количество заказов</td>\n",
       "      <td>4.0</td>\n",
       "    </tr>\n",
       "    <tr>\n",
       "      <th>4</th>\n",
       "      <td>Изменить цвет фона главной страницы, чтобы увеличить вовлеченность пользователей</td>\n",
       "      <td>3.0</td>\n",
       "    </tr>\n",
       "  </tbody>\n",
       "</table>\n",
       "</div>"
      ],
      "text/plain": [
       "                                                                                                     Hypothesis  \\\n",
       "7              Добавить форму подписки на все основные страницы, чтобы собрать базу клиентов для email-рассылок   \n",
       "2  Добавить блоки рекомендаций товаров на сайт интернет магазина, чтобы повысить конверсию и средний чек заказа   \n",
       "0            Добавить два новых канала привлечения трафика, что позволит привлекать на 30% больше пользователей   \n",
       "6          Показать на главной странице баннеры с актуальными акциями и распродажами, чтобы увеличить конверсию   \n",
       "8                                                       Запустить акцию, дающую скидку на товар в день рождения   \n",
       "3           Изменить структура категорий, что увеличит конверсию, т.к. пользователи быстрее найдут нужный товар   \n",
       "1                                     Запустить собственную службу доставки, что сократит срок доставки заказов   \n",
       "5                      Добавить страницу отзывов клиентов о магазине, что позволит увеличить количество заказов   \n",
       "4                              Изменить цвет фона главной страницы, чтобы увеличить вовлеченность пользователей   \n",
       "\n",
       "    RICE  \n",
       "7  112.0  \n",
       "2   56.0  \n",
       "0   40.0  \n",
       "6   40.0  \n",
       "8   16.2  \n",
       "3    9.0  \n",
       "1    4.0  \n",
       "5    4.0  \n",
       "4    3.0  "
      ]
     },
     "metadata": {},
     "output_type": "display_data"
    }
   ],
   "source": [
    "hypothesis['RICE'] = (hypothesis['Reach'] * hypothesis['Impact'] * hypothesis['Confidence']) / hypothesis['Efforts']\n",
    "\n",
    "display(hypothesis[['Hypothesis', 'RICE']].sort_values(by='RICE', ascending=False))"
   ]
  },
  {
   "cell_type": "markdown",
   "id": "3f57bcb8",
   "metadata": {},
   "source": [
    "Порядок гипотез изменился, тк в этом случае учитывался охват пользователей и вперед вырвалась гипотеза 7, тк форма подписки появится на всех основных страницах и охватит больше пользователей, нежели скидка в день рождения (гипотеза 8) и дополнительные каналы привлечения трафика (гипотеза 0)"
   ]
  },
  {
   "cell_type": "markdown",
   "id": "2e9c15f1-bf2d-4ca8-b277-8153cf8f218a",
   "metadata": {},
   "source": [
    "## Анализ A/B теста"
   ]
  },
  {
   "cell_type": "markdown",
   "id": "84e6887e-528e-4c7d-824e-89aefc017f9d",
   "metadata": {},
   "source": [
    "**1) Построим график кумулятивной выручки**"
   ]
  },
  {
   "cell_type": "code",
   "execution_count": 22,
   "id": "531d3533-b1dd-4839-bb7b-82457267bf45",
   "metadata": {},
   "outputs": [
    {
     "data": {
      "text/html": [
       "<div>\n",
       "<style scoped>\n",
       "    .dataframe tbody tr th:only-of-type {\n",
       "        vertical-align: middle;\n",
       "    }\n",
       "\n",
       "    .dataframe tbody tr th {\n",
       "        vertical-align: top;\n",
       "    }\n",
       "\n",
       "    .dataframe thead th {\n",
       "        text-align: right;\n",
       "    }\n",
       "</style>\n",
       "<table border=\"1\" class=\"dataframe\">\n",
       "  <thead>\n",
       "    <tr style=\"text-align: right;\">\n",
       "      <th></th>\n",
       "      <th>date</th>\n",
       "      <th>group</th>\n",
       "      <th>revenue</th>\n",
       "      <th>orders</th>\n",
       "      <th>buyers</th>\n",
       "      <th>visitors</th>\n",
       "      <th>cumulative_revenue</th>\n",
       "    </tr>\n",
       "  </thead>\n",
       "  <tbody>\n",
       "    <tr>\n",
       "      <th>0</th>\n",
       "      <td>2019-08-01</td>\n",
       "      <td>A</td>\n",
       "      <td>142779</td>\n",
       "      <td>23</td>\n",
       "      <td>19</td>\n",
       "      <td>719</td>\n",
       "      <td>142779</td>\n",
       "    </tr>\n",
       "    <tr>\n",
       "      <th>2</th>\n",
       "      <td>2019-08-02</td>\n",
       "      <td>A</td>\n",
       "      <td>91602</td>\n",
       "      <td>19</td>\n",
       "      <td>18</td>\n",
       "      <td>619</td>\n",
       "      <td>234381</td>\n",
       "    </tr>\n",
       "    <tr>\n",
       "      <th>4</th>\n",
       "      <td>2019-08-03</td>\n",
       "      <td>A</td>\n",
       "      <td>112473</td>\n",
       "      <td>24</td>\n",
       "      <td>24</td>\n",
       "      <td>507</td>\n",
       "      <td>346854</td>\n",
       "    </tr>\n",
       "    <tr>\n",
       "      <th>6</th>\n",
       "      <td>2019-08-04</td>\n",
       "      <td>A</td>\n",
       "      <td>41176</td>\n",
       "      <td>11</td>\n",
       "      <td>11</td>\n",
       "      <td>717</td>\n",
       "      <td>388030</td>\n",
       "    </tr>\n",
       "    <tr>\n",
       "      <th>8</th>\n",
       "      <td>2019-08-05</td>\n",
       "      <td>A</td>\n",
       "      <td>86383</td>\n",
       "      <td>22</td>\n",
       "      <td>22</td>\n",
       "      <td>756</td>\n",
       "      <td>474413</td>\n",
       "    </tr>\n",
       "    <tr>\n",
       "      <th>...</th>\n",
       "      <td>...</td>\n",
       "      <td>...</td>\n",
       "      <td>...</td>\n",
       "      <td>...</td>\n",
       "      <td>...</td>\n",
       "      <td>...</td>\n",
       "      <td>...</td>\n",
       "    </tr>\n",
       "    <tr>\n",
       "      <th>53</th>\n",
       "      <td>2019-08-27</td>\n",
       "      <td>B</td>\n",
       "      <td>111347</td>\n",
       "      <td>11</td>\n",
       "      <td>11</td>\n",
       "      <td>720</td>\n",
       "      <td>4579312</td>\n",
       "    </tr>\n",
       "    <tr>\n",
       "      <th>55</th>\n",
       "      <td>2019-08-28</td>\n",
       "      <td>B</td>\n",
       "      <td>61198</td>\n",
       "      <td>22</td>\n",
       "      <td>22</td>\n",
       "      <td>654</td>\n",
       "      <td>4640510</td>\n",
       "    </tr>\n",
       "    <tr>\n",
       "      <th>57</th>\n",
       "      <td>2019-08-29</td>\n",
       "      <td>B</td>\n",
       "      <td>106100</td>\n",
       "      <td>15</td>\n",
       "      <td>15</td>\n",
       "      <td>531</td>\n",
       "      <td>4746610</td>\n",
       "    </tr>\n",
       "    <tr>\n",
       "      <th>59</th>\n",
       "      <td>2019-08-30</td>\n",
       "      <td>B</td>\n",
       "      <td>209223</td>\n",
       "      <td>21</td>\n",
       "      <td>21</td>\n",
       "      <td>490</td>\n",
       "      <td>4955833</td>\n",
       "    </tr>\n",
       "    <tr>\n",
       "      <th>61</th>\n",
       "      <td>2019-08-31</td>\n",
       "      <td>B</td>\n",
       "      <td>113139</td>\n",
       "      <td>17</td>\n",
       "      <td>17</td>\n",
       "      <td>718</td>\n",
       "      <td>5068972</td>\n",
       "    </tr>\n",
       "  </tbody>\n",
       "</table>\n",
       "<p>62 rows × 7 columns</p>\n",
       "</div>"
      ],
      "text/plain": [
       "         date group  revenue  orders  buyers  visitors  cumulative_revenue\n",
       "0  2019-08-01     A   142779      23      19       719              142779\n",
       "2  2019-08-02     A    91602      19      18       619              234381\n",
       "4  2019-08-03     A   112473      24      24       507              346854\n",
       "6  2019-08-04     A    41176      11      11       717              388030\n",
       "8  2019-08-05     A    86383      22      22       756              474413\n",
       "..        ...   ...      ...     ...     ...       ...                 ...\n",
       "53 2019-08-27     B   111347      11      11       720             4579312\n",
       "55 2019-08-28     B    61198      22      22       654             4640510\n",
       "57 2019-08-29     B   106100      15      15       531             4746610\n",
       "59 2019-08-30     B   209223      21      21       490             4955833\n",
       "61 2019-08-31     B   113139      17      17       718             5068972\n",
       "\n",
       "[62 rows x 7 columns]"
      ]
     },
     "execution_count": 22,
     "metadata": {},
     "output_type": "execute_result"
    }
   ],
   "source": [
    "orders_aggregated = orders.groupby(['date', 'group']).agg(\n",
    "    revenue=('revenue', 'sum'),\n",
    "    orders=('transactionId', 'nunique'),\n",
    "    buyers=('visitorId', 'nunique')\n",
    ").reset_index()\n",
    "\n",
    "visitors_aggregated = visitors.groupby(['date', 'group']).agg(\n",
    "    visitors=('visitors', 'sum')\n",
    ").reset_index()\n",
    "\n",
    "cumulative_data = orders_aggregated.merge(visitors_aggregated, on=['date', 'group'])\n",
    "\n",
    "cumulative_data = cumulative_data.sort_values(by=['group', 'date'])\n",
    "cumulative_data['cumulative_revenue'] = cumulative_data.groupby('group')['revenue'].cumsum()\n",
    "\n",
    "#проверим получившийся датафрейм\n",
    "cumulative_data"
   ]
  },
  {
   "cell_type": "code",
   "execution_count": 23,
   "id": "e1736a72-d6e9-494c-a11c-5031997f5d25",
   "metadata": {},
   "outputs": [
    {
     "data": {
      "image/png": "[encoded data removed]",
      "text/plain": [
       "<Figure size 576x360 with 1 Axes>"
      ]
     },
     "metadata": {
      "needs_background": "light"
     },
     "output_type": "display_data"
    }
   ],
   "source": [
    "cumulative_data_A = cumulative_data[cumulative_data['group'] == 'A']\n",
    "cumulative_data_B = cumulative_data[cumulative_data['group'] == 'B']\n",
    "\n",
    "\n",
    "plt.figure(figsize=(8, 5))\n",
    "plt.plot(cumulative_data_A['date'], cumulative_data_A['cumulative_revenue'], label='Группа A', marker='o')\n",
    "plt.plot(cumulative_data_B['date'], cumulative_data_B['cumulative_revenue'], label='Группа B', marker='x')\n",
    "\n",
    "\n",
    "plt.title('Кумулятивная выручка по группам A и B')\n",
    "plt.xlabel('Дата')\n",
    "plt.ylabel('Кумулятивная выручка')\n",
    "plt.legend()\n",
    "plt.grid(True)\n",
    "plt.xticks(rotation=45)\n",
    "plt.tight_layout()\n",
    "\n",
    "\n",
    "plt.show()"
   ]
  },
  {
   "cell_type": "markdown",
   "id": "1042ac33-94e2-454e-9257-14a1b4682816",
   "metadata": {},
   "source": [
    "Сначала кумулятивные выручки обеих групп были близки по значению, но 19 августа выручка группы В резко выросла; видимо, в интернет-магазине был крупный заказ\n",
    "\n",
    "В целом, можно сказать, что кумулятивная выручка группы B за месяц выше, чем выручка группы А.\n",
    "Похоже, что добавить форму подписки на все основные страницы, чтобы собрать базу клиентов для email-рассылок было верным решением\n",
    "\n",
    "Убедимся в этом, построив другие графики и проведя расчёты"
   ]
  },
  {
   "cell_type": "markdown",
   "id": "de353159-60a7-4276-981e-0f79f75a0420",
   "metadata": {},
   "source": [
    "**2) Построим кумулятивный график среднего чека**"
   ]
  },
  {
   "cell_type": "code",
   "execution_count": 24,
   "id": "1747b63b-51c9-4707-8b16-79a1c0033457",
   "metadata": {},
   "outputs": [
    {
     "data": {
      "image/png": "[encoded data removed]",
      "text/plain": [
       "<Figure size 576x360 with 1 Axes>"
      ]
     },
     "metadata": {
      "needs_background": "light"
     },
     "output_type": "display_data"
    }
   ],
   "source": [
    "cumulative_data['cumulative_orders'] = cumulative_data.groupby('group')['orders'].cumsum()\n",
    "cumulative_data_A = cumulative_data[cumulative_data['group'] == 'A']\n",
    "cumulative_data_B = cumulative_data[cumulative_data['group'] == 'B']\n",
    "\n",
    "plt.figure(figsize=(8, 5))\n",
    "plt.plot(cumulative_data_A['date'], cumulative_data_A['cumulative_revenue']/cumulative_data_A['cumulative_orders'], label='Группа A', marker='o')\n",
    "plt.plot(cumulative_data_B['date'], cumulative_data_B['cumulative_revenue']/cumulative_data_B['cumulative_orders'], label='Группа B', marker='x')\n",
    "\n",
    "\n",
    "plt.title('Кумулятивный средний чек по группам A и B')\n",
    "plt.xlabel('Дата')\n",
    "plt.ylabel('Средний чек')\n",
    "plt.legend()\n",
    "plt.grid(True)\n",
    "plt.xticks(rotation=45)\n",
    "plt.tight_layout()\n",
    "\n",
    "\n",
    "plt.show()"
   ]
  },
  {
   "cell_type": "markdown",
   "id": "730c7359-0d4d-48f7-bef9-6cd9dbdfb744",
   "metadata": {},
   "source": [
    "Динамика нестабильная, но большую часть времени средний чек в группе В больше чека группы А"
   ]
  },
  {
   "cell_type": "markdown",
   "id": "63a24547-809e-4ab7-af3d-93d234091106",
   "metadata": {},
   "source": [
    "**3) Построим график относительного изменения кумулятивного среднего чека группы B к группе A**"
   ]
  },
  {
   "cell_type": "code",
   "execution_count": 25,
   "id": "7908f6fe-db10-4c3e-8db4-ac195bc063b6",
   "metadata": {},
   "outputs": [
    {
     "data": {
      "text/html": [
       "<div>\n",
       "<style scoped>\n",
       "    .dataframe tbody tr th:only-of-type {\n",
       "        vertical-align: middle;\n",
       "    }\n",
       "\n",
       "    .dataframe tbody tr th {\n",
       "        vertical-align: top;\n",
       "    }\n",
       "\n",
       "    .dataframe thead th {\n",
       "        text-align: right;\n",
       "    }\n",
       "</style>\n",
       "<table border=\"1\" class=\"dataframe\">\n",
       "  <thead>\n",
       "    <tr style=\"text-align: right;\">\n",
       "      <th></th>\n",
       "      <th>date</th>\n",
       "      <th>group</th>\n",
       "      <th>revenue</th>\n",
       "      <th>orders</th>\n",
       "      <th>buyers</th>\n",
       "      <th>visitors</th>\n",
       "      <th>cumulative_revenue</th>\n",
       "      <th>cumulative_orders</th>\n",
       "    </tr>\n",
       "  </thead>\n",
       "  <tbody>\n",
       "    <tr>\n",
       "      <th>0</th>\n",
       "      <td>2019-08-01</td>\n",
       "      <td>A</td>\n",
       "      <td>142779</td>\n",
       "      <td>23</td>\n",
       "      <td>19</td>\n",
       "      <td>719</td>\n",
       "      <td>142779</td>\n",
       "      <td>23</td>\n",
       "    </tr>\n",
       "    <tr>\n",
       "      <th>2</th>\n",
       "      <td>2019-08-02</td>\n",
       "      <td>A</td>\n",
       "      <td>91602</td>\n",
       "      <td>19</td>\n",
       "      <td>18</td>\n",
       "      <td>619</td>\n",
       "      <td>234381</td>\n",
       "      <td>42</td>\n",
       "    </tr>\n",
       "    <tr>\n",
       "      <th>4</th>\n",
       "      <td>2019-08-03</td>\n",
       "      <td>A</td>\n",
       "      <td>112473</td>\n",
       "      <td>24</td>\n",
       "      <td>24</td>\n",
       "      <td>507</td>\n",
       "      <td>346854</td>\n",
       "      <td>66</td>\n",
       "    </tr>\n",
       "    <tr>\n",
       "      <th>6</th>\n",
       "      <td>2019-08-04</td>\n",
       "      <td>A</td>\n",
       "      <td>41176</td>\n",
       "      <td>11</td>\n",
       "      <td>11</td>\n",
       "      <td>717</td>\n",
       "      <td>388030</td>\n",
       "      <td>77</td>\n",
       "    </tr>\n",
       "    <tr>\n",
       "      <th>8</th>\n",
       "      <td>2019-08-05</td>\n",
       "      <td>A</td>\n",
       "      <td>86383</td>\n",
       "      <td>22</td>\n",
       "      <td>22</td>\n",
       "      <td>756</td>\n",
       "      <td>474413</td>\n",
       "      <td>99</td>\n",
       "    </tr>\n",
       "    <tr>\n",
       "      <th>...</th>\n",
       "      <td>...</td>\n",
       "      <td>...</td>\n",
       "      <td>...</td>\n",
       "      <td>...</td>\n",
       "      <td>...</td>\n",
       "      <td>...</td>\n",
       "      <td>...</td>\n",
       "      <td>...</td>\n",
       "    </tr>\n",
       "    <tr>\n",
       "      <th>53</th>\n",
       "      <td>2019-08-27</td>\n",
       "      <td>B</td>\n",
       "      <td>111347</td>\n",
       "      <td>11</td>\n",
       "      <td>11</td>\n",
       "      <td>720</td>\n",
       "      <td>4579312</td>\n",
       "      <td>473</td>\n",
       "    </tr>\n",
       "    <tr>\n",
       "      <th>55</th>\n",
       "      <td>2019-08-28</td>\n",
       "      <td>B</td>\n",
       "      <td>61198</td>\n",
       "      <td>22</td>\n",
       "      <td>22</td>\n",
       "      <td>654</td>\n",
       "      <td>4640510</td>\n",
       "      <td>495</td>\n",
       "    </tr>\n",
       "    <tr>\n",
       "      <th>57</th>\n",
       "      <td>2019-08-29</td>\n",
       "      <td>B</td>\n",
       "      <td>106100</td>\n",
       "      <td>15</td>\n",
       "      <td>15</td>\n",
       "      <td>531</td>\n",
       "      <td>4746610</td>\n",
       "      <td>510</td>\n",
       "    </tr>\n",
       "    <tr>\n",
       "      <th>59</th>\n",
       "      <td>2019-08-30</td>\n",
       "      <td>B</td>\n",
       "      <td>209223</td>\n",
       "      <td>21</td>\n",
       "      <td>21</td>\n",
       "      <td>490</td>\n",
       "      <td>4955833</td>\n",
       "      <td>531</td>\n",
       "    </tr>\n",
       "    <tr>\n",
       "      <th>61</th>\n",
       "      <td>2019-08-31</td>\n",
       "      <td>B</td>\n",
       "      <td>113139</td>\n",
       "      <td>17</td>\n",
       "      <td>17</td>\n",
       "      <td>718</td>\n",
       "      <td>5068972</td>\n",
       "      <td>548</td>\n",
       "    </tr>\n",
       "  </tbody>\n",
       "</table>\n",
       "<p>62 rows × 8 columns</p>\n",
       "</div>"
      ],
      "text/plain": [
       "         date group  revenue  orders  buyers  visitors  cumulative_revenue  \\\n",
       "0  2019-08-01     A   142779      23      19       719              142779   \n",
       "2  2019-08-02     A    91602      19      18       619              234381   \n",
       "4  2019-08-03     A   112473      24      24       507              346854   \n",
       "6  2019-08-04     A    41176      11      11       717              388030   \n",
       "8  2019-08-05     A    86383      22      22       756              474413   \n",
       "..        ...   ...      ...     ...     ...       ...                 ...   \n",
       "53 2019-08-27     B   111347      11      11       720             4579312   \n",
       "55 2019-08-28     B    61198      22      22       654             4640510   \n",
       "57 2019-08-29     B   106100      15      15       531             4746610   \n",
       "59 2019-08-30     B   209223      21      21       490             4955833   \n",
       "61 2019-08-31     B   113139      17      17       718             5068972   \n",
       "\n",
       "    cumulative_orders  \n",
       "0                  23  \n",
       "2                  42  \n",
       "4                  66  \n",
       "6                  77  \n",
       "8                  99  \n",
       "..                ...  \n",
       "53                473  \n",
       "55                495  \n",
       "57                510  \n",
       "59                531  \n",
       "61                548  \n",
       "\n",
       "[62 rows x 8 columns]"
      ]
     },
     "execution_count": 25,
     "metadata": {},
     "output_type": "execute_result"
    }
   ],
   "source": [
    "# для расчета воспользуемся датафреймом cumulative_data; ещё раз посмотрим на него\n",
    "cumulative_data "
   ]
  },
  {
   "cell_type": "code",
   "execution_count": 26,
   "id": "5e911c3e-8da1-472a-96e2-0a1e5d54a512",
   "metadata": {},
   "outputs": [],
   "source": [
    "# отдельно произведём расчёты\n",
    "ratio_B = (cumulative_data.loc[cumulative_data['group'] == 'B', 'cumulative_revenue']\n",
    "           .reset_index(drop=True) /\n",
    "           cumulative_data.loc[cumulative_data['group'] == 'B', 'cumulative_orders']\n",
    "           .reset_index(drop=True))\n",
    "ratio_A = (cumulative_data.loc[cumulative_data['group'] == 'A', 'cumulative_revenue']\n",
    "           .reset_index(drop=True) /\n",
    "           cumulative_data.loc[cumulative_data['group'] == 'A', 'cumulative_orders']\n",
    "           .reset_index(drop=True))\n",
    "\n",
    "rel_change_avg_bill = (ratio_B / ratio_A) - 1"
   ]
  },
  {
   "cell_type": "code",
   "execution_count": 27,
   "id": "b5e87f25-5fba-498f-83e2-2d8abc44e16d",
   "metadata": {},
   "outputs": [
    {
     "data": {
      "image/png": "[encoded data removed]",
      "text/plain": [
       "<Figure size 576x360 with 1 Axes>"
      ]
     },
     "metadata": {
      "needs_background": "light"
     },
     "output_type": "display_data"
    }
   ],
   "source": [
    "# построим график\n",
    "plt.figure(figsize=(8, 5))\n",
    "plt.plot(cumulative_data.loc[cumulative_data['group'] == 'B', 'date'], rel_change_avg_bill, label='Относительное изменение кумулятивного среднего чека', marker='o')\n",
    "\n",
    "plt.title('Относительное изменение кумулятивного среднего чека группы B к группе A')\n",
    "plt.xlabel('Дата')\n",
    "plt.ylabel('Относительное изменение')\n",
    "plt.axhline(y=0, color='black', linestyle='--')  \n",
    "plt.legend('Относительное изменение кумулятивного среднего чека')\n",
    "plt.grid(True)\n",
    "plt.xticks(rotation=45)\n",
    "plt.tight_layout()\n",
    "\n",
    "\n",
    "plt.show()\n"
   ]
  },
  {
   "cell_type": "markdown",
   "id": "415803d5-ceb2-4c92-a29b-b94b6a0c2a66",
   "metadata": {},
   "source": [
    "В начале месяца мы видим положительные значения, заетем спад и отрицательные значения, потом снова подъём и снова загадочное 19-е августа, после которого кумулятивный средний чек в группе B стал значительно выше, чем в группе A. \n",
    "\n",
    "Нужно дополнительно исследовать причины колебаний. Возможно, стоит провести дополнительный анализ или собрать больше данных"
   ]
  },
  {
   "cell_type": "markdown",
   "id": "9313fdf9-1cfe-490a-bebf-9aaf5a957769",
   "metadata": {},
   "source": [
    "**4) График кумулятивного среднего количества заказов на посетителя по группам**"
   ]
  },
  {
   "cell_type": "code",
   "execution_count": 28,
   "id": "8980d561-fdd6-4401-8f53-bd3193d0fc69",
   "metadata": {},
   "outputs": [
    {
     "data": {
      "text/html": [
       "<div>\n",
       "<style scoped>\n",
       "    .dataframe tbody tr th:only-of-type {\n",
       "        vertical-align: middle;\n",
       "    }\n",
       "\n",
       "    .dataframe tbody tr th {\n",
       "        vertical-align: top;\n",
       "    }\n",
       "\n",
       "    .dataframe thead th {\n",
       "        text-align: right;\n",
       "    }\n",
       "</style>\n",
       "<table border=\"1\" class=\"dataframe\">\n",
       "  <thead>\n",
       "    <tr style=\"text-align: right;\">\n",
       "      <th></th>\n",
       "      <th>date</th>\n",
       "      <th>group</th>\n",
       "      <th>revenue</th>\n",
       "      <th>orders</th>\n",
       "      <th>buyers</th>\n",
       "      <th>visitors</th>\n",
       "      <th>cumulative_revenue</th>\n",
       "      <th>cumulative_orders</th>\n",
       "    </tr>\n",
       "  </thead>\n",
       "  <tbody>\n",
       "    <tr>\n",
       "      <th>0</th>\n",
       "      <td>2019-08-01</td>\n",
       "      <td>A</td>\n",
       "      <td>142779</td>\n",
       "      <td>23</td>\n",
       "      <td>19</td>\n",
       "      <td>719</td>\n",
       "      <td>142779</td>\n",
       "      <td>23</td>\n",
       "    </tr>\n",
       "    <tr>\n",
       "      <th>2</th>\n",
       "      <td>2019-08-02</td>\n",
       "      <td>A</td>\n",
       "      <td>91602</td>\n",
       "      <td>19</td>\n",
       "      <td>18</td>\n",
       "      <td>619</td>\n",
       "      <td>234381</td>\n",
       "      <td>42</td>\n",
       "    </tr>\n",
       "    <tr>\n",
       "      <th>4</th>\n",
       "      <td>2019-08-03</td>\n",
       "      <td>A</td>\n",
       "      <td>112473</td>\n",
       "      <td>24</td>\n",
       "      <td>24</td>\n",
       "      <td>507</td>\n",
       "      <td>346854</td>\n",
       "      <td>66</td>\n",
       "    </tr>\n",
       "    <tr>\n",
       "      <th>6</th>\n",
       "      <td>2019-08-04</td>\n",
       "      <td>A</td>\n",
       "      <td>41176</td>\n",
       "      <td>11</td>\n",
       "      <td>11</td>\n",
       "      <td>717</td>\n",
       "      <td>388030</td>\n",
       "      <td>77</td>\n",
       "    </tr>\n",
       "    <tr>\n",
       "      <th>8</th>\n",
       "      <td>2019-08-05</td>\n",
       "      <td>A</td>\n",
       "      <td>86383</td>\n",
       "      <td>22</td>\n",
       "      <td>22</td>\n",
       "      <td>756</td>\n",
       "      <td>474413</td>\n",
       "      <td>99</td>\n",
       "    </tr>\n",
       "    <tr>\n",
       "      <th>...</th>\n",
       "      <td>...</td>\n",
       "      <td>...</td>\n",
       "      <td>...</td>\n",
       "      <td>...</td>\n",
       "      <td>...</td>\n",
       "      <td>...</td>\n",
       "      <td>...</td>\n",
       "      <td>...</td>\n",
       "    </tr>\n",
       "    <tr>\n",
       "      <th>53</th>\n",
       "      <td>2019-08-27</td>\n",
       "      <td>B</td>\n",
       "      <td>111347</td>\n",
       "      <td>11</td>\n",
       "      <td>11</td>\n",
       "      <td>720</td>\n",
       "      <td>4579312</td>\n",
       "      <td>473</td>\n",
       "    </tr>\n",
       "    <tr>\n",
       "      <th>55</th>\n",
       "      <td>2019-08-28</td>\n",
       "      <td>B</td>\n",
       "      <td>61198</td>\n",
       "      <td>22</td>\n",
       "      <td>22</td>\n",
       "      <td>654</td>\n",
       "      <td>4640510</td>\n",
       "      <td>495</td>\n",
       "    </tr>\n",
       "    <tr>\n",
       "      <th>57</th>\n",
       "      <td>2019-08-29</td>\n",
       "      <td>B</td>\n",
       "      <td>106100</td>\n",
       "      <td>15</td>\n",
       "      <td>15</td>\n",
       "      <td>531</td>\n",
       "      <td>4746610</td>\n",
       "      <td>510</td>\n",
       "    </tr>\n",
       "    <tr>\n",
       "      <th>59</th>\n",
       "      <td>2019-08-30</td>\n",
       "      <td>B</td>\n",
       "      <td>209223</td>\n",
       "      <td>21</td>\n",
       "      <td>21</td>\n",
       "      <td>490</td>\n",
       "      <td>4955833</td>\n",
       "      <td>531</td>\n",
       "    </tr>\n",
       "    <tr>\n",
       "      <th>61</th>\n",
       "      <td>2019-08-31</td>\n",
       "      <td>B</td>\n",
       "      <td>113139</td>\n",
       "      <td>17</td>\n",
       "      <td>17</td>\n",
       "      <td>718</td>\n",
       "      <td>5068972</td>\n",
       "      <td>548</td>\n",
       "    </tr>\n",
       "  </tbody>\n",
       "</table>\n",
       "<p>62 rows × 8 columns</p>\n",
       "</div>"
      ],
      "text/plain": [
       "         date group  revenue  orders  buyers  visitors  cumulative_revenue  \\\n",
       "0  2019-08-01     A   142779      23      19       719              142779   \n",
       "2  2019-08-02     A    91602      19      18       619              234381   \n",
       "4  2019-08-03     A   112473      24      24       507              346854   \n",
       "6  2019-08-04     A    41176      11      11       717              388030   \n",
       "8  2019-08-05     A    86383      22      22       756              474413   \n",
       "..        ...   ...      ...     ...     ...       ...                 ...   \n",
       "53 2019-08-27     B   111347      11      11       720             4579312   \n",
       "55 2019-08-28     B    61198      22      22       654             4640510   \n",
       "57 2019-08-29     B   106100      15      15       531             4746610   \n",
       "59 2019-08-30     B   209223      21      21       490             4955833   \n",
       "61 2019-08-31     B   113139      17      17       718             5068972   \n",
       "\n",
       "    cumulative_orders  \n",
       "0                  23  \n",
       "2                  42  \n",
       "4                  66  \n",
       "6                  77  \n",
       "8                  99  \n",
       "..                ...  \n",
       "53                473  \n",
       "55                495  \n",
       "57                510  \n",
       "59                531  \n",
       "61                548  \n",
       "\n",
       "[62 rows x 8 columns]"
      ]
     },
     "execution_count": 28,
     "metadata": {},
     "output_type": "execute_result"
    }
   ],
   "source": [
    "cumulative_data"
   ]
  },
  {
   "cell_type": "code",
   "execution_count": 29,
   "id": "3fb39d49-73d2-4015-9771-59a59e111f31",
   "metadata": {},
   "outputs": [
    {
     "data": {
      "image/png": "[encoded data removed]",
      "text/plain": [
       "<Figure size 792x432 with 1 Axes>"
      ]
     },
     "metadata": {
      "needs_background": "light"
     },
     "output_type": "display_data"
    }
   ],
   "source": [
    "orders_aggregated = orders.groupby(['date', 'group']).agg(\n",
    "    revenue=('revenue', 'sum'),\n",
    "    orders=('transactionId', 'nunique'),\n",
    "    buyers=('visitorId', 'nunique')\n",
    ").reset_index()\n",
    "\n",
    "visitors_aggregated = visitors.groupby(['date', 'group']).agg(\n",
    "    visitors=('visitors', 'sum')\n",
    ").reset_index()\n",
    "\n",
    "cumulative_data = orders_aggregated.merge(visitors_aggregated, on=['date', 'group'])\n",
    "\n",
    "cumulative_data = cumulative_data.sort_values(by=['group', 'date'])\n",
    "cumulative_data['cumulative_revenue'] = cumulative_data.groupby('group')['revenue'].cumsum()\n",
    "cumulative_data['cumulative_orders'] = cumulative_data.groupby('group')['orders'].cumsum()\n",
    "cumulative_data['cumulative_visitors'] = cumulative_data.groupby('group')['visitors'].cumsum()\n",
    "\n",
    "# считаем среднее количество заказов на посетителя\n",
    "cumulative_data['conversion'] = cumulative_data['cumulative_orders']/cumulative_data['cumulative_visitors']\n",
    "\n",
    "cumulative_data_A = cumulative_data[cumulative_data['group'] == 'A']\n",
    "cumulative_data_B = cumulative_data[cumulative_data['group'] == 'B']\n",
    "\n",
    "plt.figure(figsize=(11, 6))\n",
    "plt.plot(cumulative_data_A['date'], cumulative_data_A['conversion'], label='Группа A', marker='o')\n",
    "plt.plot(cumulative_data_B['date'], cumulative_data_B['conversion'], label='Группа B', marker='x')\n",
    "\n",
    "plt.title('Кумулятивное среднее количество заказов на посетителя по группам')\n",
    "plt.xlabel('Дата')\n",
    "plt.ylabel('Кумулятивное среднее количество заказов на посетителя')\n",
    "plt.legend(title=\"Группы\")\n",
    "plt.grid(True)\n",
    "plt.xticks(rotation=45)\n",
    "plt.tight_layout()\n",
    "\n",
    "\n",
    "plt.show()\n"
   ]
  },
  {
   "cell_type": "markdown",
   "id": "0a03e41d-5e10-4caa-957e-cadf526a4404",
   "metadata": {},
   "source": [
    "В начале месяца значения колебались, но с 6-го числа кумулятивное среднее количество заказов в группе В было стабильно выше группы А"
   ]
  },
  {
   "cell_type": "markdown",
   "id": "9cffd6c3-09c5-4a2b-8a63-8b6254497422",
   "metadata": {},
   "source": [
    "**5) График относительного изменения кумулятивного среднего количества заказов на посетителя группы B к группе A**"
   ]
  },
  {
   "cell_type": "code",
   "execution_count": 30,
   "id": "5353bbaf-815b-4893-852f-fe72ddeeb005",
   "metadata": {},
   "outputs": [
    {
     "data": {
      "image/png": "[encoded data removed]",
      "text/plain": [
       "<Figure size 576x360 with 1 Axes>"
      ]
     },
     "metadata": {
      "needs_background": "light"
     },
     "output_type": "display_data"
    }
   ],
   "source": [
    "ratio_B = cumulative_data.loc[cumulative_data['group'] == 'B', 'conversion'].reset_index(drop=True)\n",
    "ratio_A = cumulative_data.loc[cumulative_data['group'] == 'A', 'conversion'].reset_index(drop=True) \n",
    "\n",
    "\n",
    "plt.figure(figsize=(8, 5))\n",
    "plt.plot(cumulative_data_A['date'], (ratio_B / ratio_A) - 1, marker='o')\n",
    "\n",
    "plt.title('Относительное изменение кумулятивного среднего количества заказов на посетителя группы B к группе A')\n",
    "plt.xlabel('Дата')\n",
    "plt.ylabel('Относительное изменение')\n",
    "plt.axhline(y=0, color='black', linestyle='--') \n",
    "plt.grid(True)\n",
    "plt.xticks(rotation=45)\n",
    "plt.tight_layout()\n",
    "\n",
    "\n",
    "plt.show()"
   ]
  },
  {
   "cell_type": "markdown",
   "id": "2b47f487-7af4-497d-9fbb-d4a6ea5ec1f9",
   "metadata": {},
   "source": [
    "В начале теста группа B значительно проигрывала группе A, затем вырвалась вперёд и в течение месяца была стабильно лучше группы А"
   ]
  },
  {
   "cell_type": "markdown",
   "id": "1b7f2acf-bf9b-4e54-9677-e2348dcfe8dc",
   "metadata": {},
   "source": [
    "**6) Построим точечный график количества заказов по пользователям**"
   ]
  },
  {
   "cell_type": "code",
   "execution_count": 31,
   "id": "7908e1c2-31d4-4361-90e7-f2ce91ecb5f2",
   "metadata": {},
   "outputs": [
    {
     "data": {
      "image/png": "[encoded data removed]",
      "text/plain": [
       "<Figure size 576x360 with 1 Axes>"
      ]
     },
     "metadata": {
      "needs_background": "light"
     },
     "output_type": "display_data"
    }
   ],
   "source": [
    "user_orders = orders.groupby('visitorId').agg(\n",
    "    orders=('transactionId', 'nunique')\n",
    ").reset_index()\n",
    "\n",
    "user_orders = user_orders.sort_values(by='orders', ascending=False)\n",
    "\n",
    "plt.figure(figsize=(8, 5))\n",
    "plt.scatter(user_orders.index, user_orders['orders'], alpha=0.5)\n",
    "\n",
    "plt.title('Количество заказов по пользователям')\n",
    "plt.xlabel('Пользователи')\n",
    "plt.ylabel('Количество заказов')\n",
    "plt.grid(True)\n",
    "plt.xticks(rotation=45)\n",
    "plt.tight_layout()\n",
    "\n",
    "plt.show()"
   ]
  },
  {
   "cell_type": "markdown",
   "id": "f04ca851-456d-44d9-8a09-ffa1f7e71a24",
   "metadata": {},
   "source": [
    "На графике видно, что подавляющее большинство пользователей сделали один заказ"
   ]
  },
  {
   "cell_type": "markdown",
   "id": "8f3f89df-814a-4bfe-abac-f92b511e2d17",
   "metadata": {},
   "source": [
    "**7) Посчитаем 95-й и 99-й перцентили количества заказов на пользователя**"
   ]
  },
  {
   "cell_type": "code",
   "execution_count": 32,
   "id": "a237364d-757b-403e-853b-ccf82780f31f",
   "metadata": {},
   "outputs": [
    {
     "name": "stdout",
     "output_type": "stream",
     "text": [
      "95-й перцентиль: 1.0\n",
      "99-й перцентиль: 2.0\n"
     ]
    }
   ],
   "source": [
    "percentile_95 = user_orders['orders'].quantile(0.95)\n",
    "percentile_99 = user_orders['orders'].quantile(0.99)\n",
    "\n",
    "print(f\"95-й перцентиль: {percentile_95}\")\n",
    "print(f\"99-й перцентиль: {percentile_99}\")"
   ]
  },
  {
   "cell_type": "markdown",
   "id": "2068f76e-1467-4f99-8bf3-474ae9e1315a",
   "metadata": {},
   "source": [
    "Всё верно, 95 % пользователей совершили не более одного заказа"
   ]
  },
  {
   "cell_type": "markdown",
   "id": "8dbbb6c2-c4e4-4810-8069-2aa733a15f79",
   "metadata": {},
   "source": [
    "**8) Построим точечный график стоимостей заказов**"
   ]
  },
  {
   "cell_type": "code",
   "execution_count": 33,
   "id": "c54e0984-0946-437a-b8c3-6283489a3b47",
   "metadata": {},
   "outputs": [
    {
     "data": {
      "image/png": "[encoded data removed]",
      "text/plain": [
       "<Figure size 576x360 with 1 Axes>"
      ]
     },
     "metadata": {
      "needs_background": "light"
     },
     "output_type": "display_data"
    }
   ],
   "source": [
    "plt.figure(figsize=(8, 5))\n",
    "plt.scatter(orders.index, orders['revenue'], alpha=0.5)\n",
    "\n",
    "plt.title('Стоимости заказов пользователей')\n",
    "plt.xlabel('Заказы')\n",
    "plt.ylabel('Стоимость заказа')\n",
    "plt.grid(True)\n",
    "plt.xticks(rotation=45)\n",
    "plt.tight_layout()\n",
    "\n",
    "plt.show()"
   ]
  },
  {
   "cell_type": "markdown",
   "id": "1dd64579-cda1-4e9b-992b-9967926f7d43",
   "metadata": {},
   "source": [
    "Стоимость большинства заказов прльзователей не превышает 100 000"
   ]
  },
  {
   "cell_type": "markdown",
   "id": "91832bd1-b341-4d32-bce1-8e798fea747b",
   "metadata": {},
   "source": [
    "**9) Посчитаем 95-й и 99-й перцентили стоимости заказов**"
   ]
  },
  {
   "cell_type": "code",
   "execution_count": 34,
   "id": "c6a8d649-d8e2-4359-a253-6bf3ac3fc464",
   "metadata": {},
   "outputs": [
    {
     "name": "stdout",
     "output_type": "stream",
     "text": [
      "95-й перцентиль стоимости заказов: 26785.0\n",
      "99-й перцентиль стоимости заказов: 53904.0\n"
     ]
    }
   ],
   "source": [
    "percentile_95_revenue = round(orders['revenue'].quantile(0.95), 1)\n",
    "percentile_99_revenue = round(orders['revenue'].quantile(0.99), 1)\n",
    "\n",
    "print(f\"95-й перцентиль стоимости заказов: {percentile_95_revenue}\")\n",
    "print(f\"99-й перцентиль стоимости заказов: {percentile_99_revenue}\")"
   ]
  },
  {
   "cell_type": "markdown",
   "id": "9019718d-645c-4dea-b068-07b24b31eb2d",
   "metadata": {},
   "source": [
    "Оказалось, что 95% заказов не превышает 27 000"
   ]
  },
  {
   "cell_type": "markdown",
   "id": "ad54bbda-e146-4627-87e6-cf09e4fa1f90",
   "metadata": {},
   "source": [
    "**10) Посчитаем статистическую значимость различий в среднем количестве заказов на посетителя между группами по «сырым» данным**"
   ]
  },
  {
   "cell_type": "code",
   "execution_count": 35,
   "id": "9238ea19-b348-4b56-8775-f71cb96c491c",
   "metadata": {},
   "outputs": [
    {
     "name": "stdout",
     "output_type": "stream",
     "text": [
      "        date  ordersPerDateA  revenuePerDateA  ordersPerDateB  \\\n",
      "0 2019-08-01              23           142779              17   \n",
      "1 2019-08-02              19            91602              23   \n",
      "2 2019-08-03              24           112473              14   \n",
      "3 2019-08-04              11            41176              14   \n",
      "4 2019-08-05              22            86383              21   \n",
      "\n",
      "   revenuePerDateB  ordersCummulativeA  revenueCummulativeA  \\\n",
      "0            59758                  23               142779   \n",
      "1           162043                  42               234381   \n",
      "2            67049                  66               346854   \n",
      "3            96890                  77               388030   \n",
      "4            89908                  99               474413   \n",
      "\n",
      "   ordersCummulativeB  revenueCummulativeB  visitorsPerDateA  \\\n",
      "0                  17                59758               719   \n",
      "1                  40               221801               619   \n",
      "2                  54               288850               507   \n",
      "3                  68               385740               717   \n",
      "4                  89               475648               756   \n",
      "\n",
      "   visitorsPerDateB  visitorsCummulativeA  visitorsCummulativeB  \n",
      "0               713                   719                   713  \n",
      "1               581                  1338                  1294  \n",
      "2               509                  1845                  1803  \n",
      "3               770                  2562                  2573  \n",
      "4               707                  3318                  3280  \n"
     ]
    }
   ],
   "source": [
    "# Подготовим данные к анализу\n",
    "visitorsADaily = visitors[visitors['group'] == 'A'][['date', 'visitors']]\n",
    "visitorsADaily.columns = ['date', 'visitorsPerDateA']\n",
    "\n",
    "visitorsACummulative = visitorsADaily.apply(\n",
    "    lambda x: visitorsADaily[visitorsADaily['date'] <= x['date']].agg({'date': 'max', 'visitorsPerDateA': 'sum'}),\n",
    "    axis=1,\n",
    ")\n",
    "visitorsACummulative.columns = ['date', 'visitorsCummulativeA']\n",
    "\n",
    "visitorsBDaily = visitors[visitors['group'] == 'B'][['date', 'visitors']]\n",
    "visitorsBDaily.columns = ['date', 'visitorsPerDateB']\n",
    "\n",
    "visitorsBCummulative = visitorsBDaily.apply(\n",
    "    lambda x: visitorsBDaily[visitorsBDaily['date'] <= x['date']].agg({'date': 'max', 'visitorsPerDateB': 'sum'}),\n",
    "    axis=1,\n",
    ")\n",
    "visitorsBCummulative.columns = ['date', 'visitorsCummulativeB']\n",
    "\n",
    "# Обработка данных по заказам – дневная агрегация и кумулятивные суммы для групп A и B\n",
    "ordersADaily = (\n",
    "    orders[orders['group'] == 'A'][['date', 'transactionId', 'visitorId', 'revenue']]\n",
    "    .groupby('date', as_index=False)\n",
    "    .agg({'transactionId': pd.Series.nunique, 'revenue': 'sum'})\n",
    ")\n",
    "ordersADaily.columns = ['date', 'ordersPerDateA', 'revenuePerDateA']\n",
    "\n",
    "ordersACummulative = ordersADaily.apply(\n",
    "    lambda x: ordersADaily[ordersADaily['date'] <= x['date']].agg(\n",
    "        {'date': 'max', 'ordersPerDateA': 'sum', 'revenuePerDateA': 'sum'}\n",
    "    ),\n",
    "    axis=1,\n",
    ").sort_values(by=['date'])\n",
    "ordersACummulative.columns = ['date', 'ordersCummulativeA', 'revenueCummulativeA']\n",
    "\n",
    "ordersBDaily = (\n",
    "    orders[orders['group'] == 'B'][['date', 'transactionId', 'visitorId', 'revenue']]\n",
    "    .groupby('date', as_index=False)\n",
    "    .agg({'transactionId': pd.Series.nunique, 'revenue': 'sum'})\n",
    ")\n",
    "ordersBDaily.columns = ['date', 'ordersPerDateB', 'revenuePerDateB']\n",
    "\n",
    "ordersBCummulative = ordersBDaily.apply(\n",
    "    lambda x: ordersBDaily[ordersBDaily['date'] <= x['date']].agg(\n",
    "        {'date': 'max', 'ordersPerDateB': 'sum', 'revenuePerDateB': 'sum'}\n",
    "    ),\n",
    "    axis=1,\n",
    ").sort_values(by=['date'])\n",
    "ordersBCummulative.columns = ['date', 'ordersCummulativeB', 'revenueCummulativeB']\n",
    "\n",
    "# Объединение всех данных в одну таблицу data\n",
    "data = (\n",
    "    ordersADaily.merge(ordersBDaily, on='date', how='left')\n",
    "    .merge(ordersACummulative, on='date', how='left')\n",
    "    .merge(ordersBCummulative, on='date', how='left')\n",
    "    .merge(visitorsADaily, on='date', how='left')\n",
    "    .merge(visitorsBDaily, on='date', how='left')\n",
    "    .merge(visitorsACummulative, on='date', how='left')\n",
    "    .merge(visitorsBCummulative, on='date', how='left')\n",
    ")\n",
    "\n",
    "print(data.head(5)) #посмотрим на получившмйся датафрейм\n"
   ]
  },
  {
   "cell_type": "markdown",
   "id": "20927e48",
   "metadata": {},
   "source": [
    "**Нулевая гипотеза:** среднее количество заказов на посетителя группы В **равно** среднему количеству заказов на посетителя группы А\n",
    "\n",
    "**Альтернативная гипотеза:** средние количества заказов на посетителя группы В и группы А **различаются**"
   ]
  },
  {
   "cell_type": "code",
   "execution_count": 36,
   "id": "df00406f-b8c8-4b3f-b51f-c3a7510e263b",
   "metadata": {},
   "outputs": [
    {
     "name": "stdout",
     "output_type": "stream",
     "text": [
      "P-value: 0.01102\n",
      "Процент прироста среднего группы B к конверсии группы A: 0.160\n"
     ]
    }
   ],
   "source": [
    "# Группировка заказов по пользователям для групп A и B \n",
    "ordersByUsersA = (\n",
    "    orders[orders['group'] == 'A']\n",
    "    .groupby('visitorId', as_index=False)\n",
    "    .agg({'transactionId': pd.Series.nunique})\n",
    ")\n",
    "ordersByUsersA.columns = ['visitorId', 'orders']\n",
    "\n",
    "ordersByUsersB = (\n",
    "    orders[orders['group'] == 'B']\n",
    "    .groupby('visitorId', as_index=False)\n",
    "    .agg({'transactionId': pd.Series.nunique})\n",
    ")\n",
    "ordersByUsersB.columns = ['visitorId', 'orders']\n",
    "\n",
    "# Формирование выборок orders (число заказов) для всех посетителей:\n",
    "# Для группы A общее число посетителей:\n",
    "totalVisitorsA = int(data['visitorsPerDateA'].sum())\n",
    "totalVisitorsB = int(data['visitorsPerDateB'].sum())\n",
    "\n",
    "sampleA = pd.concat(\n",
    "    [\n",
    "        ordersByUsersA['orders'],\n",
    "        pd.Series(\n",
    "            0,\n",
    "            index=np.arange(totalVisitorsA - len(ordersByUsersA)),\n",
    "            name='orders',\n",
    "        ),\n",
    "    ],\n",
    "    axis=0,\n",
    ")\n",
    "\n",
    "sampleB = pd.concat(\n",
    "    [\n",
    "        ordersByUsersB['orders'],\n",
    "        pd.Series(\n",
    "            0,\n",
    "            index=np.arange(totalVisitorsB - len(ordersByUsersB)),\n",
    "            name='orders',\n",
    "        ),\n",
    "    ],\n",
    "    axis=0,\n",
    ")\n",
    "\n",
    "# Статистический тест Манна-Уитни для сравнения среднего количества заказов\n",
    "test_result = st.mannwhitneyu(sampleA, sampleB, alternative='two-sided')\n",
    "p_value = test_result[1]\n",
    "relative_diff = sampleB.mean() / sampleA.mean() - 1\n",
    "\n",
    "print('P-value:', \"{0:.5f}\".format(p_value))\n",
    "print('Процент прироста среднего группы B к конверсии группы A:', \"{0:.3f}\".format(relative_diff))"
   ]
  },
  {
   "cell_type": "markdown",
   "id": "89e33c47-27af-4a06-b971-a8de3b49871d",
   "metadata": {},
   "source": [
    "P-value меньше 0.05, потому нулевую гипотезу отвергаем. По «сырым данным» можно сказать, что в среднем количестве заказов между группами есть статистически значимые различия. Относительный прирост среднего группы B к конверсии группы A равен 16.0%."
   ]
  },
  {
   "cell_type": "markdown",
   "id": "c0c7994d-ef68-46c3-9c5e-973aaebdef0c",
   "metadata": {},
   "source": [
    "**11) Посчитаем статистическую значимость различий в среднем чеке заказа между группами по «сырым» данным** "
   ]
  },
  {
   "cell_type": "markdown",
   "id": "31732386",
   "metadata": {},
   "source": [
    "**Нулевая гипотеза:** средний чек заказа группы В **равен** среднему чеку группы А\n",
    "\n",
    "**Альтернативная гипотеза:** средние чеки групп А и В **различаются**"
   ]
  },
  {
   "cell_type": "code",
   "execution_count": 37,
   "id": "9f451c92-1079-406a-b4cc-a88935d21ccb",
   "metadata": {},
   "outputs": [
    {
     "name": "stdout",
     "output_type": "stream",
     "text": [
      "P-value: 0.829\n"
     ]
    }
   ],
   "source": [
    "print('P-value:', '{0:.3f}'.format(st.mannwhitneyu(orders[orders['group']=='A']['revenue'], orders[orders['group']=='B']['revenue'])[1]))"
   ]
  },
  {
   "cell_type": "markdown",
   "id": "8999a8b5-cdff-4261-a4af-8dec0a587faa",
   "metadata": {},
   "source": [
    "P-value значительно больше 0.05. Отвергнуть нулевую гипотезу не можем, в средних чеках нет значительных различий"
   ]
  },
  {
   "cell_type": "markdown",
   "id": "d5fe625e-3fea-4e7e-a62f-dd8fd9ad7370",
   "metadata": {},
   "source": [
    "**12) Посчитаем статистическую значимость различий в среднем количестве заказов на посетителя между группами по «очищенным» данным**"
   ]
  },
  {
   "cell_type": "markdown",
   "id": "e6127b06-cac2-40e1-b766-9bbba89b805a",
   "metadata": {},
   "source": [
    "Сначала отфильтруем аномальных пользователей"
   ]
  },
  {
   "cell_type": "code",
   "execution_count": 38,
   "id": "80a866e6-04ef-424d-9941-5ab651408481",
   "metadata": {
    "scrolled": true
   },
   "outputs": [
    {
     "name": "stdout",
     "output_type": "stream",
     "text": [
      "1099    148427295\n",
      "928     204675465\n",
      "55      249864742\n",
      "684     358944393\n",
      "82      366673373\n",
      "Name: visitorId, dtype: int64\n",
      "83\n"
     ]
    }
   ],
   "source": [
    "usersWithManyOrders = pd.concat(\n",
    "    [\n",
    "        user_orders[user_orders['orders'] >= 2]['visitorId'],\n",
    "    ],\n",
    "    axis=0,\n",
    ")\n",
    "usersWithExpensiveOrders = orders[orders['revenue'] > 28000]['visitorId']\n",
    "abnormalUsers = (\n",
    "    pd.concat([usersWithManyOrders, usersWithExpensiveOrders], axis=0)\n",
    "    .drop_duplicates()\n",
    "    .sort_values()\n",
    ")\n",
    "print(abnormalUsers.head(5))\n",
    "print(abnormalUsers.shape[0])"
   ]
  },
  {
   "cell_type": "markdown",
   "id": "2045f952-9670-4f19-88d1-41ce4cd156ee",
   "metadata": {},
   "source": [
    "Получилось 83 аномальных пользователей"
   ]
  },
  {
   "cell_type": "code",
   "execution_count": 39,
   "id": "099cfd13-2c03-461f-a4a0-f4ac93948149",
   "metadata": {},
   "outputs": [],
   "source": [
    "sampleAFiltered = pd.concat(\n",
    "    [\n",
    "        ordersByUsersA[\n",
    "            np.logical_not(ordersByUsersA['visitorId'].isin(abnormalUsers))\n",
    "        ]['orders'],\n",
    "        pd.Series(\n",
    "            0,\n",
    "            index=np.arange(\n",
    "                data['visitorsPerDateA'].sum() - len(ordersByUsersA['orders'])\n",
    "            ),\n",
    "            name='orders',\n",
    "        ),\n",
    "    ],\n",
    "    axis=0,\n",
    ")\n",
    "\n",
    "sampleBFiltered = pd.concat(\n",
    "    [\n",
    "        ordersByUsersB[\n",
    "            np.logical_not(ordersByUsersB['visitorId'].isin(abnormalUsers))\n",
    "        ]['orders'],\n",
    "        pd.Series(\n",
    "            0,\n",
    "            index=np.arange(\n",
    "                data['visitorsPerDateB'].sum() - len(ordersByUsersB['orders'])\n",
    "            ),\n",
    "            name='orders',\n",
    "        ),\n",
    "    ],\n",
    "    axis=0,\n",
    ")"
   ]
  },
  {
   "cell_type": "markdown",
   "id": "8d3d5455",
   "metadata": {},
   "source": [
    "**Нулевая гипотеза:** среднее количество заказов на посетителя группы В **равно** среднему количеству заказов на посетителя группы А\n",
    "\n",
    "**Альтернативная гипотеза:** средние количества заказов на посетителя группы В и группы А **различаются**"
   ]
  },
  {
   "cell_type": "code",
   "execution_count": 40,
   "id": "0adbeb05-8175-4c7e-bfe3-93ff51ccc4bd",
   "metadata": {},
   "outputs": [
    {
     "name": "stdout",
     "output_type": "stream",
     "text": [
      "P-value: 0.012\n",
      "Процент прироста среднего группы B к конверсии группы A: 0.181\n"
     ]
    }
   ],
   "source": [
    "print('P-value:','{0:.3f}'.format(st.mannwhitneyu(sampleAFiltered, sampleBFiltered)[1]))\n",
    "print('Процент прироста среднего группы B к конверсии группы A:','{0:.3f}'.format(sampleBFiltered.mean()/sampleAFiltered.mean()-1))"
   ]
  },
  {
   "cell_type": "markdown",
   "id": "10a6425c-118a-49a6-90ad-bef688c92111",
   "metadata": {},
   "source": [
    "Результаты почти такие же как и по сырым данным. P-value меньше 0.05, отклоняем нулевую гипотезу. В количествах заказов есть статистически значимые различия между группами"
   ]
  },
  {
   "cell_type": "markdown",
   "id": "5516396e-9a6c-45a1-8376-02bfedf8fea7",
   "metadata": {},
   "source": [
    "**13) Посчитаем статистическую значимость различий в среднем чеке заказа между группами по «очищенным» данным**"
   ]
  },
  {
   "cell_type": "markdown",
   "id": "b6e04489",
   "metadata": {},
   "source": [
    "**Нулевая гипотеза:** средний чек заказа группы В **равен** среднему чеку группы А\n",
    "\n",
    "**Альтернативная гипотеза:** средние чеки групп А и В **различаются**"
   ]
  },
  {
   "cell_type": "code",
   "execution_count": 41,
   "id": "d415dba6-e887-4117-8a47-e681d4fa13d6",
   "metadata": {},
   "outputs": [
    {
     "name": "stdout",
     "output_type": "stream",
     "text": [
      "P-value: 0.851\n"
     ]
    }
   ],
   "source": [
    "print('P-value:','{0:.3f}'.format(st.mannwhitneyu(\n",
    "            orders[\n",
    "                np.logical_and(\n",
    "                    orders['group'] == 'A',\n",
    "                    np.logical_not(orders['visitorId'].isin(abnormalUsers)),\n",
    "                )\n",
    "            ]['revenue'],\n",
    "            orders[\n",
    "                np.logical_and(\n",
    "                    orders['group'] == 'B',\n",
    "                    np.logical_not(orders['visitorId'].isin(abnormalUsers)),\n",
    "                )\n",
    "            ]['revenue'],\n",
    "        )[1]\n",
    "    )\n",
    ")"
   ]
  },
  {
   "cell_type": "markdown",
   "id": "678d7bee-defb-4138-bf09-5b888acd877e",
   "metadata": {},
   "source": [
    "И снова результаты почти как в сырых данных. P-value значительно больше 0.05, разницы в средних чеках между группами нет"
   ]
  },
  {
   "cell_type": "markdown",
   "id": "22e3142c-4d79-4357-b449-c40dd79f88ee",
   "metadata": {},
   "source": [
    "**Подытожим:**\n",
    "\n",
    "1) Кумулятивная выручка группы B за месяц выше, чем выручка группы А\n",
    "2) Большую часть времени средний чек в группе В больше чека группы А, хотя динамика нестабильная\n",
    "3) Относительное изменение кумулятивного среднего чека также нестабильно, хотя средний чек группы В больше чека группы А\n",
    "4) В начале месяца значения колебались, но с 7-го числа кумулятивное среднее количество заказов в группе В было выше группы А\n",
    "5) По относительному изменению кумулятивного среднего количества заказов на посетителя в начале теста группа B значительно проигрывала группе A, но затем вырвалась вперёд и в течение месяца была стабильно лучше группы А\n",
    "6) 95% пользователей совершают 1 заказ стоимостью не более 27 000 рублей\n",
    "7) И по «сырым» и по «очищенным» от аномалий данным можно сказать, что в среднем количестве заказов между группами есть статистически значимые различия, при этом в средних чеках значимых различий нет\n",
    "\n",
    "\n",
    "Исходя из этого можно сказать, что группа В принесла больший доход за счёт увеличения количества заказоая."
   ]
  },
  {
   "cell_type": "markdown",
   "id": "521a5b9e-34b0-42e5-8ddb-47fe017b7f3a",
   "metadata": {},
   "source": [
    "## Выводы"
   ]
  },
  {
   "cell_type": "markdown",
   "id": "4800b527-57b0-4d7d-b519-80ed9e430175",
   "metadata": {},
   "source": [
    "Выводы по разделу первичного анализа и предобработки данных:\n",
    "\n",
    "- в данных не было пропусков и дубликатов\n",
    "\n",
    "- исправили типы данных с датой\n",
    "\n",
    "- убрали 58 пользователей, который попали в обе группы\n",
    "\n",
    "\n",
    "Выводы по приоретизации гипотез:\n",
    "\n",
    "- наиболее перспективной гипотезой оказалась гипотеза 7 (Добавить форму подписки на все основные страницы, чтобы собрать базу клиентов для email-рассылок), также хороший результат показала гипотеза 0 (Добавить два новых канала привлечения трафика, что позволит привлекать на 30% больше пользователей)\n",
    "\n",
    "\n",
    "Выводы по результатам A/B-теста:\n",
    "\n",
    "1) Кумулятивная выручка группы B за месяц выше, чем выручка группы А\n",
    "2) Большую часть времени средний чек группы В больше чека группы А, хотя динамика нестабильная\n",
    "3) Относительное изменение кумулятивного среднего чека также нестабильно, хотя средний чек группы В больше чека группы А\n",
    "4) В начале месяца значения колебались, но с 7-го числа кумулятивное среднее количество заказов в группе В было выше группы А\n",
    "5) По относительному изменению кумулятивного среднего количества заказов на посетителя в начале теста группа B значительно проигрывала группе A, но затем вырвалась вперёд и в течение месяца была стабильно лучше группы А\n",
    "6) 95% пользователей совершают 1 заказ стоимостью не более 27 000 рублей\n",
    "7) И по «сырым» и по «очищенным» от аномалий данным можно сказать, что в среднем количестве заказов между группами есть статистически значимые различия, при этом в средних чеках значимых различий нет\n",
    "\n",
    "\n",
    "Следовательно, группа В принесла больший доход непосредственно за счёт увеличения количества заказов\n",
    "\n",
    "**Результат: исходя из обнаруженных фактов, тест можно остановить и признать его успешным, тк при имеющихся данных группа B лучше группы A**\n",
    "\n",
    "**Примечание:** не все показатели были стабильны и если брать более строгое значение уровня значимости (p-value), 0.01, то статистически значимой разницы в количествах заказов между пользователями из разных групп не будет, поэтому, если добавление формы подписки на все основные страницы требует больших затрат, то следует продолжить тестирование, чтобы получить более достоверные результаты\n",
    "\n",
    "***Рекомендации:*** также можно протестировать гипотезу 0: Добавить два новых канала привлечения трафика, что позволит привлекать на 30% больше пользователей, тк по расчётам она является перспективной"
   ]
  }
 ],
 "metadata": {
  "ExecuteTimeLog": [
   {
    "duration": 1407,
    "start_time": "2025-03-18T11:25:00.439Z"
   },
   {
    "duration": 482,
    "start_time": "2025-03-18T11:25:01.848Z"
   },
   {
    "duration": 12,
    "start_time": "2025-03-18T11:25:02.332Z"
   },
   {
    "duration": 19,
    "start_time": "2025-03-18T11:25:02.346Z"
   },
   {
    "duration": 11,
    "start_time": "2025-03-18T11:25:02.367Z"
   },
   {
    "duration": 17,
    "start_time": "2025-03-18T11:25:02.380Z"
   },
   {
    "duration": 20,
    "start_time": "2025-03-18T11:25:02.399Z"
   },
   {
    "duration": 23,
    "start_time": "2025-03-18T11:25:02.421Z"
   },
   {
    "duration": 10,
    "start_time": "2025-03-18T11:25:02.446Z"
   },
   {
    "duration": 11,
    "start_time": "2025-03-18T11:25:02.458Z"
   },
   {
    "duration": 10,
    "start_time": "2025-03-18T11:25:02.471Z"
   },
   {
    "duration": 30,
    "start_time": "2025-03-18T11:25:02.483Z"
   },
   {
    "duration": 6,
    "start_time": "2025-03-18T11:25:02.514Z"
   },
   {
    "duration": 17,
    "start_time": "2025-03-18T11:25:02.522Z"
   },
   {
    "duration": 21,
    "start_time": "2025-03-18T11:25:02.540Z"
   },
   {
    "duration": 8,
    "start_time": "2025-03-18T11:25:02.563Z"
   },
   {
    "duration": 44,
    "start_time": "2025-03-18T11:25:02.573Z"
   },
   {
    "duration": 13,
    "start_time": "2025-03-18T11:25:02.619Z"
   },
   {
    "duration": 20,
    "start_time": "2025-03-18T11:25:02.634Z"
   },
   {
    "duration": 17,
    "start_time": "2025-03-18T11:25:02.655Z"
   },
   {
    "duration": 10,
    "start_time": "2025-03-18T11:25:02.673Z"
   },
   {
    "duration": 45,
    "start_time": "2025-03-18T11:25:02.685Z"
   },
   {
    "duration": 520,
    "start_time": "2025-03-18T11:25:02.732Z"
   },
   {
    "duration": 340,
    "start_time": "2025-03-18T11:25:03.254Z"
   },
   {
    "duration": 12,
    "start_time": "2025-03-18T11:25:03.596Z"
   },
   {
    "duration": 29,
    "start_time": "2025-03-18T11:25:03.610Z"
   },
   {
    "duration": 405,
    "start_time": "2025-03-18T11:25:03.640Z"
   },
   {
    "duration": 12,
    "start_time": "2025-03-18T11:25:04.048Z"
   },
   {
    "duration": 417,
    "start_time": "2025-03-18T11:25:04.061Z"
   },
   {
    "duration": 349,
    "start_time": "2025-03-18T11:25:04.479Z"
   },
   {
    "duration": 263,
    "start_time": "2025-03-18T11:25:04.835Z"
   },
   {
    "duration": 7,
    "start_time": "2025-03-18T11:25:05.099Z"
   },
   {
    "duration": 284,
    "start_time": "2025-03-18T11:25:05.107Z"
   },
   {
    "duration": 6,
    "start_time": "2025-03-18T11:25:05.393Z"
   },
   {
    "duration": 224,
    "start_time": "2025-03-18T11:25:05.402Z"
   },
   {
    "duration": 149,
    "start_time": "2025-03-18T11:25:05.628Z"
   },
   {
    "duration": 8,
    "start_time": "2025-03-18T11:25:05.779Z"
   },
   {
    "duration": 15,
    "start_time": "2025-03-18T11:25:05.788Z"
   },
   {
    "duration": 19,
    "start_time": "2025-03-18T11:25:05.804Z"
   },
   {
    "duration": 39,
    "start_time": "2025-03-18T11:25:05.826Z"
   },
   {
    "duration": 12,
    "start_time": "2025-03-18T11:25:05.867Z"
   },
   {
    "duration": 1208,
    "start_time": "2025-03-18T11:39:24.933Z"
   },
   {
    "duration": 209,
    "start_time": "2025-03-18T11:39:26.143Z"
   },
   {
    "duration": 14,
    "start_time": "2025-03-18T11:39:26.353Z"
   },
   {
    "duration": 11,
    "start_time": "2025-03-18T11:39:26.368Z"
   },
   {
    "duration": 23,
    "start_time": "2025-03-18T11:39:26.381Z"
   },
   {
    "duration": 10,
    "start_time": "2025-03-18T11:39:26.405Z"
   },
   {
    "duration": 20,
    "start_time": "2025-03-18T11:39:26.416Z"
   },
   {
    "duration": 25,
    "start_time": "2025-03-18T11:39:26.438Z"
   },
   {
    "duration": 13,
    "start_time": "2025-03-18T11:39:26.464Z"
   },
   {
    "duration": 12,
    "start_time": "2025-03-18T11:39:26.479Z"
   },
   {
    "duration": 11,
    "start_time": "2025-03-18T11:39:26.493Z"
   },
   {
    "duration": 7,
    "start_time": "2025-03-18T11:39:26.537Z"
   },
   {
    "duration": 6,
    "start_time": "2025-03-18T11:39:26.546Z"
   },
   {
    "duration": 9,
    "start_time": "2025-03-18T11:39:26.556Z"
   },
   {
    "duration": 6,
    "start_time": "2025-03-18T11:39:26.567Z"
   },
   {
    "duration": 7,
    "start_time": "2025-03-18T11:39:26.575Z"
   },
   {
    "duration": 4,
    "start_time": "2025-03-18T11:39:26.583Z"
   },
   {
    "duration": 6,
    "start_time": "2025-03-18T11:39:26.589Z"
   },
   {
    "duration": 6,
    "start_time": "2025-03-18T11:39:26.636Z"
   },
   {
    "duration": 17,
    "start_time": "2025-03-18T11:39:26.644Z"
   },
   {
    "duration": 16,
    "start_time": "2025-03-18T11:39:26.663Z"
   },
   {
    "duration": 77,
    "start_time": "2025-03-18T11:39:26.681Z"
   },
   {
    "duration": 465,
    "start_time": "2025-03-18T11:39:26.759Z"
   },
   {
    "duration": 341,
    "start_time": "2025-03-18T11:39:27.226Z"
   },
   {
    "duration": 13,
    "start_time": "2025-03-18T11:39:27.569Z"
   },
   {
    "duration": 22,
    "start_time": "2025-03-18T11:39:27.584Z"
   },
   {
    "duration": 445,
    "start_time": "2025-03-18T11:39:27.607Z"
   },
   {
    "duration": 12,
    "start_time": "2025-03-18T11:39:28.054Z"
   },
   {
    "duration": 405,
    "start_time": "2025-03-18T11:39:28.068Z"
   },
   {
    "duration": 365,
    "start_time": "2025-03-18T11:39:28.475Z"
   },
   {
    "duration": 299,
    "start_time": "2025-03-18T11:39:28.843Z"
   },
   {
    "duration": 6,
    "start_time": "2025-03-18T11:39:29.144Z"
   },
   {
    "duration": 286,
    "start_time": "2025-03-18T11:39:29.152Z"
   },
   {
    "duration": 6,
    "start_time": "2025-03-18T11:39:29.439Z"
   },
   {
    "duration": 222,
    "start_time": "2025-03-18T11:39:29.447Z"
   },
   {
    "duration": 170,
    "start_time": "2025-03-18T11:39:29.671Z"
   },
   {
    "duration": 8,
    "start_time": "2025-03-18T11:39:29.842Z"
   },
   {
    "duration": 11,
    "start_time": "2025-03-18T11:39:29.852Z"
   },
   {
    "duration": 9,
    "start_time": "2025-03-18T11:39:29.864Z"
   },
   {
    "duration": 24,
    "start_time": "2025-03-18T11:39:29.875Z"
   },
   {
    "duration": 33,
    "start_time": "2025-03-18T11:39:29.903Z"
   },
   {
    "duration": 162,
    "start_time": "2025-03-18T12:30:58.822Z"
   },
   {
    "duration": 90,
    "start_time": "2025-03-18T12:47:20.323Z"
   },
   {
    "duration": 47,
    "start_time": "2025-03-18T12:47:40.069Z"
   },
   {
    "duration": 1494,
    "start_time": "2025-03-18T12:48:05.590Z"
   },
   {
    "duration": 346,
    "start_time": "2025-03-18T12:48:11.623Z"
   },
   {
    "duration": 13,
    "start_time": "2025-03-18T12:48:14.524Z"
   },
   {
    "duration": 16,
    "start_time": "2025-03-18T12:48:24.587Z"
   },
   {
    "duration": 5,
    "start_time": "2025-03-18T12:48:28.623Z"
   },
   {
    "duration": 13,
    "start_time": "2025-03-18T12:48:32.031Z"
   },
   {
    "duration": 13,
    "start_time": "2025-03-18T12:48:51.862Z"
   },
   {
    "duration": 102,
    "start_time": "2025-03-18T12:49:35.187Z"
   },
   {
    "duration": 115,
    "start_time": "2025-03-18T12:49:46.154Z"
   },
   {
    "duration": 11,
    "start_time": "2025-03-18T12:51:22.540Z"
   },
   {
    "duration": 121,
    "start_time": "2025-03-18T12:52:53.187Z"
   },
   {
    "duration": 131,
    "start_time": "2025-03-18T13:00:06.419Z"
   },
   {
    "duration": 131,
    "start_time": "2025-03-18T13:01:03.743Z"
   },
   {
    "duration": 1268,
    "start_time": "2025-03-18T13:01:33.984Z"
   },
   {
    "duration": 316,
    "start_time": "2025-03-18T13:01:35.253Z"
   },
   {
    "duration": 13,
    "start_time": "2025-03-18T13:01:35.570Z"
   },
   {
    "duration": 47,
    "start_time": "2025-03-18T13:01:35.585Z"
   },
   {
    "duration": 34,
    "start_time": "2025-03-18T13:01:35.634Z"
   },
   {
    "duration": 27,
    "start_time": "2025-03-18T13:01:35.670Z"
   },
   {
    "duration": 18,
    "start_time": "2025-03-18T13:01:35.698Z"
   },
   {
    "duration": 65,
    "start_time": "2025-03-18T13:01:35.717Z"
   },
   {
    "duration": 27,
    "start_time": "2025-03-18T13:01:35.783Z"
   },
   {
    "duration": 22,
    "start_time": "2025-03-18T13:01:35.812Z"
   },
   {
    "duration": 68,
    "start_time": "2025-03-18T13:01:35.836Z"
   },
   {
    "duration": 24,
    "start_time": "2025-03-18T13:01:35.905Z"
   },
   {
    "duration": 28,
    "start_time": "2025-03-18T13:01:35.931Z"
   },
   {
    "duration": 34,
    "start_time": "2025-03-18T13:01:35.960Z"
   },
   {
    "duration": 17,
    "start_time": "2025-03-18T13:01:35.996Z"
   },
   {
    "duration": 18,
    "start_time": "2025-03-18T13:01:36.015Z"
   },
   {
    "duration": 15,
    "start_time": "2025-03-18T13:01:36.035Z"
   },
   {
    "duration": 29,
    "start_time": "2025-03-18T13:01:36.052Z"
   },
   {
    "duration": 24,
    "start_time": "2025-03-18T13:01:36.083Z"
   },
   {
    "duration": 118,
    "start_time": "2025-03-18T13:01:36.108Z"
   },
   {
    "duration": 13,
    "start_time": "2025-03-18T13:01:36.228Z"
   },
   {
    "duration": 86,
    "start_time": "2025-03-18T13:01:36.243Z"
   },
   {
    "duration": 451,
    "start_time": "2025-03-18T13:01:36.331Z"
   },
   {
    "duration": 380,
    "start_time": "2025-03-18T13:01:36.784Z"
   },
   {
    "duration": 12,
    "start_time": "2025-03-18T13:01:37.166Z"
   },
   {
    "duration": 10,
    "start_time": "2025-03-18T13:01:37.180Z"
   },
   {
    "duration": 463,
    "start_time": "2025-03-18T13:01:37.191Z"
   },
   {
    "duration": 13,
    "start_time": "2025-03-18T13:01:37.658Z"
   },
   {
    "duration": 441,
    "start_time": "2025-03-18T13:01:37.672Z"
   },
   {
    "duration": 435,
    "start_time": "2025-03-18T13:01:38.114Z"
   },
   {
    "duration": 275,
    "start_time": "2025-03-18T13:01:38.555Z"
   },
   {
    "duration": 7,
    "start_time": "2025-03-18T13:01:38.831Z"
   },
   {
    "duration": 284,
    "start_time": "2025-03-18T13:01:38.840Z"
   },
   {
    "duration": 6,
    "start_time": "2025-03-18T13:01:39.126Z"
   },
   {
    "duration": 258,
    "start_time": "2025-03-18T13:01:39.134Z"
   },
   {
    "duration": 168,
    "start_time": "2025-03-18T13:01:39.394Z"
   },
   {
    "duration": 38,
    "start_time": "2025-03-18T13:01:39.564Z"
   },
   {
    "duration": 15,
    "start_time": "2025-03-18T13:01:39.603Z"
   },
   {
    "duration": 26,
    "start_time": "2025-03-18T13:01:39.620Z"
   },
   {
    "duration": 36,
    "start_time": "2025-03-18T13:01:39.648Z"
   },
   {
    "duration": 9,
    "start_time": "2025-03-18T13:01:39.686Z"
   },
   {
    "duration": 1191,
    "start_time": "2025-03-19T00:55:31.064Z"
   },
   {
    "duration": 346,
    "start_time": "2025-03-19T00:55:32.257Z"
   },
   {
    "duration": 12,
    "start_time": "2025-03-19T00:55:32.604Z"
   },
   {
    "duration": 16,
    "start_time": "2025-03-19T00:55:32.618Z"
   },
   {
    "duration": 17,
    "start_time": "2025-03-19T00:55:32.635Z"
   },
   {
    "duration": 48,
    "start_time": "2025-03-19T00:55:32.653Z"
   },
   {
    "duration": 11,
    "start_time": "2025-03-19T00:55:32.703Z"
   },
   {
    "duration": 21,
    "start_time": "2025-03-19T00:55:32.716Z"
   },
   {
    "duration": 9,
    "start_time": "2025-03-19T00:55:32.739Z"
   },
   {
    "duration": 22,
    "start_time": "2025-03-19T00:55:32.751Z"
   },
   {
    "duration": 16,
    "start_time": "2025-03-19T00:55:32.775Z"
   },
   {
    "duration": 8,
    "start_time": "2025-03-19T00:55:32.793Z"
   },
   {
    "duration": 7,
    "start_time": "2025-03-19T00:55:32.803Z"
   },
   {
    "duration": 11,
    "start_time": "2025-03-19T00:55:32.812Z"
   },
   {
    "duration": 5,
    "start_time": "2025-03-19T00:55:32.825Z"
   },
   {
    "duration": 4,
    "start_time": "2025-03-19T00:55:32.831Z"
   },
   {
    "duration": 39,
    "start_time": "2025-03-19T00:55:32.837Z"
   },
   {
    "duration": 13,
    "start_time": "2025-03-19T00:55:32.879Z"
   },
   {
    "duration": 14,
    "start_time": "2025-03-19T00:55:32.894Z"
   },
   {
    "duration": 27,
    "start_time": "2025-03-19T00:55:32.910Z"
   },
   {
    "duration": 11,
    "start_time": "2025-03-19T00:55:32.939Z"
   },
   {
    "duration": 54,
    "start_time": "2025-03-19T00:55:32.952Z"
   },
   {
    "duration": 452,
    "start_time": "2025-03-19T00:55:33.008Z"
   },
   {
    "duration": 331,
    "start_time": "2025-03-19T00:55:33.461Z"
   },
   {
    "duration": 11,
    "start_time": "2025-03-19T00:55:33.794Z"
   },
   {
    "duration": 17,
    "start_time": "2025-03-19T00:55:33.806Z"
   },
   {
    "duration": 437,
    "start_time": "2025-03-19T00:55:33.825Z"
   },
   {
    "duration": 16,
    "start_time": "2025-03-19T00:55:34.266Z"
   },
   {
    "duration": 430,
    "start_time": "2025-03-19T00:55:34.283Z"
   },
   {
    "duration": 402,
    "start_time": "2025-03-19T00:55:34.715Z"
   },
   {
    "duration": 311,
    "start_time": "2025-03-19T00:55:35.119Z"
   },
   {
    "duration": 7,
    "start_time": "2025-03-19T00:55:35.431Z"
   },
   {
    "duration": 289,
    "start_time": "2025-03-19T00:55:35.440Z"
   },
   {
    "duration": 6,
    "start_time": "2025-03-19T00:55:35.731Z"
   },
   {
    "duration": 243,
    "start_time": "2025-03-19T00:55:35.739Z"
   },
   {
    "duration": 173,
    "start_time": "2025-03-19T00:55:35.984Z"
   },
   {
    "duration": 19,
    "start_time": "2025-03-19T00:55:36.159Z"
   },
   {
    "duration": 27,
    "start_time": "2025-03-19T00:55:36.180Z"
   },
   {
    "duration": 28,
    "start_time": "2025-03-19T00:55:36.209Z"
   },
   {
    "duration": 43,
    "start_time": "2025-03-19T00:55:36.239Z"
   },
   {
    "duration": 10,
    "start_time": "2025-03-19T00:55:36.283Z"
   },
   {
    "duration": 1136,
    "start_time": "2025-03-19T01:12:12.001Z"
   },
   {
    "duration": 172,
    "start_time": "2025-03-19T01:12:13.139Z"
   },
   {
    "duration": 11,
    "start_time": "2025-03-19T01:12:13.313Z"
   },
   {
    "duration": 15,
    "start_time": "2025-03-19T01:12:13.325Z"
   },
   {
    "duration": 15,
    "start_time": "2025-03-19T01:12:13.342Z"
   },
   {
    "duration": 12,
    "start_time": "2025-03-19T01:12:13.358Z"
   },
   {
    "duration": 12,
    "start_time": "2025-03-19T01:12:13.372Z"
   },
   {
    "duration": 18,
    "start_time": "2025-03-19T01:12:13.386Z"
   },
   {
    "duration": 10,
    "start_time": "2025-03-19T01:12:13.405Z"
   },
   {
    "duration": 9,
    "start_time": "2025-03-19T01:12:13.416Z"
   },
   {
    "duration": 17,
    "start_time": "2025-03-19T01:12:13.427Z"
   },
   {
    "duration": 31,
    "start_time": "2025-03-19T01:12:13.445Z"
   },
   {
    "duration": 5,
    "start_time": "2025-03-19T01:12:13.478Z"
   },
   {
    "duration": 6,
    "start_time": "2025-03-19T01:12:13.486Z"
   },
   {
    "duration": 4,
    "start_time": "2025-03-19T01:12:13.494Z"
   },
   {
    "duration": 3,
    "start_time": "2025-03-19T01:12:13.500Z"
   },
   {
    "duration": 3,
    "start_time": "2025-03-19T01:12:13.505Z"
   },
   {
    "duration": 7,
    "start_time": "2025-03-19T01:12:13.509Z"
   },
   {
    "duration": 9,
    "start_time": "2025-03-19T01:12:13.518Z"
   },
   {
    "duration": 53,
    "start_time": "2025-03-19T01:12:13.528Z"
   },
   {
    "duration": 11,
    "start_time": "2025-03-19T01:12:13.582Z"
   },
   {
    "duration": 41,
    "start_time": "2025-03-19T01:12:13.595Z"
   },
   {
    "duration": 446,
    "start_time": "2025-03-19T01:12:13.637Z"
   },
   {
    "duration": 337,
    "start_time": "2025-03-19T01:12:14.085Z"
   },
   {
    "duration": 12,
    "start_time": "2025-03-19T01:12:14.424Z"
   },
   {
    "duration": 7,
    "start_time": "2025-03-19T01:12:14.438Z"
   },
   {
    "duration": 444,
    "start_time": "2025-03-19T01:12:14.446Z"
   },
   {
    "duration": 12,
    "start_time": "2025-03-19T01:12:14.892Z"
   },
   {
    "duration": 419,
    "start_time": "2025-03-19T01:12:14.906Z"
   },
   {
    "duration": 430,
    "start_time": "2025-03-19T01:12:15.327Z"
   },
   {
    "duration": 277,
    "start_time": "2025-03-19T01:12:15.758Z"
   },
   {
    "duration": 7,
    "start_time": "2025-03-19T01:12:16.036Z"
   },
   {
    "duration": 286,
    "start_time": "2025-03-19T01:12:16.044Z"
   },
   {
    "duration": 7,
    "start_time": "2025-03-19T01:12:16.331Z"
   },
   {
    "duration": 243,
    "start_time": "2025-03-19T01:12:16.340Z"
   },
   {
    "duration": 167,
    "start_time": "2025-03-19T01:12:16.585Z"
   },
   {
    "duration": 7,
    "start_time": "2025-03-19T01:12:16.754Z"
   },
   {
    "duration": 41,
    "start_time": "2025-03-19T01:12:16.772Z"
   },
   {
    "duration": 37,
    "start_time": "2025-03-19T01:12:16.815Z"
   },
   {
    "duration": 24,
    "start_time": "2025-03-19T01:12:16.853Z"
   },
   {
    "duration": 8,
    "start_time": "2025-03-19T01:12:16.881Z"
   }
  ],
  "kernelspec": {
   "display_name": "Python 3 (ipykernel)",
   "language": "python",
   "name": "python3"
  },
  "language_info": {
   "codemirror_mode": {
    "name": "ipython",
    "version": 3
   },
   "file_extension": ".py",
   "mimetype": "text/x-python",
   "name": "python",
   "nbconvert_exporter": "python",
   "pygments_lexer": "ipython3",
   "version": "3.13.5"
  },
  "toc": {
   "base_numbering": 1,
   "nav_menu": {},
   "number_sections": true,
   "sideBar": true,
   "skip_h1_title": true,
   "title_cell": "Table of Contents",
   "title_sidebar": "Contents",
   "toc_cell": false,
   "toc_position": {},
   "toc_section_display": true,
   "toc_window_display": false
  }
 },
 "nbformat": 4,
 "nbformat_minor": 5
}
