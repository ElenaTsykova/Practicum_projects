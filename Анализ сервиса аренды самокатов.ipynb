{
 "cells": [
  {
   "cell_type": "markdown",
   "id": "aa3d5e54-094f-4d4a-9d4c-a384d75bf688",
   "metadata": {},
   "source": [
    "## Анализ сервиса аренды самокатов"
   ]
  },
  {
   "cell_type": "markdown",
   "id": "2cf72b20-c12f-4ee7-946b-ebc67f030c5f",
   "metadata": {},
   "source": [
    "Необходимо проанализировать данные и проверить некоторые гипотезы, которые могут помочь бизнесу вырасти. Для этого выполним следующие шаги:\n",
    "\n",
    "1. Загрузим данные и подготовим их к анализу\n",
    "2. Выполним исследовательский анализ данных\n",
    "3. Проверим гипотезы\n",
    "4. Сделаем выводы\n",
    "\n",
    "Чтобы совершать поездки по городу, пользователи сервиса пользуются мобильным приложением. \n",
    "\n",
    "Сервисом можно пользоваться:\n",
    "\n",
    "без подписки:\n",
    "\n",
    "    абонентская плата отсутствует;\n",
    "    стоимость одной минуты поездки — 8 рублей;\n",
    "    стоимость старта (начала поездки) — 50 рублей;\n",
    "    \n",
    "с подпиской Ultra:\n",
    "\n",
    "    абонентская плата — 199 рублей в месяц;\n",
    "    стоимость одной минуты поездки — 6 рублей;\n",
    "    стоимость старта — бесплатно.\n",
    "\n",
    "В основных данных есть информация о пользователях, их поездках и подписках."
   ]
  },
  {
   "cell_type": "markdown",
   "id": "1b4b4120-15d6-463c-ac90-ab02a8513860",
   "metadata": {},
   "source": [
    "### Загрузим данные и подготовим их к анализу"
   ]
  },
  {
   "cell_type": "code",
   "execution_count": 1,
   "id": "d575d7ce-0e42-419c-afbc-b4ca17e34e15",
   "metadata": {},
   "outputs": [],
   "source": [
    "import pandas as pd\n",
    "import numpy as np\n",
    "import seaborn as sns\n",
    "from datetime import datetime, timedelta\n",
    "from matplotlib import pyplot as plt\n",
    "from scipy import stats as st"
   ]
  },
  {
   "cell_type": "raw",
   "id": "b627059c",
   "metadata": {},
   "source": [
    "users = pd.read_csv(r\"C:\\Users\\tsyko\\Downloads\\users_go (1).csv\", sep=',')\n",
    "riders = pd.read_csv(r\"C:\\Users\\tsyko\\Downloads\\rides_go (1).csv\", sep=',')\n",
    "subscriptions = pd.read_csv(r\"C:\\Users\\tsyko\\Downloads\\subscriptions_go (1).csv\", sep=',')"
   ]
  },
  {
   "cell_type": "code",
   "execution_count": 2,
   "id": "8043499a",
   "metadata": {},
   "outputs": [],
   "source": [
    "users  = pd.read_csv(\"https://code.s3.yandex.net/datasets/users_go.csv\", sep=',')\n",
    "riders = pd.read_csv(\"https://code.s3.yandex.net/datasets/rides_go.csv\", sep=',')\n",
    "subscriptions = pd.read_csv(\"https://code.s3.yandex.net/datasets/subscriptions_go.csv\", sep=',')"
   ]
  },
  {
   "cell_type": "markdown",
   "id": "f995a7cc-6f6a-45b2-a443-83ca3712cfe6",
   "metadata": {},
   "source": [
    "Посмотрим на данные и подготовим их к анализу"
   ]
  },
  {
   "cell_type": "code",
   "execution_count": 3,
   "id": "c3f936b9-2842-4b1e-b0c4-b597a8aeac1a",
   "metadata": {},
   "outputs": [
    {
     "data": {
      "text/html": [
       "<div>\n",
       "<style scoped>\n",
       "    .dataframe tbody tr th:only-of-type {\n",
       "        vertical-align: middle;\n",
       "    }\n",
       "\n",
       "    .dataframe tbody tr th {\n",
       "        vertical-align: top;\n",
       "    }\n",
       "\n",
       "    .dataframe thead th {\n",
       "        text-align: right;\n",
       "    }\n",
       "</style>\n",
       "<table border=\"1\" class=\"dataframe\">\n",
       "  <thead>\n",
       "    <tr style=\"text-align: right;\">\n",
       "      <th></th>\n",
       "      <th>user_id</th>\n",
       "      <th>name</th>\n",
       "      <th>age</th>\n",
       "      <th>city</th>\n",
       "      <th>subscription_type</th>\n",
       "    </tr>\n",
       "  </thead>\n",
       "  <tbody>\n",
       "    <tr>\n",
       "      <th>0</th>\n",
       "      <td>1</td>\n",
       "      <td>Кира</td>\n",
       "      <td>22</td>\n",
       "      <td>Тюмень</td>\n",
       "      <td>ultra</td>\n",
       "    </tr>\n",
       "    <tr>\n",
       "      <th>1</th>\n",
       "      <td>2</td>\n",
       "      <td>Станислав</td>\n",
       "      <td>31</td>\n",
       "      <td>Омск</td>\n",
       "      <td>ultra</td>\n",
       "    </tr>\n",
       "    <tr>\n",
       "      <th>2</th>\n",
       "      <td>3</td>\n",
       "      <td>Алексей</td>\n",
       "      <td>20</td>\n",
       "      <td>Москва</td>\n",
       "      <td>ultra</td>\n",
       "    </tr>\n",
       "    <tr>\n",
       "      <th>3</th>\n",
       "      <td>4</td>\n",
       "      <td>Константин</td>\n",
       "      <td>26</td>\n",
       "      <td>Ростов-на-Дону</td>\n",
       "      <td>ultra</td>\n",
       "    </tr>\n",
       "    <tr>\n",
       "      <th>4</th>\n",
       "      <td>5</td>\n",
       "      <td>Адель</td>\n",
       "      <td>28</td>\n",
       "      <td>Омск</td>\n",
       "      <td>ultra</td>\n",
       "    </tr>\n",
       "  </tbody>\n",
       "</table>\n",
       "</div>"
      ],
      "text/plain": [
       "   user_id        name  age            city subscription_type\n",
       "0        1        Кира   22          Тюмень             ultra\n",
       "1        2   Станислав   31            Омск             ultra\n",
       "2        3     Алексей   20          Москва             ultra\n",
       "3        4  Константин   26  Ростов-на-Дону             ultra\n",
       "4        5       Адель   28            Омск             ultra"
      ]
     },
     "execution_count": 3,
     "metadata": {},
     "output_type": "execute_result"
    }
   ],
   "source": [
    "users.head()"
   ]
  },
  {
   "cell_type": "code",
   "execution_count": 4,
   "id": "142e3949-469c-4785-a27e-ad1c18c12baf",
   "metadata": {},
   "outputs": [
    {
     "name": "stdout",
     "output_type": "stream",
     "text": [
      "<class 'pandas.core.frame.DataFrame'>\n",
      "RangeIndex: 1565 entries, 0 to 1564\n",
      "Data columns (total 5 columns):\n",
      " #   Column             Non-Null Count  Dtype \n",
      "---  ------             --------------  ----- \n",
      " 0   user_id            1565 non-null   int64 \n",
      " 1   name               1565 non-null   object\n",
      " 2   age                1565 non-null   int64 \n",
      " 3   city               1565 non-null   object\n",
      " 4   subscription_type  1565 non-null   object\n",
      "dtypes: int64(2), object(3)\n",
      "memory usage: 61.3+ KB\n"
     ]
    }
   ],
   "source": [
    "users.info()"
   ]
  },
  {
   "cell_type": "markdown",
   "id": "02d64268-d43e-496f-8a0c-c5569a01bd9e",
   "metadata": {},
   "source": [
    "Отлично! Пропусков нет, столбцы имеют нужный тип данных. Идём дальше"
   ]
  },
  {
   "cell_type": "code",
   "execution_count": 5,
   "id": "1725d570-442a-44b1-a9fd-eee3bd268ac1",
   "metadata": {},
   "outputs": [
    {
     "data": {
      "text/html": [
       "<div>\n",
       "<style scoped>\n",
       "    .dataframe tbody tr th:only-of-type {\n",
       "        vertical-align: middle;\n",
       "    }\n",
       "\n",
       "    .dataframe tbody tr th {\n",
       "        vertical-align: top;\n",
       "    }\n",
       "\n",
       "    .dataframe thead th {\n",
       "        text-align: right;\n",
       "    }\n",
       "</style>\n",
       "<table border=\"1\" class=\"dataframe\">\n",
       "  <thead>\n",
       "    <tr style=\"text-align: right;\">\n",
       "      <th></th>\n",
       "      <th>user_id</th>\n",
       "      <th>distance</th>\n",
       "      <th>duration</th>\n",
       "      <th>date</th>\n",
       "    </tr>\n",
       "  </thead>\n",
       "  <tbody>\n",
       "    <tr>\n",
       "      <th>0</th>\n",
       "      <td>1</td>\n",
       "      <td>4409.919140</td>\n",
       "      <td>25.599769</td>\n",
       "      <td>2021-01-01</td>\n",
       "    </tr>\n",
       "    <tr>\n",
       "      <th>1</th>\n",
       "      <td>1</td>\n",
       "      <td>2617.592153</td>\n",
       "      <td>15.816871</td>\n",
       "      <td>2021-01-18</td>\n",
       "    </tr>\n",
       "    <tr>\n",
       "      <th>2</th>\n",
       "      <td>1</td>\n",
       "      <td>754.159807</td>\n",
       "      <td>6.232113</td>\n",
       "      <td>2021-04-20</td>\n",
       "    </tr>\n",
       "    <tr>\n",
       "      <th>3</th>\n",
       "      <td>1</td>\n",
       "      <td>2694.783254</td>\n",
       "      <td>18.511000</td>\n",
       "      <td>2021-08-11</td>\n",
       "    </tr>\n",
       "    <tr>\n",
       "      <th>4</th>\n",
       "      <td>1</td>\n",
       "      <td>4028.687306</td>\n",
       "      <td>26.265803</td>\n",
       "      <td>2021-08-28</td>\n",
       "    </tr>\n",
       "  </tbody>\n",
       "</table>\n",
       "</div>"
      ],
      "text/plain": [
       "   user_id     distance   duration        date\n",
       "0        1  4409.919140  25.599769  2021-01-01\n",
       "1        1  2617.592153  15.816871  2021-01-18\n",
       "2        1   754.159807   6.232113  2021-04-20\n",
       "3        1  2694.783254  18.511000  2021-08-11\n",
       "4        1  4028.687306  26.265803  2021-08-28"
      ]
     },
     "execution_count": 5,
     "metadata": {},
     "output_type": "execute_result"
    }
   ],
   "source": [
    "riders.head()"
   ]
  },
  {
   "cell_type": "code",
   "execution_count": 6,
   "id": "4d167c44-d3d1-4292-9e5a-cf8e07b18d40",
   "metadata": {},
   "outputs": [
    {
     "name": "stdout",
     "output_type": "stream",
     "text": [
      "<class 'pandas.core.frame.DataFrame'>\n",
      "RangeIndex: 18068 entries, 0 to 18067\n",
      "Data columns (total 4 columns):\n",
      " #   Column    Non-Null Count  Dtype  \n",
      "---  ------    --------------  -----  \n",
      " 0   user_id   18068 non-null  int64  \n",
      " 1   distance  18068 non-null  float64\n",
      " 2   duration  18068 non-null  float64\n",
      " 3   date      18068 non-null  object \n",
      "dtypes: float64(2), int64(1), object(1)\n",
      "memory usage: 564.8+ KB\n"
     ]
    }
   ],
   "source": [
    "riders.info()"
   ]
  },
  {
   "cell_type": "markdown",
   "id": "edf554a7-e50f-41dc-b86e-ac56f27ff08f",
   "metadata": {},
   "source": [
    "Тожё всё хорошо, только стобец date нужно привести к нужному типу"
   ]
  },
  {
   "cell_type": "code",
   "execution_count": 7,
   "id": "10313890-08e0-4431-beab-bfec295f8e81",
   "metadata": {},
   "outputs": [
    {
     "name": "stdout",
     "output_type": "stream",
     "text": [
      "<class 'pandas.core.frame.DataFrame'>\n",
      "RangeIndex: 18068 entries, 0 to 18067\n",
      "Data columns (total 4 columns):\n",
      " #   Column    Non-Null Count  Dtype         \n",
      "---  ------    --------------  -----         \n",
      " 0   user_id   18068 non-null  int64         \n",
      " 1   distance  18068 non-null  float64       \n",
      " 2   duration  18068 non-null  float64       \n",
      " 3   date      18068 non-null  datetime64[ns]\n",
      "dtypes: datetime64[ns](1), float64(2), int64(1)\n",
      "memory usage: 564.8 KB\n"
     ]
    }
   ],
   "source": [
    "riders['date'] = pd.to_datetime(riders['date'])\n",
    "riders.info()"
   ]
  },
  {
   "cell_type": "code",
   "execution_count": 8,
   "id": "20bf3709-0339-4909-b12a-280c634d7ad2",
   "metadata": {},
   "outputs": [
    {
     "data": {
      "text/html": [
       "<div>\n",
       "<style scoped>\n",
       "    .dataframe tbody tr th:only-of-type {\n",
       "        vertical-align: middle;\n",
       "    }\n",
       "\n",
       "    .dataframe tbody tr th {\n",
       "        vertical-align: top;\n",
       "    }\n",
       "\n",
       "    .dataframe thead th {\n",
       "        text-align: right;\n",
       "    }\n",
       "</style>\n",
       "<table border=\"1\" class=\"dataframe\">\n",
       "  <thead>\n",
       "    <tr style=\"text-align: right;\">\n",
       "      <th></th>\n",
       "      <th>subscription_type</th>\n",
       "      <th>minute_price</th>\n",
       "      <th>start_ride_price</th>\n",
       "      <th>subscription_fee</th>\n",
       "    </tr>\n",
       "  </thead>\n",
       "  <tbody>\n",
       "    <tr>\n",
       "      <th>0</th>\n",
       "      <td>free</td>\n",
       "      <td>8</td>\n",
       "      <td>50</td>\n",
       "      <td>0</td>\n",
       "    </tr>\n",
       "    <tr>\n",
       "      <th>1</th>\n",
       "      <td>ultra</td>\n",
       "      <td>6</td>\n",
       "      <td>0</td>\n",
       "      <td>199</td>\n",
       "    </tr>\n",
       "  </tbody>\n",
       "</table>\n",
       "</div>"
      ],
      "text/plain": [
       "  subscription_type  minute_price  start_ride_price  subscription_fee\n",
       "0              free             8                50                 0\n",
       "1             ultra             6                 0               199"
      ]
     },
     "execution_count": 8,
     "metadata": {},
     "output_type": "execute_result"
    }
   ],
   "source": [
    "subscriptions.head()"
   ]
  },
  {
   "cell_type": "code",
   "execution_count": 9,
   "id": "1a6007be-0dad-44e1-ac4e-eaa55515377a",
   "metadata": {},
   "outputs": [
    {
     "name": "stdout",
     "output_type": "stream",
     "text": [
      "<class 'pandas.core.frame.DataFrame'>\n",
      "RangeIndex: 2 entries, 0 to 1\n",
      "Data columns (total 4 columns):\n",
      " #   Column             Non-Null Count  Dtype \n",
      "---  ------             --------------  ----- \n",
      " 0   subscription_type  2 non-null      object\n",
      " 1   minute_price       2 non-null      int64 \n",
      " 2   start_ride_price   2 non-null      int64 \n",
      " 3   subscription_fee   2 non-null      int64 \n",
      "dtypes: int64(3), object(1)\n",
      "memory usage: 192.0+ bytes\n"
     ]
    }
   ],
   "source": [
    "subscriptions.info()"
   ]
  },
  {
   "cell_type": "markdown",
   "id": "90726804-07a0-4924-8c65-531400f96707",
   "metadata": {},
   "source": [
    "Всё хорошо, можем продолжить предобработку!\n",
    "\n",
    "Создим новый столбец с номером месяца на основе столбца date."
   ]
  },
  {
   "cell_type": "markdown",
   "id": "d23cfee1-8950-4aa7-bbba-770e303602d6",
   "metadata": {},
   "source": [
    "Проверим за какой период данные в датасете; если данные за несколько лет, то номера месяцев будут в разных годах одинаковыми"
   ]
  },
  {
   "cell_type": "code",
   "execution_count": 10,
   "id": "be6c1a10-b63d-459a-a7ad-8288e2e71e39",
   "metadata": {},
   "outputs": [
    {
     "data": {
      "text/html": [
       "<div>\n",
       "<style scoped>\n",
       "    .dataframe tbody tr th:only-of-type {\n",
       "        vertical-align: middle;\n",
       "    }\n",
       "\n",
       "    .dataframe tbody tr th {\n",
       "        vertical-align: top;\n",
       "    }\n",
       "\n",
       "    .dataframe thead th {\n",
       "        text-align: right;\n",
       "    }\n",
       "</style>\n",
       "<table border=\"1\" class=\"dataframe\">\n",
       "  <thead>\n",
       "    <tr style=\"text-align: right;\">\n",
       "      <th></th>\n",
       "      <th>user_id</th>\n",
       "      <th>distance</th>\n",
       "      <th>duration</th>\n",
       "    </tr>\n",
       "  </thead>\n",
       "  <tbody>\n",
       "    <tr>\n",
       "      <th>count</th>\n",
       "      <td>18068.000000</td>\n",
       "      <td>18068.000000</td>\n",
       "      <td>18068.000000</td>\n",
       "    </tr>\n",
       "    <tr>\n",
       "      <th>mean</th>\n",
       "      <td>842.869936</td>\n",
       "      <td>3070.659976</td>\n",
       "      <td>17.805011</td>\n",
       "    </tr>\n",
       "    <tr>\n",
       "      <th>std</th>\n",
       "      <td>434.734317</td>\n",
       "      <td>1116.831209</td>\n",
       "      <td>6.091051</td>\n",
       "    </tr>\n",
       "    <tr>\n",
       "      <th>min</th>\n",
       "      <td>1.000000</td>\n",
       "      <td>0.855683</td>\n",
       "      <td>0.500000</td>\n",
       "    </tr>\n",
       "    <tr>\n",
       "      <th>25%</th>\n",
       "      <td>487.000000</td>\n",
       "      <td>2543.226360</td>\n",
       "      <td>13.597563</td>\n",
       "    </tr>\n",
       "    <tr>\n",
       "      <th>50%</th>\n",
       "      <td>889.000000</td>\n",
       "      <td>3133.609994</td>\n",
       "      <td>17.678395</td>\n",
       "    </tr>\n",
       "    <tr>\n",
       "      <th>75%</th>\n",
       "      <td>1213.250000</td>\n",
       "      <td>3776.222735</td>\n",
       "      <td>21.724800</td>\n",
       "    </tr>\n",
       "    <tr>\n",
       "      <th>max</th>\n",
       "      <td>1534.000000</td>\n",
       "      <td>7211.007745</td>\n",
       "      <td>40.823963</td>\n",
       "    </tr>\n",
       "  </tbody>\n",
       "</table>\n",
       "</div>"
      ],
      "text/plain": [
       "            user_id      distance      duration\n",
       "count  18068.000000  18068.000000  18068.000000\n",
       "mean     842.869936   3070.659976     17.805011\n",
       "std      434.734317   1116.831209      6.091051\n",
       "min        1.000000      0.855683      0.500000\n",
       "25%      487.000000   2543.226360     13.597563\n",
       "50%      889.000000   3133.609994     17.678395\n",
       "75%     1213.250000   3776.222735     21.724800\n",
       "max     1534.000000   7211.007745     40.823963"
      ]
     },
     "execution_count": 10,
     "metadata": {},
     "output_type": "execute_result"
    }
   ],
   "source": [
    "riders.describe()"
   ]
  },
  {
   "cell_type": "markdown",
   "id": "13a44363-ed6a-4e13-aedd-eaabafe2f2a5",
   "metadata": {},
   "source": [
    "Мы распологаем данными только за 2021 год, поэтому путаницы не будет"
   ]
  },
  {
   "cell_type": "code",
   "execution_count": 11,
   "id": "ce2f3797-df5c-4dfc-a5be-710de6f11f11",
   "metadata": {},
   "outputs": [
    {
     "data": {
      "text/html": [
       "<div>\n",
       "<style scoped>\n",
       "    .dataframe tbody tr th:only-of-type {\n",
       "        vertical-align: middle;\n",
       "    }\n",
       "\n",
       "    .dataframe tbody tr th {\n",
       "        vertical-align: top;\n",
       "    }\n",
       "\n",
       "    .dataframe thead th {\n",
       "        text-align: right;\n",
       "    }\n",
       "</style>\n",
       "<table border=\"1\" class=\"dataframe\">\n",
       "  <thead>\n",
       "    <tr style=\"text-align: right;\">\n",
       "      <th></th>\n",
       "      <th>user_id</th>\n",
       "      <th>distance</th>\n",
       "      <th>duration</th>\n",
       "      <th>date</th>\n",
       "      <th>month</th>\n",
       "    </tr>\n",
       "  </thead>\n",
       "  <tbody>\n",
       "    <tr>\n",
       "      <th>0</th>\n",
       "      <td>1</td>\n",
       "      <td>4409.919140</td>\n",
       "      <td>25.599769</td>\n",
       "      <td>2021-01-01</td>\n",
       "      <td>1</td>\n",
       "    </tr>\n",
       "    <tr>\n",
       "      <th>1</th>\n",
       "      <td>1</td>\n",
       "      <td>2617.592153</td>\n",
       "      <td>15.816871</td>\n",
       "      <td>2021-01-18</td>\n",
       "      <td>1</td>\n",
       "    </tr>\n",
       "    <tr>\n",
       "      <th>2</th>\n",
       "      <td>1</td>\n",
       "      <td>754.159807</td>\n",
       "      <td>6.232113</td>\n",
       "      <td>2021-04-20</td>\n",
       "      <td>4</td>\n",
       "    </tr>\n",
       "    <tr>\n",
       "      <th>3</th>\n",
       "      <td>1</td>\n",
       "      <td>2694.783254</td>\n",
       "      <td>18.511000</td>\n",
       "      <td>2021-08-11</td>\n",
       "      <td>8</td>\n",
       "    </tr>\n",
       "    <tr>\n",
       "      <th>4</th>\n",
       "      <td>1</td>\n",
       "      <td>4028.687306</td>\n",
       "      <td>26.265803</td>\n",
       "      <td>2021-08-28</td>\n",
       "      <td>8</td>\n",
       "    </tr>\n",
       "    <tr>\n",
       "      <th>5</th>\n",
       "      <td>1</td>\n",
       "      <td>2770.890808</td>\n",
       "      <td>16.650138</td>\n",
       "      <td>2021-10-09</td>\n",
       "      <td>10</td>\n",
       "    </tr>\n",
       "    <tr>\n",
       "      <th>6</th>\n",
       "      <td>1</td>\n",
       "      <td>3039.020292</td>\n",
       "      <td>14.927879</td>\n",
       "      <td>2021-10-19</td>\n",
       "      <td>10</td>\n",
       "    </tr>\n",
       "    <tr>\n",
       "      <th>7</th>\n",
       "      <td>1</td>\n",
       "      <td>2842.118050</td>\n",
       "      <td>23.117468</td>\n",
       "      <td>2021-11-06</td>\n",
       "      <td>11</td>\n",
       "    </tr>\n",
       "    <tr>\n",
       "      <th>8</th>\n",
       "      <td>1</td>\n",
       "      <td>3412.690668</td>\n",
       "      <td>15.238072</td>\n",
       "      <td>2021-11-14</td>\n",
       "      <td>11</td>\n",
       "    </tr>\n",
       "    <tr>\n",
       "      <th>9</th>\n",
       "      <td>1</td>\n",
       "      <td>748.690645</td>\n",
       "      <td>15.041884</td>\n",
       "      <td>2021-11-22</td>\n",
       "      <td>11</td>\n",
       "    </tr>\n",
       "  </tbody>\n",
       "</table>\n",
       "</div>"
      ],
      "text/plain": [
       "   user_id     distance   duration       date  month\n",
       "0        1  4409.919140  25.599769 2021-01-01      1\n",
       "1        1  2617.592153  15.816871 2021-01-18      1\n",
       "2        1   754.159807   6.232113 2021-04-20      4\n",
       "3        1  2694.783254  18.511000 2021-08-11      8\n",
       "4        1  4028.687306  26.265803 2021-08-28      8\n",
       "5        1  2770.890808  16.650138 2021-10-09     10\n",
       "6        1  3039.020292  14.927879 2021-10-19     10\n",
       "7        1  2842.118050  23.117468 2021-11-06     11\n",
       "8        1  3412.690668  15.238072 2021-11-14     11\n",
       "9        1   748.690645  15.041884 2021-11-22     11"
      ]
     },
     "execution_count": 11,
     "metadata": {},
     "output_type": "execute_result"
    }
   ],
   "source": [
    "riders['month'] = riders['date'].dt.month\n",
    "riders.head(10)"
   ]
  },
  {
   "cell_type": "markdown",
   "id": "892c5ff7-d9f8-4239-9f4a-1df77192e94b",
   "metadata": {},
   "source": [
    "Проверим наличие дубликатов в датафреймах"
   ]
  },
  {
   "cell_type": "code",
   "execution_count": 12,
   "id": "32c49531-893b-4df6-a884-04e8e78d2922",
   "metadata": {},
   "outputs": [
    {
     "data": {
      "text/plain": [
       "31"
      ]
     },
     "execution_count": 12,
     "metadata": {},
     "output_type": "execute_result"
    }
   ],
   "source": [
    "users.duplicated().sum()"
   ]
  },
  {
   "cell_type": "code",
   "execution_count": 13,
   "id": "0a8e7cc7-518d-442d-85c1-d7eebb4713ab",
   "metadata": {},
   "outputs": [
    {
     "data": {
      "text/html": [
       "<div>\n",
       "<style scoped>\n",
       "    .dataframe tbody tr th:only-of-type {\n",
       "        vertical-align: middle;\n",
       "    }\n",
       "\n",
       "    .dataframe tbody tr th {\n",
       "        vertical-align: top;\n",
       "    }\n",
       "\n",
       "    .dataframe thead th {\n",
       "        text-align: right;\n",
       "    }\n",
       "</style>\n",
       "<table border=\"1\" class=\"dataframe\">\n",
       "  <thead>\n",
       "    <tr style=\"text-align: right;\">\n",
       "      <th></th>\n",
       "      <th>user_id</th>\n",
       "      <th>name</th>\n",
       "      <th>age</th>\n",
       "      <th>city</th>\n",
       "      <th>subscription_type</th>\n",
       "    </tr>\n",
       "  </thead>\n",
       "  <tbody>\n",
       "    <tr>\n",
       "      <th>15</th>\n",
       "      <td>16</td>\n",
       "      <td>Амалия</td>\n",
       "      <td>27</td>\n",
       "      <td>Краснодар</td>\n",
       "      <td>ultra</td>\n",
       "    </tr>\n",
       "    <tr>\n",
       "      <th>1535</th>\n",
       "      <td>16</td>\n",
       "      <td>Амалия</td>\n",
       "      <td>27</td>\n",
       "      <td>Краснодар</td>\n",
       "      <td>ultra</td>\n",
       "    </tr>\n",
       "    <tr>\n",
       "      <th>42</th>\n",
       "      <td>43</td>\n",
       "      <td>Стефания</td>\n",
       "      <td>22</td>\n",
       "      <td>Омск</td>\n",
       "      <td>ultra</td>\n",
       "    </tr>\n",
       "    <tr>\n",
       "      <th>1539</th>\n",
       "      <td>43</td>\n",
       "      <td>Стефания</td>\n",
       "      <td>22</td>\n",
       "      <td>Омск</td>\n",
       "      <td>ultra</td>\n",
       "    </tr>\n",
       "    <tr>\n",
       "      <th>1563</th>\n",
       "      <td>47</td>\n",
       "      <td>Юрий</td>\n",
       "      <td>28</td>\n",
       "      <td>Тюмень</td>\n",
       "      <td>ultra</td>\n",
       "    </tr>\n",
       "    <tr>\n",
       "      <th>...</th>\n",
       "      <td>...</td>\n",
       "      <td>...</td>\n",
       "      <td>...</td>\n",
       "      <td>...</td>\n",
       "      <td>...</td>\n",
       "    </tr>\n",
       "    <tr>\n",
       "      <th>1554</th>\n",
       "      <td>1198</td>\n",
       "      <td>Демид</td>\n",
       "      <td>29</td>\n",
       "      <td>Ростов-на-Дону</td>\n",
       "      <td>free</td>\n",
       "    </tr>\n",
       "    <tr>\n",
       "      <th>1558</th>\n",
       "      <td>1237</td>\n",
       "      <td>Евгения</td>\n",
       "      <td>23</td>\n",
       "      <td>Тюмень</td>\n",
       "      <td>free</td>\n",
       "    </tr>\n",
       "    <tr>\n",
       "      <th>1236</th>\n",
       "      <td>1237</td>\n",
       "      <td>Евгения</td>\n",
       "      <td>23</td>\n",
       "      <td>Тюмень</td>\n",
       "      <td>free</td>\n",
       "    </tr>\n",
       "    <tr>\n",
       "      <th>1544</th>\n",
       "      <td>1245</td>\n",
       "      <td>Регина</td>\n",
       "      <td>27</td>\n",
       "      <td>Пятигорск</td>\n",
       "      <td>free</td>\n",
       "    </tr>\n",
       "    <tr>\n",
       "      <th>1244</th>\n",
       "      <td>1245</td>\n",
       "      <td>Регина</td>\n",
       "      <td>27</td>\n",
       "      <td>Пятигорск</td>\n",
       "      <td>free</td>\n",
       "    </tr>\n",
       "  </tbody>\n",
       "</table>\n",
       "<p>62 rows × 5 columns</p>\n",
       "</div>"
      ],
      "text/plain": [
       "      user_id      name  age            city subscription_type\n",
       "15         16    Амалия   27       Краснодар             ultra\n",
       "1535       16    Амалия   27       Краснодар             ultra\n",
       "42         43  Стефания   22            Омск             ultra\n",
       "1539       43  Стефания   22            Омск             ultra\n",
       "1563       47      Юрий   28          Тюмень             ultra\n",
       "...       ...       ...  ...             ...               ...\n",
       "1554     1198     Демид   29  Ростов-на-Дону              free\n",
       "1558     1237   Евгения   23          Тюмень              free\n",
       "1236     1237   Евгения   23          Тюмень              free\n",
       "1544     1245    Регина   27       Пятигорск              free\n",
       "1244     1245    Регина   27       Пятигорск              free\n",
       "\n",
       "[62 rows x 5 columns]"
      ]
     },
     "execution_count": 13,
     "metadata": {},
     "output_type": "execute_result"
    }
   ],
   "source": [
    "users[users.duplicated(keep=False)].sort_values('user_id')"
   ]
  },
  {
   "cell_type": "markdown",
   "id": "26053251-a1a0-43e7-9ae9-a18487c56b49",
   "metadata": {},
   "source": [
    "Избавимся от дубликатов"
   ]
  },
  {
   "cell_type": "code",
   "execution_count": 14,
   "id": "74d2b142-18a5-4a76-a150-4b9aa5cd6075",
   "metadata": {},
   "outputs": [
    {
     "data": {
      "text/plain": [
       "0"
      ]
     },
     "execution_count": 14,
     "metadata": {},
     "output_type": "execute_result"
    }
   ],
   "source": [
    "users = users.drop_duplicates()\n",
    "users.duplicated().sum()"
   ]
  },
  {
   "cell_type": "code",
   "execution_count": 15,
   "id": "1f68aeae-737e-4999-a4c8-21f167b09279",
   "metadata": {},
   "outputs": [
    {
     "data": {
      "text/plain": [
       "0"
      ]
     },
     "execution_count": 15,
     "metadata": {},
     "output_type": "execute_result"
    }
   ],
   "source": [
    "riders.duplicated().sum()"
   ]
  },
  {
   "cell_type": "code",
   "execution_count": 16,
   "id": "817ecc12-9614-44a3-8a64-fb62d28a9979",
   "metadata": {},
   "outputs": [
    {
     "data": {
      "text/plain": [
       "0"
      ]
     },
     "execution_count": 16,
     "metadata": {},
     "output_type": "execute_result"
    }
   ],
   "source": [
    "subscriptions.duplicated().sum()"
   ]
  },
  {
   "cell_type": "markdown",
   "id": "8184b1ea-3274-428f-bf88-87e63872f64b",
   "metadata": {},
   "source": [
    "Выводы по разделу первичного анализа и предобработки данных:\n",
    "\n",
    "- в данных не было пропусков\n",
    "- в данных о пользователях было несколько дубликатов, можно проверить систему сбора данных."
   ]
  },
  {
   "cell_type": "code",
   "execution_count": 18,
   "id": "bd97e48d-8001-463a-a284-a9cc569406a8",
   "metadata": {},
   "outputs": [
    {
     "data": {
      "text/plain": [
       "0    4409.92\n",
       "1    2617.59\n",
       "2     754.16\n",
       "Name: distance, dtype: float64"
      ]
     },
     "execution_count": 18,
     "metadata": {},
     "output_type": "execute_result"
    }
   ],
   "source": [
    "riders['distance'] = riders['distance'].round(2)\n",
    "riders['distance'].head(3)"
   ]
  },
  {
   "cell_type": "markdown",
   "id": "02a1c0f3-6173-4ec7-9596-46a8043fa4e4",
   "metadata": {},
   "source": [
    "Отлично! Больше дубликатов нет\n",
    "\n",
    "### Теперь приступим к исследовательскому анализу данных\n",
    "\n",
    "Оценим частоту встречаемости городов"
   ]
  },
  {
   "cell_type": "code",
   "execution_count": 19,
   "id": "29d7db40-f60f-4a81-a82a-7f710966f2c6",
   "metadata": {},
   "outputs": [
    {
     "name": "stdout",
     "output_type": "stream",
     "text": [
      "             city  user_count  percentage\n",
      "0          Москва         168        11.0\n",
      "1          Тюмень         180        12.0\n",
      "2            Омск         183        12.0\n",
      "3            Сочи         189        12.0\n",
      "4       Краснодар         193        13.0\n",
      "5  Ростов-на-Дону         198        13.0\n",
      "6    Екатеринбург         204        13.0\n",
      "7       Пятигорск         219        14.0\n"
     ]
    },
    {
     "data": {
      "image/png": "[encoded data removed]",
      "text/plain": [
       "<Figure size 504x360 with 1 Axes>"
      ]
     },
     "metadata": {
      "needs_background": "light"
     },
     "output_type": "display_data"
    }
   ],
   "source": [
    "city_counts = users.groupby('city').agg({'user_id': 'count'}).reset_index()\n",
    "city_counts.columns = ['city', 'user_count']\n",
    "\n",
    "total_users = city_counts['user_count'].sum()\n",
    "\n",
    "city_counts['percentage'] = round((city_counts['user_count'] / total_users) * 100)\n",
    "\n",
    "city_counts_sorted = city_counts.sort_values(by='user_count', ascending=True).reset_index(drop=True)\n",
    "\n",
    "print(city_counts_sorted)\n",
    "\n",
    "\n",
    "plt.figure(figsize=(7, 5))\n",
    "ax = plt.barh(city_counts_sorted['city'], city_counts_sorted['user_count'], color='skyblue')\n",
    "plt.xlabel('Количество пользователей')\n",
    "plt.ylabel('Город')\n",
    "plt.title('Частота встречаемости городов')\n",
    "plt.xticks(rotation=0)\n",
    "plt.tight_layout() \n",
    "\n",
    "plt.show()"
   ]
  },
  {
   "cell_type": "markdown",
   "id": "4466081e-5461-46fc-bf60-a167251de470",
   "metadata": {},
   "source": [
    "В каждом городе около 190 пользователей, наибольшее число, 219, - в Пятигорске, а наименьшее, 168, - в Москве"
   ]
  },
  {
   "cell_type": "markdown",
   "id": "0b017854-4ed0-42db-8b51-10834bffc7ec",
   "metadata": {},
   "source": [
    " Оценим соотношение пользователей с подпиской и без подписки"
   ]
  },
  {
   "cell_type": "code",
   "execution_count": 21,
   "id": "f4ff3d9d-a013-499f-8f3f-9899da499fe3",
   "metadata": {},
   "outputs": [
    {
     "name": "stdout",
     "output_type": "stream",
     "text": [
      "  subscription_type  user_count  percentage\n",
      "0             ultra         699        46.0\n",
      "1              free         835        54.0\n"
     ]
    },
    {
     "data": {
      "image/png": "[encoded data removed]",
      "text/plain": [
       "<Figure size 504x360 with 1 Axes>"
      ]
     },
     "metadata": {
      "needs_background": "light"
     },
     "output_type": "display_data"
    }
   ],
   "source": [
    "sub_type = users.groupby('subscription_type').agg({'user_id': 'count'}).reset_index()\n",
    "sub_type.columns = ['subscription_type', 'user_count']\n",
    "\n",
    "total_users = sub_type['user_count'].sum()\n",
    "\n",
    "sub_type['percentage'] = round((sub_type['user_count'] / total_users) * 100)\n",
    "\n",
    "sub_type_sorted = sub_type.sort_values(by='user_count', ascending=True).reset_index(drop=True)\n",
    "\n",
    "print(sub_type_sorted)\n",
    "\n",
    "plt.figure(figsize=(7, 5))\n",
    "plt.bar(sub_type_sorted['subscription_type'], sub_type_sorted['user_count'], color='skyblue')\n",
    "plt.xlabel('Тип подписки')\n",
    "plt.ylabel('Количество пользователей')\n",
    "plt.title('Соотношение пользователей с подпиской и без')\n",
    "plt.xticks(rotation=0)  \n",
    "plt.tight_layout() \n",
    "\n",
    "# Отображаем график\n",
    "plt.show()"
   ]
  },
  {
   "cell_type": "markdown",
   "id": "e19cc250-3aca-4109-913e-ab9805cc8934",
   "metadata": {},
   "source": [
    "Соотношение пользователей с подпиской и без примерно одинаковое, но пользователей без подписки немного больше (54% против 46%)"
   ]
  },
  {
   "cell_type": "markdown",
   "id": "00361a15-2d40-4c2b-808a-8e4ba0867960",
   "metadata": {},
   "source": [
    "Проанализируем возраст пользователей"
   ]
  },
  {
   "cell_type": "code",
   "execution_count": 23,
   "id": "2dfab2ca-50bf-4c4a-87fd-2e728108e3bb",
   "metadata": {},
   "outputs": [
    {
     "name": "stdout",
     "output_type": "stream",
     "text": [
      "         age_group  user_count  percentage\n",
      "0  от 18 до 29 лет        1212        79.0\n",
      "1  от 30 до 39 лет         242        16.0\n",
      "2        до 18 лет          79         5.0\n",
      "3    старше 40 лет           1         0.0\n"
     ]
    },
    {
     "data": {
      "image/png": "[encoded data removed]",
      "text/plain": [
       "<Figure size 504x360 with 1 Axes>"
      ]
     },
     "metadata": {
      "needs_background": "light"
     },
     "output_type": "display_data"
    }
   ],
   "source": [
    "# для удобства разобъём значения возраста на группы\n",
    "def categorize_age(age):\n",
    "    if age < 18:\n",
    "        return 'до 18 лет'\n",
    "    elif 18 <= age < 30:\n",
    "        return 'от 18 до 29 лет'\n",
    "    elif 30 <= age < 40:\n",
    "        return 'от 30 до 39 лет'\n",
    "    else:\n",
    "        return 'старше 40 лет'\n",
    "\n",
    "users['age_group'] = users['age'].apply(categorize_age)\n",
    "\n",
    "age_group_counts = users.groupby('age_group').agg({'user_id': 'count'}).reset_index()\n",
    "age_group_counts.columns = ['age_group', 'user_count']\n",
    "\n",
    "total_users = age_group_counts['user_count'].sum()\n",
    "\n",
    "age_group_counts['percentage'] = round((age_group_counts['user_count'] / total_users) * 100)\n",
    "\n",
    "age_group_counts_sorted = age_group_counts.sort_values(by='user_count', ascending=False).reset_index(drop=True)\n",
    "\n",
    "print(age_group_counts_sorted)\n",
    "\n",
    "age_counts = users.groupby('age').agg({'user_id': 'count'}).reset_index()\n",
    "age_counts = age_counts.sort_values(by='user_id', ascending=False).reset_index(drop=True)\n",
    "\n",
    "plt.figure(figsize=(7, 5))\n",
    "plt.bar(age_counts['age'], age_counts['user_id'], color='skyblue')\n",
    "plt.xlabel('Количество пользователей')\n",
    "plt.ylabel('Возраст')\n",
    "plt.title('Распределение пользователей по возрасту')\n",
    "plt.xticks(rotation=0)  \n",
    "plt.tight_layout()  \n",
    "\n",
    "plt.show()"
   ]
  },
  {
   "cell_type": "markdown",
   "id": "8b6cfd6a-70b5-4d01-884b-23cc60d576ee",
   "metadata": {},
   "source": [
    "Наибольшее количество пользователей находится в возрасте от 18 до 29 лет (наибольшему числу пользователей 25 лет)"
   ]
  },
  {
   "cell_type": "markdown",
   "id": "d80338a9-2207-4f01-a416-328b65055388",
   "metadata": {},
   "source": [
    "Теперь оценим расстояние, которое пользователь преодолел за одну поездку"
   ]
  },
  {
   "cell_type": "code",
   "execution_count": 24,
   "id": "9a61056a-a177-4f48-9381-57531a244df1",
   "metadata": {},
   "outputs": [
    {
     "data": {
      "text/html": [
       "<div>\n",
       "<style scoped>\n",
       "    .dataframe tbody tr th:only-of-type {\n",
       "        vertical-align: middle;\n",
       "    }\n",
       "\n",
       "    .dataframe tbody tr th {\n",
       "        vertical-align: top;\n",
       "    }\n",
       "\n",
       "    .dataframe thead th {\n",
       "        text-align: right;\n",
       "    }\n",
       "</style>\n",
       "<table border=\"1\" class=\"dataframe\">\n",
       "  <thead>\n",
       "    <tr style=\"text-align: right;\">\n",
       "      <th></th>\n",
       "      <th>user_id</th>\n",
       "      <th>distance</th>\n",
       "      <th>duration</th>\n",
       "      <th>month</th>\n",
       "    </tr>\n",
       "  </thead>\n",
       "  <tbody>\n",
       "    <tr>\n",
       "      <th>count</th>\n",
       "      <td>18068.000000</td>\n",
       "      <td>18068.000000</td>\n",
       "      <td>18068.000000</td>\n",
       "      <td>18068.000000</td>\n",
       "    </tr>\n",
       "    <tr>\n",
       "      <th>mean</th>\n",
       "      <td>842.869936</td>\n",
       "      <td>3070.659992</td>\n",
       "      <td>17.805011</td>\n",
       "      <td>6.486772</td>\n",
       "    </tr>\n",
       "    <tr>\n",
       "      <th>std</th>\n",
       "      <td>434.734317</td>\n",
       "      <td>1116.831222</td>\n",
       "      <td>6.091051</td>\n",
       "      <td>3.437410</td>\n",
       "    </tr>\n",
       "    <tr>\n",
       "      <th>min</th>\n",
       "      <td>1.000000</td>\n",
       "      <td>0.860000</td>\n",
       "      <td>0.500000</td>\n",
       "      <td>1.000000</td>\n",
       "    </tr>\n",
       "    <tr>\n",
       "      <th>25%</th>\n",
       "      <td>487.000000</td>\n",
       "      <td>2543.227500</td>\n",
       "      <td>13.597563</td>\n",
       "      <td>4.000000</td>\n",
       "    </tr>\n",
       "    <tr>\n",
       "      <th>50%</th>\n",
       "      <td>889.000000</td>\n",
       "      <td>3133.610000</td>\n",
       "      <td>17.678395</td>\n",
       "      <td>6.000000</td>\n",
       "    </tr>\n",
       "    <tr>\n",
       "      <th>75%</th>\n",
       "      <td>1213.250000</td>\n",
       "      <td>3776.220000</td>\n",
       "      <td>21.724800</td>\n",
       "      <td>9.000000</td>\n",
       "    </tr>\n",
       "    <tr>\n",
       "      <th>max</th>\n",
       "      <td>1534.000000</td>\n",
       "      <td>7211.010000</td>\n",
       "      <td>40.823963</td>\n",
       "      <td>12.000000</td>\n",
       "    </tr>\n",
       "  </tbody>\n",
       "</table>\n",
       "</div>"
      ],
      "text/plain": [
       "            user_id      distance      duration         month\n",
       "count  18068.000000  18068.000000  18068.000000  18068.000000\n",
       "mean     842.869936   3070.659992     17.805011      6.486772\n",
       "std      434.734317   1116.831222      6.091051      3.437410\n",
       "min        1.000000      0.860000      0.500000      1.000000\n",
       "25%      487.000000   2543.227500     13.597563      4.000000\n",
       "50%      889.000000   3133.610000     17.678395      6.000000\n",
       "75%     1213.250000   3776.220000     21.724800      9.000000\n",
       "max     1534.000000   7211.010000     40.823963     12.000000"
      ]
     },
     "execution_count": 24,
     "metadata": {},
     "output_type": "execute_result"
    }
   ],
   "source": [
    "riders.describe() # посмотрим на данные, чтобы понятнее было, на какие группы разбить"
   ]
  },
  {
   "cell_type": "code",
   "execution_count": 25,
   "id": "bc9043f8-b82f-4b9d-b41c-493ae22d9cee",
   "metadata": {},
   "outputs": [
    {
     "data": {
      "image/png": "[encoded data removed]",
      "text/plain": [
       "<Figure size 432x288 with 1 Axes>"
      ]
     },
     "metadata": {
      "needs_background": "light"
     },
     "output_type": "display_data"
    }
   ],
   "source": [
    "riders['distance'].plot.hist(bins=30);\n",
    "plt.xlabel('Расстояние')\n",
    "plt.ylabel('Число пользователей')\n",
    "plt.title('Расстояние, которое пользователь преодолел за одну поездку')\n",
    "plt.grid(alpha=0.5)\n",
    "\n",
    "plt.show()"
   ]
  },
  {
   "cell_type": "markdown",
   "id": "4d6a0a81-2315-4f2b-9055-ff20381d8a94",
   "metadata": {},
   "source": [
    "Наибольшее число пользователей проезжают за одну поездку чуть больше 3х км, также есть небольшой вспелск около 600 метров"
   ]
  },
  {
   "cell_type": "code",
   "execution_count": 26,
   "id": "52b3bf62-0c15-40f9-851e-2dd56d0d5f6e",
   "metadata": {},
   "outputs": [
    {
     "name": "stdout",
     "output_type": "stream",
     "text": [
      "        distance  user_id  percentage\n",
      "0   больше 7 км.        2         0.0\n",
      "7  от 6 до 7 км.       44         0.0\n",
      "6  от 5 до 6 км.      495         3.0\n",
      "2  от 1 до 2 км.      980         5.0\n",
      "1       до 1 км.     1372         8.0\n",
      "5  от 4 до 5 км.     2937        16.0\n",
      "3  от 2 до 3 км.     5540        31.0\n",
      "4  от 3 до 4 км.     6698        37.0\n"
     ]
    },
    {
     "data": {
      "image/png": "[encoded data removed]",
      "text/plain": [
       "<Figure size 504x360 with 1 Axes>"
      ]
     },
     "metadata": {
      "needs_background": "light"
     },
     "output_type": "display_data"
    }
   ],
   "source": [
    "def categorize_distance(distance):\n",
    "    if distance < 1000:\n",
    "        return 'до 1 км.'\n",
    "    elif 1000 <= distance < 2000:\n",
    "        return 'от 1 до 2 км.'\n",
    "    elif 2000 <= distance < 3000:\n",
    "        return 'от 2 до 3 км.'\n",
    "    elif 3000 <= distance < 4000:\n",
    "        return 'от 3 до 4 км.'\n",
    "    elif 4000 <= distance < 5000:\n",
    "        return 'от 4 до 5 км.'\n",
    "    elif 5000 <= distance < 6000:\n",
    "        return 'от 5 до 6 км.'\n",
    "    elif 6000 <= distance < 7000:\n",
    "        return 'от 6 до 7 км.'\n",
    "    else:\n",
    "        return 'больше 7 км.'\n",
    "\n",
    "df_distance = riders.copy(deep=True)\n",
    "df_distance['distance'] = df_distance['distance'].apply(categorize_distance)\n",
    "\n",
    "df_distance = df_distance.groupby('distance').agg({'user_id': 'count'})\n",
    "df_distance.reset_index(inplace=True)\n",
    "total_users = df_distance['user_id'].sum()\n",
    "df_distance['percentage'] = round((df_distance['user_id'] / total_users) * 100)\n",
    "df_distance = df_distance.sort_values(by='user_id', ascending=True)\n",
    "\n",
    "print(df_distance)\n",
    "\n",
    "plt.figure(figsize=(7, 5))\n",
    "# Построение горизонтальной диаграммы\n",
    "plt.barh(df_distance['distance'], df_distance['user_id'], color='skyblue')\n",
    "plt.xlabel('Число пользователей')\n",
    "plt.ylabel('Расстояние')\n",
    "plt.title('Расстояние, которое пользователь преодолел за одну поездку')\n",
    "plt.tight_layout()\n",
    "\n",
    "plt.show()"
   ]
  },
  {
   "cell_type": "markdown",
   "id": "36e82a53-fe7e-48c8-b993-3acae18411c3",
   "metadata": {},
   "source": [
    "Более 80% пользователей проезжают за одну поездку от 2-х до 5-ти км; наибольший процент пользователей, 37%, проезжают от 3-х до 4-х км"
   ]
  },
  {
   "cell_type": "markdown",
   "id": "4e0a2205-e02b-45c1-a6ae-089e77d1a28f",
   "metadata": {},
   "source": [
    "Рассмотрим продолжительность поездок"
   ]
  },
  {
   "cell_type": "code",
   "execution_count": 27,
   "id": "f327cbdf-a05a-4a93-9fe8-2dfa400cfea3",
   "metadata": {},
   "outputs": [
    {
     "data": {
      "image/png": "[encoded data removed]",
      "text/plain": [
       "<Figure size 432x288 with 1 Axes>"
      ]
     },
     "metadata": {
      "needs_background": "light"
     },
     "output_type": "display_data"
    }
   ],
   "source": [
    "riders['duration'].plot.hist(bins=90);\n",
    "plt.xlabel('Длительность, мин.')\n",
    "plt.ylabel('Число пользователей')\n",
    "plt.title('Продолжительность поездки')\n",
    "plt.grid(alpha=0.5)\n",
    "\n",
    "plt.show()"
   ]
  },
  {
   "cell_type": "markdown",
   "id": "b7d57472-aa8a-4839-8fdc-ce7d5beacb11",
   "metadata": {},
   "source": [
    "У наибольшего числа людей длительность одной поездки занимает около 18 минут, при этом есть ещё аномальное значение около 1 минуты"
   ]
  },
  {
   "cell_type": "code",
   "execution_count": 28,
   "id": "6e36410e-c37b-4c0c-8bc0-9bf13a6ab31c",
   "metadata": {},
   "outputs": [
    {
     "name": "stdout",
     "output_type": "stream",
     "text": [
      "           duration  user_id  percentage\n",
      "0    больше 35 мин.       28         0.0\n",
      "1         до 5 мин.      278         2.0\n",
      "2  от 30 до 35 мин.      515         3.0\n",
      "3   от 5 до 10 мин.     1361         8.0\n",
      "4  от 25 до 30 мин.     1651         9.0\n",
      "5  от 20 до 25 мин.     4140        23.0\n",
      "6  от 10 до 15 мин.     4374        24.0\n",
      "7  от 15 до 20 мин.     5721        32.0\n"
     ]
    },
    {
     "data": {
      "image/png": "[encoded data removed]",
      "text/plain": [
       "<Figure size 504x360 with 1 Axes>"
      ]
     },
     "metadata": {
      "needs_background": "light"
     },
     "output_type": "display_data"
    }
   ],
   "source": [
    "def categorize_duration(duration):\n",
    "    if duration < 5:\n",
    "        return 'до 5 мин.'\n",
    "    elif 5 <= duration < 10:\n",
    "        return 'от 5 до 10 мин.'\n",
    "    elif 10 <= duration < 15:\n",
    "        return 'от 10 до 15 мин.'\n",
    "    elif 15 <= duration < 20:\n",
    "        return 'от 15 до 20 мин.'\n",
    "    elif 20 <= duration < 25:\n",
    "        return 'от 20 до 25 мин.'\n",
    "    elif 25 <= duration < 30:\n",
    "        return 'от 25 до 30 мин.'\n",
    "    elif 30 <= duration < 35:\n",
    "        return 'от 30 до 35 мин.'\n",
    "    else:\n",
    "        return 'больше 35 мин.'\n",
    "\n",
    "df = riders.copy(deep=True)\n",
    "df['duration'] = df['duration'].apply(categorize_duration)\n",
    "\n",
    "df = df.groupby('duration').agg({'user_id': 'count'}).reset_index()\n",
    "total_users = df['user_id'].sum()\n",
    "df['percentage'] = round((df['user_id'] / total_users) * 100)\n",
    "df = df.sort_values(by='user_id', ascending=True).reset_index(drop=True)\n",
    "print(df)\n",
    "\n",
    "plt.figure(figsize=(7, 5))\n",
    "plt.barh(df['duration'], df['user_id'], color='skyblue')\n",
    "plt.xlabel('Число пользователей')\n",
    "plt.ylabel('Продолжительность')\n",
    "plt.title('Продолжительность поездки')\n",
    "plt.xticks(rotation=0)  \n",
    "plt.tight_layout() \n",
    "\n",
    "plt.show()"
   ]
  },
  {
   "cell_type": "markdown",
   "id": "0cb7a17a-a3a6-4772-994c-626dc0f4b8f5",
   "metadata": {},
   "source": [
    "Продолжительность одной поездки около 80% пользователей составляет от 10 до 25 минут; у наибольшего процента пользователей, 32%, одна поездка занимает 15-20 минут"
   ]
  },
  {
   "cell_type": "markdown",
   "id": "8b779062-46aa-4be0-bdeb-3a60c9f009d4",
   "metadata": {},
   "source": [
    "## Объединение данных\n",
    "\n",
    "- преобразуем данные и посмотрим на различие расстояний и времени поездок для пользователей с подпиской и без\n",
    "- подготовим данные для проверки гипотез"
   ]
  },
  {
   "cell_type": "markdown",
   "id": "64570609-e950-4428-9320-ab552dcc2afd",
   "metadata": {},
   "source": [
    "Начнём с объединения всех датафреймов в один"
   ]
  },
  {
   "cell_type": "code",
   "execution_count": 29,
   "id": "e0bbb66d-b131-4785-84f8-e88c1adbdace",
   "metadata": {},
   "outputs": [
    {
     "name": "stdout",
     "output_type": "stream",
     "text": [
      "<class 'pandas.core.frame.DataFrame'>\n",
      "Int64Index: 1534 entries, 0 to 1533\n",
      "Data columns (total 6 columns):\n",
      " #   Column             Non-Null Count  Dtype \n",
      "---  ------             --------------  ----- \n",
      " 0   user_id            1534 non-null   int64 \n",
      " 1   name               1534 non-null   object\n",
      " 2   age                1534 non-null   int64 \n",
      " 3   city               1534 non-null   object\n",
      " 4   subscription_type  1534 non-null   object\n",
      " 5   age_group          1534 non-null   object\n",
      "dtypes: int64(2), object(4)\n",
      "memory usage: 83.9+ KB\n"
     ]
    }
   ],
   "source": [
    "users.info()"
   ]
  },
  {
   "cell_type": "code",
   "execution_count": 30,
   "id": "a4fb2cb4-a157-4308-963e-e36071881cb1",
   "metadata": {},
   "outputs": [
    {
     "name": "stdout",
     "output_type": "stream",
     "text": [
      "<class 'pandas.core.frame.DataFrame'>\n",
      "RangeIndex: 18068 entries, 0 to 18067\n",
      "Data columns (total 5 columns):\n",
      " #   Column    Non-Null Count  Dtype         \n",
      "---  ------    --------------  -----         \n",
      " 0   user_id   18068 non-null  int64         \n",
      " 1   distance  18068 non-null  float64       \n",
      " 2   duration  18068 non-null  float64       \n",
      " 3   date      18068 non-null  datetime64[ns]\n",
      " 4   month     18068 non-null  int64         \n",
      "dtypes: datetime64[ns](1), float64(2), int64(2)\n",
      "memory usage: 705.9 KB\n"
     ]
    }
   ],
   "source": [
    "riders.info()"
   ]
  },
  {
   "cell_type": "code",
   "execution_count": 31,
   "id": "821d6a76-fd8d-4450-aa38-5221a585086b",
   "metadata": {},
   "outputs": [
    {
     "name": "stdout",
     "output_type": "stream",
     "text": [
      "<class 'pandas.core.frame.DataFrame'>\n",
      "Int64Index: 1534 entries, 0 to 1533\n",
      "Data columns (total 9 columns):\n",
      " #   Column             Non-Null Count  Dtype \n",
      "---  ------             --------------  ----- \n",
      " 0   user_id            1534 non-null   int64 \n",
      " 1   name               1534 non-null   object\n",
      " 2   age                1534 non-null   int64 \n",
      " 3   city               1534 non-null   object\n",
      " 4   subscription_type  1534 non-null   object\n",
      " 5   age_group          1534 non-null   object\n",
      " 6   minute_price       1534 non-null   int64 \n",
      " 7   start_ride_price   1534 non-null   int64 \n",
      " 8   subscription_fee   1534 non-null   int64 \n",
      "dtypes: int64(5), object(4)\n",
      "memory usage: 119.8+ KB\n"
     ]
    }
   ],
   "source": [
    "overall = users.merge(subscriptions, on='subscription_type', how='left')\n",
    "overall.info()"
   ]
  },
  {
   "cell_type": "code",
   "execution_count": 32,
   "id": "86006baf-e61e-4f11-a5e7-e59bd723642d",
   "metadata": {},
   "outputs": [
    {
     "name": "stdout",
     "output_type": "stream",
     "text": [
      "<class 'pandas.core.frame.DataFrame'>\n",
      "Int64Index: 18068 entries, 0 to 18067\n",
      "Data columns (total 13 columns):\n",
      " #   Column             Non-Null Count  Dtype         \n",
      "---  ------             --------------  -----         \n",
      " 0   user_id            18068 non-null  int64         \n",
      " 1   distance           18068 non-null  float64       \n",
      " 2   duration           18068 non-null  float64       \n",
      " 3   date               18068 non-null  datetime64[ns]\n",
      " 4   month              18068 non-null  int64         \n",
      " 5   name               18068 non-null  object        \n",
      " 6   age                18068 non-null  int64         \n",
      " 7   city               18068 non-null  object        \n",
      " 8   subscription_type  18068 non-null  object        \n",
      " 9   age_group          18068 non-null  object        \n",
      " 10  minute_price       18068 non-null  int64         \n",
      " 11  start_ride_price   18068 non-null  int64         \n",
      " 12  subscription_fee   18068 non-null  int64         \n",
      "dtypes: datetime64[ns](1), float64(2), int64(6), object(4)\n",
      "memory usage: 1.9+ MB\n"
     ]
    }
   ],
   "source": [
    "overall = riders.merge(overall, on='user_id', how='left')\n",
    "overall.info()"
   ]
  },
  {
   "cell_type": "code",
   "execution_count": 33,
   "id": "8f691e23-b210-47f0-a479-40ecbaa821b3",
   "metadata": {},
   "outputs": [
    {
     "data": {
      "text/html": [
       "<div>\n",
       "<style scoped>\n",
       "    .dataframe tbody tr th:only-of-type {\n",
       "        vertical-align: middle;\n",
       "    }\n",
       "\n",
       "    .dataframe tbody tr th {\n",
       "        vertical-align: top;\n",
       "    }\n",
       "\n",
       "    .dataframe thead th {\n",
       "        text-align: right;\n",
       "    }\n",
       "</style>\n",
       "<table border=\"1\" class=\"dataframe\">\n",
       "  <thead>\n",
       "    <tr style=\"text-align: right;\">\n",
       "      <th></th>\n",
       "      <th>user_id</th>\n",
       "      <th>distance</th>\n",
       "      <th>duration</th>\n",
       "      <th>date</th>\n",
       "      <th>month</th>\n",
       "      <th>name</th>\n",
       "      <th>age</th>\n",
       "      <th>city</th>\n",
       "      <th>subscription_type</th>\n",
       "      <th>age_group</th>\n",
       "      <th>minute_price</th>\n",
       "      <th>start_ride_price</th>\n",
       "      <th>subscription_fee</th>\n",
       "    </tr>\n",
       "  </thead>\n",
       "  <tbody>\n",
       "    <tr>\n",
       "      <th>0</th>\n",
       "      <td>1</td>\n",
       "      <td>4409.92</td>\n",
       "      <td>25.599769</td>\n",
       "      <td>2021-01-01</td>\n",
       "      <td>1</td>\n",
       "      <td>Кира</td>\n",
       "      <td>22</td>\n",
       "      <td>Тюмень</td>\n",
       "      <td>ultra</td>\n",
       "      <td>от 18 до 29 лет</td>\n",
       "      <td>6</td>\n",
       "      <td>0</td>\n",
       "      <td>199</td>\n",
       "    </tr>\n",
       "    <tr>\n",
       "      <th>1</th>\n",
       "      <td>1</td>\n",
       "      <td>2617.59</td>\n",
       "      <td>15.816871</td>\n",
       "      <td>2021-01-18</td>\n",
       "      <td>1</td>\n",
       "      <td>Кира</td>\n",
       "      <td>22</td>\n",
       "      <td>Тюмень</td>\n",
       "      <td>ultra</td>\n",
       "      <td>от 18 до 29 лет</td>\n",
       "      <td>6</td>\n",
       "      <td>0</td>\n",
       "      <td>199</td>\n",
       "    </tr>\n",
       "    <tr>\n",
       "      <th>2</th>\n",
       "      <td>1</td>\n",
       "      <td>754.16</td>\n",
       "      <td>6.232113</td>\n",
       "      <td>2021-04-20</td>\n",
       "      <td>4</td>\n",
       "      <td>Кира</td>\n",
       "      <td>22</td>\n",
       "      <td>Тюмень</td>\n",
       "      <td>ultra</td>\n",
       "      <td>от 18 до 29 лет</td>\n",
       "      <td>6</td>\n",
       "      <td>0</td>\n",
       "      <td>199</td>\n",
       "    </tr>\n",
       "    <tr>\n",
       "      <th>3</th>\n",
       "      <td>1</td>\n",
       "      <td>2694.78</td>\n",
       "      <td>18.511000</td>\n",
       "      <td>2021-08-11</td>\n",
       "      <td>8</td>\n",
       "      <td>Кира</td>\n",
       "      <td>22</td>\n",
       "      <td>Тюмень</td>\n",
       "      <td>ultra</td>\n",
       "      <td>от 18 до 29 лет</td>\n",
       "      <td>6</td>\n",
       "      <td>0</td>\n",
       "      <td>199</td>\n",
       "    </tr>\n",
       "    <tr>\n",
       "      <th>4</th>\n",
       "      <td>1</td>\n",
       "      <td>4028.69</td>\n",
       "      <td>26.265803</td>\n",
       "      <td>2021-08-28</td>\n",
       "      <td>8</td>\n",
       "      <td>Кира</td>\n",
       "      <td>22</td>\n",
       "      <td>Тюмень</td>\n",
       "      <td>ultra</td>\n",
       "      <td>от 18 до 29 лет</td>\n",
       "      <td>6</td>\n",
       "      <td>0</td>\n",
       "      <td>199</td>\n",
       "    </tr>\n",
       "  </tbody>\n",
       "</table>\n",
       "</div>"
      ],
      "text/plain": [
       "   user_id  distance   duration       date  month  name  age    city  \\\n",
       "0        1   4409.92  25.599769 2021-01-01      1  Кира   22  Тюмень   \n",
       "1        1   2617.59  15.816871 2021-01-18      1  Кира   22  Тюмень   \n",
       "2        1    754.16   6.232113 2021-04-20      4  Кира   22  Тюмень   \n",
       "3        1   2694.78  18.511000 2021-08-11      8  Кира   22  Тюмень   \n",
       "4        1   4028.69  26.265803 2021-08-28      8  Кира   22  Тюмень   \n",
       "\n",
       "  subscription_type        age_group  minute_price  start_ride_price  \\\n",
       "0             ultra  от 18 до 29 лет             6                 0   \n",
       "1             ultra  от 18 до 29 лет             6                 0   \n",
       "2             ultra  от 18 до 29 лет             6                 0   \n",
       "3             ultra  от 18 до 29 лет             6                 0   \n",
       "4             ultra  от 18 до 29 лет             6                 0   \n",
       "\n",
       "   subscription_fee  \n",
       "0               199  \n",
       "1               199  \n",
       "2               199  \n",
       "3               199  \n",
       "4               199  "
      ]
     },
     "execution_count": 33,
     "metadata": {},
     "output_type": "execute_result"
    }
   ],
   "source": [
    "overall.head()"
   ]
  },
  {
   "cell_type": "markdown",
   "id": "5d522f4f-5c84-493f-9756-bf0a56af2264",
   "metadata": {},
   "source": [
    "Разделим получившийся датафрейм на два по пользователям с подпиской и без подписки"
   ]
  },
  {
   "cell_type": "code",
   "execution_count": 34,
   "id": "d4e21f8c-20f0-483e-ac6d-3714878d209a",
   "metadata": {},
   "outputs": [
    {
     "name": "stdout",
     "output_type": "stream",
     "text": [
      "<class 'pandas.core.frame.DataFrame'>\n",
      "Int64Index: 11568 entries, 6500 to 18067\n",
      "Data columns (total 13 columns):\n",
      " #   Column             Non-Null Count  Dtype         \n",
      "---  ------             --------------  -----         \n",
      " 0   user_id            11568 non-null  int64         \n",
      " 1   distance           11568 non-null  float64       \n",
      " 2   duration           11568 non-null  float64       \n",
      " 3   date               11568 non-null  datetime64[ns]\n",
      " 4   month              11568 non-null  int64         \n",
      " 5   name               11568 non-null  object        \n",
      " 6   age                11568 non-null  int64         \n",
      " 7   city               11568 non-null  object        \n",
      " 8   subscription_type  11568 non-null  object        \n",
      " 9   age_group          11568 non-null  object        \n",
      " 10  minute_price       11568 non-null  int64         \n",
      " 11  start_ride_price   11568 non-null  int64         \n",
      " 12  subscription_fee   11568 non-null  int64         \n",
      "dtypes: datetime64[ns](1), float64(2), int64(6), object(4)\n",
      "memory usage: 1.2+ MB\n"
     ]
    }
   ],
   "source": [
    "free = overall[overall['subscription_type'] == 'free']\n",
    "free.info()"
   ]
  },
  {
   "cell_type": "code",
   "execution_count": 35,
   "id": "516fa9d1-530b-4cce-b585-0be853ffdc27",
   "metadata": {},
   "outputs": [
    {
     "data": {
      "text/html": [
       "<div>\n",
       "<style scoped>\n",
       "    .dataframe tbody tr th:only-of-type {\n",
       "        vertical-align: middle;\n",
       "    }\n",
       "\n",
       "    .dataframe tbody tr th {\n",
       "        vertical-align: top;\n",
       "    }\n",
       "\n",
       "    .dataframe thead th {\n",
       "        text-align: right;\n",
       "    }\n",
       "</style>\n",
       "<table border=\"1\" class=\"dataframe\">\n",
       "  <thead>\n",
       "    <tr style=\"text-align: right;\">\n",
       "      <th></th>\n",
       "      <th>user_id</th>\n",
       "      <th>distance</th>\n",
       "      <th>duration</th>\n",
       "      <th>date</th>\n",
       "      <th>month</th>\n",
       "      <th>name</th>\n",
       "      <th>age</th>\n",
       "      <th>city</th>\n",
       "      <th>subscription_type</th>\n",
       "      <th>age_group</th>\n",
       "      <th>minute_price</th>\n",
       "      <th>start_ride_price</th>\n",
       "      <th>subscription_fee</th>\n",
       "    </tr>\n",
       "  </thead>\n",
       "  <tbody>\n",
       "    <tr>\n",
       "      <th>6500</th>\n",
       "      <td>700</td>\n",
       "      <td>2515.69</td>\n",
       "      <td>14.944286</td>\n",
       "      <td>2021-01-02</td>\n",
       "      <td>1</td>\n",
       "      <td>Айдар</td>\n",
       "      <td>22</td>\n",
       "      <td>Омск</td>\n",
       "      <td>free</td>\n",
       "      <td>от 18 до 29 лет</td>\n",
       "      <td>8</td>\n",
       "      <td>50</td>\n",
       "      <td>0</td>\n",
       "    </tr>\n",
       "    <tr>\n",
       "      <th>6501</th>\n",
       "      <td>700</td>\n",
       "      <td>846.93</td>\n",
       "      <td>16.234663</td>\n",
       "      <td>2021-02-01</td>\n",
       "      <td>2</td>\n",
       "      <td>Айдар</td>\n",
       "      <td>22</td>\n",
       "      <td>Омск</td>\n",
       "      <td>free</td>\n",
       "      <td>от 18 до 29 лет</td>\n",
       "      <td>8</td>\n",
       "      <td>50</td>\n",
       "      <td>0</td>\n",
       "    </tr>\n",
       "    <tr>\n",
       "      <th>6502</th>\n",
       "      <td>700</td>\n",
       "      <td>4004.43</td>\n",
       "      <td>20.016628</td>\n",
       "      <td>2021-02-04</td>\n",
       "      <td>2</td>\n",
       "      <td>Айдар</td>\n",
       "      <td>22</td>\n",
       "      <td>Омск</td>\n",
       "      <td>free</td>\n",
       "      <td>от 18 до 29 лет</td>\n",
       "      <td>8</td>\n",
       "      <td>50</td>\n",
       "      <td>0</td>\n",
       "    </tr>\n",
       "    <tr>\n",
       "      <th>6503</th>\n",
       "      <td>700</td>\n",
       "      <td>1205.91</td>\n",
       "      <td>9.782872</td>\n",
       "      <td>2021-02-10</td>\n",
       "      <td>2</td>\n",
       "      <td>Айдар</td>\n",
       "      <td>22</td>\n",
       "      <td>Омск</td>\n",
       "      <td>free</td>\n",
       "      <td>от 18 до 29 лет</td>\n",
       "      <td>8</td>\n",
       "      <td>50</td>\n",
       "      <td>0</td>\n",
       "    </tr>\n",
       "    <tr>\n",
       "      <th>6504</th>\n",
       "      <td>700</td>\n",
       "      <td>3047.38</td>\n",
       "      <td>17.427673</td>\n",
       "      <td>2021-02-14</td>\n",
       "      <td>2</td>\n",
       "      <td>Айдар</td>\n",
       "      <td>22</td>\n",
       "      <td>Омск</td>\n",
       "      <td>free</td>\n",
       "      <td>от 18 до 29 лет</td>\n",
       "      <td>8</td>\n",
       "      <td>50</td>\n",
       "      <td>0</td>\n",
       "    </tr>\n",
       "    <tr>\n",
       "      <th>...</th>\n",
       "      <td>...</td>\n",
       "      <td>...</td>\n",
       "      <td>...</td>\n",
       "      <td>...</td>\n",
       "      <td>...</td>\n",
       "      <td>...</td>\n",
       "      <td>...</td>\n",
       "      <td>...</td>\n",
       "      <td>...</td>\n",
       "      <td>...</td>\n",
       "      <td>...</td>\n",
       "      <td>...</td>\n",
       "      <td>...</td>\n",
       "    </tr>\n",
       "    <tr>\n",
       "      <th>18063</th>\n",
       "      <td>1534</td>\n",
       "      <td>3781.10</td>\n",
       "      <td>19.822962</td>\n",
       "      <td>2021-11-04</td>\n",
       "      <td>11</td>\n",
       "      <td>Альберт</td>\n",
       "      <td>25</td>\n",
       "      <td>Краснодар</td>\n",
       "      <td>free</td>\n",
       "      <td>от 18 до 29 лет</td>\n",
       "      <td>8</td>\n",
       "      <td>50</td>\n",
       "      <td>0</td>\n",
       "    </tr>\n",
       "    <tr>\n",
       "      <th>18064</th>\n",
       "      <td>1534</td>\n",
       "      <td>2840.42</td>\n",
       "      <td>21.409799</td>\n",
       "      <td>2021-11-16</td>\n",
       "      <td>11</td>\n",
       "      <td>Альберт</td>\n",
       "      <td>25</td>\n",
       "      <td>Краснодар</td>\n",
       "      <td>free</td>\n",
       "      <td>от 18 до 29 лет</td>\n",
       "      <td>8</td>\n",
       "      <td>50</td>\n",
       "      <td>0</td>\n",
       "    </tr>\n",
       "    <tr>\n",
       "      <th>18065</th>\n",
       "      <td>1534</td>\n",
       "      <td>3826.19</td>\n",
       "      <td>18.435051</td>\n",
       "      <td>2021-11-18</td>\n",
       "      <td>11</td>\n",
       "      <td>Альберт</td>\n",
       "      <td>25</td>\n",
       "      <td>Краснодар</td>\n",
       "      <td>free</td>\n",
       "      <td>от 18 до 29 лет</td>\n",
       "      <td>8</td>\n",
       "      <td>50</td>\n",
       "      <td>0</td>\n",
       "    </tr>\n",
       "    <tr>\n",
       "      <th>18066</th>\n",
       "      <td>1534</td>\n",
       "      <td>2902.31</td>\n",
       "      <td>16.674362</td>\n",
       "      <td>2021-11-27</td>\n",
       "      <td>11</td>\n",
       "      <td>Альберт</td>\n",
       "      <td>25</td>\n",
       "      <td>Краснодар</td>\n",
       "      <td>free</td>\n",
       "      <td>от 18 до 29 лет</td>\n",
       "      <td>8</td>\n",
       "      <td>50</td>\n",
       "      <td>0</td>\n",
       "    </tr>\n",
       "    <tr>\n",
       "      <th>18067</th>\n",
       "      <td>1534</td>\n",
       "      <td>2371.71</td>\n",
       "      <td>15.893917</td>\n",
       "      <td>2021-12-29</td>\n",
       "      <td>12</td>\n",
       "      <td>Альберт</td>\n",
       "      <td>25</td>\n",
       "      <td>Краснодар</td>\n",
       "      <td>free</td>\n",
       "      <td>от 18 до 29 лет</td>\n",
       "      <td>8</td>\n",
       "      <td>50</td>\n",
       "      <td>0</td>\n",
       "    </tr>\n",
       "  </tbody>\n",
       "</table>\n",
       "<p>11568 rows × 13 columns</p>\n",
       "</div>"
      ],
      "text/plain": [
       "       user_id  distance   duration       date  month     name  age  \\\n",
       "6500       700   2515.69  14.944286 2021-01-02      1    Айдар   22   \n",
       "6501       700    846.93  16.234663 2021-02-01      2    Айдар   22   \n",
       "6502       700   4004.43  20.016628 2021-02-04      2    Айдар   22   \n",
       "6503       700   1205.91   9.782872 2021-02-10      2    Айдар   22   \n",
       "6504       700   3047.38  17.427673 2021-02-14      2    Айдар   22   \n",
       "...        ...       ...        ...        ...    ...      ...  ...   \n",
       "18063     1534   3781.10  19.822962 2021-11-04     11  Альберт   25   \n",
       "18064     1534   2840.42  21.409799 2021-11-16     11  Альберт   25   \n",
       "18065     1534   3826.19  18.435051 2021-11-18     11  Альберт   25   \n",
       "18066     1534   2902.31  16.674362 2021-11-27     11  Альберт   25   \n",
       "18067     1534   2371.71  15.893917 2021-12-29     12  Альберт   25   \n",
       "\n",
       "            city subscription_type        age_group  minute_price  \\\n",
       "6500        Омск              free  от 18 до 29 лет             8   \n",
       "6501        Омск              free  от 18 до 29 лет             8   \n",
       "6502        Омск              free  от 18 до 29 лет             8   \n",
       "6503        Омск              free  от 18 до 29 лет             8   \n",
       "6504        Омск              free  от 18 до 29 лет             8   \n",
       "...          ...               ...              ...           ...   \n",
       "18063  Краснодар              free  от 18 до 29 лет             8   \n",
       "18064  Краснодар              free  от 18 до 29 лет             8   \n",
       "18065  Краснодар              free  от 18 до 29 лет             8   \n",
       "18066  Краснодар              free  от 18 до 29 лет             8   \n",
       "18067  Краснодар              free  от 18 до 29 лет             8   \n",
       "\n",
       "       start_ride_price  subscription_fee  \n",
       "6500                 50                 0  \n",
       "6501                 50                 0  \n",
       "6502                 50                 0  \n",
       "6503                 50                 0  \n",
       "6504                 50                 0  \n",
       "...                 ...               ...  \n",
       "18063                50                 0  \n",
       "18064                50                 0  \n",
       "18065                50                 0  \n",
       "18066                50                 0  \n",
       "18067                50                 0  \n",
       "\n",
       "[11568 rows x 13 columns]"
      ]
     },
     "execution_count": 35,
     "metadata": {},
     "output_type": "execute_result"
    }
   ],
   "source": [
    "free"
   ]
  },
  {
   "cell_type": "code",
   "execution_count": 36,
   "id": "39874133-06df-40f2-99ca-458af68dff61",
   "metadata": {},
   "outputs": [
    {
     "name": "stdout",
     "output_type": "stream",
     "text": [
      "<class 'pandas.core.frame.DataFrame'>\n",
      "Int64Index: 6500 entries, 0 to 6499\n",
      "Data columns (total 13 columns):\n",
      " #   Column             Non-Null Count  Dtype         \n",
      "---  ------             --------------  -----         \n",
      " 0   user_id            6500 non-null   int64         \n",
      " 1   distance           6500 non-null   float64       \n",
      " 2   duration           6500 non-null   float64       \n",
      " 3   date               6500 non-null   datetime64[ns]\n",
      " 4   month              6500 non-null   int64         \n",
      " 5   name               6500 non-null   object        \n",
      " 6   age                6500 non-null   int64         \n",
      " 7   city               6500 non-null   object        \n",
      " 8   subscription_type  6500 non-null   object        \n",
      " 9   age_group          6500 non-null   object        \n",
      " 10  minute_price       6500 non-null   int64         \n",
      " 11  start_ride_price   6500 non-null   int64         \n",
      " 12  subscription_fee   6500 non-null   int64         \n",
      "dtypes: datetime64[ns](1), float64(2), int64(6), object(4)\n",
      "memory usage: 710.9+ KB\n"
     ]
    }
   ],
   "source": [
    "ultra = overall[overall['subscription_type'] == 'ultra']\n",
    "ultra.info()"
   ]
  },
  {
   "cell_type": "code",
   "execution_count": 37,
   "id": "e05cfd54-ed05-47ec-bebc-193874fa871d",
   "metadata": {},
   "outputs": [
    {
     "data": {
      "text/html": [
       "<div>\n",
       "<style scoped>\n",
       "    .dataframe tbody tr th:only-of-type {\n",
       "        vertical-align: middle;\n",
       "    }\n",
       "\n",
       "    .dataframe tbody tr th {\n",
       "        vertical-align: top;\n",
       "    }\n",
       "\n",
       "    .dataframe thead th {\n",
       "        text-align: right;\n",
       "    }\n",
       "</style>\n",
       "<table border=\"1\" class=\"dataframe\">\n",
       "  <thead>\n",
       "    <tr style=\"text-align: right;\">\n",
       "      <th></th>\n",
       "      <th>user_id</th>\n",
       "      <th>distance</th>\n",
       "      <th>duration</th>\n",
       "      <th>date</th>\n",
       "      <th>month</th>\n",
       "      <th>name</th>\n",
       "      <th>age</th>\n",
       "      <th>city</th>\n",
       "      <th>subscription_type</th>\n",
       "      <th>age_group</th>\n",
       "      <th>minute_price</th>\n",
       "      <th>start_ride_price</th>\n",
       "      <th>subscription_fee</th>\n",
       "    </tr>\n",
       "  </thead>\n",
       "  <tbody>\n",
       "    <tr>\n",
       "      <th>0</th>\n",
       "      <td>1</td>\n",
       "      <td>4409.92</td>\n",
       "      <td>25.599769</td>\n",
       "      <td>2021-01-01</td>\n",
       "      <td>1</td>\n",
       "      <td>Кира</td>\n",
       "      <td>22</td>\n",
       "      <td>Тюмень</td>\n",
       "      <td>ultra</td>\n",
       "      <td>от 18 до 29 лет</td>\n",
       "      <td>6</td>\n",
       "      <td>0</td>\n",
       "      <td>199</td>\n",
       "    </tr>\n",
       "    <tr>\n",
       "      <th>1</th>\n",
       "      <td>1</td>\n",
       "      <td>2617.59</td>\n",
       "      <td>15.816871</td>\n",
       "      <td>2021-01-18</td>\n",
       "      <td>1</td>\n",
       "      <td>Кира</td>\n",
       "      <td>22</td>\n",
       "      <td>Тюмень</td>\n",
       "      <td>ultra</td>\n",
       "      <td>от 18 до 29 лет</td>\n",
       "      <td>6</td>\n",
       "      <td>0</td>\n",
       "      <td>199</td>\n",
       "    </tr>\n",
       "    <tr>\n",
       "      <th>2</th>\n",
       "      <td>1</td>\n",
       "      <td>754.16</td>\n",
       "      <td>6.232113</td>\n",
       "      <td>2021-04-20</td>\n",
       "      <td>4</td>\n",
       "      <td>Кира</td>\n",
       "      <td>22</td>\n",
       "      <td>Тюмень</td>\n",
       "      <td>ultra</td>\n",
       "      <td>от 18 до 29 лет</td>\n",
       "      <td>6</td>\n",
       "      <td>0</td>\n",
       "      <td>199</td>\n",
       "    </tr>\n",
       "    <tr>\n",
       "      <th>3</th>\n",
       "      <td>1</td>\n",
       "      <td>2694.78</td>\n",
       "      <td>18.511000</td>\n",
       "      <td>2021-08-11</td>\n",
       "      <td>8</td>\n",
       "      <td>Кира</td>\n",
       "      <td>22</td>\n",
       "      <td>Тюмень</td>\n",
       "      <td>ultra</td>\n",
       "      <td>от 18 до 29 лет</td>\n",
       "      <td>6</td>\n",
       "      <td>0</td>\n",
       "      <td>199</td>\n",
       "    </tr>\n",
       "    <tr>\n",
       "      <th>4</th>\n",
       "      <td>1</td>\n",
       "      <td>4028.69</td>\n",
       "      <td>26.265803</td>\n",
       "      <td>2021-08-28</td>\n",
       "      <td>8</td>\n",
       "      <td>Кира</td>\n",
       "      <td>22</td>\n",
       "      <td>Тюмень</td>\n",
       "      <td>ultra</td>\n",
       "      <td>от 18 до 29 лет</td>\n",
       "      <td>6</td>\n",
       "      <td>0</td>\n",
       "      <td>199</td>\n",
       "    </tr>\n",
       "    <tr>\n",
       "      <th>...</th>\n",
       "      <td>...</td>\n",
       "      <td>...</td>\n",
       "      <td>...</td>\n",
       "      <td>...</td>\n",
       "      <td>...</td>\n",
       "      <td>...</td>\n",
       "      <td>...</td>\n",
       "      <td>...</td>\n",
       "      <td>...</td>\n",
       "      <td>...</td>\n",
       "      <td>...</td>\n",
       "      <td>...</td>\n",
       "      <td>...</td>\n",
       "    </tr>\n",
       "    <tr>\n",
       "      <th>6495</th>\n",
       "      <td>699</td>\n",
       "      <td>3973.05</td>\n",
       "      <td>24.671163</td>\n",
       "      <td>2021-08-29</td>\n",
       "      <td>8</td>\n",
       "      <td>Оксана</td>\n",
       "      <td>22</td>\n",
       "      <td>Москва</td>\n",
       "      <td>ultra</td>\n",
       "      <td>от 18 до 29 лет</td>\n",
       "      <td>6</td>\n",
       "      <td>0</td>\n",
       "      <td>199</td>\n",
       "    </tr>\n",
       "    <tr>\n",
       "      <th>6496</th>\n",
       "      <td>699</td>\n",
       "      <td>3288.70</td>\n",
       "      <td>15.892886</td>\n",
       "      <td>2021-09-12</td>\n",
       "      <td>9</td>\n",
       "      <td>Оксана</td>\n",
       "      <td>22</td>\n",
       "      <td>Москва</td>\n",
       "      <td>ultra</td>\n",
       "      <td>от 18 до 29 лет</td>\n",
       "      <td>6</td>\n",
       "      <td>0</td>\n",
       "      <td>199</td>\n",
       "    </tr>\n",
       "    <tr>\n",
       "      <th>6497</th>\n",
       "      <td>699</td>\n",
       "      <td>3076.16</td>\n",
       "      <td>14.389525</td>\n",
       "      <td>2021-09-26</td>\n",
       "      <td>9</td>\n",
       "      <td>Оксана</td>\n",
       "      <td>22</td>\n",
       "      <td>Москва</td>\n",
       "      <td>ultra</td>\n",
       "      <td>от 18 до 29 лет</td>\n",
       "      <td>6</td>\n",
       "      <td>0</td>\n",
       "      <td>199</td>\n",
       "    </tr>\n",
       "    <tr>\n",
       "      <th>6498</th>\n",
       "      <td>699</td>\n",
       "      <td>4707.85</td>\n",
       "      <td>15.839579</td>\n",
       "      <td>2021-10-17</td>\n",
       "      <td>10</td>\n",
       "      <td>Оксана</td>\n",
       "      <td>22</td>\n",
       "      <td>Москва</td>\n",
       "      <td>ultra</td>\n",
       "      <td>от 18 до 29 лет</td>\n",
       "      <td>6</td>\n",
       "      <td>0</td>\n",
       "      <td>199</td>\n",
       "    </tr>\n",
       "    <tr>\n",
       "      <th>6499</th>\n",
       "      <td>699</td>\n",
       "      <td>3202.89</td>\n",
       "      <td>25.217345</td>\n",
       "      <td>2021-12-03</td>\n",
       "      <td>12</td>\n",
       "      <td>Оксана</td>\n",
       "      <td>22</td>\n",
       "      <td>Москва</td>\n",
       "      <td>ultra</td>\n",
       "      <td>от 18 до 29 лет</td>\n",
       "      <td>6</td>\n",
       "      <td>0</td>\n",
       "      <td>199</td>\n",
       "    </tr>\n",
       "  </tbody>\n",
       "</table>\n",
       "<p>6500 rows × 13 columns</p>\n",
       "</div>"
      ],
      "text/plain": [
       "      user_id  distance   duration       date  month    name  age    city  \\\n",
       "0           1   4409.92  25.599769 2021-01-01      1    Кира   22  Тюмень   \n",
       "1           1   2617.59  15.816871 2021-01-18      1    Кира   22  Тюмень   \n",
       "2           1    754.16   6.232113 2021-04-20      4    Кира   22  Тюмень   \n",
       "3           1   2694.78  18.511000 2021-08-11      8    Кира   22  Тюмень   \n",
       "4           1   4028.69  26.265803 2021-08-28      8    Кира   22  Тюмень   \n",
       "...       ...       ...        ...        ...    ...     ...  ...     ...   \n",
       "6495      699   3973.05  24.671163 2021-08-29      8  Оксана   22  Москва   \n",
       "6496      699   3288.70  15.892886 2021-09-12      9  Оксана   22  Москва   \n",
       "6497      699   3076.16  14.389525 2021-09-26      9  Оксана   22  Москва   \n",
       "6498      699   4707.85  15.839579 2021-10-17     10  Оксана   22  Москва   \n",
       "6499      699   3202.89  25.217345 2021-12-03     12  Оксана   22  Москва   \n",
       "\n",
       "     subscription_type        age_group  minute_price  start_ride_price  \\\n",
       "0                ultra  от 18 до 29 лет             6                 0   \n",
       "1                ultra  от 18 до 29 лет             6                 0   \n",
       "2                ultra  от 18 до 29 лет             6                 0   \n",
       "3                ultra  от 18 до 29 лет             6                 0   \n",
       "4                ultra  от 18 до 29 лет             6                 0   \n",
       "...                ...              ...           ...               ...   \n",
       "6495             ultra  от 18 до 29 лет             6                 0   \n",
       "6496             ultra  от 18 до 29 лет             6                 0   \n",
       "6497             ultra  от 18 до 29 лет             6                 0   \n",
       "6498             ultra  от 18 до 29 лет             6                 0   \n",
       "6499             ultra  от 18 до 29 лет             6                 0   \n",
       "\n",
       "      subscription_fee  \n",
       "0                  199  \n",
       "1                  199  \n",
       "2                  199  \n",
       "3                  199  \n",
       "4                  199  \n",
       "...                ...  \n",
       "6495               199  \n",
       "6496               199  \n",
       "6497               199  \n",
       "6498               199  \n",
       "6499               199  \n",
       "\n",
       "[6500 rows x 13 columns]"
      ]
     },
     "execution_count": 37,
     "metadata": {},
     "output_type": "execute_result"
    }
   ],
   "source": [
    "ultra"
   ]
  },
  {
   "cell_type": "markdown",
   "id": "f760f5f9-a34e-46e1-81de-d4359cc49679",
   "metadata": {},
   "source": [
    "Теперь посмотрм, есть ли разница во времени и расстоянии одной поездки для пользователей с подпиской и без"
   ]
  },
  {
   "cell_type": "code",
   "execution_count": 38,
   "id": "324f09d9-d379-4e0e-9399-4b15f8b49efa",
   "metadata": {},
   "outputs": [
    {
     "data": {
      "image/png": "[encoded data removed]",
      "text/plain": [
       "<Figure size 720x360 with 1 Axes>"
      ]
     },
     "metadata": {
      "needs_background": "light"
     },
     "output_type": "display_data"
    }
   ],
   "source": [
    "free['distance'].plot.hist(bins=90, figsize=(10,5));\n",
    "plt.xlabel('Расстояние, м.')\n",
    "plt.ylabel('Количество пользователей')\n",
    "plt.title('Расстояние одной поездки для пользователей без подписки')\n",
    "plt.grid(alpha=0.5)\n",
    "plt.xticks(range(0, int(free['distance'].max()) + 500, 500))\n",
    "\n",
    "plt.show()"
   ]
  },
  {
   "cell_type": "markdown",
   "id": "2c78aff8-4e9f-4572-9aaa-bc96343ee2b5",
   "metadata": {},
   "source": [
    "Пользователи без подписки чаще всего проезжают 2,5 и 3,5 км, также повторяется всплеск около 500 м."
   ]
  },
  {
   "cell_type": "code",
   "execution_count": 39,
   "id": "68d41361-8863-4d55-b170-47b043847e5b",
   "metadata": {},
   "outputs": [
    {
     "name": "stdout",
     "output_type": "stream",
     "text": [
      "        distance  user_id  percentage\n",
      "0   больше 7 км.        2         0.0\n",
      "1  от 6 до 7 км.       44         0.0\n",
      "2  от 5 до 6 км.      472         4.0\n",
      "3  от 1 до 2 км.      728         6.0\n",
      "4       до 1 км.     1113        10.0\n",
      "5  от 4 до 5 км.     2085        18.0\n",
      "6  от 2 до 3 км.     3523        30.0\n",
      "7  от 3 до 4 км.     3601        31.0\n"
     ]
    },
    {
     "data": {
      "image/png": "[encoded data removed]",
      "text/plain": [
       "<Figure size 504x360 with 1 Axes>"
      ]
     },
     "metadata": {
      "needs_background": "light"
     },
     "output_type": "display_data"
    }
   ],
   "source": [
    "df = free.copy(deep=True)\n",
    "df['distance'] = df['distance'].apply(categorize_distance)\n",
    "\n",
    "df = df.groupby('distance').agg({'user_id': 'count'}).reset_index()\n",
    "total_users = df['user_id'].sum()\n",
    "df['percentage'] = round((df['user_id'] / total_users) * 100)\n",
    "df = df.sort_values(by='user_id', ascending=True).reset_index(drop=True)\n",
    "print(df)\n",
    "\n",
    "plt.figure(figsize=(7, 5))\n",
    "plt.barh(df['distance'], df['user_id'], color='skyblue')\n",
    "plt.xlabel('Количество пользователей')\n",
    "plt.ylabel('Расстояние')\n",
    "plt.title('Расстояние одной поездки для пользователей без подписки')\n",
    "plt.xticks(rotation=0)  \n",
    "plt.tight_layout()  \n",
    "\n",
    "plt.show()"
   ]
  },
  {
   "cell_type": "markdown",
   "id": "928058f2-dfc6-4e8d-a957-dcc5b62b17af",
   "metadata": {},
   "source": [
    "Пользователи без подписки в основном проезжают за одну поездку 2-4 км."
   ]
  },
  {
   "cell_type": "code",
   "execution_count": 40,
   "id": "7530672a-66a1-4934-b66d-0a190c95467e",
   "metadata": {},
   "outputs": [
    {
     "data": {
      "image/png": "[encoded data removed]",
      "text/plain": [
       "<Figure size 720x360 with 1 Axes>"
      ]
     },
     "metadata": {
      "needs_background": "light"
     },
     "output_type": "display_data"
    }
   ],
   "source": [
    "ultra['distance'].plot.hist(bins=90, figsize=(10,5));\n",
    "plt.xlabel('Расстояние, м.')\n",
    "plt.ylabel('Количество пользователей')\n",
    "plt.title('Расстояние одной поездки для пользователей с подпиской')\n",
    "plt.grid(alpha=0.5)\n",
    "plt.xticks(range(0, int(free['distance'].max()) + 500, 500))\n",
    "\n",
    "plt.show()"
   ]
  },
  {
   "cell_type": "markdown",
   "id": "95518dbd-d6c0-49a8-b293-f7ba16ba6638",
   "metadata": {},
   "source": [
    "Пользователи с подпиской чаще всего проезжают на 500 м. больше пользователей без подписки. Так, наибольшее число пользователей с подпиской проезжают около 3 км, далее есть пики 4 и 1 км"
   ]
  },
  {
   "cell_type": "code",
   "execution_count": 41,
   "id": "94a38211-e025-459d-8648-af477b39dc8f",
   "metadata": {},
   "outputs": [
    {
     "name": "stdout",
     "output_type": "stream",
     "text": [
      "        distance  user_id  percentage\n",
      "0  от 5 до 6 км.       23         0.0\n",
      "1  от 1 до 2 км.      252         4.0\n",
      "2       до 1 км.      259         4.0\n",
      "3  от 4 до 5 км.      852        13.0\n",
      "4  от 2 до 3 км.     2017        31.0\n",
      "5  от 3 до 4 км.     3097        48.0\n"
     ]
    },
    {
     "data": {
      "image/png": "[encoded data removed]",
      "text/plain": [
       "<Figure size 504x360 with 1 Axes>"
      ]
     },
     "metadata": {
      "needs_background": "light"
     },
     "output_type": "display_data"
    }
   ],
   "source": [
    "df = ultra.copy(deep=True)\n",
    "df['distance'] = df['distance'].apply(categorize_distance)\n",
    "\n",
    "df = df.groupby('distance').agg({'user_id': 'count'}).reset_index()\n",
    "total_users = df['user_id'].sum()\n",
    "df['percentage'] = round((df['user_id'] / total_users) * 100)\n",
    "df = df.sort_values(by='user_id', ascending=True).reset_index(drop=True)\n",
    "print(df)\n",
    "\n",
    "plt.figure(figsize=(7, 5))\n",
    "plt.barh(df['distance'], df['user_id'], color='skyblue')\n",
    "plt.xlabel('Количество пользователей')\n",
    "plt.ylabel('Расстояние')\n",
    "plt.title('Расстояние одной поездки для пользователей с подпиской')\n",
    "plt.xticks(rotation=0)  \n",
    "plt.tight_layout()\n",
    "\n",
    "plt.show()"
   ]
  },
  {
   "cell_type": "markdown",
   "id": "09fe38bd-b366-426d-b16e-3e069d25ae53",
   "metadata": {},
   "source": [
    "Пользователи с подпиской также в основном проезжают за одну поездку 2-4 км., но наиболее часто 3-4 км."
   ]
  },
  {
   "cell_type": "code",
   "execution_count": 42,
   "id": "cc64ea1f-458b-4f03-b4cc-44b392367ccf",
   "metadata": {},
   "outputs": [
    {
     "data": {
      "image/png": "[encoded data removed]",
      "text/plain": [
       "<Figure size 864x360 with 1 Axes>"
      ]
     },
     "metadata": {
      "needs_background": "light"
     },
     "output_type": "display_data"
    }
   ],
   "source": [
    "free['duration'].plot.hist(bins=90, figsize=(12,5));\n",
    "plt.xlabel('Продолжительность')\n",
    "plt.ylabel('Количество пользователей')\n",
    "plt.title('Продолжительность одной поездки для пользователей без подписки')\n",
    "plt.grid(alpha=0.5)\n",
    "plt.xticks(range(0, int(free['duration'].max()) + 1, 2))\n",
    "\n",
    "plt.show()"
   ]
  },
  {
   "cell_type": "markdown",
   "id": "14488796-b93a-4c5c-9410-d1e2e0751ab9",
   "metadata": {},
   "source": [
    "Большинство пользователей без подписки совершают свою поездку в течение 12-23 минут, также есть аномальное значение около одной минуты"
   ]
  },
  {
   "cell_type": "code",
   "execution_count": 43,
   "id": "6bb478da-c952-4b5c-b154-4f5b3ae75bde",
   "metadata": {},
   "outputs": [
    {
     "name": "stdout",
     "output_type": "stream",
     "text": [
      "           duration  user_id  percentage\n",
      "0         до 5 мин.      268         2.0\n",
      "1  от 30 до 35 мин.      330         3.0\n",
      "2  от 25 до 30 мин.     1040         9.0\n",
      "3   от 5 до 10 мин.     1091         9.0\n",
      "4  от 20 до 25 мин.     2539        22.0\n",
      "5  от 10 до 15 мин.     2840        25.0\n",
      "6  от 15 до 20 мин.     3460        30.0\n"
     ]
    },
    {
     "data": {
      "image/png": "[encoded data removed]",
      "text/plain": [
       "<Figure size 504x360 with 1 Axes>"
      ]
     },
     "metadata": {
      "needs_background": "light"
     },
     "output_type": "display_data"
    }
   ],
   "source": [
    "df = free.copy(deep=True)\n",
    "df['duration'] = df['duration'].apply(categorize_duration)\n",
    "\n",
    "df = df.groupby('duration').agg({'user_id': 'count'}).reset_index()\n",
    "total_users = df['user_id'].sum()\n",
    "df['percentage'] = round((df['user_id'] / total_users) * 100)\n",
    "df = df.sort_values(by='user_id', ascending=True).reset_index(drop=True)\n",
    "print(df)\n",
    "\n",
    "plt.figure(figsize=(7, 5))\n",
    "plt.barh(df['duration'], df['user_id'], color='skyblue')\n",
    "plt.xlabel('Количество пользователей')\n",
    "plt.ylabel('Продолжительность')\n",
    "plt.title('Продолжительность одной поездки для пользователей без подписки')\n",
    "plt.xticks(rotation=0)  \n",
    "plt.tight_layout()  \n",
    "\n",
    "plt.show()"
   ]
  },
  {
   "cell_type": "markdown",
   "id": "0e1a83bf-2941-46b0-a11f-50a2e4a718f5",
   "metadata": {},
   "source": [
    "Большинство пользователей без подписки, 77%, совершают поездку в течение 10-25 мин., наиболее популярная продолжительность 15-20 мин."
   ]
  },
  {
   "cell_type": "code",
   "execution_count": 44,
   "id": "cf362b99-9619-4f7b-a366-8d02df9ad5c6",
   "metadata": {},
   "outputs": [
    {
     "data": {
      "image/png": "[encoded data removed]",
      "text/plain": [
       "<Figure size 864x360 with 1 Axes>"
      ]
     },
     "metadata": {
      "needs_background": "light"
     },
     "output_type": "display_data"
    }
   ],
   "source": [
    "ultra['duration'].plot.hist(bins=90, figsize=(12,5));\n",
    "plt.xlabel('Продолжительность')\n",
    "plt.ylabel('Количество пользователей')\n",
    "plt.title('Продолжительность одной поездки для пользователей с подпиской')\n",
    "plt.grid(alpha=0.5)\n",
    "plt.xticks(range(0, int(free['duration'].max()) + 1 , 2))\n",
    "\n",
    "plt.show()"
   ]
  },
  {
   "cell_type": "markdown",
   "id": "13efa29f-8a4b-441c-a21c-9f9b04919944",
   "metadata": {},
   "source": [
    "Большинство пользователей с подпиской также совершают свою поездку в течение 14-22 минут"
   ]
  },
  {
   "cell_type": "code",
   "execution_count": 45,
   "id": "e2529ce8-16c9-4127-bef5-1fe261fce7b5",
   "metadata": {},
   "outputs": [
    {
     "name": "stdout",
     "output_type": "stream",
     "text": [
      "           duration  user_id  percentage\n",
      "0         до 5 мин.       10         0.0\n",
      "1    больше 35 мин.       28         0.0\n",
      "2  от 30 до 35 мин.      185         3.0\n",
      "3   от 5 до 10 мин.      270         4.0\n",
      "4  от 25 до 30 мин.      611         9.0\n",
      "5  от 10 до 15 мин.     1534        24.0\n",
      "6  от 20 до 25 мин.     1601        25.0\n",
      "7  от 15 до 20 мин.     2261        35.0\n"
     ]
    },
    {
     "data": {
      "image/png": "[encoded data removed]",
      "text/plain": [
       "<Figure size 504x360 with 1 Axes>"
      ]
     },
     "metadata": {
      "needs_background": "light"
     },
     "output_type": "display_data"
    }
   ],
   "source": [
    "df = ultra.copy(deep=True)\n",
    "df['duration'] = df['duration'].apply(categorize_duration)\n",
    "\n",
    "df = df.groupby('duration').agg({'user_id': 'count'}).reset_index()\n",
    "total_users = df['user_id'].sum()\n",
    "df['percentage'] = round((df['user_id'] / total_users) * 100)\n",
    "df = df.sort_values(by='user_id', ascending=True).reset_index(drop=True)\n",
    "print(df)\n",
    "\n",
    "plt.figure(figsize=(7, 5))\n",
    "plt.barh(df['duration'], df['user_id'], color='skyblue')\n",
    "plt.xlabel('Количество пользователей')\n",
    "plt.ylabel('Продолжительность')\n",
    "plt.title('Продолжительность одной поездки для пользователей с подпиской')\n",
    "plt.xticks(rotation=0) \n",
    "plt.tight_layout() \n",
    "\n",
    "plt.show()"
   ]
  },
  {
   "cell_type": "markdown",
   "id": "9cef7abf-0a2d-4be7-9aa5-5ed2c127ebed",
   "metadata": {},
   "source": [
    "Большинство пользователей с подпиской, 84%, также совершают поездку в течение 10-25 мин., наиболее популярная продолжительность также составляет 15-20 мин."
   ]
  },
  {
   "cell_type": "markdown",
   "id": "b62a6f11-9fa9-4ed9-b2b4-8836d619be02",
   "metadata": {},
   "source": [
    "Можно заметить, что по расстоянию и продолжительности поездок по времени больших различий не наблюдается среди пользователей с подпиской и без; разве что пользователи с подспикой чаще проезжают на 500 м больше пользователей без подписки"
   ]
  },
  {
   "cell_type": "markdown",
   "id": "15efa445-f168-475a-9954-9be04277d2d6",
   "metadata": {},
   "source": [
    "### Рассчитаем выручку"
   ]
  },
  {
   "cell_type": "code",
   "execution_count": 46,
   "id": "c9a56e59-77cb-4a75-832c-2b9706dd63cb",
   "metadata": {},
   "outputs": [
    {
     "name": "stdout",
     "output_type": "stream",
     "text": [
      "<class 'pandas.core.frame.DataFrame'>\n",
      "MultiIndex: 11331 entries, (1, 1) to (1534, 12)\n",
      "Data columns (total 3 columns):\n",
      " #   Column             Non-Null Count  Dtype  \n",
      "---  ------             --------------  -----  \n",
      " 0   (distance, sum)    11331 non-null  float64\n",
      " 1   (distance, count)  11331 non-null  int64  \n",
      " 2   (duration, sum)    11331 non-null  float64\n",
      "dtypes: float64(2), int64(1)\n",
      "memory usage: 311.0 KB\n"
     ]
    }
   ],
   "source": [
    "overall['duration'] = np.ceil(overall['duration']) # округляем длительность поездки до целой минуты\n",
    "revenue = overall.groupby(['user_id','month']).agg({'distance':['sum', 'count'], 'duration':'sum'})\n",
    "revenue.info()"
   ]
  },
  {
   "cell_type": "code",
   "execution_count": 47,
   "id": "9d60dfb0-b6df-4ef1-9882-7a5199732a21",
   "metadata": {},
   "outputs": [
    {
     "data": {
      "text/html": [
       "<div>\n",
       "<style scoped>\n",
       "    .dataframe tbody tr th:only-of-type {\n",
       "        vertical-align: middle;\n",
       "    }\n",
       "\n",
       "    .dataframe tbody tr th {\n",
       "        vertical-align: top;\n",
       "    }\n",
       "\n",
       "    .dataframe thead tr th {\n",
       "        text-align: left;\n",
       "    }\n",
       "\n",
       "    .dataframe thead tr:last-of-type th {\n",
       "        text-align: right;\n",
       "    }\n",
       "</style>\n",
       "<table border=\"1\" class=\"dataframe\">\n",
       "  <thead>\n",
       "    <tr>\n",
       "      <th></th>\n",
       "      <th></th>\n",
       "      <th colspan=\"2\" halign=\"left\">distance</th>\n",
       "      <th>duration</th>\n",
       "    </tr>\n",
       "    <tr>\n",
       "      <th></th>\n",
       "      <th></th>\n",
       "      <th>sum</th>\n",
       "      <th>count</th>\n",
       "      <th>sum</th>\n",
       "    </tr>\n",
       "    <tr>\n",
       "      <th>user_id</th>\n",
       "      <th>month</th>\n",
       "      <th></th>\n",
       "      <th></th>\n",
       "      <th></th>\n",
       "    </tr>\n",
       "  </thead>\n",
       "  <tbody>\n",
       "    <tr>\n",
       "      <th rowspan=\"5\" valign=\"top\">1</th>\n",
       "      <th>1</th>\n",
       "      <td>7027.51</td>\n",
       "      <td>2</td>\n",
       "      <td>42.0</td>\n",
       "    </tr>\n",
       "    <tr>\n",
       "      <th>4</th>\n",
       "      <td>754.16</td>\n",
       "      <td>1</td>\n",
       "      <td>7.0</td>\n",
       "    </tr>\n",
       "    <tr>\n",
       "      <th>8</th>\n",
       "      <td>6723.47</td>\n",
       "      <td>2</td>\n",
       "      <td>46.0</td>\n",
       "    </tr>\n",
       "    <tr>\n",
       "      <th>10</th>\n",
       "      <td>5809.91</td>\n",
       "      <td>2</td>\n",
       "      <td>32.0</td>\n",
       "    </tr>\n",
       "    <tr>\n",
       "      <th>11</th>\n",
       "      <td>7003.50</td>\n",
       "      <td>3</td>\n",
       "      <td>56.0</td>\n",
       "    </tr>\n",
       "    <tr>\n",
       "      <th>...</th>\n",
       "      <th>...</th>\n",
       "      <td>...</td>\n",
       "      <td>...</td>\n",
       "      <td>...</td>\n",
       "    </tr>\n",
       "    <tr>\n",
       "      <th rowspan=\"5\" valign=\"top\">1534</th>\n",
       "      <th>6</th>\n",
       "      <td>3409.47</td>\n",
       "      <td>2</td>\n",
       "      <td>26.0</td>\n",
       "    </tr>\n",
       "    <tr>\n",
       "      <th>8</th>\n",
       "      <td>7622.45</td>\n",
       "      <td>2</td>\n",
       "      <td>48.0</td>\n",
       "    </tr>\n",
       "    <tr>\n",
       "      <th>9</th>\n",
       "      <td>4928.17</td>\n",
       "      <td>1</td>\n",
       "      <td>23.0</td>\n",
       "    </tr>\n",
       "    <tr>\n",
       "      <th>11</th>\n",
       "      <td>13350.02</td>\n",
       "      <td>4</td>\n",
       "      <td>78.0</td>\n",
       "    </tr>\n",
       "    <tr>\n",
       "      <th>12</th>\n",
       "      <td>2371.71</td>\n",
       "      <td>1</td>\n",
       "      <td>16.0</td>\n",
       "    </tr>\n",
       "  </tbody>\n",
       "</table>\n",
       "<p>11331 rows × 3 columns</p>\n",
       "</div>"
      ],
      "text/plain": [
       "               distance       duration\n",
       "                    sum count      sum\n",
       "user_id month                         \n",
       "1       1       7027.51     2     42.0\n",
       "        4        754.16     1      7.0\n",
       "        8       6723.47     2     46.0\n",
       "        10      5809.91     2     32.0\n",
       "        11      7003.50     3     56.0\n",
       "...                 ...   ...      ...\n",
       "1534    6       3409.47     2     26.0\n",
       "        8       7622.45     2     48.0\n",
       "        9       4928.17     1     23.0\n",
       "        11     13350.02     4     78.0\n",
       "        12      2371.71     1     16.0\n",
       "\n",
       "[11331 rows x 3 columns]"
      ]
     },
     "execution_count": 47,
     "metadata": {},
     "output_type": "execute_result"
    }
   ],
   "source": [
    "revenue # посмотрим на получившийся датафрейм"
   ]
  },
  {
   "cell_type": "code",
   "execution_count": 48,
   "id": "3998fa44-5ddb-427f-a089-64c870745281",
   "metadata": {},
   "outputs": [
    {
     "name": "stdout",
     "output_type": "stream",
     "text": [
      "<class 'pandas.core.frame.DataFrame'>\n",
      "MultiIndex: 11331 entries, (1, 1) to (1534, 12)\n",
      "Data columns (total 3 columns):\n",
      " #   Column             Non-Null Count  Dtype  \n",
      "---  ------             --------------  -----  \n",
      " 0   (distance, sum)    11331 non-null  float64\n",
      " 1   (distance, count)  11331 non-null  int64  \n",
      " 2   (duration, sum)    11331 non-null  float64\n",
      "dtypes: float64(2), int64(1)\n",
      "memory usage: 311.0 KB\n"
     ]
    }
   ],
   "source": [
    "revenue.info() # проверим наличие пропусков"
   ]
  },
  {
   "cell_type": "code",
   "execution_count": 49,
   "id": "e5136980-5eea-4edf-a5e8-9f2e1c94d96a",
   "metadata": {},
   "outputs": [
    {
     "data": {
      "text/html": [
       "<div>\n",
       "<style scoped>\n",
       "    .dataframe tbody tr th:only-of-type {\n",
       "        vertical-align: middle;\n",
       "    }\n",
       "\n",
       "    .dataframe tbody tr th {\n",
       "        vertical-align: top;\n",
       "    }\n",
       "\n",
       "    .dataframe thead th {\n",
       "        text-align: right;\n",
       "    }\n",
       "</style>\n",
       "<table border=\"1\" class=\"dataframe\">\n",
       "  <thead>\n",
       "    <tr style=\"text-align: right;\">\n",
       "      <th></th>\n",
       "      <th>user_id</th>\n",
       "      <th>month</th>\n",
       "      <th>distance</th>\n",
       "      <th>count_of_rides</th>\n",
       "      <th>duration</th>\n",
       "    </tr>\n",
       "  </thead>\n",
       "  <tbody>\n",
       "    <tr>\n",
       "      <th>0</th>\n",
       "      <td>1</td>\n",
       "      <td>1</td>\n",
       "      <td>7027.51</td>\n",
       "      <td>2</td>\n",
       "      <td>42.0</td>\n",
       "    </tr>\n",
       "    <tr>\n",
       "      <th>1</th>\n",
       "      <td>1</td>\n",
       "      <td>4</td>\n",
       "      <td>754.16</td>\n",
       "      <td>1</td>\n",
       "      <td>7.0</td>\n",
       "    </tr>\n",
       "    <tr>\n",
       "      <th>2</th>\n",
       "      <td>1</td>\n",
       "      <td>8</td>\n",
       "      <td>6723.47</td>\n",
       "      <td>2</td>\n",
       "      <td>46.0</td>\n",
       "    </tr>\n",
       "    <tr>\n",
       "      <th>3</th>\n",
       "      <td>1</td>\n",
       "      <td>10</td>\n",
       "      <td>5809.91</td>\n",
       "      <td>2</td>\n",
       "      <td>32.0</td>\n",
       "    </tr>\n",
       "    <tr>\n",
       "      <th>4</th>\n",
       "      <td>1</td>\n",
       "      <td>11</td>\n",
       "      <td>7003.50</td>\n",
       "      <td>3</td>\n",
       "      <td>56.0</td>\n",
       "    </tr>\n",
       "  </tbody>\n",
       "</table>\n",
       "</div>"
      ],
      "text/plain": [
       "   user_id  month  distance  count_of_rides  duration\n",
       "0        1      1   7027.51               2      42.0\n",
       "1        1      4    754.16               1       7.0\n",
       "2        1      8   6723.47               2      46.0\n",
       "3        1     10   5809.91               2      32.0\n",
       "4        1     11   7003.50               3      56.0"
      ]
     },
     "execution_count": 49,
     "metadata": {},
     "output_type": "execute_result"
    }
   ],
   "source": [
    "revenue.columns = ['distance', 'count_of_rides', 'duration']\n",
    "#revenue['duration'] = np.ceil(revenue['duration']) \n",
    "revenue = revenue.reset_index()\n",
    "revenue.head()"
   ]
  },
  {
   "cell_type": "code",
   "execution_count": 50,
   "id": "e4f76691-6b59-4688-b435-0a58da962714",
   "metadata": {},
   "outputs": [
    {
     "data": {
      "text/html": [
       "<div>\n",
       "<style scoped>\n",
       "    .dataframe tbody tr th:only-of-type {\n",
       "        vertical-align: middle;\n",
       "    }\n",
       "\n",
       "    .dataframe tbody tr th {\n",
       "        vertical-align: top;\n",
       "    }\n",
       "\n",
       "    .dataframe thead th {\n",
       "        text-align: right;\n",
       "    }\n",
       "</style>\n",
       "<table border=\"1\" class=\"dataframe\">\n",
       "  <thead>\n",
       "    <tr style=\"text-align: right;\">\n",
       "      <th></th>\n",
       "      <th>user_id</th>\n",
       "      <th>month</th>\n",
       "      <th>distance</th>\n",
       "      <th>count_of_rides</th>\n",
       "      <th>duration</th>\n",
       "      <th>earnings</th>\n",
       "    </tr>\n",
       "  </thead>\n",
       "  <tbody>\n",
       "    <tr>\n",
       "      <th>0</th>\n",
       "      <td>1</td>\n",
       "      <td>1</td>\n",
       "      <td>7027.51</td>\n",
       "      <td>2</td>\n",
       "      <td>42.0</td>\n",
       "      <td>451.0</td>\n",
       "    </tr>\n",
       "    <tr>\n",
       "      <th>1</th>\n",
       "      <td>1</td>\n",
       "      <td>4</td>\n",
       "      <td>754.16</td>\n",
       "      <td>1</td>\n",
       "      <td>7.0</td>\n",
       "      <td>241.0</td>\n",
       "    </tr>\n",
       "    <tr>\n",
       "      <th>2</th>\n",
       "      <td>1</td>\n",
       "      <td>8</td>\n",
       "      <td>6723.47</td>\n",
       "      <td>2</td>\n",
       "      <td>46.0</td>\n",
       "      <td>475.0</td>\n",
       "    </tr>\n",
       "    <tr>\n",
       "      <th>3</th>\n",
       "      <td>1</td>\n",
       "      <td>10</td>\n",
       "      <td>5809.91</td>\n",
       "      <td>2</td>\n",
       "      <td>32.0</td>\n",
       "      <td>391.0</td>\n",
       "    </tr>\n",
       "    <tr>\n",
       "      <th>4</th>\n",
       "      <td>1</td>\n",
       "      <td>11</td>\n",
       "      <td>7003.50</td>\n",
       "      <td>3</td>\n",
       "      <td>56.0</td>\n",
       "      <td>535.0</td>\n",
       "    </tr>\n",
       "    <tr>\n",
       "      <th>...</th>\n",
       "      <td>...</td>\n",
       "      <td>...</td>\n",
       "      <td>...</td>\n",
       "      <td>...</td>\n",
       "      <td>...</td>\n",
       "      <td>...</td>\n",
       "    </tr>\n",
       "    <tr>\n",
       "      <th>11326</th>\n",
       "      <td>1534</td>\n",
       "      <td>6</td>\n",
       "      <td>3409.47</td>\n",
       "      <td>2</td>\n",
       "      <td>26.0</td>\n",
       "      <td>308.0</td>\n",
       "    </tr>\n",
       "    <tr>\n",
       "      <th>11327</th>\n",
       "      <td>1534</td>\n",
       "      <td>8</td>\n",
       "      <td>7622.45</td>\n",
       "      <td>2</td>\n",
       "      <td>48.0</td>\n",
       "      <td>484.0</td>\n",
       "    </tr>\n",
       "    <tr>\n",
       "      <th>11328</th>\n",
       "      <td>1534</td>\n",
       "      <td>9</td>\n",
       "      <td>4928.17</td>\n",
       "      <td>1</td>\n",
       "      <td>23.0</td>\n",
       "      <td>234.0</td>\n",
       "    </tr>\n",
       "    <tr>\n",
       "      <th>11329</th>\n",
       "      <td>1534</td>\n",
       "      <td>11</td>\n",
       "      <td>13350.02</td>\n",
       "      <td>4</td>\n",
       "      <td>78.0</td>\n",
       "      <td>824.0</td>\n",
       "    </tr>\n",
       "    <tr>\n",
       "      <th>11330</th>\n",
       "      <td>1534</td>\n",
       "      <td>12</td>\n",
       "      <td>2371.71</td>\n",
       "      <td>1</td>\n",
       "      <td>16.0</td>\n",
       "      <td>178.0</td>\n",
       "    </tr>\n",
       "  </tbody>\n",
       "</table>\n",
       "<p>11331 rows × 6 columns</p>\n",
       "</div>"
      ],
      "text/plain": [
       "       user_id  month  distance  count_of_rides  duration  earnings\n",
       "0            1      1   7027.51               2      42.0     451.0\n",
       "1            1      4    754.16               1       7.0     241.0\n",
       "2            1      8   6723.47               2      46.0     475.0\n",
       "3            1     10   5809.91               2      32.0     391.0\n",
       "4            1     11   7003.50               3      56.0     535.0\n",
       "...        ...    ...       ...             ...       ...       ...\n",
       "11326     1534      6   3409.47               2      26.0     308.0\n",
       "11327     1534      8   7622.45               2      48.0     484.0\n",
       "11328     1534      9   4928.17               1      23.0     234.0\n",
       "11329     1534     11  13350.02               4      78.0     824.0\n",
       "11330     1534     12   2371.71               1      16.0     178.0\n",
       "\n",
       "[11331 rows x 6 columns]"
      ]
     },
     "execution_count": 50,
     "metadata": {},
     "output_type": "execute_result"
    }
   ],
   "source": [
    "# непосредственно произведём рассчёт выручки\n",
    "def categorize_earnings(row):\n",
    "    if row['user_id'] in ultra['user_id'].values:\n",
    "        return 6 * row['duration'] + 199\n",
    "    else:\n",
    "        return 50 * row['count_of_rides'] + 8 * row['duration']\n",
    "\n",
    "\n",
    "revenue['earnings'] = revenue.apply(categorize_earnings, axis=1)\n",
    "revenue"
   ]
  },
  {
   "cell_type": "code",
   "execution_count": 51,
   "id": "cada3e97-57d0-4b22-8449-ec3ca4c64b1a",
   "metadata": {},
   "outputs": [
    {
     "data": {
      "text/html": [
       "<div>\n",
       "<style scoped>\n",
       "    .dataframe tbody tr th:only-of-type {\n",
       "        vertical-align: middle;\n",
       "    }\n",
       "\n",
       "    .dataframe tbody tr th {\n",
       "        vertical-align: top;\n",
       "    }\n",
       "\n",
       "    .dataframe thead th {\n",
       "        text-align: right;\n",
       "    }\n",
       "</style>\n",
       "<table border=\"1\" class=\"dataframe\">\n",
       "  <thead>\n",
       "    <tr style=\"text-align: right;\">\n",
       "      <th></th>\n",
       "      <th>user_id</th>\n",
       "      <th>month</th>\n",
       "      <th>distance</th>\n",
       "      <th>count_of_rides</th>\n",
       "      <th>duration</th>\n",
       "      <th>earnings</th>\n",
       "      <th>earnin</th>\n",
       "    </tr>\n",
       "  </thead>\n",
       "  <tbody>\n",
       "    <tr>\n",
       "      <th>0</th>\n",
       "      <td>1</td>\n",
       "      <td>1</td>\n",
       "      <td>7027.51</td>\n",
       "      <td>2</td>\n",
       "      <td>42.0</td>\n",
       "      <td>451.0</td>\n",
       "      <td>0</td>\n",
       "    </tr>\n",
       "    <tr>\n",
       "      <th>1</th>\n",
       "      <td>1</td>\n",
       "      <td>4</td>\n",
       "      <td>754.16</td>\n",
       "      <td>1</td>\n",
       "      <td>7.0</td>\n",
       "      <td>241.0</td>\n",
       "      <td>0</td>\n",
       "    </tr>\n",
       "    <tr>\n",
       "      <th>2</th>\n",
       "      <td>1</td>\n",
       "      <td>8</td>\n",
       "      <td>6723.47</td>\n",
       "      <td>2</td>\n",
       "      <td>46.0</td>\n",
       "      <td>475.0</td>\n",
       "      <td>0</td>\n",
       "    </tr>\n",
       "    <tr>\n",
       "      <th>3</th>\n",
       "      <td>1</td>\n",
       "      <td>10</td>\n",
       "      <td>5809.91</td>\n",
       "      <td>2</td>\n",
       "      <td>32.0</td>\n",
       "      <td>391.0</td>\n",
       "      <td>0</td>\n",
       "    </tr>\n",
       "    <tr>\n",
       "      <th>4</th>\n",
       "      <td>1</td>\n",
       "      <td>11</td>\n",
       "      <td>7003.50</td>\n",
       "      <td>3</td>\n",
       "      <td>56.0</td>\n",
       "      <td>535.0</td>\n",
       "      <td>0</td>\n",
       "    </tr>\n",
       "    <tr>\n",
       "      <th>...</th>\n",
       "      <td>...</td>\n",
       "      <td>...</td>\n",
       "      <td>...</td>\n",
       "      <td>...</td>\n",
       "      <td>...</td>\n",
       "      <td>...</td>\n",
       "      <td>...</td>\n",
       "    </tr>\n",
       "    <tr>\n",
       "      <th>11326</th>\n",
       "      <td>1534</td>\n",
       "      <td>6</td>\n",
       "      <td>3409.47</td>\n",
       "      <td>2</td>\n",
       "      <td>26.0</td>\n",
       "      <td>308.0</td>\n",
       "      <td>0</td>\n",
       "    </tr>\n",
       "    <tr>\n",
       "      <th>11327</th>\n",
       "      <td>1534</td>\n",
       "      <td>8</td>\n",
       "      <td>7622.45</td>\n",
       "      <td>2</td>\n",
       "      <td>48.0</td>\n",
       "      <td>484.0</td>\n",
       "      <td>0</td>\n",
       "    </tr>\n",
       "    <tr>\n",
       "      <th>11328</th>\n",
       "      <td>1534</td>\n",
       "      <td>9</td>\n",
       "      <td>4928.17</td>\n",
       "      <td>1</td>\n",
       "      <td>23.0</td>\n",
       "      <td>234.0</td>\n",
       "      <td>0</td>\n",
       "    </tr>\n",
       "    <tr>\n",
       "      <th>11329</th>\n",
       "      <td>1534</td>\n",
       "      <td>11</td>\n",
       "      <td>13350.02</td>\n",
       "      <td>4</td>\n",
       "      <td>78.0</td>\n",
       "      <td>824.0</td>\n",
       "      <td>0</td>\n",
       "    </tr>\n",
       "    <tr>\n",
       "      <th>11330</th>\n",
       "      <td>1534</td>\n",
       "      <td>12</td>\n",
       "      <td>2371.71</td>\n",
       "      <td>1</td>\n",
       "      <td>16.0</td>\n",
       "      <td>178.0</td>\n",
       "      <td>0</td>\n",
       "    </tr>\n",
       "  </tbody>\n",
       "</table>\n",
       "<p>11331 rows × 7 columns</p>\n",
       "</div>"
      ],
      "text/plain": [
       "       user_id  month  distance  count_of_rides  duration  earnings  earnin\n",
       "0            1      1   7027.51               2      42.0     451.0       0\n",
       "1            1      4    754.16               1       7.0     241.0       0\n",
       "2            1      8   6723.47               2      46.0     475.0       0\n",
       "3            1     10   5809.91               2      32.0     391.0       0\n",
       "4            1     11   7003.50               3      56.0     535.0       0\n",
       "...        ...    ...       ...             ...       ...       ...     ...\n",
       "11326     1534      6   3409.47               2      26.0     308.0       0\n",
       "11327     1534      8   7622.45               2      48.0     484.0       0\n",
       "11328     1534      9   4928.17               1      23.0     234.0       0\n",
       "11329     1534     11  13350.02               4      78.0     824.0       0\n",
       "11330     1534     12   2371.71               1      16.0     178.0       0\n",
       "\n",
       "[11331 rows x 7 columns]"
      ]
     },
     "execution_count": 51,
     "metadata": {},
     "output_type": "execute_result"
    }
   ],
   "source": [
    "# непосредственно произведём рассчёт выручки\n",
    "def categorize_earnings(row):\n",
    "    if row['user_id'] in ultra:\n",
    "        return 6 * row['duration'] + 199\n",
    "    elif row['user_id'] in free:\n",
    "        return 50 * row['count_of_rides'] + 8 * row['duration']\n",
    "    else: \n",
    "        return 0\n",
    "\n",
    "\n",
    "revenue['earnin'] = revenue.apply(categorize_earnings, axis=1)\n",
    "revenue"
   ]
  },
  {
   "cell_type": "code",
   "execution_count": 52,
   "id": "df8724f4-394f-4b60-9fc4-5d928287fb78",
   "metadata": {},
   "outputs": [
    {
     "data": {
      "text/html": [
       "<div>\n",
       "<style scoped>\n",
       "    .dataframe tbody tr th:only-of-type {\n",
       "        vertical-align: middle;\n",
       "    }\n",
       "\n",
       "    .dataframe tbody tr th {\n",
       "        vertical-align: top;\n",
       "    }\n",
       "\n",
       "    .dataframe thead th {\n",
       "        text-align: right;\n",
       "    }\n",
       "</style>\n",
       "<table border=\"1\" class=\"dataframe\">\n",
       "  <thead>\n",
       "    <tr style=\"text-align: right;\">\n",
       "      <th></th>\n",
       "      <th>user_id</th>\n",
       "      <th>month</th>\n",
       "      <th>distance</th>\n",
       "      <th>count_of_rides</th>\n",
       "      <th>duration</th>\n",
       "      <th>earnings</th>\n",
       "      <th>earnin</th>\n",
       "      <th>ea</th>\n",
       "    </tr>\n",
       "  </thead>\n",
       "  <tbody>\n",
       "    <tr>\n",
       "      <th>0</th>\n",
       "      <td>1</td>\n",
       "      <td>1</td>\n",
       "      <td>7027.51</td>\n",
       "      <td>2</td>\n",
       "      <td>42.0</td>\n",
       "      <td>451.0</td>\n",
       "      <td>0</td>\n",
       "      <td>0</td>\n",
       "    </tr>\n",
       "    <tr>\n",
       "      <th>1</th>\n",
       "      <td>1</td>\n",
       "      <td>4</td>\n",
       "      <td>754.16</td>\n",
       "      <td>1</td>\n",
       "      <td>7.0</td>\n",
       "      <td>241.0</td>\n",
       "      <td>0</td>\n",
       "      <td>0</td>\n",
       "    </tr>\n",
       "    <tr>\n",
       "      <th>2</th>\n",
       "      <td>1</td>\n",
       "      <td>8</td>\n",
       "      <td>6723.47</td>\n",
       "      <td>2</td>\n",
       "      <td>46.0</td>\n",
       "      <td>475.0</td>\n",
       "      <td>0</td>\n",
       "      <td>0</td>\n",
       "    </tr>\n",
       "    <tr>\n",
       "      <th>3</th>\n",
       "      <td>1</td>\n",
       "      <td>10</td>\n",
       "      <td>5809.91</td>\n",
       "      <td>2</td>\n",
       "      <td>32.0</td>\n",
       "      <td>391.0</td>\n",
       "      <td>0</td>\n",
       "      <td>0</td>\n",
       "    </tr>\n",
       "    <tr>\n",
       "      <th>4</th>\n",
       "      <td>1</td>\n",
       "      <td>11</td>\n",
       "      <td>7003.50</td>\n",
       "      <td>3</td>\n",
       "      <td>56.0</td>\n",
       "      <td>535.0</td>\n",
       "      <td>0</td>\n",
       "      <td>0</td>\n",
       "    </tr>\n",
       "    <tr>\n",
       "      <th>...</th>\n",
       "      <td>...</td>\n",
       "      <td>...</td>\n",
       "      <td>...</td>\n",
       "      <td>...</td>\n",
       "      <td>...</td>\n",
       "      <td>...</td>\n",
       "      <td>...</td>\n",
       "      <td>...</td>\n",
       "    </tr>\n",
       "    <tr>\n",
       "      <th>11326</th>\n",
       "      <td>1534</td>\n",
       "      <td>6</td>\n",
       "      <td>3409.47</td>\n",
       "      <td>2</td>\n",
       "      <td>26.0</td>\n",
       "      <td>308.0</td>\n",
       "      <td>0</td>\n",
       "      <td>0</td>\n",
       "    </tr>\n",
       "    <tr>\n",
       "      <th>11327</th>\n",
       "      <td>1534</td>\n",
       "      <td>8</td>\n",
       "      <td>7622.45</td>\n",
       "      <td>2</td>\n",
       "      <td>48.0</td>\n",
       "      <td>484.0</td>\n",
       "      <td>0</td>\n",
       "      <td>0</td>\n",
       "    </tr>\n",
       "    <tr>\n",
       "      <th>11328</th>\n",
       "      <td>1534</td>\n",
       "      <td>9</td>\n",
       "      <td>4928.17</td>\n",
       "      <td>1</td>\n",
       "      <td>23.0</td>\n",
       "      <td>234.0</td>\n",
       "      <td>0</td>\n",
       "      <td>0</td>\n",
       "    </tr>\n",
       "    <tr>\n",
       "      <th>11329</th>\n",
       "      <td>1534</td>\n",
       "      <td>11</td>\n",
       "      <td>13350.02</td>\n",
       "      <td>4</td>\n",
       "      <td>78.0</td>\n",
       "      <td>824.0</td>\n",
       "      <td>0</td>\n",
       "      <td>0</td>\n",
       "    </tr>\n",
       "    <tr>\n",
       "      <th>11330</th>\n",
       "      <td>1534</td>\n",
       "      <td>12</td>\n",
       "      <td>2371.71</td>\n",
       "      <td>1</td>\n",
       "      <td>16.0</td>\n",
       "      <td>178.0</td>\n",
       "      <td>0</td>\n",
       "      <td>0</td>\n",
       "    </tr>\n",
       "  </tbody>\n",
       "</table>\n",
       "<p>11331 rows × 8 columns</p>\n",
       "</div>"
      ],
      "text/plain": [
       "       user_id  month  distance  count_of_rides  duration  earnings  earnin  \\\n",
       "0            1      1   7027.51               2      42.0     451.0       0   \n",
       "1            1      4    754.16               1       7.0     241.0       0   \n",
       "2            1      8   6723.47               2      46.0     475.0       0   \n",
       "3            1     10   5809.91               2      32.0     391.0       0   \n",
       "4            1     11   7003.50               3      56.0     535.0       0   \n",
       "...        ...    ...       ...             ...       ...       ...     ...   \n",
       "11326     1534      6   3409.47               2      26.0     308.0       0   \n",
       "11327     1534      8   7622.45               2      48.0     484.0       0   \n",
       "11328     1534      9   4928.17               1      23.0     234.0       0   \n",
       "11329     1534     11  13350.02               4      78.0     824.0       0   \n",
       "11330     1534     12   2371.71               1      16.0     178.0       0   \n",
       "\n",
       "       ea  \n",
       "0       0  \n",
       "1       0  \n",
       "2       0  \n",
       "3       0  \n",
       "4       0  \n",
       "...    ..  \n",
       "11326   0  \n",
       "11327   0  \n",
       "11328   0  \n",
       "11329   0  \n",
       "11330   0  \n",
       "\n",
       "[11331 rows x 8 columns]"
      ]
     },
     "execution_count": 52,
     "metadata": {},
     "output_type": "execute_result"
    }
   ],
   "source": [
    "# непосредственно произведём рассчёт выручки\n",
    "def categorize_earnings(row):\n",
    "    if all(row['user_id'] not in s for s in (free, ultra)):\n",
    "        return 0\n",
    "\n",
    "\n",
    "revenue['ea'] = revenue.apply(categorize_earnings, axis=1)\n",
    "revenue"
   ]
  },
  {
   "cell_type": "markdown",
   "id": "35ed4628-f1e2-4931-b5f6-cc1a8b205683",
   "metadata": {},
   "source": [
    "## Проверим некоторые гипотезы"
   ]
  },
  {
   "cell_type": "markdown",
   "id": "fa2010ca-b237-491f-87ac-4dab5528c468",
   "metadata": {},
   "source": [
    "1) Нулевая гипотеза: пользователи с подпиской и без тратят одинаковое время на поездки\n",
    "    \n",
    "   Альтернативная гипотеза: пользователи с подпиской тратят больше времени на поездки"
   ]
  },
  {
   "cell_type": "code",
   "execution_count": 55,
   "id": "7a8325d0-c12f-4b3e-b28e-118318ee7e63",
   "metadata": {},
   "outputs": [
    {
     "name": "stdout",
     "output_type": "stream",
     "text": [
      "Среднее для пользователей с подпиской: 18.54198516280583,\n",
      "Среднее для пользователей без подписки: 17.39090929866399\n",
      "\n",
      "p-значение: 1.2804098316645618e-34\n",
      "Отвергаем нулевую гипотезу:  пользователи с подпиской тратят больше времени на поездки\n"
     ]
    }
   ],
   "source": [
    "alpha = 0.05\n",
    "\n",
    "print(f\"Среднее для пользователей с подпиской: {ultra['duration'].mean()},\\nСреднее для пользователей без подписки: {free['duration'].mean()}\\n\")\n",
    "\n",
    "results = st.ttest_ind(\n",
    "    ultra['duration'], \n",
    "    free['duration'],\n",
    "      alternative='greater')\n",
    "\n",
    "print('p-значение:', results.pvalue) \n",
    "\n",
    "if (results.pvalue < alpha):\n",
    "    print('Отвергаем нулевую гипотезу:  пользователи с подпиской тратят больше времени на поездки')\n",
    "else:\n",
    "    print('Не получилось отвергнуть нулевую гипотезу')"
   ]
  },
  {
   "cell_type": "markdown",
   "id": "24ea33e2-d7d1-4e25-9031-dfe285f91662",
   "metadata": {},
   "source": [
    "2) Нулевая гипотеза: среднее расстояние, которое проезжают пользователи с подпиской за одну поездку равно 3130 метров (оптимальное с точки зрения износа самоката)\n",
    "    \n",
    "   Альтернативная гипотеза: пользователи с подпиской в среднем проезжают больше 3130 метров за одну поездку"
   ]
  },
  {
   "cell_type": "code",
   "execution_count": 56,
   "id": "f321f28d-17dc-4854-af11-a31309858571",
   "metadata": {},
   "outputs": [
    {
     "name": "stdout",
     "output_type": "stream",
     "text": [
      "Среднее 3115.445430769231\n",
      "p-значение: 0.9195362605842414\n",
      "Не отвергаем нулевую гипотезу\n"
     ]
    }
   ],
   "source": [
    "avareage_value = 3130\n",
    "\n",
    "alpha = 0.05 \n",
    "\n",
    "print('Среднее', ultra['distance'].mean())\n",
    "\n",
    "results = st.ttest_1samp(\n",
    "    ultra['distance'], \n",
    "    avareage_value,\n",
    "      alternative='greater')\n",
    "\n",
    "print('p-значение:', results.pvalue)\n",
    "\n",
    "if (results.pvalue < alpha):\n",
    "    print('Отвергаем нулевую гипотезу: пользователи с подпиской в среднем проезжают больше 3130 метров за одну поездку')\n",
    "else:\n",
    "    print('Не отвергаем нулевую гипотезу')"
   ]
  },
  {
   "cell_type": "markdown",
   "id": "2d63c066-edcd-4901-812a-50d4355ab3d6",
   "metadata": {},
   "source": [
    "3) Нулевая гипотеза: помесячная выручка от пользователей с подпиской по месяцам *равна* выручке от пользователей без подписки\n",
    "    \n",
    "   Альтернативная гипотеза: помесячная выручка от пользователей с подпиской по месяцам *выше*, чем выручка от пользователей без подписки"
   ]
  },
  {
   "cell_type": "code",
   "execution_count": 57,
   "id": "4cb095dc-d429-478c-94e6-2665912dff80",
   "metadata": {},
   "outputs": [
    {
     "data": {
      "text/html": [
       "<div>\n",
       "<style scoped>\n",
       "    .dataframe tbody tr th:only-of-type {\n",
       "        vertical-align: middle;\n",
       "    }\n",
       "\n",
       "    .dataframe tbody tr th {\n",
       "        vertical-align: top;\n",
       "    }\n",
       "\n",
       "    .dataframe thead th {\n",
       "        text-align: right;\n",
       "    }\n",
       "</style>\n",
       "<table border=\"1\" class=\"dataframe\">\n",
       "  <thead>\n",
       "    <tr style=\"text-align: right;\">\n",
       "      <th></th>\n",
       "      <th>user_id</th>\n",
       "      <th>month</th>\n",
       "      <th>distance</th>\n",
       "      <th>count_of_rides</th>\n",
       "      <th>duration</th>\n",
       "      <th>earnings</th>\n",
       "      <th>earnin</th>\n",
       "      <th>ea</th>\n",
       "    </tr>\n",
       "  </thead>\n",
       "  <tbody>\n",
       "    <tr>\n",
       "      <th>0</th>\n",
       "      <td>1</td>\n",
       "      <td>1</td>\n",
       "      <td>7027.51</td>\n",
       "      <td>2</td>\n",
       "      <td>42.0</td>\n",
       "      <td>451.0</td>\n",
       "      <td>0</td>\n",
       "      <td>0</td>\n",
       "    </tr>\n",
       "    <tr>\n",
       "      <th>1</th>\n",
       "      <td>1</td>\n",
       "      <td>4</td>\n",
       "      <td>754.16</td>\n",
       "      <td>1</td>\n",
       "      <td>7.0</td>\n",
       "      <td>241.0</td>\n",
       "      <td>0</td>\n",
       "      <td>0</td>\n",
       "    </tr>\n",
       "    <tr>\n",
       "      <th>2</th>\n",
       "      <td>1</td>\n",
       "      <td>8</td>\n",
       "      <td>6723.47</td>\n",
       "      <td>2</td>\n",
       "      <td>46.0</td>\n",
       "      <td>475.0</td>\n",
       "      <td>0</td>\n",
       "      <td>0</td>\n",
       "    </tr>\n",
       "    <tr>\n",
       "      <th>3</th>\n",
       "      <td>1</td>\n",
       "      <td>10</td>\n",
       "      <td>5809.91</td>\n",
       "      <td>2</td>\n",
       "      <td>32.0</td>\n",
       "      <td>391.0</td>\n",
       "      <td>0</td>\n",
       "      <td>0</td>\n",
       "    </tr>\n",
       "    <tr>\n",
       "      <th>4</th>\n",
       "      <td>1</td>\n",
       "      <td>11</td>\n",
       "      <td>7003.50</td>\n",
       "      <td>3</td>\n",
       "      <td>56.0</td>\n",
       "      <td>535.0</td>\n",
       "      <td>0</td>\n",
       "      <td>0</td>\n",
       "    </tr>\n",
       "    <tr>\n",
       "      <th>...</th>\n",
       "      <td>...</td>\n",
       "      <td>...</td>\n",
       "      <td>...</td>\n",
       "      <td>...</td>\n",
       "      <td>...</td>\n",
       "      <td>...</td>\n",
       "      <td>...</td>\n",
       "      <td>...</td>\n",
       "    </tr>\n",
       "    <tr>\n",
       "      <th>4528</th>\n",
       "      <td>699</td>\n",
       "      <td>6</td>\n",
       "      <td>4072.80</td>\n",
       "      <td>1</td>\n",
       "      <td>17.0</td>\n",
       "      <td>301.0</td>\n",
       "      <td>0</td>\n",
       "      <td>0</td>\n",
       "    </tr>\n",
       "    <tr>\n",
       "      <th>4529</th>\n",
       "      <td>699</td>\n",
       "      <td>8</td>\n",
       "      <td>7018.33</td>\n",
       "      <td>2</td>\n",
       "      <td>45.0</td>\n",
       "      <td>469.0</td>\n",
       "      <td>0</td>\n",
       "      <td>0</td>\n",
       "    </tr>\n",
       "    <tr>\n",
       "      <th>4530</th>\n",
       "      <td>699</td>\n",
       "      <td>9</td>\n",
       "      <td>6364.86</td>\n",
       "      <td>2</td>\n",
       "      <td>31.0</td>\n",
       "      <td>385.0</td>\n",
       "      <td>0</td>\n",
       "      <td>0</td>\n",
       "    </tr>\n",
       "    <tr>\n",
       "      <th>4531</th>\n",
       "      <td>699</td>\n",
       "      <td>10</td>\n",
       "      <td>4707.85</td>\n",
       "      <td>1</td>\n",
       "      <td>16.0</td>\n",
       "      <td>295.0</td>\n",
       "      <td>0</td>\n",
       "      <td>0</td>\n",
       "    </tr>\n",
       "    <tr>\n",
       "      <th>4532</th>\n",
       "      <td>699</td>\n",
       "      <td>12</td>\n",
       "      <td>3202.89</td>\n",
       "      <td>1</td>\n",
       "      <td>26.0</td>\n",
       "      <td>355.0</td>\n",
       "      <td>0</td>\n",
       "      <td>0</td>\n",
       "    </tr>\n",
       "  </tbody>\n",
       "</table>\n",
       "<p>4533 rows × 8 columns</p>\n",
       "</div>"
      ],
      "text/plain": [
       "      user_id  month  distance  count_of_rides  duration  earnings  earnin  ea\n",
       "0           1      1   7027.51               2      42.0     451.0       0   0\n",
       "1           1      4    754.16               1       7.0     241.0       0   0\n",
       "2           1      8   6723.47               2      46.0     475.0       0   0\n",
       "3           1     10   5809.91               2      32.0     391.0       0   0\n",
       "4           1     11   7003.50               3      56.0     535.0       0   0\n",
       "...       ...    ...       ...             ...       ...       ...     ...  ..\n",
       "4528      699      6   4072.80               1      17.0     301.0       0   0\n",
       "4529      699      8   7018.33               2      45.0     469.0       0   0\n",
       "4530      699      9   6364.86               2      31.0     385.0       0   0\n",
       "4531      699     10   4707.85               1      16.0     295.0       0   0\n",
       "4532      699     12   3202.89               1      26.0     355.0       0   0\n",
       "\n",
       "[4533 rows x 8 columns]"
      ]
     },
     "execution_count": 57,
     "metadata": {},
     "output_type": "execute_result"
    }
   ],
   "source": [
    "# разделим датафрейм с выручкой на два датафрейма - для пользователей с подпиской и без\n",
    "revenue_ultra = revenue[revenue['user_id'].isin(ultra['user_id'])]\n",
    "revenue_ultra"
   ]
  },
  {
   "cell_type": "code",
   "execution_count": 58,
   "id": "c4c6b747-7550-4bdc-99ab-bd15cfc598cd",
   "metadata": {},
   "outputs": [
    {
     "data": {
      "text/html": [
       "<div>\n",
       "<style scoped>\n",
       "    .dataframe tbody tr th:only-of-type {\n",
       "        vertical-align: middle;\n",
       "    }\n",
       "\n",
       "    .dataframe tbody tr th {\n",
       "        vertical-align: top;\n",
       "    }\n",
       "\n",
       "    .dataframe thead th {\n",
       "        text-align: right;\n",
       "    }\n",
       "</style>\n",
       "<table border=\"1\" class=\"dataframe\">\n",
       "  <thead>\n",
       "    <tr style=\"text-align: right;\">\n",
       "      <th></th>\n",
       "      <th>user_id</th>\n",
       "      <th>month</th>\n",
       "      <th>distance</th>\n",
       "      <th>count_of_rides</th>\n",
       "      <th>duration</th>\n",
       "      <th>earnings</th>\n",
       "      <th>earnin</th>\n",
       "      <th>ea</th>\n",
       "    </tr>\n",
       "  </thead>\n",
       "  <tbody>\n",
       "    <tr>\n",
       "      <th>4533</th>\n",
       "      <td>700</td>\n",
       "      <td>1</td>\n",
       "      <td>2515.69</td>\n",
       "      <td>1</td>\n",
       "      <td>15.0</td>\n",
       "      <td>170.0</td>\n",
       "      <td>0</td>\n",
       "      <td>0</td>\n",
       "    </tr>\n",
       "    <tr>\n",
       "      <th>4534</th>\n",
       "      <td>700</td>\n",
       "      <td>2</td>\n",
       "      <td>13446.65</td>\n",
       "      <td>5</td>\n",
       "      <td>89.0</td>\n",
       "      <td>962.0</td>\n",
       "      <td>0</td>\n",
       "      <td>0</td>\n",
       "    </tr>\n",
       "    <tr>\n",
       "      <th>4535</th>\n",
       "      <td>700</td>\n",
       "      <td>3</td>\n",
       "      <td>3798.33</td>\n",
       "      <td>1</td>\n",
       "      <td>19.0</td>\n",
       "      <td>202.0</td>\n",
       "      <td>0</td>\n",
       "      <td>0</td>\n",
       "    </tr>\n",
       "    <tr>\n",
       "      <th>4536</th>\n",
       "      <td>700</td>\n",
       "      <td>4</td>\n",
       "      <td>2984.55</td>\n",
       "      <td>1</td>\n",
       "      <td>16.0</td>\n",
       "      <td>178.0</td>\n",
       "      <td>0</td>\n",
       "      <td>0</td>\n",
       "    </tr>\n",
       "    <tr>\n",
       "      <th>4537</th>\n",
       "      <td>700</td>\n",
       "      <td>6</td>\n",
       "      <td>5927.65</td>\n",
       "      <td>2</td>\n",
       "      <td>29.0</td>\n",
       "      <td>332.0</td>\n",
       "      <td>0</td>\n",
       "      <td>0</td>\n",
       "    </tr>\n",
       "    <tr>\n",
       "      <th>...</th>\n",
       "      <td>...</td>\n",
       "      <td>...</td>\n",
       "      <td>...</td>\n",
       "      <td>...</td>\n",
       "      <td>...</td>\n",
       "      <td>...</td>\n",
       "      <td>...</td>\n",
       "      <td>...</td>\n",
       "    </tr>\n",
       "    <tr>\n",
       "      <th>11326</th>\n",
       "      <td>1534</td>\n",
       "      <td>6</td>\n",
       "      <td>3409.47</td>\n",
       "      <td>2</td>\n",
       "      <td>26.0</td>\n",
       "      <td>308.0</td>\n",
       "      <td>0</td>\n",
       "      <td>0</td>\n",
       "    </tr>\n",
       "    <tr>\n",
       "      <th>11327</th>\n",
       "      <td>1534</td>\n",
       "      <td>8</td>\n",
       "      <td>7622.45</td>\n",
       "      <td>2</td>\n",
       "      <td>48.0</td>\n",
       "      <td>484.0</td>\n",
       "      <td>0</td>\n",
       "      <td>0</td>\n",
       "    </tr>\n",
       "    <tr>\n",
       "      <th>11328</th>\n",
       "      <td>1534</td>\n",
       "      <td>9</td>\n",
       "      <td>4928.17</td>\n",
       "      <td>1</td>\n",
       "      <td>23.0</td>\n",
       "      <td>234.0</td>\n",
       "      <td>0</td>\n",
       "      <td>0</td>\n",
       "    </tr>\n",
       "    <tr>\n",
       "      <th>11329</th>\n",
       "      <td>1534</td>\n",
       "      <td>11</td>\n",
       "      <td>13350.02</td>\n",
       "      <td>4</td>\n",
       "      <td>78.0</td>\n",
       "      <td>824.0</td>\n",
       "      <td>0</td>\n",
       "      <td>0</td>\n",
       "    </tr>\n",
       "    <tr>\n",
       "      <th>11330</th>\n",
       "      <td>1534</td>\n",
       "      <td>12</td>\n",
       "      <td>2371.71</td>\n",
       "      <td>1</td>\n",
       "      <td>16.0</td>\n",
       "      <td>178.0</td>\n",
       "      <td>0</td>\n",
       "      <td>0</td>\n",
       "    </tr>\n",
       "  </tbody>\n",
       "</table>\n",
       "<p>6798 rows × 8 columns</p>\n",
       "</div>"
      ],
      "text/plain": [
       "       user_id  month  distance  count_of_rides  duration  earnings  earnin  \\\n",
       "4533       700      1   2515.69               1      15.0     170.0       0   \n",
       "4534       700      2  13446.65               5      89.0     962.0       0   \n",
       "4535       700      3   3798.33               1      19.0     202.0       0   \n",
       "4536       700      4   2984.55               1      16.0     178.0       0   \n",
       "4537       700      6   5927.65               2      29.0     332.0       0   \n",
       "...        ...    ...       ...             ...       ...       ...     ...   \n",
       "11326     1534      6   3409.47               2      26.0     308.0       0   \n",
       "11327     1534      8   7622.45               2      48.0     484.0       0   \n",
       "11328     1534      9   4928.17               1      23.0     234.0       0   \n",
       "11329     1534     11  13350.02               4      78.0     824.0       0   \n",
       "11330     1534     12   2371.71               1      16.0     178.0       0   \n",
       "\n",
       "       ea  \n",
       "4533    0  \n",
       "4534    0  \n",
       "4535    0  \n",
       "4536    0  \n",
       "4537    0  \n",
       "...    ..  \n",
       "11326   0  \n",
       "11327   0  \n",
       "11328   0  \n",
       "11329   0  \n",
       "11330   0  \n",
       "\n",
       "[6798 rows x 8 columns]"
      ]
     },
     "execution_count": 58,
     "metadata": {},
     "output_type": "execute_result"
    }
   ],
   "source": [
    "revenue_free = revenue[revenue['user_id'].isin(free['user_id'])]\n",
    "revenue_free"
   ]
  },
  {
   "cell_type": "code",
   "execution_count": 59,
   "id": "83979c43-77ad-4d6a-9f30-a43608e48228",
   "metadata": {},
   "outputs": [
    {
     "name": "stdout",
     "output_type": "stream",
     "text": [
      "p-значение: 1.8850394384715216e-31\n",
      "Отвергаем нулевую гипотезу: помесячная выручка от пользователей с подпиской по месяцам выше, чем выручка от пользователей без подписки\n"
     ]
    }
   ],
   "source": [
    "alpha = 0.05\n",
    "\n",
    "results = st.ttest_ind(\n",
    "    revenue_ultra['earnings'], \n",
    "    revenue_free['earnings'],\n",
    "      alternative='greater')\n",
    "\n",
    "print('p-значение:', results.pvalue) \n",
    "\n",
    "if (results.pvalue < alpha):\n",
    "    print('Отвергаем нулевую гипотезу: помесячная выручка от пользователей с подпиской по месяцам выше, чем выручка от пользователей без подписки')\n",
    "else:\n",
    "    print('Не получилось отвергнуть нулевую гипотезу')"
   ]
  },
  {
   "cell_type": "markdown",
   "id": "1920a335-e634-4597-881d-7b071d4b7e06",
   "metadata": {},
   "source": [
    "Интересно! Посмотрим на цифры"
   ]
  },
  {
   "cell_type": "code",
   "execution_count": 60,
   "id": "a92e26e8-775b-4275-971c-85dd11b0a458",
   "metadata": {},
   "outputs": [
    {
     "name": "stdout",
     "output_type": "stream",
     "text": [
      "Средний помесячный доход от пользователя с подпиской: 363,\n",
      "Средний помесячный доход от пользователя без подписки: 329\n"
     ]
    }
   ],
   "source": [
    "print (f\"Средний помесячный доход от пользователя с подпиской: {round(revenue_ultra['earnings'].sum()/revenue_ultra['earnings'].count())},\\nСредний помесячный доход от пользователя без подписки: {round(revenue_free['earnings'].sum()/revenue_free['earnings'].count())}\")"
   ]
  },
  {
   "cell_type": "markdown",
   "id": "66f621e5-a27e-4ef1-8142-2d59975d77cc",
   "metadata": {},
   "source": [
    "Также ради интереса посмотрим на динамику доходов"
   ]
  },
  {
   "cell_type": "code",
   "execution_count": 61,
   "id": "1411b3f7-ef6e-4975-a592-b70101307b12",
   "metadata": {},
   "outputs": [
    {
     "data": {
      "image/png": "[encoded data removed]",
      "text/plain": [
       "<Figure size 576x360 with 1 Axes>"
      ]
     },
     "metadata": {
      "needs_background": "light"
     },
     "output_type": "display_data"
    }
   ],
   "source": [
    "import matplotlib.pyplot as plt\n",
    "\n",
    "plt.figure(figsize=(8, 5))\n",
    "\n",
    "# Рисуем линии для Ultra и Free\n",
    "plt.plot(revenue_ultra.groupby('month').agg({'earnings':'sum'}).reset_index()['month'], \n",
    "         revenue_ultra.groupby('month').agg({'earnings':'sum'}).reset_index()['earnings'], \n",
    "         label='Ultra', \n",
    "         marker='o',\n",
    "         color='#1f77b4')\n",
    "\n",
    "plt.plot(revenue_free.groupby('month').agg({'earnings':'sum'}).reset_index()['month'], \n",
    "         revenue_free.groupby('month').agg({'earnings':'sum'}).reset_index()['earnings'], \n",
    "         label='Free', \n",
    "         marker='s',\n",
    "         color='#261fb4')\n",
    "\n",
    "\n",
    "plt.title('Динамика доходов по месяцам', fontsize=14)\n",
    "plt.xlabel('Месяц', fontsize=12)\n",
    "plt.ylabel('Доход', fontsize=12)\n",
    "plt.grid(True, alpha=0.3)\n",
    "plt.legend()\n",
    "plt.xticks(revenue_ultra['month'])  \n",
    "\n",
    "plt.tight_layout()\n",
    "\n",
    "plt.show()"
   ]
  },
  {
   "cell_type": "markdown",
   "id": "38ca94ff-e6e3-44a1-a717-bcedaf4c8e85",
   "metadata": {},
   "source": [
    "В среднем, один пользователь с подпиской приносит больший доход в месяц, чем пользователь без подписки, но из-за того, что пользователей без подписки больше, на протяжении всего года они приносили больший доход "
   ]
  },
  {
   "cell_type": "code",
   "execution_count": 62,
   "id": "aa2e35c1-e926-49bc-86f1-a2a89f4e08b9",
   "metadata": {},
   "outputs": [
    {
     "name": "stdout",
     "output_type": "stream",
     "text": [
      "Сумма доходов от пользователей с подпиской:  1644537.0,\n",
      "Сумма доходов от пользователей без подписки: 2234104.0\n"
     ]
    }
   ],
   "source": [
    "print (f\"Сумма доходов от пользователей с подпиской:  {revenue_ultra['earnings'].sum()},\\nСумма доходов от пользователей без подписки: {revenue_free['earnings'].sum()}\")"
   ]
  },
  {
   "cell_type": "markdown",
   "id": "4972e29f-ad80-448f-a8a1-42e963f32c29",
   "metadata": {},
   "source": [
    "4) Теоритическая ситуация: : техническая команда сервиса обновила сервера, с которыми взаимодействует мобильное приложение. Она надеется, что из-за этого количество обращений в техподдержку значимо снизилось. Некоторый файл содержит для каждого пользователя данные о количестве обращений до обновления и после него"
   ]
  },
  {
   "cell_type": "markdown",
   "id": "bf18f410-3fb9-405d-96f2-d277dc92e529",
   "metadata": {},
   "source": [
    "В данном случае рассматривается одна и та же генеральная совокупность и \n",
    "некоторая переменная измерена два раза для одних и тех ж  объекто \n",
    "наблюдения — до и посто изменен, значит необходимо использовать двухвыборочный t-тест для зависимых выборок. "
   ]
  },
  {
   "cell_type": "markdown",
   "id": "300a5a8a-5ba6-4263-851d-c24b2c291ef1",
   "metadata": {},
   "source": [
    "**Нулевая гипотеза:** количества обращений в техподдержку до и после обновления *равны* \n",
    "    \n",
    "**Альтернативная гипотеза:** количество обращений в техподдержку после обновления *ниже*, чем до обновления\n",
    "\n",
    "Нам понадобится **метод** st.ttest_rel(\n",
    "    данные после обновления, \n",
    "    данные до обновления,\n",
    "      alternative='less')\n"
   ]
  },
  {
   "cell_type": "markdown",
   "id": "ece6c4c0-6e36-4e2e-877c-215838ba96b7",
   "metadata": {},
   "source": [
    "### Выводы:\n"
   ]
  },
  {
   "cell_type": "markdown",
   "id": "25cf12d5-c792-4fd2-9507-2038269e7142",
   "metadata": {},
   "source": [
    "Мы проанализировали данные о пользователях, их поездках и подписках и проверили гипотезы, которые могут помочь масштабированию бизнеса. Для этого выполнили следующие шаги:\n",
    "\n",
    "1. Загрузили данные и подготовили их к анализу\n",
    "2. Выполнили исследовательский анализ данных\n",
    "3. Проверили гипотезы\n",
    "\n",
    "Выводы по разделу первичного анализа и предобработки данных:\n",
    "\n",
    "- в данных не было пропусков\n",
    "- в данных о пользователях было несколько дубликатов, можно проверить систему сбора данных\n",
    "\n",
    "Такие данные позволяют провести качественный анализ\n",
    "\n",
    "\n",
    "Основные результаты:\n",
    "\n",
    "Описание пользователей:\n",
    "- в каждом городе, где представлено приложение, около 190 пользователей; наибольшее число, 219, - в Пятигорске, а наименьшее, 168, - в Москве;\n",
    "- соотношение пользователей с подпиской и без примерно одинаковое, но пользователей без подписки немного больше (54% против 46%);\n",
    "- наибольшее количество пользователей находится в возрасте от 18 до 29 лет (наибольшему числу пользователей 25 лет);\n",
    "- более 80% пользователей проезжают за одну поездку от 2-х до 5-ти км; наибольший процент пользователей, 37%, проезжают от 3-х до 4-х км;\n",
    "- продолжительность одной поездки около 80% пользователей составляет от 10 до 25 минут; у наибольшего процента пользователей, 32%, одна поездка занимает 15-20 минут;\n",
    "\n",
    "\n",
    "Сравнение пользователей с подпиской и без:\n",
    "\n",
    "- пользователи без подписки чаще всего проезжают 2,5 и 3,5 км, также наблюдается экстремум около 500 м;\n",
    "- пользователи с подпиской чаще всего проезжают на 500 м больше пользователей без подписки. Так, наибольшее число пользователей с подпиской проезжают около 3 км, также на графике есть пики 4 и 1 км;\n",
    "\n",
    "- большинство пользователей без подписки совершают свою поездку в течение 12-23 минут, также есть аномальное значение около одной минуты;\n",
    "- большинство пользователей с подпиской также совершают свою поездку в течение 14-22 минут;\n",
    "\n",
    "\n",
    "Портрет типичного пользователя приложения: \n",
    "- житель Пятигорска 25-ти лет без подписки, проезжающий за одну поездку 3-4 км в течение 15-20 минут\n",
    "\n",
    "Результаты проверки гипотез:\n",
    "- по расстоянию и продолжительности поездок по времени больших различий не наблюдается среди пользователей с подпиской и без подписки, хотя пользователи с подпиской тратят немного больше времени на поездки (в среднем, 18 мин. против 17 мин.);\n",
    "\n",
    "- среднее расстояние, которое проезжают пользователи с подпиской за одну поездку, не превышает 3130 метров, поэтому с износом самокатов не должно быть проблем;\n",
    "\n",
    "- в среднем, один пользователь с подпиской приносит больший доход в месяц, чем пользователь без подписки, но из-за того, что пользователей без подписки больше, на протяжении всего года они приносили больший доход;\n",
    "\n",
    "Рекомендации:\n",
    "\n",
    "**Так как больший доход всё-таки приносят пользователи с подпиской, то необходимо не только привлекать новых клиентов и распространять приложение в других городах, но и инвестировать в рекламу подписки, чтобы постоянные клиенты без подписки оформляли её.**\n",
    "\n",
    "Также, так как в данных имелось несколько дубликатов, можно проверить систему сбора данных. \n",
    "\n",
    "И необходимо выяснить, почему немалая часть пользователей совершает аномально короткие поездки (около 1 км или длительностью несколько минут). Это проблема в данных (ошибка системы сбора данных), проблема с самокатом (мало заряда/ ложный старт) или что-то ещё."
   ]
  }
 ],
 "metadata": {
  "ExecuteTimeLog": [
   {
    "duration": 1101,
    "start_time": "2025-01-27T17:21:01.063Z"
   },
   {
    "duration": 168,
    "start_time": "2025-01-27T17:21:02.166Z"
   },
   {
    "duration": 0,
    "start_time": "2025-01-27T17:21:02.337Z"
   },
   {
    "duration": 0,
    "start_time": "2025-01-27T17:21:02.338Z"
   },
   {
    "duration": 0,
    "start_time": "2025-01-27T17:21:02.339Z"
   },
   {
    "duration": 0,
    "start_time": "2025-01-27T17:21:02.340Z"
   },
   {
    "duration": 0,
    "start_time": "2025-01-27T17:21:02.340Z"
   },
   {
    "duration": 0,
    "start_time": "2025-01-27T17:21:02.342Z"
   },
   {
    "duration": 0,
    "start_time": "2025-01-27T17:21:02.342Z"
   },
   {
    "duration": 0,
    "start_time": "2025-01-27T17:21:02.343Z"
   },
   {
    "duration": 0,
    "start_time": "2025-01-27T17:21:02.344Z"
   },
   {
    "duration": 0,
    "start_time": "2025-01-27T17:21:02.345Z"
   },
   {
    "duration": 0,
    "start_time": "2025-01-27T17:21:02.346Z"
   },
   {
    "duration": 0,
    "start_time": "2025-01-27T17:21:02.347Z"
   },
   {
    "duration": 0,
    "start_time": "2025-01-27T17:21:02.348Z"
   },
   {
    "duration": 0,
    "start_time": "2025-01-27T17:21:02.349Z"
   },
   {
    "duration": 0,
    "start_time": "2025-01-27T17:21:02.350Z"
   },
   {
    "duration": 1,
    "start_time": "2025-01-27T17:21:02.350Z"
   },
   {
    "duration": 0,
    "start_time": "2025-01-27T17:21:02.352Z"
   },
   {
    "duration": 0,
    "start_time": "2025-01-27T17:21:02.352Z"
   },
   {
    "duration": 0,
    "start_time": "2025-01-27T17:21:02.354Z"
   },
   {
    "duration": 0,
    "start_time": "2025-01-27T17:21:02.355Z"
   },
   {
    "duration": 0,
    "start_time": "2025-01-27T17:21:02.355Z"
   },
   {
    "duration": 0,
    "start_time": "2025-01-27T17:21:02.356Z"
   },
   {
    "duration": 0,
    "start_time": "2025-01-27T17:21:02.357Z"
   },
   {
    "duration": 0,
    "start_time": "2025-01-27T17:21:02.358Z"
   },
   {
    "duration": 0,
    "start_time": "2025-01-27T17:21:02.359Z"
   },
   {
    "duration": 0,
    "start_time": "2025-01-27T17:21:02.359Z"
   },
   {
    "duration": 0,
    "start_time": "2025-01-27T17:21:02.360Z"
   },
   {
    "duration": 0,
    "start_time": "2025-01-27T17:21:02.361Z"
   },
   {
    "duration": 0,
    "start_time": "2025-01-27T17:21:02.363Z"
   },
   {
    "duration": 0,
    "start_time": "2025-01-27T17:21:02.363Z"
   },
   {
    "duration": 0,
    "start_time": "2025-01-27T17:21:02.364Z"
   },
   {
    "duration": 0,
    "start_time": "2025-01-27T17:21:02.365Z"
   },
   {
    "duration": 0,
    "start_time": "2025-01-27T17:21:02.366Z"
   },
   {
    "duration": 0,
    "start_time": "2025-01-27T17:21:02.367Z"
   },
   {
    "duration": 0,
    "start_time": "2025-01-27T17:21:02.368Z"
   },
   {
    "duration": 0,
    "start_time": "2025-01-27T17:21:02.369Z"
   },
   {
    "duration": 0,
    "start_time": "2025-01-27T17:21:02.370Z"
   },
   {
    "duration": 0,
    "start_time": "2025-01-27T17:21:02.422Z"
   },
   {
    "duration": 0,
    "start_time": "2025-01-27T17:21:02.424Z"
   },
   {
    "duration": 0,
    "start_time": "2025-01-27T17:21:02.425Z"
   },
   {
    "duration": 0,
    "start_time": "2025-01-27T17:21:02.427Z"
   },
   {
    "duration": 0,
    "start_time": "2025-01-27T17:21:02.433Z"
   },
   {
    "duration": 0,
    "start_time": "2025-01-27T17:21:02.435Z"
   },
   {
    "duration": 242,
    "start_time": "2025-01-27T17:59:01.813Z"
   },
   {
    "duration": 1087,
    "start_time": "2025-01-27T17:59:13.771Z"
   },
   {
    "duration": 148,
    "start_time": "2025-01-27T17:59:14.860Z"
   },
   {
    "duration": 11,
    "start_time": "2025-01-27T17:59:15.010Z"
   },
   {
    "duration": 65,
    "start_time": "2025-01-27T17:59:15.022Z"
   },
   {
    "duration": 46,
    "start_time": "2025-01-27T17:59:15.089Z"
   },
   {
    "duration": 44,
    "start_time": "2025-01-27T17:59:15.137Z"
   },
   {
    "duration": 36,
    "start_time": "2025-01-27T17:59:15.182Z"
   },
   {
    "duration": 42,
    "start_time": "2025-01-27T17:59:15.219Z"
   },
   {
    "duration": 39,
    "start_time": "2025-01-27T17:59:15.263Z"
   },
   {
    "duration": 30,
    "start_time": "2025-01-27T17:59:15.304Z"
   },
   {
    "duration": 5,
    "start_time": "2025-01-27T17:59:15.336Z"
   },
   {
    "duration": 17,
    "start_time": "2025-01-27T17:59:15.343Z"
   },
   {
    "duration": 10,
    "start_time": "2025-01-27T17:59:15.362Z"
   },
   {
    "duration": 7,
    "start_time": "2025-01-27T17:59:15.373Z"
   },
   {
    "duration": 18,
    "start_time": "2025-01-27T17:59:15.382Z"
   },
   {
    "duration": 284,
    "start_time": "2025-01-27T17:59:15.402Z"
   },
   {
    "duration": 283,
    "start_time": "2025-01-27T17:59:15.687Z"
   },
   {
    "duration": 330,
    "start_time": "2025-01-27T17:59:15.972Z"
   },
   {
    "duration": 31,
    "start_time": "2025-01-27T17:59:16.304Z"
   },
   {
    "duration": 179,
    "start_time": "2025-01-27T17:59:16.337Z"
   },
   {
    "duration": 272,
    "start_time": "2025-01-27T17:59:16.518Z"
   },
   {
    "duration": 144,
    "start_time": "2025-01-27T17:59:16.792Z"
   },
   {
    "duration": 303,
    "start_time": "2025-01-27T17:59:16.938Z"
   },
   {
    "duration": 10,
    "start_time": "2025-01-27T17:59:17.243Z"
   },
   {
    "duration": 13,
    "start_time": "2025-01-27T17:59:17.255Z"
   },
   {
    "duration": 14,
    "start_time": "2025-01-27T17:59:17.270Z"
   },
   {
    "duration": 42,
    "start_time": "2025-01-27T17:59:17.286Z"
   },
   {
    "duration": 17,
    "start_time": "2025-01-27T17:59:17.332Z"
   },
   {
    "duration": 14,
    "start_time": "2025-01-27T17:59:17.351Z"
   },
   {
    "duration": 317,
    "start_time": "2025-01-27T17:59:17.367Z"
   },
   {
    "duration": 283,
    "start_time": "2025-01-27T17:59:17.686Z"
   },
   {
    "duration": 396,
    "start_time": "2025-01-27T17:59:17.971Z"
   },
   {
    "duration": 305,
    "start_time": "2025-01-27T17:59:18.368Z"
   },
   {
    "duration": 19,
    "start_time": "2025-01-27T17:59:18.675Z"
   },
   {
    "duration": 35,
    "start_time": "2025-01-27T17:59:18.696Z"
   },
   {
    "duration": 11,
    "start_time": "2025-01-27T17:59:18.732Z"
   },
   {
    "duration": 183,
    "start_time": "2025-01-27T17:59:18.745Z"
   },
   {
    "duration": 6,
    "start_time": "2025-01-27T17:59:18.929Z"
   },
   {
    "duration": 15,
    "start_time": "2025-01-27T17:59:18.936Z"
   },
   {
    "duration": 14,
    "start_time": "2025-01-27T17:59:18.952Z"
   },
   {
    "duration": 98,
    "start_time": "2025-01-27T17:59:18.967Z"
   },
   {
    "duration": 6,
    "start_time": "2025-01-27T17:59:19.067Z"
   },
   {
    "duration": 7,
    "start_time": "2025-01-27T17:59:19.075Z"
   },
   {
    "duration": 4,
    "start_time": "2025-01-27T17:59:19.084Z"
   },
   {
    "duration": 13782,
    "start_time": "2025-01-27T17:59:19.090Z"
   },
   {
    "duration": 101,
    "start_time": "2025-01-27T18:16:43.522Z"
   },
   {
    "duration": 9,
    "start_time": "2025-01-27T18:17:01.967Z"
   },
   {
    "duration": 445,
    "start_time": "2025-01-27T18:21:55.545Z"
   },
   {
    "duration": 78,
    "start_time": "2025-01-27T18:22:52.013Z"
   },
   {
    "duration": 4,
    "start_time": "2025-01-27T19:56:57.141Z"
   },
   {
    "duration": 50,
    "start_time": "2025-02-02T17:57:54.232Z"
   },
   {
    "duration": 1291,
    "start_time": "2025-02-02T17:58:39.647Z"
   },
   {
    "duration": 422,
    "start_time": "2025-02-02T17:58:40.940Z"
   },
   {
    "duration": 12,
    "start_time": "2025-02-02T17:58:41.363Z"
   },
   {
    "duration": 10,
    "start_time": "2025-02-02T17:58:41.377Z"
   },
   {
    "duration": 8,
    "start_time": "2025-02-02T17:58:41.389Z"
   },
   {
    "duration": 10,
    "start_time": "2025-02-02T17:58:41.398Z"
   },
   {
    "duration": 13,
    "start_time": "2025-02-02T17:58:41.409Z"
   },
   {
    "duration": 6,
    "start_time": "2025-02-02T17:58:41.424Z"
   },
   {
    "duration": 9,
    "start_time": "2025-02-02T17:58:41.431Z"
   },
   {
    "duration": 18,
    "start_time": "2025-02-02T17:58:41.442Z"
   },
   {
    "duration": 12,
    "start_time": "2025-02-02T17:58:41.461Z"
   },
   {
    "duration": 6,
    "start_time": "2025-02-02T17:58:41.474Z"
   },
   {
    "duration": 13,
    "start_time": "2025-02-02T17:58:41.514Z"
   },
   {
    "duration": 7,
    "start_time": "2025-02-02T17:58:41.530Z"
   },
   {
    "duration": 6,
    "start_time": "2025-02-02T17:58:41.539Z"
   },
   {
    "duration": 4,
    "start_time": "2025-02-02T17:58:41.547Z"
   },
   {
    "duration": 7,
    "start_time": "2025-02-02T17:58:41.553Z"
   },
   {
    "duration": 5,
    "start_time": "2025-02-02T17:58:41.562Z"
   },
   {
    "duration": 392,
    "start_time": "2025-02-02T17:58:41.568Z"
   },
   {
    "duration": 203,
    "start_time": "2025-02-02T17:58:41.961Z"
   },
   {
    "duration": 348,
    "start_time": "2025-02-02T17:58:42.166Z"
   },
   {
    "duration": 136,
    "start_time": "2025-02-02T17:58:42.515Z"
   },
   {
    "duration": 663,
    "start_time": "2025-02-02T17:58:42.653Z"
   },
   {
    "duration": 22,
    "start_time": "2025-02-02T17:58:43.318Z"
   },
   {
    "duration": 404,
    "start_time": "2025-02-02T17:58:43.341Z"
   },
   {
    "duration": 449,
    "start_time": "2025-02-02T17:58:43.747Z"
   },
   {
    "duration": 261,
    "start_time": "2025-02-02T17:58:44.197Z"
   },
   {
    "duration": 428,
    "start_time": "2025-02-02T17:58:44.460Z"
   },
   {
    "duration": 26,
    "start_time": "2025-02-02T17:58:44.891Z"
   },
   {
    "duration": 27,
    "start_time": "2025-02-02T17:58:44.919Z"
   },
   {
    "duration": 15,
    "start_time": "2025-02-02T17:58:44.948Z"
   },
   {
    "duration": 21,
    "start_time": "2025-02-02T17:58:44.964Z"
   },
   {
    "duration": 13,
    "start_time": "2025-02-02T17:58:44.986Z"
   },
   {
    "duration": 30,
    "start_time": "2025-02-02T17:58:45.000Z"
   },
   {
    "duration": 20,
    "start_time": "2025-02-02T17:58:45.032Z"
   },
   {
    "duration": 29,
    "start_time": "2025-02-02T17:58:45.053Z"
   },
   {
    "duration": 31,
    "start_time": "2025-02-02T17:58:45.083Z"
   },
   {
    "duration": 322,
    "start_time": "2025-02-02T17:58:45.116Z"
   },
   {
    "duration": 323,
    "start_time": "2025-02-02T17:58:45.440Z"
   },
   {
    "duration": 305,
    "start_time": "2025-02-02T17:58:45.764Z"
   },
   {
    "duration": 292,
    "start_time": "2025-02-02T17:58:46.072Z"
   },
   {
    "duration": 352,
    "start_time": "2025-02-02T17:58:46.366Z"
   },
   {
    "duration": 301,
    "start_time": "2025-02-02T17:58:46.719Z"
   },
   {
    "duration": 392,
    "start_time": "2025-02-02T17:58:47.022Z"
   },
   {
    "duration": 269,
    "start_time": "2025-02-02T17:58:47.416Z"
   },
   {
    "duration": 34,
    "start_time": "2025-02-02T17:58:47.687Z"
   },
   {
    "duration": 19,
    "start_time": "2025-02-02T17:58:47.722Z"
   },
   {
    "duration": 11,
    "start_time": "2025-02-02T17:58:47.742Z"
   },
   {
    "duration": 10,
    "start_time": "2025-02-02T17:58:47.754Z"
   },
   {
    "duration": 349,
    "start_time": "2025-02-02T17:58:47.766Z"
   },
   {
    "duration": 170,
    "start_time": "2025-02-02T17:58:48.117Z"
   },
   {
    "duration": 168,
    "start_time": "2025-02-02T17:58:48.288Z"
   },
   {
    "duration": 16,
    "start_time": "2025-02-02T17:58:48.457Z"
   },
   {
    "duration": 4,
    "start_time": "2025-02-02T17:58:48.475Z"
   },
   {
    "duration": 7,
    "start_time": "2025-02-02T17:58:48.480Z"
   },
   {
    "duration": 5,
    "start_time": "2025-02-02T17:58:48.514Z"
   },
   {
    "duration": 15,
    "start_time": "2025-02-02T17:58:48.521Z"
   },
   {
    "duration": 16,
    "start_time": "2025-02-02T17:58:48.537Z"
   },
   {
    "duration": 5,
    "start_time": "2025-02-02T17:58:48.554Z"
   },
   {
    "duration": 4,
    "start_time": "2025-02-02T17:58:48.561Z"
   },
   {
    "duration": 14546,
    "start_time": "2025-02-02T17:58:48.567Z"
   },
   {
    "duration": 9,
    "start_time": "2025-02-02T17:59:03.116Z"
   },
   {
    "duration": 6,
    "start_time": "2025-02-02T17:59:36.799Z"
   }
  ],
  "kernelspec": {
   "display_name": "Python 3 (ipykernel)",
   "language": "python",
   "name": "python3"
  },
  "language_info": {
   "codemirror_mode": {
    "name": "ipython",
    "version": 3
   },
   "file_extension": ".py",
   "mimetype": "text/x-python",
   "name": "python",
   "nbconvert_exporter": "python",
   "pygments_lexer": "ipython3",
   "version": "3.13.5"
  },
  "toc": {
   "base_numbering": 1,
   "nav_menu": {},
   "number_sections": true,
   "sideBar": true,
   "skip_h1_title": true,
   "title_cell": "Table of Contents",
   "title_sidebar": "Contents",
   "toc_cell": false,
   "toc_position": {
    "height": "calc(100% - 180px)",
    "left": "10px",
    "top": "150px",
    "width": "165px"
   },
   "toc_section_display": true,
   "toc_window_display": true
  }
 },
 "nbformat": 4,
 "nbformat_minor": 5
}
